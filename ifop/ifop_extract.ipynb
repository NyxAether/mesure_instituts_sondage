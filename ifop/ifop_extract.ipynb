{
 "cells": [
  {
   "cell_type": "markdown",
   "metadata": {},
   "source": [
    "# Modifications de résultats des sondages\n",
    "\n",
    "## Import préliminaires des librairies"
   ]
  },
  {
   "cell_type": "code",
   "execution_count": 1,
   "metadata": {},
   "outputs": [],
   "source": [
    "import re\n",
    "import numpy as np\n",
    "import pandas as pd\n",
    "import locale\n",
    "from locale import atof\n",
    "\n",
    "# Read files\n",
    "import PyPDF2\n",
    "from pdfminer.high_level import extract_text"
   ]
  },
  {
   "source": [
    "## Extraction utilisant une lecture de PDF"
   ],
   "cell_type": "markdown",
   "metadata": {}
  },
  {
   "cell_type": "code",
   "execution_count": 2,
   "metadata": {},
   "outputs": [
    {
     "output_type": "stream",
     "name": "stdout",
     "text": [
      "-1\n16\n34\n"
     ]
    },
    {
     "output_type": "execute_result",
     "data": {
      "text/plain": [
       "'’Edouard Philippe comme Premier \\nministre ? \\n\\nTOTAL Satisfaits \\n\\n \\n\\n\\uf0b7 Très satisfaits ....................................................  \\n\\n\\uf0b7 Plutôt satisfaits .................................................  \\n\\nTOTAL Mécontents \\n\\n\\uf0b7 Plutôt mécontents ............................................  \\n\\n\\uf0b7 Très mécontents ...............................................  \\n\\n-  Ne se prononcent pas .................................  \\n\\n34 \\n\\n4 \\n\\n30 \\n\\n61 \\n\\n36 \\n\\n25 \\n\\n5 \\n\\n36 \\n\\n5 \\n\\n31 \\n\\n62 \\n\\n35 \\n\\n27 \\n\\n2 \\n\\nTOTAL ........................................................  \\n\\n100 \\n\\n100 \\n\\nRappel  \\nJuin 2019 \\n\\nJuillet \\n2019 \\n\\n(%) \\n\\n(%) \\n\\nVariation \\n\\n \\n\\n \\n\\n \\n\\n \\n\\n \\n\\n \\n\\n \\n\\n \\n\\n \\n\\n \\n\\n \\n\\n+2 \\n\\n+1 \\n\\n+1 \\n\\n+1 \\n\\n-1 \\n\\n+2 \\n\\n-3 \\n\\n \\n\\n \\n \\n \\n \\n \\n \\n \\nQuestion : \\n\\n \\n \\n \\n \\n \\n \\n\\n \\n \\n \\n\\nIfop pour Le Journal du Dimanche \\nLes indices de popularité \\uf03c Juillet 2019 \\n\\n10 \\n\\n\\x0c'"
      ]
     },
     "metadata": {},
     "execution_count": 2
    }
   ],
   "source": [
    "fp=\"rapport/2019-07-18.pdf\"\n",
    "text = extract_text(fp,page_numbers=[11])\n",
    "question1=\"Êtes-vous  satisfait  ou  mécontent  d\"\n",
    "question2=\"Êtes-vous satisfait ou mécontent d\"\n",
    "print(text.find(question1))\n",
    "print(text.find(question2))\n",
    "print(len(question2))\n",
    "text[50:]\n"
   ]
  },
  {
   "cell_type": "code",
   "execution_count": 3,
   "metadata": {},
   "outputs": [
    {
     "output_type": "execute_result",
     "data": {
      "text/plain": [
       "'Ifop\\n \\npour \\nLe Journal du Dimanche\\n \\nLes indices de popularité\\n \\n\\n \\nJui\\nllet\\n \\n2019\\n \\n10\\n \\nLes résultats\\n \\n \\n \\n \\n \\n \\n \\n \\nQuestion\\n \\n:\\n \\nÊtes\\n-\\nvous satisfait ou mécontent \\n\\ncomme Premier \\nministre\\n \\n?\\n \\n \\n \\n \\n \\n \\n \\n \\nRappel \\n \\nJuin\\n \\n2019\\n \\nJuillet\\n \\n201\\n9\\n \\n \\nVariation\\n \\n(%)\\n \\n(%)\\n \\n \\n \\nTOTAL Satisfaits\\n \\n34\\n \\n36\\n \\n \\n+2\\n \\n\\n \\nTrès satisfaits\\n \\n................................\\n....................\\n \\n \\n4\\n \\n5\\n \\n \\n+1\\n \\n\\n \\nPlutôt satisfaits\\n \\n................................\\n.................\\n \\n \\n30\\n \\n3\\n1\\n \\n \\n+1\\n \\nTOTAL Mécontents\\n \\n61\\n \\n6\\n2\\n \\n \\n+1\\n \\n\\n \\nPlutôt mécontents\\n \\n................................\\n............\\n \\n \\n36\\n \\n3\\n5\\n \\n \\n-\\n1\\n \\n\\n \\nTrès mécontents\\n \\n................................\\n...............\\n \\n \\n25\\n \\n27\\n \\n \\n+2\\n \\n-\\n \\nNe se prononcent pas\\n \\n................................\\n.\\n \\n \\n5\\n \\n2\\n \\n \\n-\\n3\\n \\nTOTAL\\n \\n................................\\n........................\\n \\n \\n100\\n \\n100\\n \\n \\n \\n \\n \\n \\n'"
      ]
     },
     "metadata": {},
     "execution_count": 3
    }
   ],
   "source": [
    "with open(fp,\"rb\") as pdf_file:\n",
    "        pdf_reader= PyPDF2.PdfFileReader(pdf_file)\n",
    "        isEncrypted = pdf_reader.getIsEncrypted()\n",
    "        nbPages= pdf_reader.numPages\n",
    "        page_content=pdf_reader.getPage(11).extractText()\n",
    "# print(get_base(file_path))\n",
    "page_content\n"
   ]
  },
  {
   "cell_type": "code",
   "execution_count": 4,
   "metadata": {},
   "outputs": [],
   "source": [
    "def get_name(filepath,page):\n",
    "    question=\"Êtes-vous  satisfait  ou  mécontent  d\"\n",
    "    question2=\"Êtes-vous satisfait ou mécontent d\"\n",
    "    text = extract_text(filepath,page_numbers=[page])\n",
    "    b_str=text.find(question)+len(question)+1\n",
    "    if b_str==len(question):\n",
    "        b_str=text.find(question2)+len(question2)+1      \n",
    "    e_str=text.find(\" comme\")\n",
    "    # si le permier caractère est un espace le supprimer\n",
    "    if text[b_str]==' ' : b_str+=1\n",
    "    name=text[b_str:e_str]\n",
    "    name_tab=name.split()\n",
    "    name_tab[1]=name_tab[1].upper()\n",
    "    name=' '.join(name_tab)\n",
    "    return name\n"
   ]
  },
  {
   "cell_type": "code",
   "execution_count": 5,
   "metadata": {},
   "outputs": [],
   "source": [
    "def get_base(file_path,page=3):\n",
    "    text = extract_text(file_path,page_numbers=[page])\n",
    "    txt_idx=\"auprès d’un échantillon de \"\n",
    "    idx=text.find(txt_idx)+len(txt_idx)\n",
    "    return float(re.findall('[0-9]+',text[idx:idx+10].replace(' ',''))[0])"
   ]
  },
  {
   "cell_type": "code",
   "execution_count": 6,
   "metadata": {},
   "outputs": [],
   "source": [
    "def get_stats(filepath,page,df,name):\n",
    "    with open(filepath,\"rb\") as pdf_file:\n",
    "        pdf_reader= PyPDF2.PdfFileReader(pdf_file)\n",
    "        isEncrypted = pdf_reader.getIsEncrypted()\n",
    "        nbPages= pdf_reader.numPages\n",
    "        page_content=pdf_reader.getPage(page).extractText()\n",
    " \n",
    "    satisf_voc=['TOTAL Satisfaits','Très satisfaits','Plutôt satisfaits','TOTAL Mécontents','Plutôt mécontents','Très mécontents','Ne se prononcent pas']\n",
    "    df_conv={'TOTAL Satisfaits':\"ST Favorable\",'Très satisfaits':\"Très favorable\",'Plutôt satisfaits':\"Plutôt favorable\",'TOTAL Mécontents':\"ST Défavorable\",'Plutôt mécontents':\"Plutôt défavorable\",'Très mécontents':\"Très défavorable\",'Ne se prononcent pas':\"Nsp\"}\n",
    "\n",
    "    # Les catégories sont parfois séparés par un saut de ligne qu'il faut prétraité\n",
    "    page_content=page_content.replace('Très \\nsatisfaits','Très satisfaits')\n",
    "    page_content=page_content.replace('Trè\\ns satisfaits','Très satisfaits')\n",
    "    page_content=page_content.replace('TOTAL \\nSatisfaits','TOTAL Satisfaits')\n",
    "    page_content=page_content.replace('Plutôt \\nsatisfaits','Plutôt satisfaits')\n",
    "    page_content=page_content.replace('Plutôt s\\natisfaits','Plutôt satisfaits')\n",
    "    page_content=page_content.replace('Plutôt \\nmécontents','Plutôt mécontents')\n",
    "    page_content=page_content.replace('P\\nlutôt mécontents','Plutôt mécontents')\n",
    "    page_content=page_content.replace('Ne \\nse prononcent pas','Ne se prononcent pas')\n",
    "\n",
    "    # Get all satisfaction data\n",
    "    for satisf in satisf_voc:\n",
    "        idx=page_content.find(satisf)+len(satisf)\n",
    "        text=[x.strip() for x in page_content[idx:].split(\"\\n\")]\n",
    "\n",
    "        i=1\n",
    "        values=[]\n",
    "        explore=True\n",
    "        next_val_neg=False\n",
    "        # code gerant l'acces tordu aux données du pdf\n",
    "        while explore:\n",
    "            # print(satisf)\n",
    "            # print(text)\n",
    "            # print(values)\n",
    "            if len(text[i])==0 or ('.' in text[i]) or text[i]=='+':\n",
    "                pass\n",
    "            elif re.search('[a-zA-Z]', text[i]) and next_val_neg:\n",
    "                values.append(0)\n",
    "            else:\n",
    "                if text[i]=='-':\n",
    "                    if len(values)==2:\n",
    "                        next_val_neg=True\n",
    "                    else:\n",
    "                        values.append(0)\n",
    "                elif text[i]=='=':\n",
    "                    values.append(0)\n",
    "                else:\n",
    "                    try:\n",
    "                        values.append(float(text[i]))\n",
    "                    except ValueError as e:\n",
    "                        print(satisf)\n",
    "                        print(text)\n",
    "                        print(text[i])\n",
    "                        print(values)\n",
    "                        raise e\n",
    "                    if next_val_neg:\n",
    "                        values[-1]=-values[-1]\n",
    "            i+=1\n",
    "            # Exit condition\n",
    "            if len(values)==3:\n",
    "                # Check values\n",
    "                if values[1]-values[0]!=values[2]: print(\"Values does not seems right {}\".format(values))\n",
    "                explore=False\n",
    "        df.loc[(df.Nom==name),df_conv[satisf]]=values[1]\n",
    "        # Evolutions des resultats\n",
    "        if satisf == 'TOTAL Satisfaits':\n",
    "            df.loc[(df.Nom==name),'Evolution ST Favorable']=values[2]\n",
    "        if satisf == 'TOTAL Mécontents':\n",
    "            df.loc[(df.Nom==name),'Evolution ST Défavorable']=values[2]\n",
    "    return df\n"
   ]
  },
  {
   "cell_type": "code",
   "execution_count": 7,
   "metadata": {
    "tags": []
   },
   "outputs": [],
   "source": [
    "def extract_ifop_data_from_pdf(file_path,pages):\n",
    "    print(file_path)\n",
    "    columns=[\"Nom\",\"Categorie\",\"Groupe\",\"Base\",\"Très favorable\",\"Plutôt favorable\",\"ST Favorable\",\"Plutôt défavorable\",\"Très défavorable\",\"ST Défavorable\",\"Nsp\",\"Evolution ST Favorable\",\"Evolution ST Défavorable\"]\n",
    "    df=pd.DataFrame(columns=columns)\n",
    "    # Par defaut en page 3\n",
    "    base=get_base(file_path)\n",
    "    for page in pages:\n",
    "        name=get_name(file_path,page)\n",
    "        print(base)\n",
    "        new_row={'Nom':name,'Categorie':'ENSEMBLE','Groupe':'ENSEMBLE','Base':base}\n",
    "        df=df.append(new_row, ignore_index=True)\n",
    "        get_stats(file_path,page,df,name)\n",
    "    return df"
   ]
  },
  {
   "cell_type": "code",
   "execution_count": 8,
   "metadata": {
    "tags": []
   },
   "outputs": [
    {
     "output_type": "stream",
     "name": "stdout",
     "text": [
      "rapport/2020-12-17.pdf\n",
      "1936.0\n",
      "1936.0\n"
     ]
    },
    {
     "output_type": "execute_result",
     "data": {
      "text/plain": [
       "               Nom Categorie    Groupe    Base  Très favorable  \\\n",
       "0  Emmanuel MACRON  ENSEMBLE  ENSEMBLE  1936.0             5.0   \n",
       "1      Jean CASTEX  ENSEMBLE  ENSEMBLE  1936.0             3.0   \n",
       "\n",
       "   Plutôt favorable  ST Favorable  Plutôt défavorable  Très défavorable  \\\n",
       "0              33.0          38.0                32.0              28.0   \n",
       "1              34.0          37.0                37.0              22.0   \n",
       "\n",
       "   ST Défavorable  Nsp  Evolution ST Favorable  Evolution ST Défavorable  \\\n",
       "0            60.0  2.0                    -3.0                       3.0   \n",
       "1            59.0  4.0                    -2.0                       3.0   \n",
       "\n",
       "        Date  \n",
       "0 2020-12-17  \n",
       "1 2020-12-17  "
      ],
      "text/html": "<div>\n<style scoped>\n    .dataframe tbody tr th:only-of-type {\n        vertical-align: middle;\n    }\n\n    .dataframe tbody tr th {\n        vertical-align: top;\n    }\n\n    .dataframe thead th {\n        text-align: right;\n    }\n</style>\n<table border=\"1\" class=\"dataframe\">\n  <thead>\n    <tr style=\"text-align: right;\">\n      <th></th>\n      <th>Nom</th>\n      <th>Categorie</th>\n      <th>Groupe</th>\n      <th>Base</th>\n      <th>Très favorable</th>\n      <th>Plutôt favorable</th>\n      <th>ST Favorable</th>\n      <th>Plutôt défavorable</th>\n      <th>Très défavorable</th>\n      <th>ST Défavorable</th>\n      <th>Nsp</th>\n      <th>Evolution ST Favorable</th>\n      <th>Evolution ST Défavorable</th>\n      <th>Date</th>\n    </tr>\n  </thead>\n  <tbody>\n    <tr>\n      <th>0</th>\n      <td>Emmanuel MACRON</td>\n      <td>ENSEMBLE</td>\n      <td>ENSEMBLE</td>\n      <td>1936.0</td>\n      <td>5.0</td>\n      <td>33.0</td>\n      <td>38.0</td>\n      <td>32.0</td>\n      <td>28.0</td>\n      <td>60.0</td>\n      <td>2.0</td>\n      <td>-3.0</td>\n      <td>3.0</td>\n      <td>2020-12-17</td>\n    </tr>\n    <tr>\n      <th>1</th>\n      <td>Jean CASTEX</td>\n      <td>ENSEMBLE</td>\n      <td>ENSEMBLE</td>\n      <td>1936.0</td>\n      <td>3.0</td>\n      <td>34.0</td>\n      <td>37.0</td>\n      <td>37.0</td>\n      <td>22.0</td>\n      <td>59.0</td>\n      <td>4.0</td>\n      <td>-2.0</td>\n      <td>3.0</td>\n      <td>2020-12-17</td>\n    </tr>\n  </tbody>\n</table>\n</div>"
     },
     "metadata": {},
     "execution_count": 8
    }
   ],
   "source": [
    "filename=\"2020-12-17\"\n",
    "# Enlever 1 par rapport au pdf aux pages\n",
    "pages=[6,11]\n",
    "df=extract_ifop_data_from_pdf(\"rapport/\"+filename+\".pdf\",pages)\n",
    "df['Date']=filename\n",
    "df.Date=df.Date.astype('datetime64')\n",
    "df[[\"Base\",\"Très favorable\",\"Plutôt favorable\",\"ST Favorable\",\"Plutôt défavorable\",\"Très défavorable\",\"ST Défavorable\",\"Nsp\",\"Evolution ST Favorable\",\"Evolution ST Défavorable\"]]=df[[\"Base\",\"Très favorable\",\"Plutôt favorable\",\"ST Favorable\",\"Plutôt défavorable\",\"Très défavorable\",\"ST Défavorable\",\"Nsp\",\"Evolution ST Favorable\",\"Evolution ST Défavorable\"]].astype(float)\n",
    "# df.to_pickle('data/'+filename+'.p')\n",
    "df"
   ]
  },
  {
   "cell_type": "code",
   "execution_count": 16,
   "metadata": {},
   "outputs": [],
   "source": [
    "import datetime\n",
    "# df=pd.read_pickle('data/2021-01-08.p')\n",
    "df.Date=datetime.date(2021,2,18)\n",
    "df.Date=df.Date.astype('datetime64')\n",
    "df.Base=1954\n",
    "cols=df.columns[4:13]\n",
    "df.loc[0,cols]=[6,35,41,33,23,56,3,1,-2]\n",
    "df.loc[1,cols]=[3,34,37,37,21,58,5,0,0]\n",
    "df\n",
    "# df.to_pickle('data/2021-02-18.p')"
   ]
  },
  {
   "cell_type": "code",
   "execution_count": 10,
   "metadata": {},
   "outputs": [],
   "source": [
    "# fp='data/2020-07-16.p'\n",
    "# df=pd.read_pickle(fp)\n",
    "# df.Date=df.Date.astype('datetime64')\n",
    "# df.to_pickle(fp)"
   ]
  },
  {
   "cell_type": "code",
   "execution_count": 11,
   "metadata": {},
   "outputs": [],
   "source": [
    "# val_to_change=df.iloc[1]#\r\n",
    "# val_to_change[['Plutôt favorable',\"Plutôt défavorable\",\"Très défavorable\",\"ST Défavorable\",\"Evolution ST Défavorable\"]]=[31,35,27,62,1]\r\n",
    "# val_to_change\r\n",
    "# df.iloc[1]=val_to_change\r\n",
    "# df"
   ]
  },
  {
   "cell_type": "code",
   "execution_count": 12,
   "metadata": {},
   "outputs": [],
   "source": [
    "# df.to_pickle('data/'+filename+'.p')"
   ]
  },
  {
   "cell_type": "code",
   "execution_count": 13,
   "metadata": {},
   "outputs": [],
   "source": [
    "# df3=pd.concat([df,df2],ignore_index=True)\n",
    "# df3.to_pickle('data/'+filename+'.p')"
   ]
  },
  {
   "cell_type": "code",
   "execution_count": 14,
   "metadata": {},
   "outputs": [
    {
     "output_type": "stream",
     "name": "stdout",
     "text": [
      "False\n"
     ]
    },
    {
     "output_type": "execute_result",
     "data": {
      "text/plain": [
       "Empty DataFrame\n",
       "Columns: [Nom, Categorie, Groupe, Base, Très favorable, Plutôt favorable, ST Favorable, Plutôt défavorable, Très défavorable, ST Défavorable, Nsp, Evolution ST Favorable, Evolution ST Défavorable, Date]\n",
       "Index: []"
      ],
      "text/html": "<div>\n<style scoped>\n    .dataframe tbody tr th:only-of-type {\n        vertical-align: middle;\n    }\n\n    .dataframe tbody tr th {\n        vertical-align: top;\n    }\n\n    .dataframe thead th {\n        text-align: right;\n    }\n</style>\n<table border=\"1\" class=\"dataframe\">\n  <thead>\n    <tr style=\"text-align: right;\">\n      <th></th>\n      <th>Nom</th>\n      <th>Categorie</th>\n      <th>Groupe</th>\n      <th>Base</th>\n      <th>Très favorable</th>\n      <th>Plutôt favorable</th>\n      <th>ST Favorable</th>\n      <th>Plutôt défavorable</th>\n      <th>Très défavorable</th>\n      <th>ST Défavorable</th>\n      <th>Nsp</th>\n      <th>Evolution ST Favorable</th>\n      <th>Evolution ST Défavorable</th>\n      <th>Date</th>\n    </tr>\n  </thead>\n  <tbody>\n  </tbody>\n</table>\n</div>"
     },
     "metadata": {},
     "execution_count": 14
    }
   ],
   "source": [
    "# Reading IPSOS report\n",
    "\n",
    "# with open(\"rapport/2020-10-14.pdf\",\"rb\") as pdf_file:\n",
    "#     pdf_report= PyPDF2.PdfFileReader(pdf_file)\n",
    "#     isEncrypted = pdf_report.getIsEncrypted()\n",
    "#     nbPages= pdf_report.numPages\n",
    "\n",
    "#     page1=pdf_report.getPage(15)\n",
    "#     text=page1.extractText().replace(',','.')\n",
    "#     text = extract_text(pdf_file,page_numbers=[14])\n",
    "\n",
    "# print(text)\n",
    "\n",
    "print(df.isnull().values.any())\n",
    "df.head(10)\n",
    "df.describe()\n",
    "df[df.Base==0]"
   ]
  }
 ],
 "metadata": {
  "language_info": {
   "codemirror_mode": {
    "name": "ipython",
    "version": 3
   },
   "file_extension": ".py",
   "mimetype": "text/x-python",
   "name": "python",
   "nbconvert_exporter": "python",
   "pygments_lexer": "ipython3",
   "version": "3.7.7-final"
  },
  "orig_nbformat": 2,
  "kernelspec": {
   "name": "python37764bitb6ef9b95e5314da5935130084e765a7f",
   "display_name": "Python 3.7.7 64-bit",
   "language": "python"
  }
 },
 "nbformat": 4,
 "nbformat_minor": 2
}