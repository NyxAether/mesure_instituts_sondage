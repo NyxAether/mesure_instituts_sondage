{
 "cells": [
  {
   "cell_type": "markdown",
   "metadata": {},
   "source": [
    "# Modifications de résultats des sondages\n",
    "\n",
    "## Import préliminaires des librairies"
   ]
  },
  {
   "cell_type": "code",
   "execution_count": 1,
   "metadata": {},
   "outputs": [],
   "source": [
    "import re\n",
    "import numpy as np\n",
    "import pandas as pd\n",
    "import locale\n",
    "from locale import atof\n",
    "\n",
    "# Read files\n",
    "import PyPDF2\n",
    "from pdfminer.high_level import extract_text"
   ]
  },
  {
   "source": [
    "## Extraction utilisant une lecture de PDF"
   ],
   "cell_type": "markdown",
   "metadata": {}
  },
  {
   "cell_type": "code",
   "execution_count": 2,
   "metadata": {},
   "outputs": [],
   "source": [
    "file_path=\"rapport_personnalite/2021-02-05.pdf\""
   ]
  },
  {
   "cell_type": "code",
   "execution_count": 3,
   "metadata": {},
   "outputs": [
    {
     "output_type": "stream",
     "name": "stdout",
     "text": [
      " \n\n \n \n \n \n \n \n \n\n \n\n \n\n \n\nLes traits d’image associés au président de la République \n\n \n \n \n \n \n \nQuestion  : \n\nPour chacune des appréciations suivantes, dites si elle correspond bien \nou  mal  à  l’idée  que  vous  vous  faites  d’Emmanuel  Macron  comme \nprésident de la République. \n\n \n \n\n \n\n Correspond très bien  \n\n \n\n Correspond très mal \n\n \n\n Ne se prononce pas \n\nTOTAL \nCorres-\npond \nbien \n\nTOTAL \nCorres-\npond mal \n\n \n\n \n\nDéfend bien les intérêts \nde la France à l’étranger \n\n12%\n\n41%\n\n27%\n\n20%\n\n53  %  47  % \n\nRenouvelle la fonction\nprésidentielle\n\nMène une bonne\npolitique économique\n\nA une vision pour l’avenir \ndes Français \n\nEst proche des\npréoccupations des\nFrançais\n\n9%\n\n32%\n\n32%\n\n27%\n\n41  %  59  % \n\n6%\n\n34%\n\n34%\n\n26%\n\n40  %  60  % \n\n9%\n\n29%\n\n35%\n\n27%\n\n38  %  62  % \n\n5%\n\n28%\n\n34%\n\n33%\n\n33  %  67  % \n\n \n\nIfop-Fiducial pour Paris Match et Sud Radio \n\nLe tableau de bord politique  Février 2021 \n\n \n\n \n\n \n\n10 \n\n\f\n"
     ]
    }
   ],
   "source": [
    "\n",
    "text = extract_text(file_path,page_numbers=[11])\n",
    "\n",
    "print(text)\n"
   ]
  },
  {
   "cell_type": "code",
   "execution_count": 4,
   "metadata": {},
   "outputs": [
    {
     "output_type": "execute_result",
     "data": {
      "text/plain": [
       "' \\nIfop\\n-\\nFiducial\\n \\npour Paris Match\\n \\net Sud Radio\\n \\nLe tableau de bord politique\\n \\n\\n \\nFévrier 2021\\n \\n10\\n \\n\\np\\nrésident\\n \\nde la République\\n \\n \\n \\n \\n \\n \\n \\nQuestion\\n \\n:\\n \\nPour chacune des\\n \\nappréciations suivantes, dites\\n \\nsi elle correspond bien \\n\\np\\nrésident de la République\\n.\\n \\n \\n \\n \\n \\n \\n \\n \\n \\n \\n \\n\\n \\nCorrespond très bien \\n \\n \\n \\n\\n \\nCorrespond très mal\\n \\n\\n \\nNe se prononce pas\\n \\nTOTAL \\nCorres\\n-\\npond \\nbien\\n \\nTOTAL \\nCorres\\n-\\npond mal\\n \\n \\n \\n \\n5\\n3\\n \\n%\\n \\n4\\n7\\n \\n%\\n \\n4\\n1\\n \\n%\\n \\n5\\n9\\n \\n%\\n \\n40\\n \\n%\\n \\n6\\n0\\n \\n%\\n \\n38\\n \\n%\\n \\n62\\n \\n%\\n \\n33\\n \\n%\\n \\n67\\n \\n%\\n \\n \\n \\n \\n \\n \\n \\n12%\\n9%\\n6%\\n9%\\n5%\\n41%\\n32%\\n34%\\n29%\\n28%\\n27%\\n32%\\n34%\\n35%\\n34%\\n20%\\n27%\\n26%\\n27%\\n33%\\nDéfend bien les intérêts \\n\\nRenouvelle la fonction\\nprésidentielle\\nMène une bonne\\npolitique économique\\n\\ndes Français \\nEst proche des\\npréoccupations des\\nFrançais\\n'"
      ]
     },
     "metadata": {},
     "execution_count": 4
    }
   ],
   "source": [
    "with open(file_path,\"rb\") as pdf_file:\n",
    "        pdf_reader= PyPDF2.PdfFileReader(pdf_file)\n",
    "        page_content=pdf_reader.getPage(11).extractText()\n",
    "# print(get_base(file_path))\n",
    "(page_content)\n"
   ]
  },
  {
   "cell_type": "code",
   "execution_count": 5,
   "metadata": {},
   "outputs": [],
   "source": [
    "def pretraitement(text):\n",
    "    text=text.replace('opinion\\n \\n»','opinion\\n \\n')\n",
    "    return text"
   ]
  },
  {
   "cell_type": "code",
   "execution_count": 6,
   "metadata": {},
   "outputs": [
    {
     "output_type": "error",
     "ename": "ValueError",
     "evalue": "'ENSEMBLE' is not in list",
     "traceback": [
      "\u001b[1;31m---------------------------------------------------------------------------\u001b[0m",
      "\u001b[1;31mValueError\u001b[0m                                Traceback (most recent call last)",
      "\u001b[1;32m<ipython-input-6-36f78bb89160>\u001b[0m in \u001b[0;36m<module>\u001b[1;34m\u001b[0m\n\u001b[0;32m     17\u001b[0m         \u001b[0mnoms\u001b[0m\u001b[1;33m.\u001b[0m\u001b[0mappend\u001b[0m\u001b[1;33m(\u001b[0m\u001b[0mnom\u001b[0m\u001b[1;33m)\u001b[0m\u001b[1;33m\u001b[0m\u001b[1;33m\u001b[0m\u001b[0m\n\u001b[0;32m     18\u001b[0m     \u001b[1;32mreturn\u001b[0m \u001b[0mnoms\u001b[0m\u001b[1;33m\u001b[0m\u001b[1;33m\u001b[0m\u001b[0m\n\u001b[1;32m---> 19\u001b[1;33m \u001b[0mget_names\u001b[0m\u001b[1;33m(\u001b[0m\u001b[0mfile_path\u001b[0m\u001b[1;33m,\u001b[0m\u001b[1;36m11\u001b[0m\u001b[1;33m)\u001b[0m\u001b[1;33m\u001b[0m\u001b[1;33m\u001b[0m\u001b[0m\n\u001b[0m",
      "\u001b[1;32m<ipython-input-6-36f78bb89160>\u001b[0m in \u001b[0;36mget_names\u001b[1;34m(file_path, page)\u001b[0m\n\u001b[0;32m      8\u001b[0m     \u001b[0mtext\u001b[0m\u001b[1;33m=\u001b[0m\u001b[0mtext\u001b[0m\u001b[1;33m.\u001b[0m\u001b[0msplit\u001b[0m\u001b[1;33m(\u001b[0m\u001b[1;34m'\\n\\n'\u001b[0m\u001b[1;33m)\u001b[0m\u001b[1;33m[\u001b[0m\u001b[1;36m1\u001b[0m\u001b[1;33m:\u001b[0m\u001b[1;33m]\u001b[0m\u001b[1;33m\u001b[0m\u001b[1;33m\u001b[0m\u001b[0m\n\u001b[0;32m      9\u001b[0m     \u001b[0mnoms\u001b[0m\u001b[1;33m=\u001b[0m\u001b[1;33m[\u001b[0m\u001b[1;33m]\u001b[0m\u001b[1;33m\u001b[0m\u001b[1;33m\u001b[0m\u001b[0m\n\u001b[1;32m---> 10\u001b[1;33m     \u001b[1;32mfor\u001b[0m \u001b[0mi\u001b[0m \u001b[1;32min\u001b[0m \u001b[0mrange\u001b[0m\u001b[1;33m(\u001b[0m\u001b[0mtext\u001b[0m\u001b[1;33m.\u001b[0m\u001b[0mindex\u001b[0m\u001b[1;33m(\u001b[0m\u001b[1;34m'ENSEMBLE'\u001b[0m\u001b[1;33m)\u001b[0m\u001b[1;33m)\u001b[0m\u001b[1;33m:\u001b[0m\u001b[1;33m\u001b[0m\u001b[1;33m\u001b[0m\u001b[0m\n\u001b[0m\u001b[0;32m     11\u001b[0m         \u001b[0mnom\u001b[0m\u001b[1;33m=\u001b[0m\u001b[0mtext\u001b[0m\u001b[1;33m[\u001b[0m\u001b[0mi\u001b[0m\u001b[1;33m]\u001b[0m\u001b[1;33m\u001b[0m\u001b[1;33m\u001b[0m\u001b[0m\n\u001b[0;32m     12\u001b[0m         \u001b[0mnom\u001b[0m\u001b[1;33m=\u001b[0m\u001b[0mnom\u001b[0m\u001b[1;33m.\u001b[0m\u001b[0mreplace\u001b[0m\u001b[1;33m(\u001b[0m\u001b[1;34m'\\n'\u001b[0m\u001b[1;33m,\u001b[0m\u001b[1;34m''\u001b[0m\u001b[1;33m)\u001b[0m\u001b[1;33m\u001b[0m\u001b[1;33m\u001b[0m\u001b[0m\n",
      "\u001b[1;31mValueError\u001b[0m: 'ENSEMBLE' is not in list"
     ]
    }
   ],
   "source": [
    "def get_names(file_path,page):\n",
    "    with open(file_path,\"rb\") as pdf_file:\n",
    "        pdf_reader= PyPDF2.PdfFileReader(pdf_file)\n",
    "        page_content=pdf_reader.getPage(page).extractText()\n",
    "    page_content=pretraitement(page_content)\n",
    "    text=page_content[page_content.lower().find('bonne opinion'):]\n",
    "    text=text.replace('\\n \\n','\\n\\n')\n",
    "    text=text.split('\\n\\n')[1:]\n",
    "    noms=[]\n",
    "    for i in range(text.index('ENSEMBLE')):\n",
    "        nom=text[i]\n",
    "        nom=nom.replace('\\n','')\n",
    "        print(nom)\n",
    "        fullname=nom.split(' ')\n",
    "        fullname[1]=''.join([x.upper() for x in fullname[1:]])\n",
    "        nom=' '.join(fullname[:2])\n",
    "        noms.append(nom)\n",
    "    return noms\n",
    "# get_names(file_path,11)"
   ]
  },
  {
   "cell_type": "code",
   "execution_count": 24,
   "metadata": {},
   "outputs": [
    {
     "output_type": "execute_result",
     "data": {
      "text/plain": [
       "[69, 67, 62, 52, 52, 49, 49, 48]"
      ]
     },
     "metadata": {},
     "execution_count": 24
    }
   ],
   "source": [
    "def get_pos_opinions(file_path,page,nb_pers):\n",
    "    with open(file_path,\"rb\") as pdf_file:\n",
    "        pdf_reader= PyPDF2.PdfFileReader(pdf_file)\n",
    "        page_content=pdf_reader.getPage(page).extractText()\n",
    "    page_content=pretraitement(page_content)\n",
    "    text=page_content[page_content.lower().find('bonne opinion'):]\n",
    "    opinions=[int(x) for x in re.findall('\\d+',text)[:nb_pers]]\n",
    "    return opinions\n",
    "get_pos_opinions(file_path,11,8)\n",
    "    "
   ]
  },
  {
   "cell_type": "code",
   "execution_count": 25,
   "metadata": {},
   "outputs": [],
   "source": [
    "def get_base(file_path,page=3):\n",
    "    text = extract_text(file_path,page_numbers=[page])\n",
    "    txt_idx=\"auprès d’un échantillon de \"\n",
    "    idx=text.find(txt_idx)+len(txt_idx)\n",
    "    return float(re.findall('[0-9]+',text[idx:idx+10].replace(' ',''))[0])"
   ]
  },
  {
   "cell_type": "code",
   "execution_count": 26,
   "metadata": {},
   "outputs": [],
   "source": [
    "def extract_ifop_opinions(file_path,p_start,p_end):\n",
    "    base=get_base(file_path)\n",
    "    date=file_path.split(\"/\")[-1].rstrip('.pdf')\n",
    "    columns=['Nom','Base','Date','Opinion positive']\n",
    "    df=pd.DataFrame(columns=columns)\n",
    "    for p_nb in range(p_start,p_end+1):\n",
    "        noms=get_names(file_path,p_nb)\n",
    "        print(noms)\n",
    "        opinions=get_pos_opinions(file_path,p_nb,len(noms))\n",
    "        c_df=pd.DataFrame(columns=columns)\n",
    "        c_df['Nom']=noms\n",
    "        c_df['Opinion positive']=opinions\n",
    "        c_df['Date']=date\n",
    "        c_df['Base']=base\n",
    "        df=pd.concat([df,c_df],ignore_index=True)\n",
    "    return df"
   ]
  },
  {
   "cell_type": "code",
   "execution_count": 28,
   "metadata": {
    "tags": []
   },
   "outputs": [
    {
     "output_type": "stream",
     "name": "stdout",
     "text": [
      "Nicolas Hulot\n",
      "Edouard Philippe\n",
      "Roselyne Bachelot\n",
      "Bruno Le Maire\n",
      "Martine Aubry\n",
      "Emmanuel Macron\n",
      "Nicolas Sarkozy\n",
      "Bernard Cazeneuve\n",
      "['Nicolas HULOT', 'Edouard PHILIPPE', 'Roselyne BACHELOT', 'Bruno LEMAIRE', 'Martine AUBRY', 'Emmanuel MACRON', 'Nicolas SARKOZY', 'Bernard CAZENEUVE']\n",
      "Jean-Yves Le Drian\n",
      "Anne Hidalgo\n",
      "Olivier Véran\n",
      "François Baroin\n",
      "François Bayrou\n",
      "Jean Castex\n",
      "Xavier Bertrand\n",
      "François Hollande\n",
      "['Jean-Yves LEDRIAN', 'Anne HIDALGO', 'Olivier VÉRAN', 'François BAROIN', 'François BAYROU', 'Jean CASTEX', 'Xavier BERTRAND', 'François HOLLANDE']\n",
      "Ségolène Royal\n",
      "Rachida Dati\n",
      "Valérie Pécresse\n",
      "Eric Dupond-Moretti\n",
      "Laurent Wauquiez\n",
      "Gérard Larcher\n",
      "Jean-Michel Blanquer\n",
      "Christian Estrosi\n",
      "['Ségolène ROYAL', 'Rachida DATI', 'Valérie PÉCRESSE', 'Eric DUPOND-MORETTI', 'Laurent WAUQUIEZ', 'Gérard LARCHER', 'Jean-Michel BLANQUER', 'Christian ESTROSI']\n",
      "Gérald Darmanin\n",
      "Jean-Luc Mélenchon\n",
      "Nicolas Dupont-Aignan\n",
      "François Ruffin\n",
      "Hervé Morin\n",
      "Christophe Castaner\n",
      "Marlène Schiappa\n",
      "Marine Le Pen\n",
      "['Gérald DARMANIN', 'Jean-Luc MÉLENCHON', 'Nicolas DUPONT-AIGNAN', 'François RUFFIN', 'Hervé MORIN', 'Christophe CASTANER', 'Marlène SCHIAPPA', 'Marine LEPEN']\n",
      "Richard Ferrand\n",
      "Gabriel Attal\n",
      "Elisabeth Borne\n",
      "Florence Parly\n",
      "Christian Jacob\n",
      "Renaud Muselier\n",
      "Clémentine Autain\n",
      "Yannick Jadot\n",
      "['Richard FERRAND', 'Gabriel ATTAL', 'Elisabeth BORNE', 'Florence PARLY', 'Christian JACOB', 'Renaud MUSELIER', 'Clémentine AUTAIN', 'Yannick JADOT']\n",
      "Eric Woerth\n",
      "Eric Ciotti\n",
      "Olivier Faure\n",
      "Bruno Retailleau\n",
      "Jordan Bardella\n",
      "Barbara Pompili\n",
      "['Eric WOERTH', 'Eric CIOTTI', 'Olivier FAURE', 'Bruno RETAILLEAU', 'Jordan BARDELLA', 'Barbara POMPILI']\n",
      "Guillaume Peltier\n",
      "Sébastien Lecornu\n",
      "Amélie de Montchalin\n",
      "Fabien Roussel\n",
      "['Guillaume PELTIER', 'Sébastien LECORNU', 'Amélie DEMONTCHALIN', 'Fabien ROUSSEL']\n"
     ]
    },
    {
     "output_type": "execute_result",
     "data": {
      "text/plain": [
       "                      Nom    Base        Date Opinion positive\n",
       "0           Nicolas HULOT  1005.0  2021-01-14               69\n",
       "1        Edouard PHILIPPE  1005.0  2021-01-14               67\n",
       "2       Roselyne BACHELOT  1005.0  2021-01-14               62\n",
       "3           Bruno LEMAIRE  1005.0  2021-01-14               52\n",
       "4           Martine AUBRY  1005.0  2021-01-14               52\n",
       "5         Emmanuel MACRON  1005.0  2021-01-14               49\n",
       "6         Nicolas SARKOZY  1005.0  2021-01-14               49\n",
       "7       Bernard CAZENEUVE  1005.0  2021-01-14               48\n",
       "8       Jean-Yves LEDRIAN  1005.0  2021-01-14               47\n",
       "9            Anne HIDALGO  1005.0  2021-01-14               46\n",
       "10          Olivier VÉRAN  1005.0  2021-01-14               46\n",
       "11        François BAROIN  1005.0  2021-01-14               46\n",
       "12        François BAYROU  1005.0  2021-01-14               46\n",
       "13            Jean CASTEX  1005.0  2021-01-14               45\n",
       "14        Xavier BERTRAND  1005.0  2021-01-14               44\n",
       "15      François HOLLANDE  1005.0  2021-01-14               42\n",
       "16         Ségolène ROYAL  1005.0  2021-01-14               42\n",
       "17           Rachida DATI  1005.0  2021-01-14               42\n",
       "18       Valérie PÉCRESSE  1005.0  2021-01-14               42\n",
       "19    Eric DUPOND-MORETTI  1005.0  2021-01-14               41\n",
       "20       Laurent WAUQUIEZ  1005.0  2021-01-14               41\n",
       "21         Gérard LARCHER  1005.0  2021-01-14               40\n",
       "22   Jean-Michel BLANQUER  1005.0  2021-01-14               40\n",
       "23      Christian ESTROSI  1005.0  2021-01-14               39\n",
       "24        Gérald DARMANIN  1005.0  2021-01-14               37\n",
       "25     Jean-Luc MÉLENCHON  1005.0  2021-01-14               36\n",
       "26  Nicolas DUPONT-AIGNAN  1005.0  2021-01-14               36\n",
       "27        François RUFFIN  1005.0  2021-01-14               35\n",
       "28            Hervé MORIN  1005.0  2021-01-14               35\n",
       "29    Christophe CASTANER  1005.0  2021-01-14               35\n",
       "30       Marlène SCHIAPPA  1005.0  2021-01-14               34\n",
       "31           Marine LEPEN  1005.0  2021-01-14               33\n",
       "32        Richard FERRAND  1005.0  2021-01-14               33\n",
       "33          Gabriel ATTAL  1005.0  2021-01-14               32\n",
       "34        Elisabeth BORNE  1005.0  2021-01-14               32\n",
       "35         Florence PARLY  1005.0  2021-01-14               30\n",
       "36        Christian JACOB  1005.0  2021-01-14               30\n",
       "37        Renaud MUSELIER  1005.0  2021-01-14               29\n",
       "38      Clémentine AUTAIN  1005.0  2021-01-14               28\n",
       "39          Yannick JADOT  1005.0  2021-01-14               28\n",
       "40            Eric WOERTH  1005.0  2021-01-14               28\n",
       "41            Eric CIOTTI  1005.0  2021-01-14               27\n",
       "42          Olivier FAURE  1005.0  2021-01-14               26\n",
       "43       Bruno RETAILLEAU  1005.0  2021-01-14               24\n",
       "44        Jordan BARDELLA  1005.0  2021-01-14               23\n",
       "45        Barbara POMPILI  1005.0  2021-01-14               22\n",
       "46      Guillaume PELTIER  1005.0  2021-01-14               21\n",
       "47      Sébastien LECORNU  1005.0  2021-01-14               20\n",
       "48    Amélie DEMONTCHALIN  1005.0  2021-01-14               19\n",
       "49         Fabien ROUSSEL  1005.0  2021-01-14               18"
      ],
      "text/html": "<div>\n<style scoped>\n    .dataframe tbody tr th:only-of-type {\n        vertical-align: middle;\n    }\n\n    .dataframe tbody tr th {\n        vertical-align: top;\n    }\n\n    .dataframe thead th {\n        text-align: right;\n    }\n</style>\n<table border=\"1\" class=\"dataframe\">\n  <thead>\n    <tr style=\"text-align: right;\">\n      <th></th>\n      <th>Nom</th>\n      <th>Base</th>\n      <th>Date</th>\n      <th>Opinion positive</th>\n    </tr>\n  </thead>\n  <tbody>\n    <tr>\n      <th>0</th>\n      <td>Nicolas HULOT</td>\n      <td>1005.0</td>\n      <td>2021-01-14</td>\n      <td>69</td>\n    </tr>\n    <tr>\n      <th>1</th>\n      <td>Edouard PHILIPPE</td>\n      <td>1005.0</td>\n      <td>2021-01-14</td>\n      <td>67</td>\n    </tr>\n    <tr>\n      <th>2</th>\n      <td>Roselyne BACHELOT</td>\n      <td>1005.0</td>\n      <td>2021-01-14</td>\n      <td>62</td>\n    </tr>\n    <tr>\n      <th>3</th>\n      <td>Bruno LEMAIRE</td>\n      <td>1005.0</td>\n      <td>2021-01-14</td>\n      <td>52</td>\n    </tr>\n    <tr>\n      <th>4</th>\n      <td>Martine AUBRY</td>\n      <td>1005.0</td>\n      <td>2021-01-14</td>\n      <td>52</td>\n    </tr>\n    <tr>\n      <th>5</th>\n      <td>Emmanuel MACRON</td>\n      <td>1005.0</td>\n      <td>2021-01-14</td>\n      <td>49</td>\n    </tr>\n    <tr>\n      <th>6</th>\n      <td>Nicolas SARKOZY</td>\n      <td>1005.0</td>\n      <td>2021-01-14</td>\n      <td>49</td>\n    </tr>\n    <tr>\n      <th>7</th>\n      <td>Bernard CAZENEUVE</td>\n      <td>1005.0</td>\n      <td>2021-01-14</td>\n      <td>48</td>\n    </tr>\n    <tr>\n      <th>8</th>\n      <td>Jean-Yves LEDRIAN</td>\n      <td>1005.0</td>\n      <td>2021-01-14</td>\n      <td>47</td>\n    </tr>\n    <tr>\n      <th>9</th>\n      <td>Anne HIDALGO</td>\n      <td>1005.0</td>\n      <td>2021-01-14</td>\n      <td>46</td>\n    </tr>\n    <tr>\n      <th>10</th>\n      <td>Olivier VÉRAN</td>\n      <td>1005.0</td>\n      <td>2021-01-14</td>\n      <td>46</td>\n    </tr>\n    <tr>\n      <th>11</th>\n      <td>François BAROIN</td>\n      <td>1005.0</td>\n      <td>2021-01-14</td>\n      <td>46</td>\n    </tr>\n    <tr>\n      <th>12</th>\n      <td>François BAYROU</td>\n      <td>1005.0</td>\n      <td>2021-01-14</td>\n      <td>46</td>\n    </tr>\n    <tr>\n      <th>13</th>\n      <td>Jean CASTEX</td>\n      <td>1005.0</td>\n      <td>2021-01-14</td>\n      <td>45</td>\n    </tr>\n    <tr>\n      <th>14</th>\n      <td>Xavier BERTRAND</td>\n      <td>1005.0</td>\n      <td>2021-01-14</td>\n      <td>44</td>\n    </tr>\n    <tr>\n      <th>15</th>\n      <td>François HOLLANDE</td>\n      <td>1005.0</td>\n      <td>2021-01-14</td>\n      <td>42</td>\n    </tr>\n    <tr>\n      <th>16</th>\n      <td>Ségolène ROYAL</td>\n      <td>1005.0</td>\n      <td>2021-01-14</td>\n      <td>42</td>\n    </tr>\n    <tr>\n      <th>17</th>\n      <td>Rachida DATI</td>\n      <td>1005.0</td>\n      <td>2021-01-14</td>\n      <td>42</td>\n    </tr>\n    <tr>\n      <th>18</th>\n      <td>Valérie PÉCRESSE</td>\n      <td>1005.0</td>\n      <td>2021-01-14</td>\n      <td>42</td>\n    </tr>\n    <tr>\n      <th>19</th>\n      <td>Eric DUPOND-MORETTI</td>\n      <td>1005.0</td>\n      <td>2021-01-14</td>\n      <td>41</td>\n    </tr>\n    <tr>\n      <th>20</th>\n      <td>Laurent WAUQUIEZ</td>\n      <td>1005.0</td>\n      <td>2021-01-14</td>\n      <td>41</td>\n    </tr>\n    <tr>\n      <th>21</th>\n      <td>Gérard LARCHER</td>\n      <td>1005.0</td>\n      <td>2021-01-14</td>\n      <td>40</td>\n    </tr>\n    <tr>\n      <th>22</th>\n      <td>Jean-Michel BLANQUER</td>\n      <td>1005.0</td>\n      <td>2021-01-14</td>\n      <td>40</td>\n    </tr>\n    <tr>\n      <th>23</th>\n      <td>Christian ESTROSI</td>\n      <td>1005.0</td>\n      <td>2021-01-14</td>\n      <td>39</td>\n    </tr>\n    <tr>\n      <th>24</th>\n      <td>Gérald DARMANIN</td>\n      <td>1005.0</td>\n      <td>2021-01-14</td>\n      <td>37</td>\n    </tr>\n    <tr>\n      <th>25</th>\n      <td>Jean-Luc MÉLENCHON</td>\n      <td>1005.0</td>\n      <td>2021-01-14</td>\n      <td>36</td>\n    </tr>\n    <tr>\n      <th>26</th>\n      <td>Nicolas DUPONT-AIGNAN</td>\n      <td>1005.0</td>\n      <td>2021-01-14</td>\n      <td>36</td>\n    </tr>\n    <tr>\n      <th>27</th>\n      <td>François RUFFIN</td>\n      <td>1005.0</td>\n      <td>2021-01-14</td>\n      <td>35</td>\n    </tr>\n    <tr>\n      <th>28</th>\n      <td>Hervé MORIN</td>\n      <td>1005.0</td>\n      <td>2021-01-14</td>\n      <td>35</td>\n    </tr>\n    <tr>\n      <th>29</th>\n      <td>Christophe CASTANER</td>\n      <td>1005.0</td>\n      <td>2021-01-14</td>\n      <td>35</td>\n    </tr>\n    <tr>\n      <th>30</th>\n      <td>Marlène SCHIAPPA</td>\n      <td>1005.0</td>\n      <td>2021-01-14</td>\n      <td>34</td>\n    </tr>\n    <tr>\n      <th>31</th>\n      <td>Marine LEPEN</td>\n      <td>1005.0</td>\n      <td>2021-01-14</td>\n      <td>33</td>\n    </tr>\n    <tr>\n      <th>32</th>\n      <td>Richard FERRAND</td>\n      <td>1005.0</td>\n      <td>2021-01-14</td>\n      <td>33</td>\n    </tr>\n    <tr>\n      <th>33</th>\n      <td>Gabriel ATTAL</td>\n      <td>1005.0</td>\n      <td>2021-01-14</td>\n      <td>32</td>\n    </tr>\n    <tr>\n      <th>34</th>\n      <td>Elisabeth BORNE</td>\n      <td>1005.0</td>\n      <td>2021-01-14</td>\n      <td>32</td>\n    </tr>\n    <tr>\n      <th>35</th>\n      <td>Florence PARLY</td>\n      <td>1005.0</td>\n      <td>2021-01-14</td>\n      <td>30</td>\n    </tr>\n    <tr>\n      <th>36</th>\n      <td>Christian JACOB</td>\n      <td>1005.0</td>\n      <td>2021-01-14</td>\n      <td>30</td>\n    </tr>\n    <tr>\n      <th>37</th>\n      <td>Renaud MUSELIER</td>\n      <td>1005.0</td>\n      <td>2021-01-14</td>\n      <td>29</td>\n    </tr>\n    <tr>\n      <th>38</th>\n      <td>Clémentine AUTAIN</td>\n      <td>1005.0</td>\n      <td>2021-01-14</td>\n      <td>28</td>\n    </tr>\n    <tr>\n      <th>39</th>\n      <td>Yannick JADOT</td>\n      <td>1005.0</td>\n      <td>2021-01-14</td>\n      <td>28</td>\n    </tr>\n    <tr>\n      <th>40</th>\n      <td>Eric WOERTH</td>\n      <td>1005.0</td>\n      <td>2021-01-14</td>\n      <td>28</td>\n    </tr>\n    <tr>\n      <th>41</th>\n      <td>Eric CIOTTI</td>\n      <td>1005.0</td>\n      <td>2021-01-14</td>\n      <td>27</td>\n    </tr>\n    <tr>\n      <th>42</th>\n      <td>Olivier FAURE</td>\n      <td>1005.0</td>\n      <td>2021-01-14</td>\n      <td>26</td>\n    </tr>\n    <tr>\n      <th>43</th>\n      <td>Bruno RETAILLEAU</td>\n      <td>1005.0</td>\n      <td>2021-01-14</td>\n      <td>24</td>\n    </tr>\n    <tr>\n      <th>44</th>\n      <td>Jordan BARDELLA</td>\n      <td>1005.0</td>\n      <td>2021-01-14</td>\n      <td>23</td>\n    </tr>\n    <tr>\n      <th>45</th>\n      <td>Barbara POMPILI</td>\n      <td>1005.0</td>\n      <td>2021-01-14</td>\n      <td>22</td>\n    </tr>\n    <tr>\n      <th>46</th>\n      <td>Guillaume PELTIER</td>\n      <td>1005.0</td>\n      <td>2021-01-14</td>\n      <td>21</td>\n    </tr>\n    <tr>\n      <th>47</th>\n      <td>Sébastien LECORNU</td>\n      <td>1005.0</td>\n      <td>2021-01-14</td>\n      <td>20</td>\n    </tr>\n    <tr>\n      <th>48</th>\n      <td>Amélie DEMONTCHALIN</td>\n      <td>1005.0</td>\n      <td>2021-01-14</td>\n      <td>19</td>\n    </tr>\n    <tr>\n      <th>49</th>\n      <td>Fabien ROUSSEL</td>\n      <td>1005.0</td>\n      <td>2021-01-14</td>\n      <td>18</td>\n    </tr>\n  </tbody>\n</table>\n</div>"
     },
     "metadata": {},
     "execution_count": 28
    }
   ],
   "source": [
    "filename=\"2021-02-05\"\n",
    "file_path='rapport_personnalite/'+filename+'.pdf'\n",
    "p_start,p_end=11,17\n",
    "# Enlever 1 par rapport au pdf aux pages\n",
    "df=extract_ifop_opinions(file_path,p_start,p_end)\n",
    "df.to_pickle('data_perso/'+filename+'.p')\n",
    "df"
   ]
  },
  {
   "cell_type": "code",
   "execution_count": 29,
   "metadata": {},
   "outputs": [],
   "source": [
    "# import datetime\n",
    "# df=pd.read_pickle('data/2021-01-21.p')\n",
    "# df.loc[0,df.columns[4:13]]=[7,34,41,34,25,59,0,-4,+4]\n",
    "# df.loc[1,df.columns[4:13]]=[4,34,38,34,28,62,0,-3,+3]\n",
    "# df.Base=1004\n",
    "# df.Date=datetime.date(2021,2,5)"
   ]
  },
  {
   "cell_type": "code",
   "execution_count": 32,
   "metadata": {},
   "outputs": [],
   "source": [
    "# df.to_pickle('data/2021-02-05.p')"
   ]
  },
  {
   "cell_type": "code",
   "execution_count": 29,
   "metadata": {},
   "outputs": [],
   "source": [
    "# df.to_pickle('data/'+filename+'.p')"
   ]
  },
  {
   "cell_type": "code",
   "execution_count": null,
   "metadata": {},
   "outputs": [],
   "source": [
    "# df3=pd.concat([df,df2],ignore_index=True)\n",
    "# df3.to_pickle('data/'+filename+'.p')"
   ]
  },
  {
   "cell_type": "code",
   "execution_count": null,
   "metadata": {},
   "outputs": [],
   "source": [
    "# Reading IPSOS report\n",
    "\n",
    "# with open(\"rapport/2020-10-14.pdf\",\"rb\") as pdf_file:\n",
    "#     pdf_report= PyPDF2.PdfFileReader(pdf_file)\n",
    "#     isEncrypted = pdf_report.getIsEncrypted()\n",
    "#     nbPages= pdf_report.numPages\n",
    "\n",
    "#     page1=pdf_report.getPage(15)\n",
    "#     text=page1.extractText().replace(',','.')\n",
    "#     text = extract_text(pdf_file,page_numbers=[14])\n",
    "\n",
    "# print(text)\n",
    "\n",
    "print(df.isnull().values.any())\n",
    "df.head(10)\n",
    "df.describe()\n",
    "df[df.Base==0]"
   ]
  }
 ],
 "metadata": {
  "language_info": {
   "codemirror_mode": {
    "name": "ipython",
    "version": 3
   },
   "file_extension": ".py",
   "mimetype": "text/x-python",
   "name": "python",
   "nbconvert_exporter": "python",
   "pygments_lexer": "ipython3",
   "version": "3.7.7-final"
  },
  "orig_nbformat": 2,
  "kernelspec": {
   "name": "python37764bitb6ef9b95e5314da5935130084e765a7f",
   "display_name": "Python 3.7.7 64-bit",
   "language": "python"
  }
 },
 "nbformat": 4,
 "nbformat_minor": 2
}