{
 "cells": [
  {
   "cell_type": "markdown",
   "source": [
    "# Implémentation IPF"
   ],
   "metadata": {}
  },
  {
   "cell_type": "code",
   "execution_count": 59,
   "source": [
    "import numpy as np"
   ],
   "outputs": [],
   "metadata": {}
  },
  {
   "cell_type": "markdown",
   "source": [
    "## Données de couplages"
   ],
   "metadata": {}
  },
  {
   "cell_type": "code",
   "execution_count": 132,
   "source": [
    "data=np.array(\r\n",
    "    [\r\n",
    "        [126,24],\r\n",
    "        [24,26],\r\n",
    "    ]\r\n",
    ")\r\n",
    "ex_cols=np.array([175,30])\r\n",
    "ex_lines=np.array([150,55])\r\n",
    "data.sum(axis=0)"
   ],
   "outputs": [
    {
     "output_type": "execute_result",
     "data": {
      "text/plain": [
       "array([150,  50])"
      ]
     },
     "metadata": {},
     "execution_count": 132
    }
   ],
   "metadata": {}
  },
  {
   "cell_type": "code",
   "execution_count": 140,
   "source": [
    "def col_adjust(data,ex_cols):\r\n",
    "    cols=data.sum(axis=0)\r\n",
    "    ratio=ex_cols/cols\r\n",
    "    return data*ratio\r\n",
    "\r\n",
    "def line_adjust(data,ex_lines):\r\n",
    "    lines=data.sum(axis=1)\r\n",
    "    ratio=ex_lines/lines\r\n",
    "    return data*ratio.reshape(lines.shape[0],1)\r\n",
    "\r\n",
    "\r\n",
    "def step(data, ex_cols,ex_lines):\r\n",
    "    data=col_adjust(data,ex_cols)\r\n",
    "    data=line_adjust(data, ex_lines)\r\n",
    "    return data\r\n",
    "\r\n",
    "def convergence(data, ex_cols,ex_lines,err=1e-2):\r\n",
    "    prev_cost=data.sum()\r\n",
    "    data=step(data,ex_cols,ex_lines)\r\n",
    "    cost=data.sum()\r\n",
    "    i=1\r\n",
    "    while(cost-prev_cost>err):\r\n",
    "        data=step(data,ex_cols,ex_lines)\r\n",
    "        prev_cost=cost\r\n",
    "        cost=data.sum()\r\n",
    "        i+=1\r\n",
    "    print(f\"Convergence après {i} itérations\")\r\n",
    "    return data\r\n",
    "\r\n",
    "d=data.copy()\r\n",
    "print(d)"
   ],
   "outputs": [
    {
     "output_type": "stream",
     "name": "stdout",
     "text": [
      "[[126  24]\n",
      " [ 24  26]]\n"
     ]
    }
   ],
   "metadata": {}
  },
  {
   "cell_type": "code",
   "execution_count": 141,
   "source": [
    "convergence(d,ex_cols,ex_lines)\r\n",
    "\r\n"
   ],
   "outputs": [
    {
     "output_type": "stream",
     "name": "stdout",
     "text": [
      "Convergence après 2 itérations\n"
     ]
    },
    {
     "output_type": "execute_result",
     "data": {
      "text/plain": [
       "array([[137.95232383,  12.04767617],\n",
       "       [ 36.74746866,  18.25253134]])"
      ]
     },
     "metadata": {},
     "execution_count": 141
    }
   ],
   "metadata": {}
  },
  {
   "cell_type": "code",
   "execution_count": null,
   "source": [],
   "outputs": [],
   "metadata": {}
  }
 ],
 "metadata": {
  "orig_nbformat": 4,
  "language_info": {
   "name": "python",
   "version": "3.9.6",
   "mimetype": "text/x-python",
   "codemirror_mode": {
    "name": "ipython",
    "version": 3
   },
   "pygments_lexer": "ipython3",
   "nbconvert_exporter": "python",
   "file_extension": ".py"
  },
  "kernelspec": {
   "name": "python3",
   "display_name": "Python 3.9.6 64-bit"
  },
  "interpreter": {
   "hash": "af4be3c86c0c67198d3b3d387a370d7ead5e9c07aff1f2213e77801b9197cc3f"
  }
 },
 "nbformat": 4,
 "nbformat_minor": 2
}