{
  "cells": [
    {
      "cell_type": "code",
      "execution_count": null,
      "metadata": {
        "colab": {
          "base_uri": "https://localhost:8080/"
        },
        "id": "moNWIELMJKyu",
        "outputId": "c07365f3-ad41-4993-f82c-dca7eabfa7dd"
      },
      "outputs": [],
      "source": [
        "# !wget https://dataverse.harvard.edu/api/access/datafile/3107210?format=tab&gbrecs=true\n"
      ]
    },
    {
      "cell_type": "code",
      "execution_count": null,
      "metadata": {
        "id": "nYY6cp9rJapu"
      },
      "outputs": [],
      "source": [
        "import numpy as np\n",
        "import pandas as pd\n",
        "import seaborn as sns\n",
        "import random\n",
        "from sklearn.metrics import mean_squared_error\n",
        "from sklearn.metrics import mean_absolute_error\n",
        "import matplotlib.pyplot as plt\n",
        "\n",
        "from scipy.spatial.distance import jensenshannon\n",
        "from scipy.special import kl_div\n",
        "\n",
        "\n",
        "from tqdm.notebook import tqdm, trange"
      ]
    },
    {
      "cell_type": "code",
      "execution_count": null,
      "metadata": {
        "id": "2l7CdNnFJesn"
      },
      "outputs": [],
      "source": [
        "df=pd.read_csv('worlds_polls.csv',sep='\\t')\n",
        "keys_cols=['polldate', 'election',\t'system',\t'rule',\t'round','electionyr','elecdate']"
      ]
    },
    {
      "cell_type": "code",
      "execution_count": null,
      "metadata": {
        "id": "6D0d_HWfMkV6"
      },
      "outputs": [],
      "source": [
        "def entropy(p,q):\n",
        "  return - p*np.log(q)\n",
        "  \n",
        "def mse(y_true,y_pred):\n",
        "  return np.square(y_pred-y_true)\n",
        "\n",
        "def mae(y_true,y_pred):\n",
        "  return np.abs(y_pred-y_true)\n",
        "\n",
        "def error_p(p,n,std=1.96):\n",
        "  return std*np.sqrt(p*(1-p)/n)\n",
        "\n",
        "def diff_error(p,q,n):\n",
        "  err_th=error_p(p,n)\n",
        "  err_obs=np.abs(p-q)\n",
        "  return err_obs-err_th\n",
        "\n",
        "def odd_err(p,v):\n",
        "  return np.abs(np.log((p/(1-p))*(1-v)/v))\n",
        "\n",
        "def extract(df,id_poll):\n",
        "  sondage=df[df.idpoll==id_poll]\n",
        "  return sondage.vote_,sondage.poll_, sondage.idpoll"
      ]
    },
    {
      "cell_type": "code",
      "execution_count": null,
      "metadata": {
        "colab": {
          "base_uri": "https://localhost:8080/",
          "height": 67,
          "referenced_widgets": [
            "4ea21e70240f44b7b6d857c52fdf2183",
            "b1f417a61ec34881a1ff289275a69671",
            "a124852e9eaf42d5ba48c893a4cdcfba",
            "41f2de6a66f64e8bb2aa0992b2942c67",
            "282770803dc545778a8a6e3213b51cd9",
            "a581cfe9ceb24ae585e188f9c3905483",
            "2bb50b09f2a8413abdcba354bede2961",
            "a6706efc88c54e0d9f2c13b5524c69ea",
            "679f3db5274b44f894e63d6e69368e2d",
            "189ba030755c4db38ddc5e4d6c1dcd90",
            "58bdcedca1444974b5c8faa40af22da2"
          ]
        },
        "id": "6pNu2DqHmZOj",
        "outputId": "27ffb6df-d249-454f-de6b-0e23cc276bc3"
      },
      "outputs": [],
      "source": [
        "def generate_id_poll(df_source,k_cols):\n",
        "  df=df_source.copy()\n",
        "  df['idpoll']=0\n",
        "  keys=df[k_cols].drop_duplicates( ignore_index=True)\n",
        "  print(f'Nombre de clefs {len(keys)}')\n",
        "  for i in trange(len(keys)):\n",
        "    filter=(df[keys_cols] ==keys[keys_cols].iloc[i]).sum(axis=1)==7\n",
        "    df.loc[filter,'idpoll']=i\n",
        "  return df\n",
        "\n",
        "df=df[df.vote_.isna()==False]\n",
        "df=df[df.poll_.isna()==False] \n",
        "df=generate_id_poll(df,keys_cols)"
      ]
    },
    {
      "cell_type": "code",
      "execution_count": null,
      "metadata": {
        "id": "w3qV1usJGy8P"
      },
      "outputs": [],
      "source": [
        "# df.to_pickle(\"polls.p\")"
      ]
    },
    {
      "cell_type": "code",
      "execution_count": null,
      "metadata": {
        "id": "RtEgkMBm8sbn"
      },
      "outputs": [],
      "source": [
        "df=pd.read_pickle(\"polls.p\")\n",
        "df=df[df[\"sample\"]>0]\n",
        "df=df.drop(columns=[\"countryid\", \"regime\", \"turnout\", \"inc_\", \"gov_\",\"espv\"])\n",
        "df=df.rename(columns={\"sample\":\"sample_\"})\n",
        "df=df[df.yr>2000]\n",
        "df=df[df.daysbeforeED<7]"
      ]
    },
    {
      "cell_type": "code",
      "execution_count": null,
      "metadata": {
        "colab": {
          "base_uri": "https://localhost:8080/",
          "height": 488
        },
        "id": "ZLpcI2ozPNlZ",
        "outputId": "e0bdcebf-da23-4639-a95c-927a94ea79cd"
      },
      "outputs": [],
      "source": [
        "df"
      ]
    },
    {
      "cell_type": "markdown",
      "metadata": {},
      "source": [
        "# Plot error over time\n"
      ]
    },
    {
      "cell_type": "code",
      "execution_count": null,
      "metadata": {},
      "outputs": [],
      "source": [
        "sns.scatterplot(x=df.sample_, y=mae(df.vote_,df.poll_))\n",
        "plt.ylim(0,6)\n",
        "plt.xlim(0,10000)"
      ]
    },
    {
      "cell_type": "code",
      "execution_count": null,
      "metadata": {},
      "outputs": [],
      "source": [
        "sns.regplot(x=df.sample_, y=mae(df.vote_,df.poll_), lowess=True, line_kws=dict(color=\"r\"))\n",
        "plt.ylim(0,6)\n",
        "plt.xlim(0,10000)"
      ]
    },
    {
      "cell_type": "code",
      "execution_count": null,
      "metadata": {},
      "outputs": [],
      "source": [
        "max_sample=10000\n",
        "n = np.linspace(200, max_sample, 1000)\n",
        "p = np.linspace(0.001, 1, 1000)\n",
        "\n",
        "nn, pp = np.meshgrid(n,p)\n",
        "z = error_p(pp,nn,0.67)*100\n",
        "sub_df = df.query(f'sample_ > 200 and sample_ < {max_sample}')"
      ]
    },
    {
      "cell_type": "code",
      "execution_count": null,
      "metadata": {},
      "outputs": [],
      "source": [
        "from numpy import size\n",
        "import plotly.graph_objects as go\n",
        "\n",
        "\n",
        "\n",
        "fig = go.Figure(data=[go.Surface(x=nn, y=pp, z=z)])\n",
        "\n",
        "fig.add_scatter3d(x=sub_df.sample_, y=sub_df.vote_/100, z=mae(sub_df.vote_,sub_df.poll_), mode='markers', marker_size = 1)\n",
        "\n",
        "fig.update_layout(title='test',\n",
        "                  width=1000, height=1000,\n",
        "                  margin=dict(l=65, r=50, b=65, t=90))"
      ]
    },
    {
      "cell_type": "code",
      "execution_count": null,
      "metadata": {},
      "outputs": [],
      "source": [
        "df.sample_.describe()"
      ]
    },
    {
      "cell_type": "markdown",
      "metadata": {
        "id": "QNhHpYmsFKwI"
      },
      "source": [
        "## Compute entropy\n"
      ]
    },
    {
      "cell_type": "code",
      "execution_count": null,
      "metadata": {
        "colab": {
          "base_uri": "https://localhost:8080/"
        },
        "id": "D5cIOop5FIQH",
        "outputId": "eea5d71f-bbb2-4327-f31f-7c6ad9af27b8"
      },
      "outputs": [],
      "source": [
        "def poll_measure(df:pd.DataFrame,measure=entropy)->float:\n",
        "  \"\"\"\n",
        "  df should store only one polls\n",
        "  \"\"\"\n",
        "  y=df.vote_.to_numpy()/100\n",
        "  yhat=df.poll_.to_numpy()/100\n",
        "  if y.sum()<1:\n",
        "    y=np.append(y,1-y.sum())\n",
        "    yhat=np.append(yhat,1-yhat.sum())\n",
        "    yhat[yhat<0]=0\n",
        "  yhat[yhat==0]=0.00001\n",
        "  return measure(y,yhat).sum()\n",
        "\n",
        "poll_measure(df[df.idpoll==23756],measure=kl_div)"
      ]
    },
    {
      "cell_type": "markdown",
      "metadata": {
        "id": "RFLKQ-BaH3E7"
      },
      "source": [
        "## Compute random sample"
      ]
    },
    {
      "cell_type": "code",
      "execution_count": null,
      "metadata": {
        "colab": {
          "base_uri": "https://localhost:8080/"
        },
        "id": "BpW6iZ0yH-b_",
        "outputId": "8d2a2b7c-3306-4756-924a-bf535b887e03"
      },
      "outputs": [],
      "source": [
        "def random_sample_measure(df:pd.DataFrame,n_samples:int=1000,poll_size:int=None,measure=kl_div)->float:\n",
        "  \"\"\"\n",
        "  df should store only one polls\n",
        "  \"\"\"\n",
        "  y=df.vote_.to_numpy()/100\n",
        "  if poll_size==None:\n",
        "    poll_size=int(df['sample'].iloc[0])\n",
        "  if y.sum()<1:\n",
        "    y=np.append(y,1-y.sum())\n",
        "  if y.sum()!=1.0:\n",
        "    # Proba étrange ne sommant pas à 1\n",
        "    y=y/y.sum()\n",
        "  try:\n",
        "    samples=np.random.choice(list(range(len(y))),size=(n_samples,poll_size),p=y)\n",
        "  except :\n",
        "    print(y,y.sum())\n",
        "    return 0\n",
        "  samples=np.eye(len(y))[samples]\n",
        "  yhat=samples.sum(axis=1)\n",
        "  yhat[yhat==0]=0.00001\n",
        "  yhat=(yhat.T/yhat.sum(axis=1)).T\n",
        "  measures=measure(y,yhat).sum(axis=1)\n",
        "  return np.median(measures)\n",
        "\n",
        "random_sample_measure(df[df.idpoll==23756],1000,1500,measure=kl_div)"
      ]
    },
    {
      "cell_type": "markdown",
      "metadata": {
        "id": "whxsQPtqWVuI"
      },
      "source": [
        "## Finding best random sampling through minimization"
      ]
    },
    {
      "cell_type": "code",
      "execution_count": null,
      "metadata": {
        "colab": {
          "base_uri": "https://localhost:8080/"
        },
        "id": "Rmcxftc9WiOe",
        "outputId": "76aa702a-fb83-4e03-ae1a-43ecd6e9b02e"
      },
      "outputs": [],
      "source": [
        "def optimal_size_sample(df:pd.DataFrame,n_samples:int=1000,measure=kl_div)->int:\n",
        "  sample_size=int(df[\"sample\"].iloc[0])\n",
        "  lb=1\n",
        "  ub=sample_size\n",
        "  y_hat=random_sample_measure(df,poll_size=ub,n_samples=n_samples,measure=measure)\n",
        "  y=poll_measure(df,measure=measure)\n",
        "  while y-y_hat<-1e-5 and ub<16*sample_size:\n",
        "    lb=ub\n",
        "    ub=ub*2\n",
        "    y_hat=random_sample_measure(df,poll_size=ub,n_samples=n_samples,measure=measure)\n",
        "  if y-y_hat>0:\n",
        "    while ub!=lb and ub!=lb+1:\n",
        "      n=int((ub+lb)/2)\n",
        "      y_hat=random_sample_measure(df,poll_size=n,n_samples=n_samples,measure=measure)\n",
        "      r=y-y_hat\n",
        "      if r>=0:\n",
        "        ub=n\n",
        "      else:\n",
        "        lb=n\n",
        "  return ub\n",
        "\n",
        "optimal_size_sample(df[df.idpoll==23756],1000)"
      ]
    },
    {
      "cell_type": "code",
      "execution_count": null,
      "metadata": {
        "colab": {
          "base_uri": "https://localhost:8080/",
          "height": 49,
          "referenced_widgets": [
            "58c1a0815327469c8384f67afb3ef91d",
            "ea1bb2698b4d42289d296e124a361e1f",
            "f2d4b5b525eb4e48823273189f2fca0c",
            "38ca6d1470c04ec39f55edf390b0f63d",
            "d347f928bb574be59292c1228ab22479",
            "d24d9a63a73340d08ed29eb1abbefcf4",
            "5c3d08e015654a6d9548571204daf056",
            "a31742b5a2604a80a00cf25f6e0c32a1",
            "dc158febaba34d839ca351f1093c4139",
            "667b6d3c13344cdd9e0f3c4c6f29c052",
            "16c4c6555687423985d13854e2ccc645"
          ]
        },
        "id": "45prJgrQKwqS",
        "outputId": "7b8f901c-0e1a-4e6b-ebc0-f5399a04f79b"
      },
      "outputs": [],
      "source": [
        "from numpy.core.numeric import ones_like\n",
        "samples_sizes=[]\n",
        "for i in tqdm(df.idpoll.unique()):\n",
        "  poll_df=df[df.idpoll==i]\n",
        "  year=poll_df.yr.iloc[0]\n",
        "  country=poll_df.country.iloc[0]\n",
        "  election=poll_df.election.iloc[0]\n",
        "  system=poll_df.system.iloc[0]\n",
        "  daysbeforeED=poll_df.daysbeforeED.iloc[0]\n",
        "  nb_candidates=len(poll_df)\n",
        "  if poll_df.vote_.sum()<100:\n",
        "    nb_candidates+=1\n",
        "  n=int(poll_df[\"sample\"].iloc[0])\n",
        "\n",
        "  optimal_kl=optimal_size_sample(poll_df)\n",
        "  optimal_entropy=optimal_size_sample(poll_df,measure=entropy)\n",
        "  optimal_mse=optimal_size_sample(poll_df,measure=mse)\n",
        "  optimal_mae=optimal_size_sample(poll_df,measure=mae)\n",
        "  samples_sizes.append((i,n,optimal_kl,\n",
        "                        optimal_entropy,optimal_mse,optimal_mae,\n",
        "                        year,country,election,system,\n",
        "                        daysbeforeED,nb_candidates))\n",
        "best_sample_size=pd.DataFrame(samples_sizes,\n",
        "                              columns=['id','poll_sample','optimal_kl',\n",
        "                                       'optimal_entropy','optimal_mse','optimal_mae',\n",
        "                                       'year','country','election',\n",
        "                                       'system','daysbeforeED','nb_candidates'])\n"
      ]
    },
    {
      "cell_type": "code",
      "execution_count": null,
      "metadata": {
        "id": "n1OxnPLv4uGZ"
      },
      "outputs": [],
      "source": [
        "# best_sample_size.to_pickle(\"bss.p\")\n",
        "best_sample_size=pd.read_pickle(\"bss.p\")\n",
        "bss14=best_sample_size[best_sample_size.daysbeforeED<=21].copy()\n",
        "liste_mesures=[['optimal_kl','optimal_entropy'],\n",
        "               ['optimal_mse','optimal_mae'],\n",
        "               ['oneshot','']]\n",
        "\n",
        "nb_lignes=3\n",
        "nb_colonnes=2"
      ]
    },
    {
      "cell_type": "code",
      "execution_count": null,
      "metadata": {},
      "outputs": [],
      "source": [
        "bss14"
      ]
    },
    {
      "cell_type": "markdown",
      "metadata": {
        "id": "XQDiZpUP5DXX"
      },
      "source": [
        "## Précision en nombre de tirage aléatoire TCL"
      ]
    },
    {
      "cell_type": "code",
      "execution_count": null,
      "metadata": {
        "colab": {
          "base_uri": "https://localhost:8080/",
          "height": 519
        },
        "id": "b8cjyo90UdJ0",
        "outputId": "7603bbf5-7c43-4170-ad53-fae368fc7de9"
      },
      "outputs": [],
      "source": [
        "fig, axes = plt.subplots(nb_lignes,nb_colonnes,figsize=(10,10),dpi=100)\n",
        "line=list(range(5000))\n",
        "for i in range(nb_lignes):\n",
        "    for j in range(nb_colonnes):\n",
        "        if liste_mesures[i][j]!= '':\n",
        "            ax=axes[i,j]\n",
        "            g=sns.regplot(x='poll_sample',y=liste_mesures[i][j],\n",
        "                        lowess=True,\n",
        "                        data=bss14,\n",
        "                        ax=ax,\n",
        "                        line_kws={\"color\": \"red\"})\n",
        "            ax.set_xlim(1, 5000)\n",
        "            ax.set_ylim(1, 5000)\n",
        "\n",
        "plt.show()"
      ]
    },
    {
      "cell_type": "code",
      "execution_count": null,
      "metadata": {
        "colab": {
          "base_uri": "https://localhost:8080/",
          "height": 481
        },
        "id": "9J8AgJcOj9Uc",
        "outputId": "7f6dec67-04cd-46b2-f154-82d7ce38f49f"
      },
      "outputs": [],
      "source": [
        "fig, axes = plt.subplots(nb_lignes,nb_colonnes,figsize=(18,10),dpi=200)\n",
        "line=list(range(5000))\n",
        "for i in range(nb_lignes):\n",
        "    for j in range(nb_colonnes):\n",
        "      if liste_mesures[i][j]!= '':\n",
        "        ax=axes[i,j]\n",
        "        bss14[\"bins\"]=pd.qcut(bss14[\"poll_sample\"], 5)\n",
        "        sns.violinplot(x=\"bins\",\n",
        "                      y=liste_mesures[i][j],\n",
        "                      data=bss14,\n",
        "                      ax=ax,\n",
        "                      #  inner=\"quartile\"\n",
        "                    )\n",
        "        ax.set_xlabel(\"Taille d'échantillon du sondage\")\n",
        "        ax.set_ylim(0, 3000)\n",
        "fig.suptitle(\"Précision en fonction de la taille initiale du sondage\")\n",
        "plt.show()\n",
        "best_sample_size[best_sample_size['poll_sample']==1000].optimal_kl.median()"
      ]
    },
    {
      "cell_type": "code",
      "execution_count": null,
      "metadata": {
        "colab": {
          "base_uri": "https://localhost:8080/",
          "height": 481
        },
        "id": "rWzBWpXLaTfc",
        "outputId": "fcb40304-c289-4a36-ea7d-7e53bd1abbfa"
      },
      "outputs": [],
      "source": [
        "fig, axes = plt.subplots(nb_lignes,nb_colonnes,figsize=(18,10),dpi=200)\n",
        "line=list(range(5000))\n",
        "for i in range(nb_lignes):\n",
        "  for j in range(nb_colonnes):\n",
        "    if liste_mesures[i][j]!= '':\n",
        "      ax=axes[i,j]\n",
        "      bss14[\"bins\"]=pd.qcut(bss14[\"poll_sample\"], 5)\n",
        "      sns.boxplot(x=\"bins\",\n",
        "                  y=liste_mesures[i][j],\n",
        "                  data=bss14,\n",
        "                  whis=1.5,          \n",
        "                  ax=ax,    \n",
        "                    #  inner=\"quartile\"\n",
        "                  )\n",
        "      ax.set_ylim(0, 1300)\n",
        "      if  liste_mesures[i][j]=='oneshot':\n",
        "        ax.set_ylim(0, 8000)\n",
        "      ax.set_xlabel(\"Taille d'échantillon du sondage\")\n",
        "fig.suptitle(\"Précision en fonction de la taille initiale du sondage\")\n",
        "plt.show()\n",
        "best_sample_size[best_sample_size['poll_sample']==1000].optimal_kl.median()"
      ]
    },
    {
      "cell_type": "code",
      "execution_count": null,
      "metadata": {
        "colab": {
          "base_uri": "https://localhost:8080/",
          "height": 54
        },
        "id": "KthqBWbwHtby",
        "outputId": "7472aee4-b94b-4111-a0bc-5dfd9c62a7b0"
      },
      "outputs": [],
      "source": [
        "rolling_best=bss14.sort_values('poll_sample').rolling(50).median()\n",
        "\n",
        "fig, axes = plt.subplots(nb_lignes,nb_colonnes,figsize=(18,10),dpi=200)\n",
        "for i in range(nb_lignes):\n",
        "  for j in range(nb_colonnes):\n",
        "    if liste_mesures[i][j]!= '':\n",
        "      ax=axes[i,j]\n",
        "      sns.lineplot(x='poll_sample',y=liste_mesures[i][j],data=rolling_best,ax=ax)\n",
        "      ax.set_xlim(1, 6000)\n",
        "      ax.set_ylim(1, 7000)\n",
        "plt.show()"
      ]
    },
    {
      "cell_type": "code",
      "execution_count": null,
      "metadata": {
        "colab": {
          "base_uri": "https://localhost:8080/",
          "height": 475,
          "referenced_widgets": [
            "0fe691de8e1749c599bed4f54e351566",
            "2c7f2ffc8aea44ff9a85d703c30bf12a",
            "d051dad444264eccb5d4a4f35b3ffdb1",
            "dbc5094bdf014affa7cd97ea0cb0828a",
            "bf623eb56539454b85c46c9c9497533c",
            "db738db637194484b46588b4469d3a8f",
            "93d3fb90af464bb592293ff9ac0dda46",
            "8bf62d3f9c5b404ba456718f7450bcf8",
            "4452c60d32a14cf2b14f3970c0908b52",
            "281a9dd46bac4d1d9c2d7e2f89318a14",
            "1efeea6205e349b1a8b87863aafeb986"
          ]
        },
        "id": "tF7wrxKAsC_u",
        "outputId": "ab11aee1-d28d-4829-f30e-b8b3d3aa1331"
      },
      "outputs": [],
      "source": [
        "x=[]\n",
        "y=[]\n",
        "for v in tqdm(best_sample_size['poll_sample'].unique()):\n",
        "\n",
        "  x.append(v)\n",
        "  y.append(best_sample_size[best_sample_size['poll_sample']==v]['optimal_kl'].median())\n",
        "\n",
        "fig, ax = plt.subplots(figsize=(5,5),dpi=100)\n",
        "sns.regplot(x=x,y=y,\n",
        "            ax=ax,\n",
        "            # lowess=True,\n",
        "            line_kws={\"color\": \"red\"})\n",
        "# plt.plot(line,line,'r')\n",
        "ax.set_xlim(1, 6000)\n",
        "ax.set_ylim(1, 6000)\n",
        "plt.show()"
      ]
    },
    {
      "cell_type": "markdown",
      "metadata": {
        "id": "-HRathPK5ag-"
      },
      "source": [
        "## Précision au cours du temps\n"
      ]
    },
    {
      "cell_type": "code",
      "execution_count": null,
      "metadata": {
        "colab": {
          "base_uri": "https://localhost:8080/",
          "height": 54
        },
        "id": "TcQzV0F26wKL",
        "outputId": "66f2c254-1064-405d-8cf3-689c2d252ad3"
      },
      "outputs": [],
      "source": [
        "# fig, ax = plt.subplots(figsize=(5,5),dpi=100)\n",
        "# # g=sns.regplot(x='year',y='random sample',\n",
        "# #               lowess=True,\n",
        "# #               data=bss14,\n",
        "# #               ax=ax,\n",
        "# #               line_kws={\"color\": \"red\"})\n",
        "# ax.set_ylim(1, 5000)\n",
        "# plt.show()\n",
        "fig, axes = plt.subplots(nb_lignes,nb_colonnes,figsize=(18,10),dpi=200)\n",
        "line=list(range(5000))\n",
        "for i in range(nb_lignes):\n",
        "  for j in range(nb_colonnes):\n",
        "    if liste_mesures[i][j]!= '':\n",
        "      ax=axes[i,j]\n",
        "      bss14[\"bins\"]=pd.qcut(bss14[\"year\"], 5)\n",
        "      sns.violinplot(x=\"bins\",\n",
        "                    y=liste_mesures[i][j],\n",
        "                    data=bss14,\n",
        "                    ax=ax,\n",
        "                    #  inner=\"quartile\"\n",
        "                  )\n",
        "      ax.set_ylim(0, 5000)\n",
        "      if liste_mesures[i][j]== 'oneshot':\n",
        "        ax.set_ylim(0, 10000)\n",
        "      ax.set_xlabel(\"Année du sondage\")\n",
        "ax.set_title(\"Précision par rapport à l'année\")\n",
        "plt.show()"
      ]
    },
    {
      "cell_type": "code",
      "execution_count": null,
      "metadata": {
        "colab": {
          "base_uri": "https://localhost:8080/",
          "height": 481
        },
        "id": "JOXPzz-aaLU1",
        "outputId": "e069eb6e-eb1d-4b99-e7a7-24dce91939a6"
      },
      "outputs": [],
      "source": [
        "fig, axes = plt.subplots(nb_lignes,nb_colonnes,figsize=(18,10),dpi=200)\n",
        "for i in range(nb_lignes):\n",
        "  for j in range(nb_colonnes):\n",
        "    if liste_mesures[i][j]!= '':\n",
        "      ax=axes[i,j]\n",
        "      bss14[\"bins\"]=pd.qcut(bss14[\"year\"], 5)\n",
        "      sns.boxplot(x=\"bins\",\n",
        "                    y=liste_mesures[i][j],\n",
        "                    data=bss14,\n",
        "                    ax=ax,\n",
        "                    #  inner=\"quartile\"\n",
        "                  )\n",
        "      ax.set_ylim(0,2000)\n",
        "      if liste_mesures[i][j]== 'oneshot':\n",
        "        ax.set_ylim(0, 10000)\n",
        "      ax.set_xlabel(\"Année du sondage\")\n",
        "ax.set_title(\"Précision par rapport à l'année\")\n",
        "plt.show()"
      ]
    },
    {
      "cell_type": "code",
      "execution_count": null,
      "metadata": {
        "colab": {
          "base_uri": "https://localhost:8080/",
          "height": 54
        },
        "id": "Y3E26rU07Mvh",
        "outputId": "242db2d0-a919-4201-f975-9fa6643d712c"
      },
      "outputs": [],
      "source": [
        "fig, axes = plt.subplots(nb_lignes,nb_colonnes,figsize=(10,10),dpi=100)\n",
        "for i in range(nb_lignes):\n",
        "  for j in range(nb_colonnes):\n",
        "    if liste_mesures[i][j]!= '':\n",
        "      ax=axes[i,j]\n",
        "      g=sns.regplot(x='year',y=liste_mesures[i][j],\n",
        "                  data=best_sample_size[best_sample_size['daysbeforeED']<14],\n",
        "                  ax=ax,\n",
        "                  line_kws={\"color\": \"red\"})\n",
        "      ax.set_ylim(1, 5000)\n",
        "plt.show()"
      ]
    },
    {
      "cell_type": "code",
      "execution_count": null,
      "metadata": {},
      "outputs": [],
      "source": [
        "fig,ax=plt.subplots(figsize=(8,5),dpi=100)\n",
        "\n",
        "bss14[\"bins\"]=pd.qcut(bss14[\"year\"], 5)\n",
        "sns.boxplot(x=\"bins\",\n",
        "              y=\"poll_sample\",\n",
        "              data=bss14,\n",
        "              #  inner=\"quartile\"\n",
        "            )\n",
        "ax.set_ylim(0,4000)\n",
        "ax.set_xlabel(\"Année du sondage\")\n",
        "ax.set_title(\"Précision par rapport à l'année\")\n",
        "plt.show()"
      ]
    },
    {
      "cell_type": "markdown",
      "metadata": {
        "id": "bMfLTMH95fWc"
      },
      "source": [
        "## Précision en fonction de l'écart à la date d'élection"
      ]
    },
    {
      "cell_type": "code",
      "execution_count": null,
      "metadata": {
        "colab": {
          "base_uri": "https://localhost:8080/",
          "height": 54
        },
        "id": "LPCfWVSw7V94",
        "outputId": "75fa6d42-05b8-4971-f88c-5e7f7d48f06c"
      },
      "outputs": [],
      "source": [
        "\n",
        "fig, axes = plt.subplots(nb_lignes*nb_colonnes,1,figsize=(18,10),dpi=200)\n",
        "line=list(range(5000))\n",
        "for i in range(nb_lignes):\n",
        "  for j in range(nb_colonnes):\n",
        "    if liste_mesures[i][j]!= '':\n",
        "      ax=axes[i*2+j]\n",
        "      best_sample_size[\"bins\"]=pd.qcut(best_sample_size[\"daysbeforeED\"], 12)\n",
        "      sns.violinplot(x=\"bins\",\n",
        "                    y=liste_mesures[i][j],\n",
        "                    data=best_sample_size,\n",
        "                    ax=ax,\n",
        "                    #  inner=\"quartile\"\n",
        "                  )\n",
        "      ax.set_ylim(0, 2000)\n",
        "      if liste_mesures[i][j]== 'oneshot':\n",
        "        ax.set_ylim(0, 10000)\n",
        "      ax.set_xlabel(\"Nb jours avant élection\")\n",
        "fig.suptitle(\"Précision en fonction du nombre de jours avant l'élection\")\n",
        "plt.show()"
      ]
    },
    {
      "cell_type": "code",
      "execution_count": null,
      "metadata": {
        "colab": {
          "base_uri": "https://localhost:8080/",
          "height": 54
        },
        "id": "c-jV5uPharSU",
        "outputId": "14a89637-90e6-4c2e-d7e0-66197c6db2e6"
      },
      "outputs": [],
      "source": [
        "fig, axes = plt.subplots(nb_lignes*nb_colonnes,1,figsize=(18,10),dpi=200)\n",
        "line=list(range(5000))\n",
        "for i in range(nb_lignes):\n",
        "  for j in range(nb_colonnes):\n",
        "    if liste_mesures[i][j]!= '':\n",
        "      ax=axes[i*2+j]\n",
        "      best_sample_size[\"bins\"]=pd.qcut(best_sample_size[\"daysbeforeED\"], 12)\n",
        "      sns.boxplot(x=\"bins\",\n",
        "                    y=liste_mesures[i][j],\n",
        "                    data=best_sample_size,\n",
        "                    ax=ax,\n",
        "                    #  inner=\"quartile\"\n",
        "                  )\n",
        "      ax.set_ylim(0, 1000)\n",
        "      if liste_mesures[i][j]== 'oneshot':\n",
        "        ax.set_ylim(0, 10000)\n",
        "      ax.set_xlabel(\"Nb jours avant élection\")\n",
        "fig.suptitle(\"Précision en fonction du nombre de jours avant l'élection\")\n",
        "plt.show()"
      ]
    },
    {
      "cell_type": "markdown",
      "metadata": {
        "id": "qGamLa9PCCGt"
      },
      "source": [
        "## Précision en fonction du nombre de partis présentés\n"
      ]
    },
    {
      "cell_type": "code",
      "execution_count": null,
      "metadata": {
        "colab": {
          "base_uri": "https://localhost:8080/",
          "height": 54
        },
        "id": "kS2d6KDdCLOP",
        "outputId": "844c065d-e6c5-4f37-9a1a-8bc88ea10a53"
      },
      "outputs": [],
      "source": [
        "fig, axes = plt.subplots(nb_lignes,nb_colonnes,figsize=(18,10),dpi=200)\n",
        "line=list(range(5000))\n",
        "for i in range(nb_lignes):\n",
        "  for j in range(nb_colonnes):\n",
        "    if liste_mesures[i][j]!= '':\n",
        "      ax=axes[i,j]\n",
        "  # bss14[\"bins\"]=pd.qcut(bss14[\"nb_candidates\"])\n",
        "      sns.boxplot(x=\"nb_candidates\",\n",
        "                    y=liste_mesures[i][j],\n",
        "                    data=bss14,\n",
        "                    ax=ax,\n",
        "                    #  inner=\"quartile\"\n",
        "                  )\n",
        "      ax.set_ylim(0, 3500)\n",
        "      if liste_mesures[i][j]== 'oneshot':\n",
        "        ax.set_ylim(0, 10000)\n",
        "      ax.set_xlabel(\"Nombre de partis présentés\")\n",
        "fig.suptitle(\"Précision en fonction du nombre de partis concurrents\")\n",
        "plt.show()"
      ]
    },
    {
      "cell_type": "markdown",
      "metadata": {
        "id": "J4gd4FXBQv3Q"
      },
      "source": [
        "## Comparaison avec un tirage aléatoire unique"
      ]
    },
    {
      "cell_type": "code",
      "execution_count": null,
      "metadata": {
        "id": "teqgS2sklsni"
      },
      "outputs": [],
      "source": [
        "\n",
        "\n",
        "def optimal_size_one_shot(df:pd.DataFrame,n_samples:int=1000,measure=kl_div)->int:\n",
        "  sample_size=int(df[\"sample\"].iloc[0])\n",
        "  lb=1\n",
        "  ub=sample_size\n",
        "  y_hat=random_sample_measure(df,poll_size=ub,n_samples=n_samples,measure=measure)\n",
        "  y=random_sample_measure(df,poll_size=ub,n_samples=1,measure=measure)\n",
        "  while y-y_hat<-1e-5 and ub<16*sample_size:\n",
        "    lb=ub\n",
        "    ub=ub*2\n",
        "    y_hat=random_sample_measure(df,poll_size=ub,n_samples=n_samples,measure=measure)\n",
        "  if y-y_hat>0:\n",
        "    while ub!=lb and ub!=lb+1:\n",
        "      n=int((ub+lb)/2)\n",
        "      y_hat=random_sample_measure(df,poll_size=n,n_samples=n_samples,measure=measure)\n",
        "      r=y-y_hat\n",
        "      if r>=0:\n",
        "        ub=n\n",
        "      else:\n",
        "        lb=n\n",
        "  return ub"
      ]
    },
    {
      "cell_type": "code",
      "execution_count": null,
      "metadata": {
        "colab": {
          "base_uri": "https://localhost:8080/",
          "height": 679
        },
        "id": "k-addFnZJ9e0",
        "outputId": "31d529e6-e1fd-4dcd-e0e5-fb3ff629ab03"
      },
      "outputs": [],
      "source": [
        "# samples_sizes=[]\n",
        "# for i in tqdm(df.idpoll.unique()):\n",
        "#   poll_df=df[df.idpoll==i]\n",
        "#   year=poll_df.yr.iloc[0]\n",
        "#   country=poll_df.country.iloc[0]\n",
        "#   election=poll_df.election.iloc[0]\n",
        "#   system=poll_df.system.iloc[0]\n",
        "#   daysbeforeED=poll_df.daysbeforeED.iloc[0]\n",
        "#   nb_candidates=len(poll_df)\n",
        "#   if poll_df.vote_.sum()<100:\n",
        "#     nb_candidates+=1\n",
        "#   n=int(poll_df[\"sample\"].iloc[0])\n",
        "\n",
        "#   oneshot=optimal_size_one_shot(poll_df)\n",
        "\n",
        "#   samples_sizes.append((i,n,oneshot,\n",
        "#                         year,country,election,system,\n",
        "#                         daysbeforeED,nb_candidates))\n"
      ]
    }
  ],
  "metadata": {
    "colab": {
      "collapsed_sections": [],
      "name": "error_plot.ipynb",
      "provenance": []
    },
    "kernelspec": {
      "display_name": "Python 3",
      "name": "python3"
    },
    "language_info": {
      "codemirror_mode": {
        "name": "ipython",
        "version": 3
      },
      "file_extension": ".py",
      "mimetype": "text/x-python",
      "name": "python",
      "nbconvert_exporter": "python",
      "pygments_lexer": "ipython3",
      "version": "3.11.3"
    },
    "widgets": {
      "application/vnd.jupyter.widget-state+json": {
        "0fe691de8e1749c599bed4f54e351566": {
          "model_module": "@jupyter-widgets/controls",
          "model_module_version": "1.5.0",
          "model_name": "HBoxModel",
          "state": {
            "_dom_classes": [],
            "_model_module": "@jupyter-widgets/controls",
            "_model_module_version": "1.5.0",
            "_model_name": "HBoxModel",
            "_view_count": null,
            "_view_module": "@jupyter-widgets/controls",
            "_view_module_version": "1.5.0",
            "_view_name": "HBoxView",
            "box_style": "",
            "children": [
              "IPY_MODEL_d051dad444264eccb5d4a4f35b3ffdb1",
              "IPY_MODEL_dbc5094bdf014affa7cd97ea0cb0828a",
              "IPY_MODEL_bf623eb56539454b85c46c9c9497533c"
            ],
            "layout": "IPY_MODEL_2c7f2ffc8aea44ff9a85d703c30bf12a"
          }
        },
        "16c4c6555687423985d13854e2ccc645": {
          "model_module": "@jupyter-widgets/base",
          "model_module_version": "1.2.0",
          "model_name": "LayoutModel",
          "state": {
            "_model_module": "@jupyter-widgets/base",
            "_model_module_version": "1.2.0",
            "_model_name": "LayoutModel",
            "_view_count": null,
            "_view_module": "@jupyter-widgets/base",
            "_view_module_version": "1.2.0",
            "_view_name": "LayoutView",
            "align_content": null,
            "align_items": null,
            "align_self": null,
            "border": null,
            "bottom": null,
            "display": null,
            "flex": null,
            "flex_flow": null,
            "grid_area": null,
            "grid_auto_columns": null,
            "grid_auto_flow": null,
            "grid_auto_rows": null,
            "grid_column": null,
            "grid_gap": null,
            "grid_row": null,
            "grid_template_areas": null,
            "grid_template_columns": null,
            "grid_template_rows": null,
            "height": null,
            "justify_content": null,
            "justify_items": null,
            "left": null,
            "margin": null,
            "max_height": null,
            "max_width": null,
            "min_height": null,
            "min_width": null,
            "object_fit": null,
            "object_position": null,
            "order": null,
            "overflow": null,
            "overflow_x": null,
            "overflow_y": null,
            "padding": null,
            "right": null,
            "top": null,
            "visibility": null,
            "width": null
          }
        },
        "189ba030755c4db38ddc5e4d6c1dcd90": {
          "model_module": "@jupyter-widgets/controls",
          "model_module_version": "1.5.0",
          "model_name": "DescriptionStyleModel",
          "state": {
            "_model_module": "@jupyter-widgets/controls",
            "_model_module_version": "1.5.0",
            "_model_name": "DescriptionStyleModel",
            "_view_count": null,
            "_view_module": "@jupyter-widgets/base",
            "_view_module_version": "1.2.0",
            "_view_name": "StyleView",
            "description_width": ""
          }
        },
        "1efeea6205e349b1a8b87863aafeb986": {
          "model_module": "@jupyter-widgets/base",
          "model_module_version": "1.2.0",
          "model_name": "LayoutModel",
          "state": {
            "_model_module": "@jupyter-widgets/base",
            "_model_module_version": "1.2.0",
            "_model_name": "LayoutModel",
            "_view_count": null,
            "_view_module": "@jupyter-widgets/base",
            "_view_module_version": "1.2.0",
            "_view_name": "LayoutView",
            "align_content": null,
            "align_items": null,
            "align_self": null,
            "border": null,
            "bottom": null,
            "display": null,
            "flex": null,
            "flex_flow": null,
            "grid_area": null,
            "grid_auto_columns": null,
            "grid_auto_flow": null,
            "grid_auto_rows": null,
            "grid_column": null,
            "grid_gap": null,
            "grid_row": null,
            "grid_template_areas": null,
            "grid_template_columns": null,
            "grid_template_rows": null,
            "height": null,
            "justify_content": null,
            "justify_items": null,
            "left": null,
            "margin": null,
            "max_height": null,
            "max_width": null,
            "min_height": null,
            "min_width": null,
            "object_fit": null,
            "object_position": null,
            "order": null,
            "overflow": null,
            "overflow_x": null,
            "overflow_y": null,
            "padding": null,
            "right": null,
            "top": null,
            "visibility": null,
            "width": null
          }
        },
        "281a9dd46bac4d1d9c2d7e2f89318a14": {
          "model_module": "@jupyter-widgets/controls",
          "model_module_version": "1.5.0",
          "model_name": "DescriptionStyleModel",
          "state": {
            "_model_module": "@jupyter-widgets/controls",
            "_model_module_version": "1.5.0",
            "_model_name": "DescriptionStyleModel",
            "_view_count": null,
            "_view_module": "@jupyter-widgets/base",
            "_view_module_version": "1.2.0",
            "_view_name": "StyleView",
            "description_width": ""
          }
        },
        "282770803dc545778a8a6e3213b51cd9": {
          "model_module": "@jupyter-widgets/controls",
          "model_module_version": "1.5.0",
          "model_name": "HTMLModel",
          "state": {
            "_dom_classes": [],
            "_model_module": "@jupyter-widgets/controls",
            "_model_module_version": "1.5.0",
            "_model_name": "HTMLModel",
            "_view_count": null,
            "_view_module": "@jupyter-widgets/controls",
            "_view_module_version": "1.5.0",
            "_view_name": "HTMLView",
            "description": "",
            "description_tooltip": null,
            "layout": "IPY_MODEL_58bdcedca1444974b5c8faa40af22da2",
            "placeholder": "​",
            "style": "IPY_MODEL_189ba030755c4db38ddc5e4d6c1dcd90",
            "value": " 23931/23931 [32:38&lt;00:00, 12.30it/s]"
          }
        },
        "2bb50b09f2a8413abdcba354bede2961": {
          "model_module": "@jupyter-widgets/base",
          "model_module_version": "1.2.0",
          "model_name": "LayoutModel",
          "state": {
            "_model_module": "@jupyter-widgets/base",
            "_model_module_version": "1.2.0",
            "_model_name": "LayoutModel",
            "_view_count": null,
            "_view_module": "@jupyter-widgets/base",
            "_view_module_version": "1.2.0",
            "_view_name": "LayoutView",
            "align_content": null,
            "align_items": null,
            "align_self": null,
            "border": null,
            "bottom": null,
            "display": null,
            "flex": null,
            "flex_flow": null,
            "grid_area": null,
            "grid_auto_columns": null,
            "grid_auto_flow": null,
            "grid_auto_rows": null,
            "grid_column": null,
            "grid_gap": null,
            "grid_row": null,
            "grid_template_areas": null,
            "grid_template_columns": null,
            "grid_template_rows": null,
            "height": null,
            "justify_content": null,
            "justify_items": null,
            "left": null,
            "margin": null,
            "max_height": null,
            "max_width": null,
            "min_height": null,
            "min_width": null,
            "object_fit": null,
            "object_position": null,
            "order": null,
            "overflow": null,
            "overflow_x": null,
            "overflow_y": null,
            "padding": null,
            "right": null,
            "top": null,
            "visibility": null,
            "width": null
          }
        },
        "2c7f2ffc8aea44ff9a85d703c30bf12a": {
          "model_module": "@jupyter-widgets/base",
          "model_module_version": "1.2.0",
          "model_name": "LayoutModel",
          "state": {
            "_model_module": "@jupyter-widgets/base",
            "_model_module_version": "1.2.0",
            "_model_name": "LayoutModel",
            "_view_count": null,
            "_view_module": "@jupyter-widgets/base",
            "_view_module_version": "1.2.0",
            "_view_name": "LayoutView",
            "align_content": null,
            "align_items": null,
            "align_self": null,
            "border": null,
            "bottom": null,
            "display": null,
            "flex": null,
            "flex_flow": null,
            "grid_area": null,
            "grid_auto_columns": null,
            "grid_auto_flow": null,
            "grid_auto_rows": null,
            "grid_column": null,
            "grid_gap": null,
            "grid_row": null,
            "grid_template_areas": null,
            "grid_template_columns": null,
            "grid_template_rows": null,
            "height": null,
            "justify_content": null,
            "justify_items": null,
            "left": null,
            "margin": null,
            "max_height": null,
            "max_width": null,
            "min_height": null,
            "min_width": null,
            "object_fit": null,
            "object_position": null,
            "order": null,
            "overflow": null,
            "overflow_x": null,
            "overflow_y": null,
            "padding": null,
            "right": null,
            "top": null,
            "visibility": null,
            "width": null
          }
        },
        "38ca6d1470c04ec39f55edf390b0f63d": {
          "model_module": "@jupyter-widgets/controls",
          "model_module_version": "1.5.0",
          "model_name": "FloatProgressModel",
          "state": {
            "_dom_classes": [],
            "_model_module": "@jupyter-widgets/controls",
            "_model_module_version": "1.5.0",
            "_model_name": "FloatProgressModel",
            "_view_count": null,
            "_view_module": "@jupyter-widgets/controls",
            "_view_module_version": "1.5.0",
            "_view_name": "ProgressView",
            "bar_style": "",
            "description": "",
            "description_tooltip": null,
            "layout": "IPY_MODEL_dc158febaba34d839ca351f1093c4139",
            "max": 23442,
            "min": 0,
            "orientation": "horizontal",
            "style": "IPY_MODEL_a31742b5a2604a80a00cf25f6e0c32a1",
            "value": 16018
          }
        },
        "41f2de6a66f64e8bb2aa0992b2942c67": {
          "model_module": "@jupyter-widgets/controls",
          "model_module_version": "1.5.0",
          "model_name": "FloatProgressModel",
          "state": {
            "_dom_classes": [],
            "_model_module": "@jupyter-widgets/controls",
            "_model_module_version": "1.5.0",
            "_model_name": "FloatProgressModel",
            "_view_count": null,
            "_view_module": "@jupyter-widgets/controls",
            "_view_module_version": "1.5.0",
            "_view_name": "ProgressView",
            "bar_style": "success",
            "description": "",
            "description_tooltip": null,
            "layout": "IPY_MODEL_679f3db5274b44f894e63d6e69368e2d",
            "max": 23931,
            "min": 0,
            "orientation": "horizontal",
            "style": "IPY_MODEL_a6706efc88c54e0d9f2c13b5524c69ea",
            "value": 23931
          }
        },
        "4452c60d32a14cf2b14f3970c0908b52": {
          "model_module": "@jupyter-widgets/base",
          "model_module_version": "1.2.0",
          "model_name": "LayoutModel",
          "state": {
            "_model_module": "@jupyter-widgets/base",
            "_model_module_version": "1.2.0",
            "_model_name": "LayoutModel",
            "_view_count": null,
            "_view_module": "@jupyter-widgets/base",
            "_view_module_version": "1.2.0",
            "_view_name": "LayoutView",
            "align_content": null,
            "align_items": null,
            "align_self": null,
            "border": null,
            "bottom": null,
            "display": null,
            "flex": null,
            "flex_flow": null,
            "grid_area": null,
            "grid_auto_columns": null,
            "grid_auto_flow": null,
            "grid_auto_rows": null,
            "grid_column": null,
            "grid_gap": null,
            "grid_row": null,
            "grid_template_areas": null,
            "grid_template_columns": null,
            "grid_template_rows": null,
            "height": null,
            "justify_content": null,
            "justify_items": null,
            "left": null,
            "margin": null,
            "max_height": null,
            "max_width": null,
            "min_height": null,
            "min_width": null,
            "object_fit": null,
            "object_position": null,
            "order": null,
            "overflow": null,
            "overflow_x": null,
            "overflow_y": null,
            "padding": null,
            "right": null,
            "top": null,
            "visibility": null,
            "width": null
          }
        },
        "4ea21e70240f44b7b6d857c52fdf2183": {
          "model_module": "@jupyter-widgets/controls",
          "model_module_version": "1.5.0",
          "model_name": "HBoxModel",
          "state": {
            "_dom_classes": [],
            "_model_module": "@jupyter-widgets/controls",
            "_model_module_version": "1.5.0",
            "_model_name": "HBoxModel",
            "_view_count": null,
            "_view_module": "@jupyter-widgets/controls",
            "_view_module_version": "1.5.0",
            "_view_name": "HBoxView",
            "box_style": "",
            "children": [
              "IPY_MODEL_a124852e9eaf42d5ba48c893a4cdcfba",
              "IPY_MODEL_41f2de6a66f64e8bb2aa0992b2942c67",
              "IPY_MODEL_282770803dc545778a8a6e3213b51cd9"
            ],
            "layout": "IPY_MODEL_b1f417a61ec34881a1ff289275a69671"
          }
        },
        "58bdcedca1444974b5c8faa40af22da2": {
          "model_module": "@jupyter-widgets/base",
          "model_module_version": "1.2.0",
          "model_name": "LayoutModel",
          "state": {
            "_model_module": "@jupyter-widgets/base",
            "_model_module_version": "1.2.0",
            "_model_name": "LayoutModel",
            "_view_count": null,
            "_view_module": "@jupyter-widgets/base",
            "_view_module_version": "1.2.0",
            "_view_name": "LayoutView",
            "align_content": null,
            "align_items": null,
            "align_self": null,
            "border": null,
            "bottom": null,
            "display": null,
            "flex": null,
            "flex_flow": null,
            "grid_area": null,
            "grid_auto_columns": null,
            "grid_auto_flow": null,
            "grid_auto_rows": null,
            "grid_column": null,
            "grid_gap": null,
            "grid_row": null,
            "grid_template_areas": null,
            "grid_template_columns": null,
            "grid_template_rows": null,
            "height": null,
            "justify_content": null,
            "justify_items": null,
            "left": null,
            "margin": null,
            "max_height": null,
            "max_width": null,
            "min_height": null,
            "min_width": null,
            "object_fit": null,
            "object_position": null,
            "order": null,
            "overflow": null,
            "overflow_x": null,
            "overflow_y": null,
            "padding": null,
            "right": null,
            "top": null,
            "visibility": null,
            "width": null
          }
        },
        "58c1a0815327469c8384f67afb3ef91d": {
          "model_module": "@jupyter-widgets/controls",
          "model_module_version": "1.5.0",
          "model_name": "HBoxModel",
          "state": {
            "_dom_classes": [],
            "_model_module": "@jupyter-widgets/controls",
            "_model_module_version": "1.5.0",
            "_model_name": "HBoxModel",
            "_view_count": null,
            "_view_module": "@jupyter-widgets/controls",
            "_view_module_version": "1.5.0",
            "_view_name": "HBoxView",
            "box_style": "",
            "children": [
              "IPY_MODEL_f2d4b5b525eb4e48823273189f2fca0c",
              "IPY_MODEL_38ca6d1470c04ec39f55edf390b0f63d",
              "IPY_MODEL_d347f928bb574be59292c1228ab22479"
            ],
            "layout": "IPY_MODEL_ea1bb2698b4d42289d296e124a361e1f"
          }
        },
        "5c3d08e015654a6d9548571204daf056": {
          "model_module": "@jupyter-widgets/base",
          "model_module_version": "1.2.0",
          "model_name": "LayoutModel",
          "state": {
            "_model_module": "@jupyter-widgets/base",
            "_model_module_version": "1.2.0",
            "_model_name": "LayoutModel",
            "_view_count": null,
            "_view_module": "@jupyter-widgets/base",
            "_view_module_version": "1.2.0",
            "_view_name": "LayoutView",
            "align_content": null,
            "align_items": null,
            "align_self": null,
            "border": null,
            "bottom": null,
            "display": null,
            "flex": null,
            "flex_flow": null,
            "grid_area": null,
            "grid_auto_columns": null,
            "grid_auto_flow": null,
            "grid_auto_rows": null,
            "grid_column": null,
            "grid_gap": null,
            "grid_row": null,
            "grid_template_areas": null,
            "grid_template_columns": null,
            "grid_template_rows": null,
            "height": null,
            "justify_content": null,
            "justify_items": null,
            "left": null,
            "margin": null,
            "max_height": null,
            "max_width": null,
            "min_height": null,
            "min_width": null,
            "object_fit": null,
            "object_position": null,
            "order": null,
            "overflow": null,
            "overflow_x": null,
            "overflow_y": null,
            "padding": null,
            "right": null,
            "top": null,
            "visibility": null,
            "width": null
          }
        },
        "667b6d3c13344cdd9e0f3c4c6f29c052": {
          "model_module": "@jupyter-widgets/controls",
          "model_module_version": "1.5.0",
          "model_name": "DescriptionStyleModel",
          "state": {
            "_model_module": "@jupyter-widgets/controls",
            "_model_module_version": "1.5.0",
            "_model_name": "DescriptionStyleModel",
            "_view_count": null,
            "_view_module": "@jupyter-widgets/base",
            "_view_module_version": "1.2.0",
            "_view_name": "StyleView",
            "description_width": ""
          }
        },
        "679f3db5274b44f894e63d6e69368e2d": {
          "model_module": "@jupyter-widgets/base",
          "model_module_version": "1.2.0",
          "model_name": "LayoutModel",
          "state": {
            "_model_module": "@jupyter-widgets/base",
            "_model_module_version": "1.2.0",
            "_model_name": "LayoutModel",
            "_view_count": null,
            "_view_module": "@jupyter-widgets/base",
            "_view_module_version": "1.2.0",
            "_view_name": "LayoutView",
            "align_content": null,
            "align_items": null,
            "align_self": null,
            "border": null,
            "bottom": null,
            "display": null,
            "flex": null,
            "flex_flow": null,
            "grid_area": null,
            "grid_auto_columns": null,
            "grid_auto_flow": null,
            "grid_auto_rows": null,
            "grid_column": null,
            "grid_gap": null,
            "grid_row": null,
            "grid_template_areas": null,
            "grid_template_columns": null,
            "grid_template_rows": null,
            "height": null,
            "justify_content": null,
            "justify_items": null,
            "left": null,
            "margin": null,
            "max_height": null,
            "max_width": null,
            "min_height": null,
            "min_width": null,
            "object_fit": null,
            "object_position": null,
            "order": null,
            "overflow": null,
            "overflow_x": null,
            "overflow_y": null,
            "padding": null,
            "right": null,
            "top": null,
            "visibility": null,
            "width": null
          }
        },
        "8bf62d3f9c5b404ba456718f7450bcf8": {
          "model_module": "@jupyter-widgets/controls",
          "model_module_version": "1.5.0",
          "model_name": "ProgressStyleModel",
          "state": {
            "_model_module": "@jupyter-widgets/controls",
            "_model_module_version": "1.5.0",
            "_model_name": "ProgressStyleModel",
            "_view_count": null,
            "_view_module": "@jupyter-widgets/base",
            "_view_module_version": "1.2.0",
            "_view_name": "StyleView",
            "bar_color": null,
            "description_width": ""
          }
        },
        "93d3fb90af464bb592293ff9ac0dda46": {
          "model_module": "@jupyter-widgets/base",
          "model_module_version": "1.2.0",
          "model_name": "LayoutModel",
          "state": {
            "_model_module": "@jupyter-widgets/base",
            "_model_module_version": "1.2.0",
            "_model_name": "LayoutModel",
            "_view_count": null,
            "_view_module": "@jupyter-widgets/base",
            "_view_module_version": "1.2.0",
            "_view_name": "LayoutView",
            "align_content": null,
            "align_items": null,
            "align_self": null,
            "border": null,
            "bottom": null,
            "display": null,
            "flex": null,
            "flex_flow": null,
            "grid_area": null,
            "grid_auto_columns": null,
            "grid_auto_flow": null,
            "grid_auto_rows": null,
            "grid_column": null,
            "grid_gap": null,
            "grid_row": null,
            "grid_template_areas": null,
            "grid_template_columns": null,
            "grid_template_rows": null,
            "height": null,
            "justify_content": null,
            "justify_items": null,
            "left": null,
            "margin": null,
            "max_height": null,
            "max_width": null,
            "min_height": null,
            "min_width": null,
            "object_fit": null,
            "object_position": null,
            "order": null,
            "overflow": null,
            "overflow_x": null,
            "overflow_y": null,
            "padding": null,
            "right": null,
            "top": null,
            "visibility": null,
            "width": null
          }
        },
        "a124852e9eaf42d5ba48c893a4cdcfba": {
          "model_module": "@jupyter-widgets/controls",
          "model_module_version": "1.5.0",
          "model_name": "HTMLModel",
          "state": {
            "_dom_classes": [],
            "_model_module": "@jupyter-widgets/controls",
            "_model_module_version": "1.5.0",
            "_model_name": "HTMLModel",
            "_view_count": null,
            "_view_module": "@jupyter-widgets/controls",
            "_view_module_version": "1.5.0",
            "_view_name": "HTMLView",
            "description": "",
            "description_tooltip": null,
            "layout": "IPY_MODEL_2bb50b09f2a8413abdcba354bede2961",
            "placeholder": "​",
            "style": "IPY_MODEL_a581cfe9ceb24ae585e188f9c3905483",
            "value": "100%"
          }
        },
        "a31742b5a2604a80a00cf25f6e0c32a1": {
          "model_module": "@jupyter-widgets/controls",
          "model_module_version": "1.5.0",
          "model_name": "ProgressStyleModel",
          "state": {
            "_model_module": "@jupyter-widgets/controls",
            "_model_module_version": "1.5.0",
            "_model_name": "ProgressStyleModel",
            "_view_count": null,
            "_view_module": "@jupyter-widgets/base",
            "_view_module_version": "1.2.0",
            "_view_name": "StyleView",
            "bar_color": null,
            "description_width": ""
          }
        },
        "a581cfe9ceb24ae585e188f9c3905483": {
          "model_module": "@jupyter-widgets/controls",
          "model_module_version": "1.5.0",
          "model_name": "DescriptionStyleModel",
          "state": {
            "_model_module": "@jupyter-widgets/controls",
            "_model_module_version": "1.5.0",
            "_model_name": "DescriptionStyleModel",
            "_view_count": null,
            "_view_module": "@jupyter-widgets/base",
            "_view_module_version": "1.2.0",
            "_view_name": "StyleView",
            "description_width": ""
          }
        },
        "a6706efc88c54e0d9f2c13b5524c69ea": {
          "model_module": "@jupyter-widgets/controls",
          "model_module_version": "1.5.0",
          "model_name": "ProgressStyleModel",
          "state": {
            "_model_module": "@jupyter-widgets/controls",
            "_model_module_version": "1.5.0",
            "_model_name": "ProgressStyleModel",
            "_view_count": null,
            "_view_module": "@jupyter-widgets/base",
            "_view_module_version": "1.2.0",
            "_view_name": "StyleView",
            "bar_color": null,
            "description_width": ""
          }
        },
        "b1f417a61ec34881a1ff289275a69671": {
          "model_module": "@jupyter-widgets/base",
          "model_module_version": "1.2.0",
          "model_name": "LayoutModel",
          "state": {
            "_model_module": "@jupyter-widgets/base",
            "_model_module_version": "1.2.0",
            "_model_name": "LayoutModel",
            "_view_count": null,
            "_view_module": "@jupyter-widgets/base",
            "_view_module_version": "1.2.0",
            "_view_name": "LayoutView",
            "align_content": null,
            "align_items": null,
            "align_self": null,
            "border": null,
            "bottom": null,
            "display": null,
            "flex": null,
            "flex_flow": null,
            "grid_area": null,
            "grid_auto_columns": null,
            "grid_auto_flow": null,
            "grid_auto_rows": null,
            "grid_column": null,
            "grid_gap": null,
            "grid_row": null,
            "grid_template_areas": null,
            "grid_template_columns": null,
            "grid_template_rows": null,
            "height": null,
            "justify_content": null,
            "justify_items": null,
            "left": null,
            "margin": null,
            "max_height": null,
            "max_width": null,
            "min_height": null,
            "min_width": null,
            "object_fit": null,
            "object_position": null,
            "order": null,
            "overflow": null,
            "overflow_x": null,
            "overflow_y": null,
            "padding": null,
            "right": null,
            "top": null,
            "visibility": null,
            "width": null
          }
        },
        "bf623eb56539454b85c46c9c9497533c": {
          "model_module": "@jupyter-widgets/controls",
          "model_module_version": "1.5.0",
          "model_name": "HTMLModel",
          "state": {
            "_dom_classes": [],
            "_model_module": "@jupyter-widgets/controls",
            "_model_module_version": "1.5.0",
            "_model_name": "HTMLModel",
            "_view_count": null,
            "_view_module": "@jupyter-widgets/controls",
            "_view_module_version": "1.5.0",
            "_view_name": "HTMLView",
            "description": "",
            "description_tooltip": null,
            "layout": "IPY_MODEL_1efeea6205e349b1a8b87863aafeb986",
            "placeholder": "​",
            "style": "IPY_MODEL_281a9dd46bac4d1d9c2d7e2f89318a14",
            "value": " 3307/3307 [00:03&lt;00:00, 1042.91it/s]"
          }
        },
        "d051dad444264eccb5d4a4f35b3ffdb1": {
          "model_module": "@jupyter-widgets/controls",
          "model_module_version": "1.5.0",
          "model_name": "HTMLModel",
          "state": {
            "_dom_classes": [],
            "_model_module": "@jupyter-widgets/controls",
            "_model_module_version": "1.5.0",
            "_model_name": "HTMLModel",
            "_view_count": null,
            "_view_module": "@jupyter-widgets/controls",
            "_view_module_version": "1.5.0",
            "_view_name": "HTMLView",
            "description": "",
            "description_tooltip": null,
            "layout": "IPY_MODEL_93d3fb90af464bb592293ff9ac0dda46",
            "placeholder": "​",
            "style": "IPY_MODEL_db738db637194484b46588b4469d3a8f",
            "value": "100%"
          }
        },
        "d24d9a63a73340d08ed29eb1abbefcf4": {
          "model_module": "@jupyter-widgets/controls",
          "model_module_version": "1.5.0",
          "model_name": "DescriptionStyleModel",
          "state": {
            "_model_module": "@jupyter-widgets/controls",
            "_model_module_version": "1.5.0",
            "_model_name": "DescriptionStyleModel",
            "_view_count": null,
            "_view_module": "@jupyter-widgets/base",
            "_view_module_version": "1.2.0",
            "_view_name": "StyleView",
            "description_width": ""
          }
        },
        "d347f928bb574be59292c1228ab22479": {
          "model_module": "@jupyter-widgets/controls",
          "model_module_version": "1.5.0",
          "model_name": "HTMLModel",
          "state": {
            "_dom_classes": [],
            "_model_module": "@jupyter-widgets/controls",
            "_model_module_version": "1.5.0",
            "_model_name": "HTMLModel",
            "_view_count": null,
            "_view_module": "@jupyter-widgets/controls",
            "_view_module_version": "1.5.0",
            "_view_name": "HTMLView",
            "description": "",
            "description_tooltip": null,
            "layout": "IPY_MODEL_16c4c6555687423985d13854e2ccc645",
            "placeholder": "​",
            "style": "IPY_MODEL_667b6d3c13344cdd9e0f3c4c6f29c052",
            "value": " 16018/23442 [5:45:28&lt;6:03:35,  2.94s/it]"
          }
        },
        "db738db637194484b46588b4469d3a8f": {
          "model_module": "@jupyter-widgets/controls",
          "model_module_version": "1.5.0",
          "model_name": "DescriptionStyleModel",
          "state": {
            "_model_module": "@jupyter-widgets/controls",
            "_model_module_version": "1.5.0",
            "_model_name": "DescriptionStyleModel",
            "_view_count": null,
            "_view_module": "@jupyter-widgets/base",
            "_view_module_version": "1.2.0",
            "_view_name": "StyleView",
            "description_width": ""
          }
        },
        "dbc5094bdf014affa7cd97ea0cb0828a": {
          "model_module": "@jupyter-widgets/controls",
          "model_module_version": "1.5.0",
          "model_name": "FloatProgressModel",
          "state": {
            "_dom_classes": [],
            "_model_module": "@jupyter-widgets/controls",
            "_model_module_version": "1.5.0",
            "_model_name": "FloatProgressModel",
            "_view_count": null,
            "_view_module": "@jupyter-widgets/controls",
            "_view_module_version": "1.5.0",
            "_view_name": "ProgressView",
            "bar_style": "success",
            "description": "",
            "description_tooltip": null,
            "layout": "IPY_MODEL_4452c60d32a14cf2b14f3970c0908b52",
            "max": 3307,
            "min": 0,
            "orientation": "horizontal",
            "style": "IPY_MODEL_8bf62d3f9c5b404ba456718f7450bcf8",
            "value": 3307
          }
        },
        "dc158febaba34d839ca351f1093c4139": {
          "model_module": "@jupyter-widgets/base",
          "model_module_version": "1.2.0",
          "model_name": "LayoutModel",
          "state": {
            "_model_module": "@jupyter-widgets/base",
            "_model_module_version": "1.2.0",
            "_model_name": "LayoutModel",
            "_view_count": null,
            "_view_module": "@jupyter-widgets/base",
            "_view_module_version": "1.2.0",
            "_view_name": "LayoutView",
            "align_content": null,
            "align_items": null,
            "align_self": null,
            "border": null,
            "bottom": null,
            "display": null,
            "flex": null,
            "flex_flow": null,
            "grid_area": null,
            "grid_auto_columns": null,
            "grid_auto_flow": null,
            "grid_auto_rows": null,
            "grid_column": null,
            "grid_gap": null,
            "grid_row": null,
            "grid_template_areas": null,
            "grid_template_columns": null,
            "grid_template_rows": null,
            "height": null,
            "justify_content": null,
            "justify_items": null,
            "left": null,
            "margin": null,
            "max_height": null,
            "max_width": null,
            "min_height": null,
            "min_width": null,
            "object_fit": null,
            "object_position": null,
            "order": null,
            "overflow": null,
            "overflow_x": null,
            "overflow_y": null,
            "padding": null,
            "right": null,
            "top": null,
            "visibility": null,
            "width": null
          }
        },
        "ea1bb2698b4d42289d296e124a361e1f": {
          "model_module": "@jupyter-widgets/base",
          "model_module_version": "1.2.0",
          "model_name": "LayoutModel",
          "state": {
            "_model_module": "@jupyter-widgets/base",
            "_model_module_version": "1.2.0",
            "_model_name": "LayoutModel",
            "_view_count": null,
            "_view_module": "@jupyter-widgets/base",
            "_view_module_version": "1.2.0",
            "_view_name": "LayoutView",
            "align_content": null,
            "align_items": null,
            "align_self": null,
            "border": null,
            "bottom": null,
            "display": null,
            "flex": null,
            "flex_flow": null,
            "grid_area": null,
            "grid_auto_columns": null,
            "grid_auto_flow": null,
            "grid_auto_rows": null,
            "grid_column": null,
            "grid_gap": null,
            "grid_row": null,
            "grid_template_areas": null,
            "grid_template_columns": null,
            "grid_template_rows": null,
            "height": null,
            "justify_content": null,
            "justify_items": null,
            "left": null,
            "margin": null,
            "max_height": null,
            "max_width": null,
            "min_height": null,
            "min_width": null,
            "object_fit": null,
            "object_position": null,
            "order": null,
            "overflow": null,
            "overflow_x": null,
            "overflow_y": null,
            "padding": null,
            "right": null,
            "top": null,
            "visibility": null,
            "width": null
          }
        },
        "f2d4b5b525eb4e48823273189f2fca0c": {
          "model_module": "@jupyter-widgets/controls",
          "model_module_version": "1.5.0",
          "model_name": "HTMLModel",
          "state": {
            "_dom_classes": [],
            "_model_module": "@jupyter-widgets/controls",
            "_model_module_version": "1.5.0",
            "_model_name": "HTMLModel",
            "_view_count": null,
            "_view_module": "@jupyter-widgets/controls",
            "_view_module_version": "1.5.0",
            "_view_name": "HTMLView",
            "description": "",
            "description_tooltip": null,
            "layout": "IPY_MODEL_5c3d08e015654a6d9548571204daf056",
            "placeholder": "​",
            "style": "IPY_MODEL_d24d9a63a73340d08ed29eb1abbefcf4",
            "value": " 68%"
          }
        }
      }
    }
  },
  "nbformat": 4,
  "nbformat_minor": 0
}
