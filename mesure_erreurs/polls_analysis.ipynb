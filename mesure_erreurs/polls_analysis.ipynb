{
 "cells": [
  {
   "cell_type": "markdown",
   "metadata": {},
   "source": [
    "# Analyse des sondages"
   ]
  },
  {
   "cell_type": "code",
   "execution_count": null,
   "metadata": {},
   "outputs": [],
   "source": [
    "from typing import Any,Callable\n",
    "import numpy as np\n",
    "import scipy as sp\n",
    "import pandas as pd\n",
    "import sklearn\n",
    "import statsmodels\n",
    "import matplotlib.pyplot as plt\n",
    "import seaborn as sns\n",
    "import plotly.express as px\n",
    "import plotly.graph_objects as go"
   ]
  },
  {
   "cell_type": "markdown",
   "metadata": {},
   "source": [
    "## Chargement et préparation des données"
   ]
  },
  {
   "cell_type": "code",
   "execution_count": null,
   "metadata": {},
   "outputs": [],
   "source": [
    "def get_data()->pd.DataFrame:\n",
    "    df = pd.read_pickle(\"polls.p\")\n",
    "    df = df[df[\"sample\"]>0]\n",
    "    df = df.drop(columns=[\"countryid\", \"regime\", \"turnout\", \"inc_\", \"gov_\",\"espv\", \"rule\"])\n",
    "    df = df.rename(columns={\"sample\":\"sample_\"})\n",
    "    perc_col = [\"vote_\", \"poll_\", \"ipoll_\"]\n",
    "    df = df.astype({\"daysbeforeED\":int, \"yr\":int, \"partyid\":int})\n",
    "\n",
    "    df[perc_col] = df[perc_col]/100\n",
    "    df[\"residual_\"] = df.poll_ - df.vote_\n",
    "    df[\"error_\"] = df.residual_.abs()\n",
    "    return df\n",
    "\n",
    "df = get_data()"
   ]
  },
  {
   "cell_type": "markdown",
   "metadata": {},
   "source": [
    "## Définition des valeurs et métriques\n",
    " - Variable aléatoire de vote : $X$\n",
    " - Taille d'échantillon : $n$\n",
    " - Coefficient de marge (z-score) : $z$\n",
    " - Écart type empirique : $$\\sigma = \\sqrt{\\sum^{n}_{i=1}{\\frac{(x_i - \\bar{x})^2}{n-1}}}$$\n",
    " - Écart type théorique : $$\\sigma = \\sqrt{P(X)(1-P(X))}$$\n",
    " - Marge d'erreur $L$ : $$L = MOE(X,n,z) = z\\frac{\\sigma}{\\sqrt{n}}$$\n",
    " - Intervalle de confiance $CI$ : $$CI(X,n,z) = \\bar{X} \\pm z\\frac{\\sigma}{\\sqrt{n}}$$\n",
    " - Taille échantillon estimé sur erreur moyenne $S_{inv}$ : $$S_{inv}(P_o,L) = 0.69^2\\frac{P_o (1-P_o)}{L^2}$$"
   ]
  },
  {
   "cell_type": "code",
   "execution_count": null,
   "metadata": {},
   "outputs": [],
   "source": [
    "def moe(p:float, n:int, z:float=1.96)->float:\n",
    "    return z*(p*(1-p)/n)**0.5\n",
    "\n",
    "def ci(p:float, n:int, z:float=1.96)->tuple[float,float]:\n",
    "    return p-moe(p,n,z), p+moe(p,n,z)\n",
    "\n",
    "def likely_sample(Po:float,L:float,z:float=0.68)->float:\n",
    "    return (Po*(1-Po)) * (z/L)**2"
   ]
  },
  {
   "cell_type": "markdown",
   "metadata": {},
   "source": [
    "## Première visualisation"
   ]
  },
  {
   "cell_type": "code",
   "execution_count": null,
   "metadata": {},
   "outputs": [],
   "source": [
    "df"
   ]
  },
  {
   "cell_type": "code",
   "execution_count": null,
   "metadata": {},
   "outputs": [],
   "source": [
    "px.scatter(df, x=\"sample_\", y=\"residual_\", size=\"vote_\", color=\"yr\")"
   ]
  },
  {
   "cell_type": "code",
   "execution_count": null,
   "metadata": {},
   "outputs": [],
   "source": [
    "fig = px.scatter_3d(df, x=\"sample_\", y=\"vote_\", z=\"error_\", log_x=True)\n",
    "fig.update_traces(marker_size=1)"
   ]
  },
  {
   "cell_type": "markdown",
   "metadata": {},
   "source": [
    "## Calcul de l'erreur paramétrée par n et p"
   ]
  },
  {
   "cell_type": "code",
   "execution_count": null,
   "metadata": {},
   "outputs": [],
   "source": [
    "subdf = df.query('yr>=2005 and daysbeforeED<5 ')\n",
    "subdf"
   ]
  },
  {
   "cell_type": "code",
   "execution_count": null,
   "metadata": {},
   "outputs": [],
   "source": [
    "from loess.loess_2d import loess_2d\n",
    "x= subdf.vote_.values\n",
    "y= subdf.sample_.values\n",
    "z= subdf.error_.values\n",
    "X, Y = np.mgrid[x.min():x.max():100j, y.min():3000:100j]\n",
    "Z, _ = loess_2d(x, y, z, xnew=X.ravel(), ynew=Y.ravel(), degree=1, frac=0.5,)\n",
    "Z = Z.reshape(X.shape)\n"
   ]
  },
  {
   "cell_type": "code",
   "execution_count": null,
   "metadata": {},
   "outputs": [],
   "source": [
    "fig = go.Figure(go.Surface(x=X, y=Y, z=Z))\n",
    "fig.update_layout(\n",
    "    scene=dict(\n",
    "        xaxis_title=\"Vote\",\n",
    "        yaxis=dict(title=\"Sample\"),\n",
    "        zaxis=dict(title=\"Error\"),\n",
    "        ),\n",
    "        margin=dict(l=0, r=0, b=0, t=0),\n",
    "        width = 700,\n",
    "    )\n",
    "fig.add_scatter3d(x=subdf.vote_, y=subdf.sample_, z=subdf.error_, mode='markers', marker=dict(size=1))\n",
    "fig.show()"
   ]
  },
  {
   "cell_type": "markdown",
   "metadata": {},
   "source": [
    "# Calcul de la médiane théorique"
   ]
  },
  {
   "cell_type": "code",
   "execution_count": null,
   "metadata": {},
   "outputs": [],
   "source": [
    "Z_th = moe(X,Y,0.67)\n",
    "fig = go.Figure(go.Surface(x=X, y=Y, z=Z_th))\n",
    "fig.add_surface(x=X, y=Y, z=Z)\n",
    "# fig.add_scatter3d(x=subdf.vote_, y=subdf.sample_, z=subdf.error_, mode='markers', marker=dict(size=1))\n",
    "fig.update_layout(\n",
    "    scene=dict(\n",
    "        xaxis_title=\"Vote\",\n",
    "        yaxis=dict(title=\"Sample\"),\n",
    "        zaxis=dict(title=\"Error\"),\n",
    "        ),\n",
    "        margin=dict(l=0, r=0, b=0, t=0),\n",
    "        width = 1200,\n",
    ")\n",
    "fig.write_html(\"error.html\")\n",
    "fig.show()"
   ]
  },
  {
   "cell_type": "markdown",
   "metadata": {},
   "source": [
    "### Visualisation de l'erreur proportionnelle à l'erreur théorique"
   ]
  },
  {
   "cell_type": "code",
   "execution_count": null,
   "metadata": {},
   "outputs": [],
   "source": [
    "Z_th = moe(X,Y,0.67)\n",
    "fig = go.Figure(go.Surface(x=X, y=Y, z=Z/Z_th))\n",
    "# fig.add_scatter3d(x=subdf.vote_, y=subdf.sample_, z=subdf.error_, mode='markers', marker=dict(size=1))\n",
    "fig.update_layout(\n",
    "    scene=dict(\n",
    "        xaxis_title=\"Vote\",\n",
    "        yaxis=dict(title=\"Sample\", type=\"log\"),\n",
    "        zaxis=dict(title=\"Error\"),\n",
    "        ),\n",
    "        margin=dict(l=0, r=0, b=0, t=0),\n",
    "        width = 1200,\n",
    ")\n",
    "fig.write_html(\"error.html\")\n",
    "fig.show()"
   ]
  },
  {
   "cell_type": "markdown",
   "metadata": {},
   "source": [
    "## Estimation de la taille d'échantillon la plus probable"
   ]
  },
  {
   "cell_type": "code",
   "execution_count": null,
   "metadata": {},
   "outputs": [],
   "source": [
    "estim_Y = likely_sample(X,Z)\n",
    "estim_Y_th = likely_sample(X,Z_th)\n"
   ]
  },
  {
   "cell_type": "code",
   "execution_count": null,
   "metadata": {},
   "outputs": [],
   "source": [
    "fig = go.Figure(go.Surface(x=X, y=Y, z=estim_Y))\n",
    "fig.add_surface(x=X, y=Y, z=estim_Y_th)\n",
    "# fig.add_scatter3d(x=subdf.vote_, y=subdf.sample_, z=subdf.error_, mode='markers', marker=dict(size=1))\n",
    "fig.update_layout(\n",
    "    scene=dict(\n",
    "        xaxis_title=\"Vote\",\n",
    "        yaxis=dict(title=\"Sample\"),\n",
    "        zaxis=dict(title=\"Estimated Sample\"),\n",
    "        ),\n",
    "        margin=dict(l=0, r=0, b=0, t=0),\n",
    "        width = 1200,\n",
    ")\n",
    "fig.show()"
   ]
  },
  {
   "cell_type": "code",
   "execution_count": null,
   "metadata": {},
   "outputs": [],
   "source": [
    "(estim_Y).mean()"
   ]
  }
 ],
 "metadata": {
  "kernelspec": {
   "display_name": ".venv",
   "language": "python",
   "name": "python3"
  },
  "language_info": {
   "codemirror_mode": {
    "name": "ipython",
    "version": 3
   },
   "file_extension": ".py",
   "mimetype": "text/x-python",
   "name": "python",
   "nbconvert_exporter": "python",
   "pygments_lexer": "ipython3",
   "version": "3.11.3"
  }
 },
 "nbformat": 4,
 "nbformat_minor": 2
}
