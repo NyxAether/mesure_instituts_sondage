{
 "metadata": {
  "language_info": {
   "codemirror_mode": {
    "name": "ipython",
    "version": 3
   },
   "file_extension": ".py",
   "mimetype": "text/x-python",
   "name": "python",
   "nbconvert_exporter": "python",
   "pygments_lexer": "ipython3",
   "version": "3.7.7-final"
  },
  "orig_nbformat": 2,
  "kernelspec": {
   "name": "python3",
   "display_name": "Python 3.7.7 64-bit",
   "metadata": {
    "interpreter": {
     "hash": "61ab81ef4199dc8387546234ac964a257ee42146a26984040767346e96c52e29"
    }
   }
  }
 },
 "nbformat": 4,
 "nbformat_minor": 2,
 "cells": [
  {
   "cell_type": "code",
   "execution_count": 17,
   "metadata": {},
   "outputs": [],
   "source": [
    "import numpy as np\n",
    "import pandas as pd\n",
    "from matplotlib import pyplot as plt\n",
    "import datetime"
   ]
  },
  {
   "source": [
    "# Méthode pour le calcul des erreurs\n"
   ],
   "cell_type": "markdown",
   "metadata": {}
  },
  {
   "cell_type": "code",
   "execution_count": 10,
   "metadata": {},
   "outputs": [],
   "source": [
    "def error_p(p,n=1000,Za=1.96):\n",
    "    return np.sqrt(p*(1-p)/n)*Za\n",
    "error_p(0.5,int(1900/9))\n",
    "\n",
    "def margin_p(p,n=1000,Za=1.96):\n",
    "    er=error_p(p,n,Za)\n",
    "    return np.array([p-er,p+er])\n",
    "\n",
    "def error_in_margin(p,n,variation,Za=1.96,double_margin=True):\n",
    "    # Compute old values\n",
    "    old_p=p-variation\n",
    "    # Compute err\n",
    "    err=error_p(p/100,n,Za)*100\n",
    "    # Compute err old values\n",
    "    old_err=error_p(old_p/100,n,Za)*100\n",
    "    if double_margin:\n",
    "        return (np.abs(variation)<=err+old_err) & variation!=0\n",
    "    else:\n",
    "        return (np.abs(variation)<=err) & variation!=0\n",
    "\n",
    "def extract_in_margin(fav,defav,evol_fav,evol_defav,pop_size,double_margin=True):\n",
    "    # Suppression des valeurs sans variation\n",
    "    fav=fav[evol_fav!=0]\n",
    "    defav=defav[evol_defav!=0]\n",
    "    pop_size_fav=pop_size[evol_fav!=0]\n",
    "    pop_size_defav=pop_size[evol_defav!=0]\n",
    "    evol_fav=evol_fav[evol_fav!=0]\n",
    "    evol_defav=evol_defav[evol_defav!=0]\n",
    "\n",
    "    # Calcul des erreurs\n",
    "    err_fav=error_p(fav/100,pop_size_fav)*100\n",
    "    err_defav=error_p(defav/100,pop_size_defav)*100\n",
    "\n",
    "    # Calcul des anciennes valeurs\n",
    "    old_fav=fav-evol_fav\n",
    "    old_defav=defav-evol_defav\n",
    "    # Calcul des erreurs anciennes valeurs\n",
    "    err_old_fav=error_p(old_fav/100,pop_size_fav)*100\n",
    "    err_old_defav=error_p(old_defav/100,pop_size_defav)*100\n",
    "    if double_margin:\n",
    "        total_fav_in_margin=np.sum(err_fav+err_old_fav>=np.abs(evol_fav))\n",
    "        total_defav_in_margin=np.sum(err_defav+err_old_defav>=np.abs(evol_defav))\n",
    "    else:\n",
    "        total_fav_in_margin=np.sum(err_fav>=np.abs(evol_fav))\n",
    "        total_defav_in_margin=np.sum(err_defav>=np.abs(evol_defav))\n",
    "    total_in_margin=total_fav_in_margin+total_defav_in_margin\n",
    "    total_lines=len(fav)+len(defav)\n",
    "\n",
    "    return (total_in_margin,total_lines)"
   ]
  },
  {
   "source": [
    "# Load all dataframes\n",
    "\n"
   ],
   "cell_type": "markdown",
   "metadata": {}
  },
  {
   "source": [
    "## Load method"
   ],
   "cell_type": "markdown",
   "metadata": {}
  },
  {
   "cell_type": "code",
   "execution_count": 49,
   "metadata": {},
   "outputs": [],
   "source": [
    "def load_data(filepath):\n",
    "    filenames=[f.rstrip('.p') for f in os.listdir(filepath)]\n",
    "    df=pd.read_pickle(\"{}/{}.p\".format(filepath,filenames[0]))\n",
    "    all_data=pd.DataFrame(columns=df.columns)\n",
    "    all_data.Base=all_data.Base.astype(int)\n",
    "    for fn in filenames:\n",
    "        df=pd.read_pickle(\"{}/{}.p\".format(filepath,fn))\n",
    "        if df.Base.dtype==object:\n",
    "            df.Base=df.Base.astype(int)\n",
    "        if 'Date' not in df.columns:\n",
    "            df['Date']=fn\n",
    "        all_data=pd.concat([all_data,df],ignore_index=True)\n",
    "        in_margin,nb_lines=extract_in_margin(df['ST Favorable'],df['ST Défavorable'],df['Evolution ST Favorable'],df['Evolution ST Défavorable'],df.Base)\n",
    "    all_data.Date=all_data.Date.astype('datetime64')\n",
    "    return all_data\n",
    "\n",
    "def load_data_perso(filepath):\n",
    "    filenames=[f.rstrip('.p') for f in os.listdir(filepath)]\n",
    "    df=pd.read_pickle(\"{}/{}.p\".format(filepath,filenames[0]))\n",
    "    all_data=pd.DataFrame(columns=df.columns)\n",
    "    all_data.Base=all_data.Base.astype(int)\n",
    "    for fn in filenames:\n",
    "        df=pd.read_pickle(\"{}/{}.p\".format(filepath,fn))\n",
    "        if df.Base.dtype==object:\n",
    "            df.Base=df.Base.astype(int)\n",
    "        all_data=pd.concat([all_data,df],ignore_index=True)\n",
    "    all_data.rename(columns={'Opinion positive':'ST Favorable'},inplace=True)\n",
    "    all_data.Date=all_data.Date.astype('datetime64')\n",
    "    return all_data\n"
   ]
  },
  {
   "source": [
    "## Load Ipsos\n"
   ],
   "cell_type": "markdown",
   "metadata": {}
  },
  {
   "cell_type": "code",
   "execution_count": 39,
   "metadata": {},
   "outputs": [
    {
     "output_type": "execute_result",
     "data": {
      "text/plain": [
       "                    Nom                      Categorie          Groupe   Base  \\\n",
       "0       Emmanuel MACRON                       ENSEMBLE        ENSEMBLE  971.0   \n",
       "1       Emmanuel MACRON                           Sexe           Homme  462.0   \n",
       "2       Emmanuel MACRON                           Sexe           Femme  509.0   \n",
       "3       Emmanuel MACRON                            Age     18 à 24 ans  103.0   \n",
       "4       Emmanuel MACRON                            Age     25 à 34 ans  154.0   \n",
       "...                 ...                            ...             ...    ...   \n",
       "36115  Laurent WAUQUIEZ  VotePrésidentielle20171ertour       STNonexpr  238.0   \n",
       "36116  Laurent WAUQUIEZ  VotePrésidentielle20172ndtour  EmmanuelMacron  410.0   \n",
       "36117  Laurent WAUQUIEZ  VotePrésidentielle20172ndtour     MarineLePen  210.0   \n",
       "36118  Laurent WAUQUIEZ  VotePrésidentielle20172ndtour          STExpr  620.0   \n",
       "36119  Laurent WAUQUIEZ  VotePrésidentielle20172ndtour       STNonexpr  380.0   \n",
       "\n",
       "       Très favorable  Plutôt favorable  ST Favorable  Plutôt défavorable  \\\n",
       "0                 3.6              26.3          30.0                29.1   \n",
       "1                 5.2              29.7          34.9                31.6   \n",
       "2                 2.2              23.3          25.5                26.8   \n",
       "3                 7.5              14.8          22.3                22.8   \n",
       "4                 0.2              13.1          13.3                26.2   \n",
       "...               ...               ...           ...                 ...   \n",
       "36115             1.4              10.4          11.9                24.3   \n",
       "36116             3.3              17.8          21.1                31.5   \n",
       "36117             2.8              24.1          26.9                25.6   \n",
       "36118             3.1              20.0          23.1                29.5   \n",
       "36119             2.4              14.0          16.4                26.0   \n",
       "\n",
       "       Très défavorable  ST Défavorable   Nsp  Evolution ST Favorable  \\\n",
       "0                  17.2            46.3  23.8                     1.4   \n",
       "1                  19.4            51.0  14.1                     1.7   \n",
       "2                  15.2            42.0  32.5                     1.1   \n",
       "3                  10.9            33.8  44.0                     3.4   \n",
       "4                  18.2            44.4  42.3                    -8.9   \n",
       "...                 ...             ...   ...                     ...   \n",
       "36115              19.1            43.5  44.7                     1.8   \n",
       "36116              30.0            61.5  17.3                    -1.0   \n",
       "36117              22.4            48.0  25.1                     1.1   \n",
       "36118              27.4            56.9  20.0                    -0.3   \n",
       "36119              25.3            51.3  32.3                    -2.5   \n",
       "\n",
       "       Evolution ST Défavorable       Date  \n",
       "0                          -2.5 2018-12-08  \n",
       "1                          -1.1 2018-12-08  \n",
       "2                          -3.8 2018-12-08  \n",
       "3                          -0.9 2018-12-08  \n",
       "4                          -3.2 2018-12-08  \n",
       "...                         ...        ...  \n",
       "36115                      -1.1 2021-01-23  \n",
       "36116                       3.7 2021-01-23  \n",
       "36117                      -5.5 2021-01-23  \n",
       "36118                       0.6 2021-01-23  \n",
       "36119                       3.8 2021-01-23  \n",
       "\n",
       "[36120 rows x 14 columns]"
      ],
      "text/html": "<div>\n<style scoped>\n    .dataframe tbody tr th:only-of-type {\n        vertical-align: middle;\n    }\n\n    .dataframe tbody tr th {\n        vertical-align: top;\n    }\n\n    .dataframe thead th {\n        text-align: right;\n    }\n</style>\n<table border=\"1\" class=\"dataframe\">\n  <thead>\n    <tr style=\"text-align: right;\">\n      <th></th>\n      <th>Nom</th>\n      <th>Categorie</th>\n      <th>Groupe</th>\n      <th>Base</th>\n      <th>Très favorable</th>\n      <th>Plutôt favorable</th>\n      <th>ST Favorable</th>\n      <th>Plutôt défavorable</th>\n      <th>Très défavorable</th>\n      <th>ST Défavorable</th>\n      <th>Nsp</th>\n      <th>Evolution ST Favorable</th>\n      <th>Evolution ST Défavorable</th>\n      <th>Date</th>\n    </tr>\n  </thead>\n  <tbody>\n    <tr>\n      <th>0</th>\n      <td>Emmanuel MACRON</td>\n      <td>ENSEMBLE</td>\n      <td>ENSEMBLE</td>\n      <td>971.0</td>\n      <td>3.6</td>\n      <td>26.3</td>\n      <td>30.0</td>\n      <td>29.1</td>\n      <td>17.2</td>\n      <td>46.3</td>\n      <td>23.8</td>\n      <td>1.4</td>\n      <td>-2.5</td>\n      <td>2018-12-08</td>\n    </tr>\n    <tr>\n      <th>1</th>\n      <td>Emmanuel MACRON</td>\n      <td>Sexe</td>\n      <td>Homme</td>\n      <td>462.0</td>\n      <td>5.2</td>\n      <td>29.7</td>\n      <td>34.9</td>\n      <td>31.6</td>\n      <td>19.4</td>\n      <td>51.0</td>\n      <td>14.1</td>\n      <td>1.7</td>\n      <td>-1.1</td>\n      <td>2018-12-08</td>\n    </tr>\n    <tr>\n      <th>2</th>\n      <td>Emmanuel MACRON</td>\n      <td>Sexe</td>\n      <td>Femme</td>\n      <td>509.0</td>\n      <td>2.2</td>\n      <td>23.3</td>\n      <td>25.5</td>\n      <td>26.8</td>\n      <td>15.2</td>\n      <td>42.0</td>\n      <td>32.5</td>\n      <td>1.1</td>\n      <td>-3.8</td>\n      <td>2018-12-08</td>\n    </tr>\n    <tr>\n      <th>3</th>\n      <td>Emmanuel MACRON</td>\n      <td>Age</td>\n      <td>18 à 24 ans</td>\n      <td>103.0</td>\n      <td>7.5</td>\n      <td>14.8</td>\n      <td>22.3</td>\n      <td>22.8</td>\n      <td>10.9</td>\n      <td>33.8</td>\n      <td>44.0</td>\n      <td>3.4</td>\n      <td>-0.9</td>\n      <td>2018-12-08</td>\n    </tr>\n    <tr>\n      <th>4</th>\n      <td>Emmanuel MACRON</td>\n      <td>Age</td>\n      <td>25 à 34 ans</td>\n      <td>154.0</td>\n      <td>0.2</td>\n      <td>13.1</td>\n      <td>13.3</td>\n      <td>26.2</td>\n      <td>18.2</td>\n      <td>44.4</td>\n      <td>42.3</td>\n      <td>-8.9</td>\n      <td>-3.2</td>\n      <td>2018-12-08</td>\n    </tr>\n    <tr>\n      <th>...</th>\n      <td>...</td>\n      <td>...</td>\n      <td>...</td>\n      <td>...</td>\n      <td>...</td>\n      <td>...</td>\n      <td>...</td>\n      <td>...</td>\n      <td>...</td>\n      <td>...</td>\n      <td>...</td>\n      <td>...</td>\n      <td>...</td>\n      <td>...</td>\n    </tr>\n    <tr>\n      <th>36115</th>\n      <td>Laurent WAUQUIEZ</td>\n      <td>VotePrésidentielle20171ertour</td>\n      <td>STNonexpr</td>\n      <td>238.0</td>\n      <td>1.4</td>\n      <td>10.4</td>\n      <td>11.9</td>\n      <td>24.3</td>\n      <td>19.1</td>\n      <td>43.5</td>\n      <td>44.7</td>\n      <td>1.8</td>\n      <td>-1.1</td>\n      <td>2021-01-23</td>\n    </tr>\n    <tr>\n      <th>36116</th>\n      <td>Laurent WAUQUIEZ</td>\n      <td>VotePrésidentielle20172ndtour</td>\n      <td>EmmanuelMacron</td>\n      <td>410.0</td>\n      <td>3.3</td>\n      <td>17.8</td>\n      <td>21.1</td>\n      <td>31.5</td>\n      <td>30.0</td>\n      <td>61.5</td>\n      <td>17.3</td>\n      <td>-1.0</td>\n      <td>3.7</td>\n      <td>2021-01-23</td>\n    </tr>\n    <tr>\n      <th>36117</th>\n      <td>Laurent WAUQUIEZ</td>\n      <td>VotePrésidentielle20172ndtour</td>\n      <td>MarineLePen</td>\n      <td>210.0</td>\n      <td>2.8</td>\n      <td>24.1</td>\n      <td>26.9</td>\n      <td>25.6</td>\n      <td>22.4</td>\n      <td>48.0</td>\n      <td>25.1</td>\n      <td>1.1</td>\n      <td>-5.5</td>\n      <td>2021-01-23</td>\n    </tr>\n    <tr>\n      <th>36118</th>\n      <td>Laurent WAUQUIEZ</td>\n      <td>VotePrésidentielle20172ndtour</td>\n      <td>STExpr</td>\n      <td>620.0</td>\n      <td>3.1</td>\n      <td>20.0</td>\n      <td>23.1</td>\n      <td>29.5</td>\n      <td>27.4</td>\n      <td>56.9</td>\n      <td>20.0</td>\n      <td>-0.3</td>\n      <td>0.6</td>\n      <td>2021-01-23</td>\n    </tr>\n    <tr>\n      <th>36119</th>\n      <td>Laurent WAUQUIEZ</td>\n      <td>VotePrésidentielle20172ndtour</td>\n      <td>STNonexpr</td>\n      <td>380.0</td>\n      <td>2.4</td>\n      <td>14.0</td>\n      <td>16.4</td>\n      <td>26.0</td>\n      <td>25.3</td>\n      <td>51.3</td>\n      <td>32.3</td>\n      <td>-2.5</td>\n      <td>3.8</td>\n      <td>2021-01-23</td>\n    </tr>\n  </tbody>\n</table>\n<p>36120 rows × 14 columns</p>\n</div>"
     },
     "metadata": {},
     "execution_count": 39
    }
   ],
   "source": [
    "ipsos=load_data('ipsos/data')"
   ]
  },
  {
   "cell_type": "code",
   "execution_count": 24,
   "metadata": {},
   "outputs": [
    {
     "output_type": "execute_result",
     "data": {
      "text/plain": [
       "                    Nom                      Categorie          Groupe  Base  \\\n",
       "0       Emmanuel MACRON                       ENSEMBLE        ENSEMBLE   971   \n",
       "1       Emmanuel MACRON                           Sexe           Homme   462   \n",
       "2       Emmanuel MACRON                           Sexe           Femme   509   \n",
       "3       Emmanuel MACRON                            Age     18 à 24 ans   103   \n",
       "4       Emmanuel MACRON                            Age     25 à 34 ans   154   \n",
       "...                 ...                            ...             ...   ...   \n",
       "36115  Laurent WAUQUIEZ  VotePrésidentielle20171ertour       STNonexpr   238   \n",
       "36116  Laurent WAUQUIEZ  VotePrésidentielle20172ndtour  EmmanuelMacron   410   \n",
       "36117  Laurent WAUQUIEZ  VotePrésidentielle20172ndtour     MarineLePen   210   \n",
       "36118  Laurent WAUQUIEZ  VotePrésidentielle20172ndtour          STExpr   620   \n",
       "36119  Laurent WAUQUIEZ  VotePrésidentielle20172ndtour       STNonexpr   380   \n",
       "\n",
       "       Très favorable  Plutôt favorable  ST Favorable  Plutôt défavorable  \\\n",
       "0                 3.6              26.3          30.0                29.1   \n",
       "1                 5.2              29.7          34.9                31.6   \n",
       "2                 2.2              23.3          25.5                26.8   \n",
       "3                 7.5              14.8          22.3                22.8   \n",
       "4                 0.2              13.1          13.3                26.2   \n",
       "...               ...               ...           ...                 ...   \n",
       "36115             1.4              10.4          11.9                24.3   \n",
       "36116             3.3              17.8          21.1                31.5   \n",
       "36117             2.8              24.1          26.9                25.6   \n",
       "36118             3.1              20.0          23.1                29.5   \n",
       "36119             2.4              14.0          16.4                26.0   \n",
       "\n",
       "       Très défavorable  ST Défavorable   Nsp  Evolution ST Favorable  \\\n",
       "0                  17.2            46.3  23.8                     1.4   \n",
       "1                  19.4            51.0  14.1                     1.7   \n",
       "2                  15.2            42.0  32.5                     1.1   \n",
       "3                  10.9            33.8  44.0                     3.4   \n",
       "4                  18.2            44.4  42.3                    -8.9   \n",
       "...                 ...             ...   ...                     ...   \n",
       "36115              19.1            43.5  44.7                     1.8   \n",
       "36116              30.0            61.5  17.3                    -1.0   \n",
       "36117              22.4            48.0  25.1                     1.1   \n",
       "36118              27.4            56.9  20.0                    -0.3   \n",
       "36119              25.3            51.3  32.3                    -2.5   \n",
       "\n",
       "       Evolution ST Défavorable       Date  \n",
       "0                          -2.5 2018-12-08  \n",
       "1                          -1.1 2018-12-08  \n",
       "2                          -3.8 2018-12-08  \n",
       "3                          -0.9 2018-12-08  \n",
       "4                          -3.2 2018-12-08  \n",
       "...                         ...        ...  \n",
       "36115                      -1.1 2021-01-23  \n",
       "36116                       3.7 2021-01-23  \n",
       "36117                      -5.5 2021-01-23  \n",
       "36118                       0.6 2021-01-23  \n",
       "36119                       3.8 2021-01-23  \n",
       "\n",
       "[36120 rows x 14 columns]"
      ],
      "text/html": "<div>\n<style scoped>\n    .dataframe tbody tr th:only-of-type {\n        vertical-align: middle;\n    }\n\n    .dataframe tbody tr th {\n        vertical-align: top;\n    }\n\n    .dataframe thead th {\n        text-align: right;\n    }\n</style>\n<table border=\"1\" class=\"dataframe\">\n  <thead>\n    <tr style=\"text-align: right;\">\n      <th></th>\n      <th>Nom</th>\n      <th>Categorie</th>\n      <th>Groupe</th>\n      <th>Base</th>\n      <th>Très favorable</th>\n      <th>Plutôt favorable</th>\n      <th>ST Favorable</th>\n      <th>Plutôt défavorable</th>\n      <th>Très défavorable</th>\n      <th>ST Défavorable</th>\n      <th>Nsp</th>\n      <th>Evolution ST Favorable</th>\n      <th>Evolution ST Défavorable</th>\n      <th>Date</th>\n    </tr>\n  </thead>\n  <tbody>\n    <tr>\n      <th>0</th>\n      <td>Emmanuel MACRON</td>\n      <td>ENSEMBLE</td>\n      <td>ENSEMBLE</td>\n      <td>971</td>\n      <td>3.6</td>\n      <td>26.3</td>\n      <td>30.0</td>\n      <td>29.1</td>\n      <td>17.2</td>\n      <td>46.3</td>\n      <td>23.8</td>\n      <td>1.4</td>\n      <td>-2.5</td>\n      <td>2018-12-08</td>\n    </tr>\n    <tr>\n      <th>1</th>\n      <td>Emmanuel MACRON</td>\n      <td>Sexe</td>\n      <td>Homme</td>\n      <td>462</td>\n      <td>5.2</td>\n      <td>29.7</td>\n      <td>34.9</td>\n      <td>31.6</td>\n      <td>19.4</td>\n      <td>51.0</td>\n      <td>14.1</td>\n      <td>1.7</td>\n      <td>-1.1</td>\n      <td>2018-12-08</td>\n    </tr>\n    <tr>\n      <th>2</th>\n      <td>Emmanuel MACRON</td>\n      <td>Sexe</td>\n      <td>Femme</td>\n      <td>509</td>\n      <td>2.2</td>\n      <td>23.3</td>\n      <td>25.5</td>\n      <td>26.8</td>\n      <td>15.2</td>\n      <td>42.0</td>\n      <td>32.5</td>\n      <td>1.1</td>\n      <td>-3.8</td>\n      <td>2018-12-08</td>\n    </tr>\n    <tr>\n      <th>3</th>\n      <td>Emmanuel MACRON</td>\n      <td>Age</td>\n      <td>18 à 24 ans</td>\n      <td>103</td>\n      <td>7.5</td>\n      <td>14.8</td>\n      <td>22.3</td>\n      <td>22.8</td>\n      <td>10.9</td>\n      <td>33.8</td>\n      <td>44.0</td>\n      <td>3.4</td>\n      <td>-0.9</td>\n      <td>2018-12-08</td>\n    </tr>\n    <tr>\n      <th>4</th>\n      <td>Emmanuel MACRON</td>\n      <td>Age</td>\n      <td>25 à 34 ans</td>\n      <td>154</td>\n      <td>0.2</td>\n      <td>13.1</td>\n      <td>13.3</td>\n      <td>26.2</td>\n      <td>18.2</td>\n      <td>44.4</td>\n      <td>42.3</td>\n      <td>-8.9</td>\n      <td>-3.2</td>\n      <td>2018-12-08</td>\n    </tr>\n    <tr>\n      <th>...</th>\n      <td>...</td>\n      <td>...</td>\n      <td>...</td>\n      <td>...</td>\n      <td>...</td>\n      <td>...</td>\n      <td>...</td>\n      <td>...</td>\n      <td>...</td>\n      <td>...</td>\n      <td>...</td>\n      <td>...</td>\n      <td>...</td>\n      <td>...</td>\n    </tr>\n    <tr>\n      <th>36115</th>\n      <td>Laurent WAUQUIEZ</td>\n      <td>VotePrésidentielle20171ertour</td>\n      <td>STNonexpr</td>\n      <td>238</td>\n      <td>1.4</td>\n      <td>10.4</td>\n      <td>11.9</td>\n      <td>24.3</td>\n      <td>19.1</td>\n      <td>43.5</td>\n      <td>44.7</td>\n      <td>1.8</td>\n      <td>-1.1</td>\n      <td>2021-01-23</td>\n    </tr>\n    <tr>\n      <th>36116</th>\n      <td>Laurent WAUQUIEZ</td>\n      <td>VotePrésidentielle20172ndtour</td>\n      <td>EmmanuelMacron</td>\n      <td>410</td>\n      <td>3.3</td>\n      <td>17.8</td>\n      <td>21.1</td>\n      <td>31.5</td>\n      <td>30.0</td>\n      <td>61.5</td>\n      <td>17.3</td>\n      <td>-1.0</td>\n      <td>3.7</td>\n      <td>2021-01-23</td>\n    </tr>\n    <tr>\n      <th>36117</th>\n      <td>Laurent WAUQUIEZ</td>\n      <td>VotePrésidentielle20172ndtour</td>\n      <td>MarineLePen</td>\n      <td>210</td>\n      <td>2.8</td>\n      <td>24.1</td>\n      <td>26.9</td>\n      <td>25.6</td>\n      <td>22.4</td>\n      <td>48.0</td>\n      <td>25.1</td>\n      <td>1.1</td>\n      <td>-5.5</td>\n      <td>2021-01-23</td>\n    </tr>\n    <tr>\n      <th>36118</th>\n      <td>Laurent WAUQUIEZ</td>\n      <td>VotePrésidentielle20172ndtour</td>\n      <td>STExpr</td>\n      <td>620</td>\n      <td>3.1</td>\n      <td>20.0</td>\n      <td>23.1</td>\n      <td>29.5</td>\n      <td>27.4</td>\n      <td>56.9</td>\n      <td>20.0</td>\n      <td>-0.3</td>\n      <td>0.6</td>\n      <td>2021-01-23</td>\n    </tr>\n    <tr>\n      <th>36119</th>\n      <td>Laurent WAUQUIEZ</td>\n      <td>VotePrésidentielle20172ndtour</td>\n      <td>STNonexpr</td>\n      <td>380</td>\n      <td>2.4</td>\n      <td>14.0</td>\n      <td>16.4</td>\n      <td>26.0</td>\n      <td>25.3</td>\n      <td>51.3</td>\n      <td>32.3</td>\n      <td>-2.5</td>\n      <td>3.8</td>\n      <td>2021-01-23</td>\n    </tr>\n  </tbody>\n</table>\n<p>36120 rows × 14 columns</p>\n</div>"
     },
     "metadata": {},
     "execution_count": 24
    }
   ],
   "source": [
    "ipsos.head()"
   ]
  },
  {
   "source": [
    "## Load Ifop\n"
   ],
   "cell_type": "markdown",
   "metadata": {}
  },
  {
   "cell_type": "code",
   "execution_count": 42,
   "metadata": {},
   "outputs": [
    {
     "output_type": "execute_result",
     "data": {
      "text/plain": [
       "                Nom Categorie    Groupe    Base  Très favorable  \\\n",
       "0   Emmanuel MACRON  ENSEMBLE  ENSEMBLE  1928.0             5.0   \n",
       "1  Edouard PHILIPPE  ENSEMBLE  ENSEMBLE  1928.0             4.0   \n",
       "2   Emmanuel MACRON  ENSEMBLE  ENSEMBLE  1891.0             5.0   \n",
       "3  Edouard PHILIPPE  ENSEMBLE  ENSEMBLE  1891.0             3.0   \n",
       "4   Emmanuel MACRON  ENSEMBLE  ENSEMBLE  1929.0             4.0   \n",
       "\n",
       "   Plutôt favorable  ST Favorable  Plutôt défavorable  Très défavorable  \\\n",
       "0              22.0          27.0                32.0              40.0   \n",
       "1              26.0          30.0                36.0              31.0   \n",
       "2              23.0          28.0                34.0              37.0   \n",
       "3              28.0          31.0                36.0              30.0   \n",
       "4              25.0          29.0                36.0              33.0   \n",
       "\n",
       "   ST Défavorable  Nsp  Evolution ST Favorable  Evolution ST Défavorable  \\\n",
       "0            72.0  1.0                     4.0                      -4.0   \n",
       "1            67.0  3.0                    -1.0                       1.0   \n",
       "2            71.0  1.0                     1.0                      -1.0   \n",
       "3            66.0  3.0                     1.0                      -1.0   \n",
       "4            69.0  2.0                     1.0                      -2.0   \n",
       "\n",
       "        Date  \n",
       "0 2019-01-19  \n",
       "1 2019-01-19  \n",
       "2 2019-02-16  \n",
       "3 2019-02-16  \n",
       "4 2019-03-23  "
      ],
      "text/html": "<div>\n<style scoped>\n    .dataframe tbody tr th:only-of-type {\n        vertical-align: middle;\n    }\n\n    .dataframe tbody tr th {\n        vertical-align: top;\n    }\n\n    .dataframe thead th {\n        text-align: right;\n    }\n</style>\n<table border=\"1\" class=\"dataframe\">\n  <thead>\n    <tr style=\"text-align: right;\">\n      <th></th>\n      <th>Nom</th>\n      <th>Categorie</th>\n      <th>Groupe</th>\n      <th>Base</th>\n      <th>Très favorable</th>\n      <th>Plutôt favorable</th>\n      <th>ST Favorable</th>\n      <th>Plutôt défavorable</th>\n      <th>Très défavorable</th>\n      <th>ST Défavorable</th>\n      <th>Nsp</th>\n      <th>Evolution ST Favorable</th>\n      <th>Evolution ST Défavorable</th>\n      <th>Date</th>\n    </tr>\n  </thead>\n  <tbody>\n    <tr>\n      <th>0</th>\n      <td>Emmanuel MACRON</td>\n      <td>ENSEMBLE</td>\n      <td>ENSEMBLE</td>\n      <td>1928.0</td>\n      <td>5.0</td>\n      <td>22.0</td>\n      <td>27.0</td>\n      <td>32.0</td>\n      <td>40.0</td>\n      <td>72.0</td>\n      <td>1.0</td>\n      <td>4.0</td>\n      <td>-4.0</td>\n      <td>2019-01-19</td>\n    </tr>\n    <tr>\n      <th>1</th>\n      <td>Edouard PHILIPPE</td>\n      <td>ENSEMBLE</td>\n      <td>ENSEMBLE</td>\n      <td>1928.0</td>\n      <td>4.0</td>\n      <td>26.0</td>\n      <td>30.0</td>\n      <td>36.0</td>\n      <td>31.0</td>\n      <td>67.0</td>\n      <td>3.0</td>\n      <td>-1.0</td>\n      <td>1.0</td>\n      <td>2019-01-19</td>\n    </tr>\n    <tr>\n      <th>2</th>\n      <td>Emmanuel MACRON</td>\n      <td>ENSEMBLE</td>\n      <td>ENSEMBLE</td>\n      <td>1891.0</td>\n      <td>5.0</td>\n      <td>23.0</td>\n      <td>28.0</td>\n      <td>34.0</td>\n      <td>37.0</td>\n      <td>71.0</td>\n      <td>1.0</td>\n      <td>1.0</td>\n      <td>-1.0</td>\n      <td>2019-02-16</td>\n    </tr>\n    <tr>\n      <th>3</th>\n      <td>Edouard PHILIPPE</td>\n      <td>ENSEMBLE</td>\n      <td>ENSEMBLE</td>\n      <td>1891.0</td>\n      <td>3.0</td>\n      <td>28.0</td>\n      <td>31.0</td>\n      <td>36.0</td>\n      <td>30.0</td>\n      <td>66.0</td>\n      <td>3.0</td>\n      <td>1.0</td>\n      <td>-1.0</td>\n      <td>2019-02-16</td>\n    </tr>\n    <tr>\n      <th>4</th>\n      <td>Emmanuel MACRON</td>\n      <td>ENSEMBLE</td>\n      <td>ENSEMBLE</td>\n      <td>1929.0</td>\n      <td>4.0</td>\n      <td>25.0</td>\n      <td>29.0</td>\n      <td>36.0</td>\n      <td>33.0</td>\n      <td>69.0</td>\n      <td>2.0</td>\n      <td>1.0</td>\n      <td>-2.0</td>\n      <td>2019-03-23</td>\n    </tr>\n  </tbody>\n</table>\n</div>"
     },
     "metadata": {},
     "execution_count": 42
    }
   ],
   "source": [
    "ifop=load_data('ifop/data')\n",
    "ifop.head()"
   ]
  },
  {
   "source": [
    "## Load Ifop personalités"
   ],
   "cell_type": "markdown",
   "metadata": {}
  },
  {
   "cell_type": "code",
   "execution_count": 53,
   "metadata": {},
   "outputs": [
    {
     "output_type": "execute_result",
     "data": {
      "text/plain": [
       "                Nom    Base       Date ST Favorable\n",
       "0     Nicolas HULOT  1008.0 2020-01-11           72\n",
       "1     Martine AUBRY  1008.0 2020-01-11           45\n",
       "2   Nicolas SARKOZY  1008.0 2020-01-11           44\n",
       "3  Edouard PHILIPPE  1008.0 2020-01-11           44\n",
       "4    Ségolène ROYAL  1008.0 2020-01-11           44"
      ],
      "text/html": "<div>\n<style scoped>\n    .dataframe tbody tr th:only-of-type {\n        vertical-align: middle;\n    }\n\n    .dataframe tbody tr th {\n        vertical-align: top;\n    }\n\n    .dataframe thead th {\n        text-align: right;\n    }\n</style>\n<table border=\"1\" class=\"dataframe\">\n  <thead>\n    <tr style=\"text-align: right;\">\n      <th></th>\n      <th>Nom</th>\n      <th>Base</th>\n      <th>Date</th>\n      <th>ST Favorable</th>\n    </tr>\n  </thead>\n  <tbody>\n    <tr>\n      <th>0</th>\n      <td>Nicolas HULOT</td>\n      <td>1008.0</td>\n      <td>2020-01-11</td>\n      <td>72</td>\n    </tr>\n    <tr>\n      <th>1</th>\n      <td>Martine AUBRY</td>\n      <td>1008.0</td>\n      <td>2020-01-11</td>\n      <td>45</td>\n    </tr>\n    <tr>\n      <th>2</th>\n      <td>Nicolas SARKOZY</td>\n      <td>1008.0</td>\n      <td>2020-01-11</td>\n      <td>44</td>\n    </tr>\n    <tr>\n      <th>3</th>\n      <td>Edouard PHILIPPE</td>\n      <td>1008.0</td>\n      <td>2020-01-11</td>\n      <td>44</td>\n    </tr>\n    <tr>\n      <th>4</th>\n      <td>Ségolène ROYAL</td>\n      <td>1008.0</td>\n      <td>2020-01-11</td>\n      <td>44</td>\n    </tr>\n  </tbody>\n</table>\n</div>"
     },
     "metadata": {},
     "execution_count": 53
    }
   ],
   "source": [
    "ifop_pers=load_data_perso('ifop/data_perso')\n",
    "ifop_pers.head()"
   ]
  },
  {
   "cell_type": "code",
   "execution_count": null,
   "metadata": {},
   "outputs": [],
   "source": []
  }
 ]
}