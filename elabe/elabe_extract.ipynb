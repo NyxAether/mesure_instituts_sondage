{
 "cells": [
  {
   "cell_type": "markdown",
   "metadata": {},
   "source": [
    "# Modifications de résultats des sondages\n",
    "\n",
    "## Import préliminaires des librairies"
   ]
  },
  {
   "cell_type": "code",
   "execution_count": 1,
   "metadata": {},
   "outputs": [],
   "source": [
    "import re\n",
    "import numpy as np\n",
    "import pandas as pd\n",
    "import locale \n",
    "from locale import atof\n",
    "# Régression linéaire\n",
    "from sklearn.linear_model import LinearRegression\n",
    "\n",
    "# Read files\n",
    "import PyPDF2\n",
    "from pdfminer.high_level import extract_text\n",
    "\n",
    "# Perso\n",
    "from importlib.machinery import SourceFileLoader\n",
    "tools = SourceFileLoader('methods', '../methods.py').load_module()\n",
    "from methods import *"
   ]
  },
  {
   "cell_type": "code",
   "execution_count": 2,
   "metadata": {},
   "outputs": [
    {
     "output_type": "stream",
     "name": "stdout",
     "text": [
      "La cote de confiance du Président de la République\nDétail des résultats\npar catégories sociodémographiques et professionnelles\n\nTotal\n\n100\n\nTout à fait \nconfiance\n6\n\nPlutôt confiance\n\nSans opinion\n\nPas vraiment \nconfiance\n29\n\nPas confiance du \ntout\n31\n\nTOTAL \nCONFIANCE\n34\n\nTOTAL\nPAS CONFIANCE\n60\n\nEn %\n\nEnsemble\nSEXE DU REPONDANT\nHomme\nFemme\nAGE DU REPONDANT\n18-24 ans\n25-34 ans\n35-49 ans\n50-64 ans\n65 ans et plus\nPROFESSION DU REPONDANT\nActifs\nArtisan, commerçant (*)\nCSP+\nCadre, profession intellectuelle supérieure\nProfession intermédiaire\nCSP-\nEmployé\nOuvrier\nInactifs\nRetraité\nAutre Inactif\n\nCATEGORIE D'AGGLOMERATION\nCommunes rurales\nCommunes urbaines de province\nDe 2.000 à moins de 20.000 hab.\nDe 20.000 à moins de 100.000 hab.\n100.000 hab. et plus\nAgglomération parisienne\n\n100\n100\n\n100\n100\n100\n100\n100\n\n100\n100\n100\n100\n100\n100\n100\n100\n100\n100\n100\n\n100\n100\n100\n100\n100\n100\n\n8\n4\n\n11\n5\n5\n6\n4\n\n5\n8\n5\n7\n3\n4\n4\n6\n7\n5\n10\n\n7\n6\n5\n8\n5\n4\n\n28\n\n31\n26\n\n26\n28\n25\n30\n32\n\n29\n34\n35\n41\n32\n22\n25\n19\n28\n31\n23\n\n24\n29\n26\n28\n31\n32\n\n26\n32\n\n35\n37\n27\n26\n27\n\n29\n29\n28\n26\n29\n31\n31\n30\n29\n28\n32\n\n31\n28\n28\n25\n30\n31\n\n32\n30\n\n19\n23\n37\n33\n33\n\n31\n29\n25\n22\n28\n36\n34\n38\n31\n33\n25\n\n33\n31\n36\n33\n27\n28\n\n6\n\n3\n8\n\n9\n7\n6\n5\n4\n\n6\n\n7\n4\n8\n7\n6\n7\n5\n3\n10\n\n5\n6\n5\n6\n7\n5\n\n39\n30\n\n37\n33\n30\n36\n36\n\n34\n42\n40\n48\n35\n26\n29\n25\n35\n36\n33\n\n31\n35\n31\n36\n36\n36\n\n58\n62\n\n54\n60\n64\n59\n60\n\n60\n58\n53\n48\n57\n67\n65\n68\n60\n61\n57\n\n64\n59\n64\n58\n57\n59\n\n* Résultats à interpréter avec prudence compte-tenu des effectifs de répondants\n\nL'Observatoire politique – Mars 2021\n04/03/2021\n\n11\n\n\f\n"
     ]
    }
   ],
   "source": [
    "fp=\"rapport/2021-03-03.pdf\"\n",
    "text = extract_text(fp,page_numbers=[10])\n",
    "question1=\"Êtes-vous  satisfait  ou  mécontent  d\"\n",
    "question2=\"Êtes-vous satisfait ou mécontent d\"\n",
    "# print(text.find(question1))\n",
    "# print(text.find(question2))\n",
    "# print(len(question2))\n",
    "print(re.sub('\\.\\.\\. (?![\\n])','...\\n',text))"
   ]
  },
  {
   "cell_type": "code",
   "execution_count": 3,
   "metadata": {},
   "outputs": [
    {
     "output_type": "execute_result",
     "data": {
      "text/plain": [
       "\"12\\nL'Observatoire politique \\n\\nMars 2021\\n04/03/2021\\nDétail des résultats\\nselon la préférence partisane et le vote à la présidentielle\\n* Résultats à interpréter avec prudence compte\\n-\\ntenu des effectifs de répondants\\nEn %\\nTotal\\nTout à fait \\nconfiance\\nPlutôt confiance\\nPas vraiment \\nconfiance\\nPas confiance du \\ntout\\nSans opinion\\nTOTAL\\nCONFIANCE\\nTOTAL\\nPAS CONFIANCE\\nEnsemble\\n100\\n6\\n28\\n29\\n31\\n6\\n34\\n60\\nPREFERENCE PARTISANE\\nTOTAL GAUCHE\\n100\\n5\\n23\\n34\\n35\\n3\\n28\\n69\\nLa France Insoumise\\n100\\n3\\n13\\n30\\n52\\n2\\n16\\n82\\nEurope Ecologie \\n-\\nLes Verts\\n100\\n6\\n17\\n45\\n26\\n6\\n23\\n71\\nParti Socialiste / \\nGénération.s\\n/ PRG\\n100\\n4\\n41\\n34\\n20\\n1\\n45\\n54\\nTOTAL EN MARCHE / MODEM\\n100\\n22\\n71\\n3\\n4\\n93\\n7\\nLa République en Marche !\\n100\\n26\\n71\\n0\\n3\\n97\\n3\\nTOTAL DROITE\\n100\\n3\\n42\\n27\\n26\\n2\\n45\\n53\\nLes Républicains\\n100\\n2\\n48\\n27\\n21\\n2\\n50\\n48\\nLe Rassemblement National\\n100\\n1\\n7\\n31\\n59\\n2\\n8\\n90\\nSans préférence partisane\\n100\\n3\\n23\\n33\\n29\\n12\\n26\\n62\\nVOTE PRESIDENTIELLE 2017 (1ER TOUR)\\nJean\\n-\\nLuc MELENCHON\\n100\\n2\\n15\\n30\\n47\\n6\\n17\\n77\\nBenoît HAMON\\n100\\n3\\n32\\n31\\n34\\n35\\n65\\nEmmanuel MACRON\\n100\\n17\\n59\\n17\\n5\\n2\\n76\\n22\\nFrançois FILLON\\n100\\n4\\n45\\n22\\n23\\n6\\n49\\n45\\nMarine LE PEN\\n100\\n5\\n12\\n29\\n52\\n2\\n17\\n81\\nAbstention, vote blanc ou nul\\n100\\n4\\n17\\n39\\n30\\n10\\n21\\n69\\nVOTE PRESIDENTIELLE 2017 (2ND TOUR)\\nEmmanuel MACRON\\n100\\n10\\n49\\n25\\n13\\n3\\n59\\n38\\nMarine LE PEN\\n100\\n4\\n12\\n28\\n51\\n5\\n16\\n79\\nAbstention, vote blanc ou nul\\n100\\n2\\n14\\n33\\n43\\n8\\n16\\n76\\nLa cote de confiance du Président de la République\\n\""
      ]
     },
     "metadata": {},
     "execution_count": 3
    }
   ],
   "source": [
    "with open(fp,\"rb\") as pdf_file:\n",
    "    pdf_reader= PyPDF2.PdfFileReader(pdf_file)\n",
    "    isEncrypted = pdf_reader.getIsEncrypted()\n",
    "    nbPages= pdf_reader.numPages\n",
    "\n",
    "    # Define columns\n",
    "    page_content=pdf_reader.getPage(11).extractText()\n",
    "page_content"
   ]
  },
  {
   "source": [
    "# Extraction des données avec PyPDF2\n",
    "PyPDF2 semble être constant dans la forme d'extraction des données de Elab.\n",
    "La structure des données ainsi que les détails d'extraction sont précisés ci-dessous:\n",
    "* Elabe fourni les données détaillées pour deux personnalités que sont le président de la République et le premier ministre. Les noms n'étant pas indiqués sur la page de données, il faut les extraire ailleurs ou les préciser à la main.\n",
    "* Il y a deux pages successives de données par individus\n",
    "* Les catégories principales sont indiquées en capitales\n",
    "* Il existe des catégories secondaires et tertiaires sans différenciation possible. Elles seront traités comme sous catégories.\n",
    "* La base de chaque catégories n'est pas précisée, il faudra donc utiliser de la régression linéaire pour tenter de les retrouver\n",
    "* Les trous dans les données ne sont pas visible. Il faut un système de vérification.\n",
    "* Les variations ne sont pas données\n",
    "\n",
    "__Format des données__\n",
    "* Les données sont fournis en lisant les lignes dans l'ordre\n",
    "* Chaque cellule est extraite par PyPDF2 une à la fois en introduisant un saut de ligne\n",
    "* Les blancs dans les données ne créént pas de fusion d'information mais disparaissent sans faire de double saut de lignes\n",
    "* Le caractère '__-__' compromet les cellules et induit un ou plusieurs sauts malencontreux :\n",
    "    * Si le '-' apparait au milieu d'un texte, il induit un _double saut de ligne_ (ex: 18-24 ans)\n",
    "    * Si le '-' apparait à la fin d'un texte il induit un _seul_ saut de ligne supplémentaire avant sont apparition (CSP-)  \n",
    "* Il faudra donc préformater le texte au préalable\n"
   ],
   "cell_type": "markdown",
   "metadata": {}
  },
  {
   "source": [
    "## Extract content (to delete later)"
   ],
   "cell_type": "markdown",
   "metadata": {}
  },
  {
   "cell_type": "code",
   "execution_count": 4,
   "metadata": {},
   "outputs": [
    {
     "output_type": "execute_result",
     "data": {
      "text/plain": [
       "\"Interrogation\\nFiche technique\\n2\\n\\nMode de recueil et dates de terrain\\nLa\\nreprésentativité\\nde\\n\\na\\nété\\nassurée\\nselon\\nla\\nméthode\\ndes\\nquotas\\nappliquée\\naux\\nvariables\\nsuivantes\\n:\\nsexe,\\nâge\\net\\nprofession\\nde\\n\\naprès\\nstratification\\npar\\nrégion\\net\\ncatégorie\\n\\n.\\nEchantillon de \\n1 003  \\npersonnes représentatif de la population française âgée de 18 ans et plus.\\nInterrogation par Internet les \\n2 et 3 mars 2021\\n.\\n04/03/2021\\nL'Observatoire politique \\n\\nMars 2021\\n\""
      ]
     },
     "metadata": {},
     "execution_count": 4
    }
   ],
   "source": [
    "def get_page_content(num_page,fp)->str:\n",
    "    with open(fp,\"rb\") as pdf_file:\n",
    "        pdf_reader= PyPDF2.PdfFileReader(pdf_file)\n",
    "        isEncrypted = pdf_reader.getIsEncrypted()\n",
    "        nbPages= pdf_reader.numPages\n",
    "        return pdf_reader.getPage(num_page-1).extractText()\n",
    "\n",
    "    # Define columns\n",
    "page_content=get_page_content(2,fp)\n",
    "page_content"
   ]
  },
  {
   "source": [
    "## Préformatage"
   ],
   "cell_type": "markdown",
   "metadata": {}
  },
  {
   "cell_type": "code",
   "execution_count": 5,
   "metadata": {},
   "outputs": [
    {
     "output_type": "execute_result",
     "data": {
      "text/plain": [
       "\"Interrogation\\nFiche technique\\n2\\n\\nMode de recueil et dates de terrain\\nLa\\nreprésentativité\\nde\\n\\na\\nété\\nassurée\\nselon\\nla\\nméthode\\ndes\\nquotas\\nappliquée\\naux\\nvariables\\nsuivantes\\n:\\nsexe,\\nâge\\net\\nprofession\\nde\\n\\naprès\\nstratification\\npar\\nrégion\\net\\ncatégorie\\n\\n.\\nEchantillon de \\n1 003  \\npersonnes représentatif de la population française âgée de 18 ans et plus.\\nInterrogation par Internet les \\n2 et 3 mars 2021\\n.\\n04/03/2021\\nL'Observatoire politique \\n\\nMars 2021\""
      ]
     },
     "metadata": {},
     "execution_count": 5
    }
   ],
   "source": [
    "##Préformatage\n",
    "def preformatage(page_content)->str:\n",
    "    #Remplacement des données d'age\n",
    "    page_content=page_content.replace('18\\n-\\n24 ans','18-24 ans')\n",
    "    page_content=page_content.replace('25\\n-\\n34 ans','25-34 ans')\n",
    "    page_content=page_content.replace('35\\n-\\n49 ans','35-49 ans')\n",
    "    page_content=page_content.replace('50\\n-\\n64 ans','50-64 ans')\n",
    "    # Remplacement CSP-\n",
    "    page_content=page_content.replace('CSP\\n-','CSP-')\n",
    "    # Remplacement EELV\n",
    "    page_content=page_content.replace('Europe Ecologie \\n-\\nLes Verts','Europe Ecologie Les Verts')\n",
    "    # Noms de candidats\n",
    "    page_content=page_content.replace('Jean\\n-\\n','Jean-')\n",
    "    # Remplacement /\n",
    "    page_content=page_content.replace('/ \\n','/ ')\n",
    "    page_content=page_content.replace('\\n/','/')\n",
    "    # Remplacement Total .. en minuscule\n",
    "    page_content=page_content.replace('TOTAL GAUCHE','Total Gauche')\n",
    "    page_content=page_content.replace('TOTAL EN MARCHE / MODEM','Total en Marche / MODEM')\n",
    "    page_content=page_content.replace('TOTAL DROITE','Total Droite')\n",
    "    # Suppression fin de texte\n",
    "    page_content=page_content.replace('\\nLa cote de confiance du Président de la République','')\n",
    "    page_content=page_content.replace('\\nLa cote de confiance du Premier ministre','')\n",
    "    # Suppression des notes de bas de pages\n",
    "    page_content=page_content.replace(' (*)','')\n",
    "    page_content=page_content.replace('(*)','')\n",
    "    # Suppression du dernier saut de ligne\n",
    "    page_content=page_content.rstrip('\\n')\n",
    "    return page_content\n",
    "\n",
    "preformatage(page_content)\n"
   ]
  },
  {
   "source": [
    "## Extraction de la base"
   ],
   "cell_type": "markdown",
   "metadata": {}
  },
  {
   "cell_type": "code",
   "execution_count": 6,
   "metadata": {},
   "outputs": [
    {
     "output_type": "execute_result",
     "data": {
      "text/plain": [
       "1003"
      ]
     },
     "metadata": {},
     "execution_count": 6
    }
   ],
   "source": [
    "def extract_base(fp,num_page=2)->int:\n",
    "    page_content=get_page_content(num_page,fp)\n",
    "    text_deb='Echantillon de \\n'\n",
    "    text_fin='\\npersonnes'\n",
    "    i_deb=page_content.find(text_deb)+len(text_deb)\n",
    "    i_fin=page_content.find(text_fin)\n",
    "    base=int(page_content[i_deb:i_fin].rstrip().replace(' ',''))\n",
    "    return base\n",
    "extract_base(fp)"
   ]
  },
  {
   "source": [
    "## Création du modèle de Dataframe"
   ],
   "cell_type": "markdown",
   "metadata": {}
  },
  {
   "cell_type": "code",
   "execution_count": 7,
   "metadata": {},
   "outputs": [],
   "source": [
    "df=pd.DataFrame(columns=['Nom','Base','Date','Categorie','Groupe','tres_positif','positif','negatif','tres_negatif','nsp','total_positif','total_negatif'])"
   ]
  },
  {
   "source": [
    "## Extraction de page formattée"
   ],
   "cell_type": "markdown",
   "metadata": {}
  },
  {
   "cell_type": "code",
   "execution_count": 8,
   "metadata": {
    "tags": []
   },
   "outputs": [],
   "source": [
    "def extract_series(data,i,columns,nom,base,date,prv_categorie)->pd.Series:\n",
    "    \"\"\"Extrait une serie de data à partir de l'indice i jusqu'à la prochaine valeur non digit\n",
    "\n",
    "    Args:\n",
    "        data (list): Toutes les données dans une liste \n",
    "        i (int): Indice courant dans les données\n",
    "        columns (list): Liste des noms de colonnes \n",
    "        nom (str): Nom de la personnalité\n",
    "        base (int): Nombre de sondés\n",
    "        date (datetime.date): Date du sondage\n",
    "\n",
    "    Returns:\n",
    "        pd.Series: La serie contenant les valeurs à stocker\n",
    "        int: new index\n",
    "    \"\"\"\n",
    "    values=[nom,base,date]\n",
    "    #Catégorie\n",
    "    if data[i].isupper() and '+' not in data[i] and '-' not in data[i]:\n",
    "        values.append(data[i])\n",
    "        i+=1\n",
    "    else:\n",
    "        values.append(prv_categorie)\n",
    "    #Groupe\n",
    "    values.append(data[i])\n",
    "    # On saut la cellule qui contient le 100% et qui ne sert a rien\n",
    "    i+=2\n",
    "    while i<len(data) and re.match('^\\d+$',data[i]):\n",
    "        values.append(float(data[i]))\n",
    "        i+=1\n",
    "    # Vérification\n",
    "    while len(values)!=len(columns):\n",
    "        print(values)\n",
    "        j=int(input('Où faut-il ajouter un zéro ? (1-7)'))+4\n",
    "        values=values[:j]+[0.0]+values[j:]\n",
    "    return pd.Series(values,index=columns),i\n",
    "\n",
    "\n",
    "\n",
    "def extract_detailled_page(page_content,df,nom,base,date)->pd.DataFrame:\n",
    "    \"\"\"\n",
    "    Extrait une page du pdf et l'ajout au dataframe.\n",
    "    \n",
    "    Parameters\n",
    "    ----------\n",
    "    page_content: texte formatté de la page dot l'on souhaite extraire les données\n",
    "    df: Dataframe pour stocker les données\n",
    "    nom: Nom de la personnalité \n",
    "    base: Base d'étude (à compléter par regression plus tard)\n",
    "    date: Date du sondage\n",
    "\n",
    "    Returns\n",
    "    -------\n",
    "    Dataframe\n",
    "        Dataframe df avec les nouvelles données\n",
    "    \"\"\"\n",
    "    indice_debut=page_content.find('Ensemble')\n",
    "    data=page_content[indice_debut:].split('\\n')\n",
    "    i=0\n",
    "    cat='Ensemble'\n",
    "    while i < len(data):\n",
    "        if not re.match('^\\d+$',data[i]):\n",
    "            s,i=extract_series(data,i,df.columns,nom,base,date,cat)\n",
    "            cat=s.Categorie\n",
    "            df=df.append(s,ignore_index=True)\n",
    "    return df\n",
    "            "
   ]
  },
  {
   "source": [
    "## Extraction pour une personnalité"
   ],
   "cell_type": "markdown",
   "metadata": {}
  },
  {
   "cell_type": "code",
   "execution_count": 9,
   "metadata": {},
   "outputs": [],
   "source": [
    "def extract_detailled_perso(df,fp,page_indexes,nom,base,date)->pd.DataFrame:\n",
    "    \"\"\"Extrait les données sur toutes les pages pour une personnalité\n",
    "\n",
    "    Args:\n",
    "        df (pandas.Dataframe): Dataframe stockant les données\n",
    "        fp (str): filepath du fichier à lire\n",
    "        page_indexes (list): Liste des pages à extraire\n",
    "        nom (str): Nom de la personnalité\n",
    "        base (int): Nb de sondés\n",
    "        date (datetime.date): Date du sondate\n",
    "        inline (bool): Si True modification en ligne\n",
    "\n",
    "    Returns:\n",
    "        pd.DataFrame: Dataframe étendu des nouvelles données\n",
    "    \"\"\"\n",
    "    for i in page_indexes:\n",
    "        page_content=preformatage(get_page_content(i,fp))\n",
    "        df=extract_detailled_page(page_content,df,nom,base,date)\n",
    "    df=df.drop_duplicates(ignore_index=True)\n",
    "    return df\n",
    "\n",
    "        "
   ]
  },
  {
   "cell_type": "code",
   "execution_count": 10,
   "metadata": {},
   "outputs": [
    {
     "output_type": "stream",
     "name": "stdout",
     "text": [
      "['Emmanuel MACRON', 1003, '2021-03-03', 'PROFESSION DU REPONDANT', 'Artisan, commerçant', 8.0, 34.0, 29.0, 29.0, 42.0, 58.0]\n",
      "['Emmanuel MACRON', 1003, '2021-03-03', 'PREFERENCE PARTISANE', 'Total en Marche / MODEM', 22.0, 71.0, 3.0, 4.0, 93.0, 7.0]\n",
      "['Emmanuel MACRON', 1003, '2021-03-03', 'PREFERENCE PARTISANE', 'La République en Marche !', 26.0, 71.0, 0.0, 3.0, 97.0, 3.0]\n",
      "['Emmanuel MACRON', 1003, '2021-03-03', 'VOTE PRESIDENTIELLE 2017 (1ER TOUR)', 'Benoît HAMON', 3.0, 32.0, 31.0, 34.0, 35.0, 65.0]\n",
      "['Edouard PHILIPPE', 1003, '2021-03-03', 'PROFESSION DU REPONDANT', 'Artisan, commerçant', 26.0, 37.0, 35.0, 3.0, 26.0, 72.0]\n",
      "['Edouard PHILIPPE', 1003, '2021-03-03', 'VOTE PRESIDENTIELLE 2017 (1ER TOUR)', 'Benoît HAMON', 30.0, 26.0, 44.0, 0.0, 30.0, 70.0]\n"
     ]
    },
    {
     "output_type": "execute_result",
     "data": {
      "text/plain": [
       "                 Nom  Base        Date                            Categorie  \\\n",
       "0    Emmanuel MACRON  1003  2021-03-03                             Ensemble   \n",
       "1    Emmanuel MACRON  1003  2021-03-03                    SEXE DU REPONDANT   \n",
       "2    Emmanuel MACRON  1003  2021-03-03                    SEXE DU REPONDANT   \n",
       "3    Emmanuel MACRON  1003  2021-03-03                     AGE DU REPONDANT   \n",
       "4    Emmanuel MACRON  1003  2021-03-03                     AGE DU REPONDANT   \n",
       "..               ...   ...         ...                                  ...   \n",
       "83  Edouard PHILIPPE  1003  2021-03-03  VOTE PRESIDENTIELLE 2017 (1ER TOUR)   \n",
       "84  Edouard PHILIPPE  1003  2021-03-03  VOTE PRESIDENTIELLE 2017 (1ER TOUR)   \n",
       "85  Edouard PHILIPPE  1003  2021-03-03  VOTE PRESIDENTIELLE 2017 (2ND TOUR)   \n",
       "86  Edouard PHILIPPE  1003  2021-03-03  VOTE PRESIDENTIELLE 2017 (2ND TOUR)   \n",
       "87  Edouard PHILIPPE  1003  2021-03-03  VOTE PRESIDENTIELLE 2017 (2ND TOUR)   \n",
       "\n",
       "                           Groupe  tres_positif  positif  negatif  \\\n",
       "0                        Ensemble           6.0     28.0     29.0   \n",
       "1                           Homme           8.0     31.0     26.0   \n",
       "2                           Femme           4.0     26.0     32.0   \n",
       "3                       18-24 ans          11.0     26.0     35.0   \n",
       "4                       25-34 ans           5.0     28.0     37.0   \n",
       "..                            ...           ...      ...      ...   \n",
       "83                  Marine LE PEN           2.0     14.0     31.0   \n",
       "84  Abstention, vote blanc ou nul           3.0     16.0     34.0   \n",
       "85                Emmanuel MACRON           6.0     43.0     28.0   \n",
       "86                  Marine LE PEN           1.0     15.0     31.0   \n",
       "87  Abstention, vote blanc ou nul           2.0     12.0     35.0   \n",
       "\n",
       "    tres_negatif   nsp  total_positif  total_negatif  \n",
       "0           31.0   6.0           34.0           60.0  \n",
       "1           32.0   3.0           39.0           58.0  \n",
       "2           30.0   8.0           30.0           62.0  \n",
       "3           19.0   9.0           37.0           54.0  \n",
       "4           23.0   7.0           33.0           60.0  \n",
       "..           ...   ...            ...            ...  \n",
       "83          49.0   4.0           16.0           80.0  \n",
       "84          32.0  15.0           19.0           66.0  \n",
       "85          19.0   4.0           49.0           47.0  \n",
       "86          48.0   5.0           16.0           79.0  \n",
       "87          39.0  12.0           14.0           74.0  \n",
       "\n",
       "[88 rows x 12 columns]"
      ],
      "text/html": "<div>\n<style scoped>\n    .dataframe tbody tr th:only-of-type {\n        vertical-align: middle;\n    }\n\n    .dataframe tbody tr th {\n        vertical-align: top;\n    }\n\n    .dataframe thead th {\n        text-align: right;\n    }\n</style>\n<table border=\"1\" class=\"dataframe\">\n  <thead>\n    <tr style=\"text-align: right;\">\n      <th></th>\n      <th>Nom</th>\n      <th>Base</th>\n      <th>Date</th>\n      <th>Categorie</th>\n      <th>Groupe</th>\n      <th>tres_positif</th>\n      <th>positif</th>\n      <th>negatif</th>\n      <th>tres_negatif</th>\n      <th>nsp</th>\n      <th>total_positif</th>\n      <th>total_negatif</th>\n    </tr>\n  </thead>\n  <tbody>\n    <tr>\n      <th>0</th>\n      <td>Emmanuel MACRON</td>\n      <td>1003</td>\n      <td>2021-03-03</td>\n      <td>Ensemble</td>\n      <td>Ensemble</td>\n      <td>6.0</td>\n      <td>28.0</td>\n      <td>29.0</td>\n      <td>31.0</td>\n      <td>6.0</td>\n      <td>34.0</td>\n      <td>60.0</td>\n    </tr>\n    <tr>\n      <th>1</th>\n      <td>Emmanuel MACRON</td>\n      <td>1003</td>\n      <td>2021-03-03</td>\n      <td>SEXE DU REPONDANT</td>\n      <td>Homme</td>\n      <td>8.0</td>\n      <td>31.0</td>\n      <td>26.0</td>\n      <td>32.0</td>\n      <td>3.0</td>\n      <td>39.0</td>\n      <td>58.0</td>\n    </tr>\n    <tr>\n      <th>2</th>\n      <td>Emmanuel MACRON</td>\n      <td>1003</td>\n      <td>2021-03-03</td>\n      <td>SEXE DU REPONDANT</td>\n      <td>Femme</td>\n      <td>4.0</td>\n      <td>26.0</td>\n      <td>32.0</td>\n      <td>30.0</td>\n      <td>8.0</td>\n      <td>30.0</td>\n      <td>62.0</td>\n    </tr>\n    <tr>\n      <th>3</th>\n      <td>Emmanuel MACRON</td>\n      <td>1003</td>\n      <td>2021-03-03</td>\n      <td>AGE DU REPONDANT</td>\n      <td>18-24 ans</td>\n      <td>11.0</td>\n      <td>26.0</td>\n      <td>35.0</td>\n      <td>19.0</td>\n      <td>9.0</td>\n      <td>37.0</td>\n      <td>54.0</td>\n    </tr>\n    <tr>\n      <th>4</th>\n      <td>Emmanuel MACRON</td>\n      <td>1003</td>\n      <td>2021-03-03</td>\n      <td>AGE DU REPONDANT</td>\n      <td>25-34 ans</td>\n      <td>5.0</td>\n      <td>28.0</td>\n      <td>37.0</td>\n      <td>23.0</td>\n      <td>7.0</td>\n      <td>33.0</td>\n      <td>60.0</td>\n    </tr>\n    <tr>\n      <th>...</th>\n      <td>...</td>\n      <td>...</td>\n      <td>...</td>\n      <td>...</td>\n      <td>...</td>\n      <td>...</td>\n      <td>...</td>\n      <td>...</td>\n      <td>...</td>\n      <td>...</td>\n      <td>...</td>\n      <td>...</td>\n    </tr>\n    <tr>\n      <th>83</th>\n      <td>Edouard PHILIPPE</td>\n      <td>1003</td>\n      <td>2021-03-03</td>\n      <td>VOTE PRESIDENTIELLE 2017 (1ER TOUR)</td>\n      <td>Marine LE PEN</td>\n      <td>2.0</td>\n      <td>14.0</td>\n      <td>31.0</td>\n      <td>49.0</td>\n      <td>4.0</td>\n      <td>16.0</td>\n      <td>80.0</td>\n    </tr>\n    <tr>\n      <th>84</th>\n      <td>Edouard PHILIPPE</td>\n      <td>1003</td>\n      <td>2021-03-03</td>\n      <td>VOTE PRESIDENTIELLE 2017 (1ER TOUR)</td>\n      <td>Abstention, vote blanc ou nul</td>\n      <td>3.0</td>\n      <td>16.0</td>\n      <td>34.0</td>\n      <td>32.0</td>\n      <td>15.0</td>\n      <td>19.0</td>\n      <td>66.0</td>\n    </tr>\n    <tr>\n      <th>85</th>\n      <td>Edouard PHILIPPE</td>\n      <td>1003</td>\n      <td>2021-03-03</td>\n      <td>VOTE PRESIDENTIELLE 2017 (2ND TOUR)</td>\n      <td>Emmanuel MACRON</td>\n      <td>6.0</td>\n      <td>43.0</td>\n      <td>28.0</td>\n      <td>19.0</td>\n      <td>4.0</td>\n      <td>49.0</td>\n      <td>47.0</td>\n    </tr>\n    <tr>\n      <th>86</th>\n      <td>Edouard PHILIPPE</td>\n      <td>1003</td>\n      <td>2021-03-03</td>\n      <td>VOTE PRESIDENTIELLE 2017 (2ND TOUR)</td>\n      <td>Marine LE PEN</td>\n      <td>1.0</td>\n      <td>15.0</td>\n      <td>31.0</td>\n      <td>48.0</td>\n      <td>5.0</td>\n      <td>16.0</td>\n      <td>79.0</td>\n    </tr>\n    <tr>\n      <th>87</th>\n      <td>Edouard PHILIPPE</td>\n      <td>1003</td>\n      <td>2021-03-03</td>\n      <td>VOTE PRESIDENTIELLE 2017 (2ND TOUR)</td>\n      <td>Abstention, vote blanc ou nul</td>\n      <td>2.0</td>\n      <td>12.0</td>\n      <td>35.0</td>\n      <td>39.0</td>\n      <td>12.0</td>\n      <td>14.0</td>\n      <td>74.0</td>\n    </tr>\n  </tbody>\n</table>\n<p>88 rows × 12 columns</p>\n</div>"
     },
     "metadata": {},
     "execution_count": 10
    }
   ],
   "source": [
    "df=pd.DataFrame(columns=['Nom','Base','Date','Categorie','Groupe','tres_positif','positif','negatif','tres_negatif','nsp','total_positif','total_negatif'])\n",
    "date='2021-03-03'\n",
    "filepath='rapport/{}.pdf'.format(date)\n",
    "president='Emmanuel MACRON'\n",
    "page_president=[11,12]\n",
    "ministe='Edouard PHILIPPE'\n",
    "page_ministre=[13,14]\n",
    "base=extract_base(filepath)\n",
    "df=extract_detailled_perso(df,filepath,page_president,president,base,date)\n",
    "df=extract_detailled_perso(df,filepath,page_ministre,ministe,base,date)\n",
    "df"
   ]
  },
  {
   "source": [
    "# Correction des bases"
   ],
   "cell_type": "markdown",
   "metadata": {}
  },
  {
   "cell_type": "code",
   "execution_count": 11,
   "metadata": {},
   "outputs": [
    {
     "output_type": "stream",
     "name": "stdout",
     "text": [
      "Ensemble :['Ensemble']\nSEXE DU REPONDANT :['Homme','Femme']\nAGE DU REPONDANT :['18-24 ans','25-34 ans','35-49 ans','50-64 ans','65 ans et plus']\nPROFESSION DU REPONDANT :['Actifs','Artisan, commerçant','CSP+','Cadre, profession intellectuelle supérieure','Profession intermédiaire','CSP-','Employé','Ouvrier','Inactifs','Retraité','Autre Inactif']\nCATEGORIE D'AGGLOMERATION :['Communes rurales','Communes urbaines de province','De 2.000 à moins de 20.000 hab.','De 20.000 à moins de 100.000 hab.','100.000 hab. et plus','Agglomération parisienne']\nPREFERENCE PARTISANE :['Total Gauche','La France Insoumise','Europe Ecologie Les Verts','Parti Socialiste / Génération.s/ PRG','Total en Marche / MODEM','La République en Marche !','Total Droite','Les Républicains','Le Rassemblement National','Sans préférence partisane']\nVOTE PRESIDENTIELLE 2017 (1ER TOUR) :['Jean-Luc MELENCHON','Benoît HAMON','Emmanuel MACRON','François FILLON','Marine LE PEN','Abstention, vote blanc ou nul']\nVOTE PRESIDENTIELLE 2017 (2ND TOUR) :['Emmanuel MACRON','Marine LE PEN','Abstention, vote blanc ou nul']\n"
     ]
    }
   ],
   "source": [
    "for c  in df.Categorie.unique():\n",
    "    print('{} :[{}]'.format(c,','.join([\"'\"+x+\"'\" for x in df[df.Categorie==c].Groupe.unique()])))"
   ]
  },
  {
   "cell_type": "code",
   "execution_count": 12,
   "metadata": {},
   "outputs": [],
   "source": [
    "# CategorieX, GroupeX, CategorieY, GroupeY\n",
    "relations=[\n",
    "    ('SEXE DU REPONDANT' ,['Homme','Femme'],'Ensemble','Ensemble'),\n",
    "    ('AGE DU REPONDANT' ,['18-24 ans','25-34 ans','35-49 ans','50-64 ans','65 ans et plus'],'Ensemble','Ensemble'),\n",
    "    ('PROFESSION DU REPONDANT' ,['Actifs','Inactifs'],'Ensemble','Ensemble'),\n",
    "    ('PROFESSION DU REPONDANT' ,['Artisan, commerçant','CSP+','CSP-'],'PROFESSION DU REPONDANT','Actifs'),\n",
    "    ('PROFESSION DU REPONDANT' ,['Cadre, profession intellectuelle supérieure','Profession intermédiaire'],'PROFESSION DU REPONDANT','CSP+'),\n",
    "    ('PROFESSION DU REPONDANT' ,['Employé','Ouvrier'],'PROFESSION DU REPONDANT','CSP-'),\n",
    "    ('PROFESSION DU REPONDANT' ,['Retraité','Autre Inactif'],'PROFESSION DU REPONDANT','Inactifs'),\n",
    "    (\"CATEGORIE D'AGGLOMERATION\" ,['Communes rurales','Communes urbaines de province','Agglomération parisienne'],'Ensemble','Ensemble'),\n",
    "    (\"CATEGORIE D'AGGLOMERATION\" ,['De 2.000 à moins de 20.000 hab.','De 20.000 à moins de 100.000 hab.','100.000 hab. et plus'],\"CATEGORIE D'AGGLOMERATION\",'Communes urbaines de province'),\n",
    "    ('PREFERENCE PARTISANE' ,['Total Gauche','Total en Marche / MODEM','Total Droite','Le Rassemblement National','Sans préférence partisane'],'Ensemble','Ensemble'),\n",
    "    ('PREFERENCE PARTISANE' ,['La France Insoumise','Europe Ecologie Les Verts','Parti Socialiste / Génération.s/ PRG'],'PREFERENCE PARTISANE','Total Gauche'),\n",
    "    ('PREFERENCE PARTISANE' ,['La République en Marche !'],'PREFERENCE PARTISANE','Total en Marche / MODEM'),\n",
    "    ('PREFERENCE PARTISANE' ,['Les Républicains'],'PREFERENCE PARTISANE','Total Droite'),\n",
    "    ('VOTE PRESIDENTIELLE 2017 (1ER TOUR)' ,['Jean-Luc MELENCHON','Benoît HAMON','Emmanuel MACRON','François FILLON','Marine LE PEN','Abstention, vote blanc ou nul'],'Ensemble','Ensemble'),\n",
    "    ('VOTE PRESIDENTIELLE 2017 (2ND TOUR)' ,['Emmanuel MACRON','Marine LE PEN','Abstention, vote blanc ou nul'],'Ensemble','Ensemble'),   \n",
    "]"
   ]
  },
  {
   "cell_type": "code",
   "execution_count": 13,
   "metadata": {},
   "outputs": [
    {
     "output_type": "stream",
     "name": "stdout",
     "text": [
      "['Homme', 'Femme']\n",
      "[473. 524.]\n",
      "['18-24 ans', '25-34 ans', '35-49 ans', '50-64 ans', '65 ans et plus']\n",
      "[174.  63. 323. 223. 221.]\n",
      "['Actifs', 'Inactifs']\n",
      "[532. 469.]\n",
      "['Artisan, commerçant', 'CSP+', 'CSP-']\n",
      "[ 73. 205. 246.]\n",
      "['Cadre, profession intellectuelle supérieure', 'Profession intermédiaire']\n",
      "[ 78. 124.]\n",
      "['Employé', 'Ouvrier']\n",
      "[125. 121.]\n",
      "['Retraité', 'Autre Inactif']\n",
      "[320. 150.]\n",
      "['Communes rurales', 'Communes urbaines de province', 'Agglomération parisienne']\n",
      "[295. 540. 154.]\n",
      "['De 2.000 à moins de 20.000 hab.', 'De 20.000 à moins de 100.000 hab.', '100.000 hab. et plus']\n",
      "[150. 104. 284.]\n",
      "['Total Gauche', 'Total en Marche / MODEM', 'Total Droite', 'Le Rassemblement National', 'Sans préférence partisane']\n",
      "[344. 112.  86. 100. 343.]\n",
      "['La France Insoumise', 'Europe Ecologie Les Verts', 'Parti Socialiste / Génération.s/ PRG']\n",
      "[152.  71. 113.]\n",
      "['La République en Marche !']\n",
      "[104.]\n",
      "['Les Républicains']\n",
      "[80.]\n",
      "['Jean-Luc MELENCHON', 'Benoît HAMON', 'Emmanuel MACRON', 'François FILLON', 'Marine LE PEN', 'Abstention, vote blanc ou nul']\n",
      "[135.   0. 179. 167. 205. 306.]\n",
      "['Emmanuel MACRON', 'Marine LE PEN', 'Abstention, vote blanc ou nul']\n",
      "[419. 178. 379.]\n",
      "RuntimeWarning: invalid value encountered in true_divide [methods.py:80]\n"
     ]
    }
   ],
   "source": [
    "df_alter=recompute_base(df,relations,df.columns[5:])"
   ]
  },
  {
   "cell_type": "code",
   "execution_count": 14,
   "metadata": {},
   "outputs": [
    {
     "output_type": "execute_result",
     "data": {
      "text/plain": [
       "                Nom  Base        Date                  Categorie  \\\n",
       "0   Emmanuel MACRON  1003  2021-03-03                   Ensemble   \n",
       "1   Emmanuel MACRON   473  2021-03-03          SEXE DU REPONDANT   \n",
       "2   Emmanuel MACRON   524  2021-03-03          SEXE DU REPONDANT   \n",
       "3   Emmanuel MACRON   174  2021-03-03           AGE DU REPONDANT   \n",
       "4   Emmanuel MACRON    63  2021-03-03           AGE DU REPONDANT   \n",
       "5   Emmanuel MACRON   323  2021-03-03           AGE DU REPONDANT   \n",
       "6   Emmanuel MACRON   223  2021-03-03           AGE DU REPONDANT   \n",
       "7   Emmanuel MACRON   221  2021-03-03           AGE DU REPONDANT   \n",
       "8   Emmanuel MACRON   532  2021-03-03    PROFESSION DU REPONDANT   \n",
       "9   Emmanuel MACRON    73  2021-03-03    PROFESSION DU REPONDANT   \n",
       "10  Emmanuel MACRON   205  2021-03-03    PROFESSION DU REPONDANT   \n",
       "11  Emmanuel MACRON    78  2021-03-03    PROFESSION DU REPONDANT   \n",
       "12  Emmanuel MACRON   124  2021-03-03    PROFESSION DU REPONDANT   \n",
       "13  Emmanuel MACRON   246  2021-03-03    PROFESSION DU REPONDANT   \n",
       "14  Emmanuel MACRON   125  2021-03-03    PROFESSION DU REPONDANT   \n",
       "15  Emmanuel MACRON   121  2021-03-03    PROFESSION DU REPONDANT   \n",
       "16  Emmanuel MACRON   469  2021-03-03    PROFESSION DU REPONDANT   \n",
       "17  Emmanuel MACRON   320  2021-03-03    PROFESSION DU REPONDANT   \n",
       "18  Emmanuel MACRON   150  2021-03-03    PROFESSION DU REPONDANT   \n",
       "19  Emmanuel MACRON   295  2021-03-03  CATEGORIE D'AGGLOMERATION   \n",
       "20  Emmanuel MACRON   540  2021-03-03  CATEGORIE D'AGGLOMERATION   \n",
       "21  Emmanuel MACRON   150  2021-03-03  CATEGORIE D'AGGLOMERATION   \n",
       "22  Emmanuel MACRON   104  2021-03-03  CATEGORIE D'AGGLOMERATION   \n",
       "23  Emmanuel MACRON   284  2021-03-03  CATEGORIE D'AGGLOMERATION   \n",
       "24  Emmanuel MACRON   154  2021-03-03  CATEGORIE D'AGGLOMERATION   \n",
       "25  Emmanuel MACRON   344  2021-03-03       PREFERENCE PARTISANE   \n",
       "26  Emmanuel MACRON   152  2021-03-03       PREFERENCE PARTISANE   \n",
       "27  Emmanuel MACRON    71  2021-03-03       PREFERENCE PARTISANE   \n",
       "28  Emmanuel MACRON   113  2021-03-03       PREFERENCE PARTISANE   \n",
       "29  Emmanuel MACRON   112  2021-03-03       PREFERENCE PARTISANE   \n",
       "\n",
       "                                         Groupe  tres_positif  positif  \\\n",
       "0                                      Ensemble           6.0     28.0   \n",
       "1                                         Homme           8.0     31.0   \n",
       "2                                         Femme           4.0     26.0   \n",
       "3                                     18-24 ans          11.0     26.0   \n",
       "4                                     25-34 ans           5.0     28.0   \n",
       "5                                     35-49 ans           5.0     25.0   \n",
       "6                                     50-64 ans           6.0     30.0   \n",
       "7                                65 ans et plus           4.0     32.0   \n",
       "8                                        Actifs           5.0     29.0   \n",
       "9                           Artisan, commerçant           8.0     34.0   \n",
       "10                                         CSP+           5.0     35.0   \n",
       "11  Cadre, profession intellectuelle supérieure           7.0     41.0   \n",
       "12                     Profession intermédiaire           3.0     32.0   \n",
       "13                                         CSP-           4.0     22.0   \n",
       "14                                      Employé           4.0     25.0   \n",
       "15                                      Ouvrier           6.0     19.0   \n",
       "16                                     Inactifs           7.0     28.0   \n",
       "17                                     Retraité           5.0     31.0   \n",
       "18                                Autre Inactif          10.0     23.0   \n",
       "19                             Communes rurales           7.0     24.0   \n",
       "20                Communes urbaines de province           6.0     29.0   \n",
       "21              De 2.000 à moins de 20.000 hab.           5.0     26.0   \n",
       "22            De 20.000 à moins de 100.000 hab.           8.0     28.0   \n",
       "23                         100.000 hab. et plus           5.0     31.0   \n",
       "24                     Agglomération parisienne           4.0     32.0   \n",
       "25                                 Total Gauche           5.0     23.0   \n",
       "26                          La France Insoumise           3.0     13.0   \n",
       "27                    Europe Ecologie Les Verts           6.0     17.0   \n",
       "28         Parti Socialiste / Génération.s/ PRG           4.0     41.0   \n",
       "29                      Total en Marche / MODEM          22.0     71.0   \n",
       "\n",
       "    negatif  tres_negatif   nsp  total_positif  total_negatif  \n",
       "0      29.0          31.0   6.0           34.0           60.0  \n",
       "1      26.0          32.0   3.0           39.0           58.0  \n",
       "2      32.0          30.0   8.0           30.0           62.0  \n",
       "3      35.0          19.0   9.0           37.0           54.0  \n",
       "4      37.0          23.0   7.0           33.0           60.0  \n",
       "5      27.0          37.0   6.0           30.0           64.0  \n",
       "6      26.0          33.0   5.0           36.0           59.0  \n",
       "7      27.0          33.0   4.0           36.0           60.0  \n",
       "8      29.0          31.0   6.0           34.0           60.0  \n",
       "9      29.0          29.0   0.0           42.0           58.0  \n",
       "10     28.0          25.0   7.0           40.0           53.0  \n",
       "11     26.0          22.0   4.0           48.0           48.0  \n",
       "12     29.0          28.0   8.0           35.0           57.0  \n",
       "13     31.0          36.0   7.0           26.0           67.0  \n",
       "14     31.0          34.0   6.0           29.0           65.0  \n",
       "15     30.0          38.0   7.0           25.0           68.0  \n",
       "16     29.0          31.0   5.0           35.0           60.0  \n",
       "17     28.0          33.0   3.0           36.0           61.0  \n",
       "18     32.0          25.0  10.0           33.0           57.0  \n",
       "19     31.0          33.0   5.0           31.0           64.0  \n",
       "20     28.0          31.0   6.0           35.0           59.0  \n",
       "21     28.0          36.0   5.0           31.0           64.0  \n",
       "22     25.0          33.0   6.0           36.0           58.0  \n",
       "23     30.0          27.0   7.0           36.0           57.0  \n",
       "24     31.0          28.0   5.0           36.0           59.0  \n",
       "25     34.0          35.0   3.0           28.0           69.0  \n",
       "26     30.0          52.0   2.0           16.0           82.0  \n",
       "27     45.0          26.0   6.0           23.0           71.0  \n",
       "28     34.0          20.0   1.0           45.0           54.0  \n",
       "29      3.0           4.0   0.0           93.0            7.0  "
      ],
      "text/html": "<div>\n<style scoped>\n    .dataframe tbody tr th:only-of-type {\n        vertical-align: middle;\n    }\n\n    .dataframe tbody tr th {\n        vertical-align: top;\n    }\n\n    .dataframe thead th {\n        text-align: right;\n    }\n</style>\n<table border=\"1\" class=\"dataframe\">\n  <thead>\n    <tr style=\"text-align: right;\">\n      <th></th>\n      <th>Nom</th>\n      <th>Base</th>\n      <th>Date</th>\n      <th>Categorie</th>\n      <th>Groupe</th>\n      <th>tres_positif</th>\n      <th>positif</th>\n      <th>negatif</th>\n      <th>tres_negatif</th>\n      <th>nsp</th>\n      <th>total_positif</th>\n      <th>total_negatif</th>\n    </tr>\n  </thead>\n  <tbody>\n    <tr>\n      <th>0</th>\n      <td>Emmanuel MACRON</td>\n      <td>1003</td>\n      <td>2021-03-03</td>\n      <td>Ensemble</td>\n      <td>Ensemble</td>\n      <td>6.0</td>\n      <td>28.0</td>\n      <td>29.0</td>\n      <td>31.0</td>\n      <td>6.0</td>\n      <td>34.0</td>\n      <td>60.0</td>\n    </tr>\n    <tr>\n      <th>1</th>\n      <td>Emmanuel MACRON</td>\n      <td>473</td>\n      <td>2021-03-03</td>\n      <td>SEXE DU REPONDANT</td>\n      <td>Homme</td>\n      <td>8.0</td>\n      <td>31.0</td>\n      <td>26.0</td>\n      <td>32.0</td>\n      <td>3.0</td>\n      <td>39.0</td>\n      <td>58.0</td>\n    </tr>\n    <tr>\n      <th>2</th>\n      <td>Emmanuel MACRON</td>\n      <td>524</td>\n      <td>2021-03-03</td>\n      <td>SEXE DU REPONDANT</td>\n      <td>Femme</td>\n      <td>4.0</td>\n      <td>26.0</td>\n      <td>32.0</td>\n      <td>30.0</td>\n      <td>8.0</td>\n      <td>30.0</td>\n      <td>62.0</td>\n    </tr>\n    <tr>\n      <th>3</th>\n      <td>Emmanuel MACRON</td>\n      <td>174</td>\n      <td>2021-03-03</td>\n      <td>AGE DU REPONDANT</td>\n      <td>18-24 ans</td>\n      <td>11.0</td>\n      <td>26.0</td>\n      <td>35.0</td>\n      <td>19.0</td>\n      <td>9.0</td>\n      <td>37.0</td>\n      <td>54.0</td>\n    </tr>\n    <tr>\n      <th>4</th>\n      <td>Emmanuel MACRON</td>\n      <td>63</td>\n      <td>2021-03-03</td>\n      <td>AGE DU REPONDANT</td>\n      <td>25-34 ans</td>\n      <td>5.0</td>\n      <td>28.0</td>\n      <td>37.0</td>\n      <td>23.0</td>\n      <td>7.0</td>\n      <td>33.0</td>\n      <td>60.0</td>\n    </tr>\n    <tr>\n      <th>5</th>\n      <td>Emmanuel MACRON</td>\n      <td>323</td>\n      <td>2021-03-03</td>\n      <td>AGE DU REPONDANT</td>\n      <td>35-49 ans</td>\n      <td>5.0</td>\n      <td>25.0</td>\n      <td>27.0</td>\n      <td>37.0</td>\n      <td>6.0</td>\n      <td>30.0</td>\n      <td>64.0</td>\n    </tr>\n    <tr>\n      <th>6</th>\n      <td>Emmanuel MACRON</td>\n      <td>223</td>\n      <td>2021-03-03</td>\n      <td>AGE DU REPONDANT</td>\n      <td>50-64 ans</td>\n      <td>6.0</td>\n      <td>30.0</td>\n      <td>26.0</td>\n      <td>33.0</td>\n      <td>5.0</td>\n      <td>36.0</td>\n      <td>59.0</td>\n    </tr>\n    <tr>\n      <th>7</th>\n      <td>Emmanuel MACRON</td>\n      <td>221</td>\n      <td>2021-03-03</td>\n      <td>AGE DU REPONDANT</td>\n      <td>65 ans et plus</td>\n      <td>4.0</td>\n      <td>32.0</td>\n      <td>27.0</td>\n      <td>33.0</td>\n      <td>4.0</td>\n      <td>36.0</td>\n      <td>60.0</td>\n    </tr>\n    <tr>\n      <th>8</th>\n      <td>Emmanuel MACRON</td>\n      <td>532</td>\n      <td>2021-03-03</td>\n      <td>PROFESSION DU REPONDANT</td>\n      <td>Actifs</td>\n      <td>5.0</td>\n      <td>29.0</td>\n      <td>29.0</td>\n      <td>31.0</td>\n      <td>6.0</td>\n      <td>34.0</td>\n      <td>60.0</td>\n    </tr>\n    <tr>\n      <th>9</th>\n      <td>Emmanuel MACRON</td>\n      <td>73</td>\n      <td>2021-03-03</td>\n      <td>PROFESSION DU REPONDANT</td>\n      <td>Artisan, commerçant</td>\n      <td>8.0</td>\n      <td>34.0</td>\n      <td>29.0</td>\n      <td>29.0</td>\n      <td>0.0</td>\n      <td>42.0</td>\n      <td>58.0</td>\n    </tr>\n    <tr>\n      <th>10</th>\n      <td>Emmanuel MACRON</td>\n      <td>205</td>\n      <td>2021-03-03</td>\n      <td>PROFESSION DU REPONDANT</td>\n      <td>CSP+</td>\n      <td>5.0</td>\n      <td>35.0</td>\n      <td>28.0</td>\n      <td>25.0</td>\n      <td>7.0</td>\n      <td>40.0</td>\n      <td>53.0</td>\n    </tr>\n    <tr>\n      <th>11</th>\n      <td>Emmanuel MACRON</td>\n      <td>78</td>\n      <td>2021-03-03</td>\n      <td>PROFESSION DU REPONDANT</td>\n      <td>Cadre, profession intellectuelle supérieure</td>\n      <td>7.0</td>\n      <td>41.0</td>\n      <td>26.0</td>\n      <td>22.0</td>\n      <td>4.0</td>\n      <td>48.0</td>\n      <td>48.0</td>\n    </tr>\n    <tr>\n      <th>12</th>\n      <td>Emmanuel MACRON</td>\n      <td>124</td>\n      <td>2021-03-03</td>\n      <td>PROFESSION DU REPONDANT</td>\n      <td>Profession intermédiaire</td>\n      <td>3.0</td>\n      <td>32.0</td>\n      <td>29.0</td>\n      <td>28.0</td>\n      <td>8.0</td>\n      <td>35.0</td>\n      <td>57.0</td>\n    </tr>\n    <tr>\n      <th>13</th>\n      <td>Emmanuel MACRON</td>\n      <td>246</td>\n      <td>2021-03-03</td>\n      <td>PROFESSION DU REPONDANT</td>\n      <td>CSP-</td>\n      <td>4.0</td>\n      <td>22.0</td>\n      <td>31.0</td>\n      <td>36.0</td>\n      <td>7.0</td>\n      <td>26.0</td>\n      <td>67.0</td>\n    </tr>\n    <tr>\n      <th>14</th>\n      <td>Emmanuel MACRON</td>\n      <td>125</td>\n      <td>2021-03-03</td>\n      <td>PROFESSION DU REPONDANT</td>\n      <td>Employé</td>\n      <td>4.0</td>\n      <td>25.0</td>\n      <td>31.0</td>\n      <td>34.0</td>\n      <td>6.0</td>\n      <td>29.0</td>\n      <td>65.0</td>\n    </tr>\n    <tr>\n      <th>15</th>\n      <td>Emmanuel MACRON</td>\n      <td>121</td>\n      <td>2021-03-03</td>\n      <td>PROFESSION DU REPONDANT</td>\n      <td>Ouvrier</td>\n      <td>6.0</td>\n      <td>19.0</td>\n      <td>30.0</td>\n      <td>38.0</td>\n      <td>7.0</td>\n      <td>25.0</td>\n      <td>68.0</td>\n    </tr>\n    <tr>\n      <th>16</th>\n      <td>Emmanuel MACRON</td>\n      <td>469</td>\n      <td>2021-03-03</td>\n      <td>PROFESSION DU REPONDANT</td>\n      <td>Inactifs</td>\n      <td>7.0</td>\n      <td>28.0</td>\n      <td>29.0</td>\n      <td>31.0</td>\n      <td>5.0</td>\n      <td>35.0</td>\n      <td>60.0</td>\n    </tr>\n    <tr>\n      <th>17</th>\n      <td>Emmanuel MACRON</td>\n      <td>320</td>\n      <td>2021-03-03</td>\n      <td>PROFESSION DU REPONDANT</td>\n      <td>Retraité</td>\n      <td>5.0</td>\n      <td>31.0</td>\n      <td>28.0</td>\n      <td>33.0</td>\n      <td>3.0</td>\n      <td>36.0</td>\n      <td>61.0</td>\n    </tr>\n    <tr>\n      <th>18</th>\n      <td>Emmanuel MACRON</td>\n      <td>150</td>\n      <td>2021-03-03</td>\n      <td>PROFESSION DU REPONDANT</td>\n      <td>Autre Inactif</td>\n      <td>10.0</td>\n      <td>23.0</td>\n      <td>32.0</td>\n      <td>25.0</td>\n      <td>10.0</td>\n      <td>33.0</td>\n      <td>57.0</td>\n    </tr>\n    <tr>\n      <th>19</th>\n      <td>Emmanuel MACRON</td>\n      <td>295</td>\n      <td>2021-03-03</td>\n      <td>CATEGORIE D'AGGLOMERATION</td>\n      <td>Communes rurales</td>\n      <td>7.0</td>\n      <td>24.0</td>\n      <td>31.0</td>\n      <td>33.0</td>\n      <td>5.0</td>\n      <td>31.0</td>\n      <td>64.0</td>\n    </tr>\n    <tr>\n      <th>20</th>\n      <td>Emmanuel MACRON</td>\n      <td>540</td>\n      <td>2021-03-03</td>\n      <td>CATEGORIE D'AGGLOMERATION</td>\n      <td>Communes urbaines de province</td>\n      <td>6.0</td>\n      <td>29.0</td>\n      <td>28.0</td>\n      <td>31.0</td>\n      <td>6.0</td>\n      <td>35.0</td>\n      <td>59.0</td>\n    </tr>\n    <tr>\n      <th>21</th>\n      <td>Emmanuel MACRON</td>\n      <td>150</td>\n      <td>2021-03-03</td>\n      <td>CATEGORIE D'AGGLOMERATION</td>\n      <td>De 2.000 à moins de 20.000 hab.</td>\n      <td>5.0</td>\n      <td>26.0</td>\n      <td>28.0</td>\n      <td>36.0</td>\n      <td>5.0</td>\n      <td>31.0</td>\n      <td>64.0</td>\n    </tr>\n    <tr>\n      <th>22</th>\n      <td>Emmanuel MACRON</td>\n      <td>104</td>\n      <td>2021-03-03</td>\n      <td>CATEGORIE D'AGGLOMERATION</td>\n      <td>De 20.000 à moins de 100.000 hab.</td>\n      <td>8.0</td>\n      <td>28.0</td>\n      <td>25.0</td>\n      <td>33.0</td>\n      <td>6.0</td>\n      <td>36.0</td>\n      <td>58.0</td>\n    </tr>\n    <tr>\n      <th>23</th>\n      <td>Emmanuel MACRON</td>\n      <td>284</td>\n      <td>2021-03-03</td>\n      <td>CATEGORIE D'AGGLOMERATION</td>\n      <td>100.000 hab. et plus</td>\n      <td>5.0</td>\n      <td>31.0</td>\n      <td>30.0</td>\n      <td>27.0</td>\n      <td>7.0</td>\n      <td>36.0</td>\n      <td>57.0</td>\n    </tr>\n    <tr>\n      <th>24</th>\n      <td>Emmanuel MACRON</td>\n      <td>154</td>\n      <td>2021-03-03</td>\n      <td>CATEGORIE D'AGGLOMERATION</td>\n      <td>Agglomération parisienne</td>\n      <td>4.0</td>\n      <td>32.0</td>\n      <td>31.0</td>\n      <td>28.0</td>\n      <td>5.0</td>\n      <td>36.0</td>\n      <td>59.0</td>\n    </tr>\n    <tr>\n      <th>25</th>\n      <td>Emmanuel MACRON</td>\n      <td>344</td>\n      <td>2021-03-03</td>\n      <td>PREFERENCE PARTISANE</td>\n      <td>Total Gauche</td>\n      <td>5.0</td>\n      <td>23.0</td>\n      <td>34.0</td>\n      <td>35.0</td>\n      <td>3.0</td>\n      <td>28.0</td>\n      <td>69.0</td>\n    </tr>\n    <tr>\n      <th>26</th>\n      <td>Emmanuel MACRON</td>\n      <td>152</td>\n      <td>2021-03-03</td>\n      <td>PREFERENCE PARTISANE</td>\n      <td>La France Insoumise</td>\n      <td>3.0</td>\n      <td>13.0</td>\n      <td>30.0</td>\n      <td>52.0</td>\n      <td>2.0</td>\n      <td>16.0</td>\n      <td>82.0</td>\n    </tr>\n    <tr>\n      <th>27</th>\n      <td>Emmanuel MACRON</td>\n      <td>71</td>\n      <td>2021-03-03</td>\n      <td>PREFERENCE PARTISANE</td>\n      <td>Europe Ecologie Les Verts</td>\n      <td>6.0</td>\n      <td>17.0</td>\n      <td>45.0</td>\n      <td>26.0</td>\n      <td>6.0</td>\n      <td>23.0</td>\n      <td>71.0</td>\n    </tr>\n    <tr>\n      <th>28</th>\n      <td>Emmanuel MACRON</td>\n      <td>113</td>\n      <td>2021-03-03</td>\n      <td>PREFERENCE PARTISANE</td>\n      <td>Parti Socialiste / Génération.s/ PRG</td>\n      <td>4.0</td>\n      <td>41.0</td>\n      <td>34.0</td>\n      <td>20.0</td>\n      <td>1.0</td>\n      <td>45.0</td>\n      <td>54.0</td>\n    </tr>\n    <tr>\n      <th>29</th>\n      <td>Emmanuel MACRON</td>\n      <td>112</td>\n      <td>2021-03-03</td>\n      <td>PREFERENCE PARTISANE</td>\n      <td>Total en Marche / MODEM</td>\n      <td>22.0</td>\n      <td>71.0</td>\n      <td>3.0</td>\n      <td>4.0</td>\n      <td>0.0</td>\n      <td>93.0</td>\n      <td>7.0</td>\n    </tr>\n  </tbody>\n</table>\n</div>"
     },
     "metadata": {},
     "execution_count": 14
    }
   ],
   "source": [
    "df_alter.head(30)"
   ]
  },
  {
   "cell_type": "code",
   "execution_count": 15,
   "metadata": {},
   "outputs": [
    {
     "output_type": "stream",
     "name": "stdout",
     "text": [
      "False\n"
     ]
    },
    {
     "output_type": "execute_result",
     "data": {
      "text/plain": [
       "Empty DataFrame\n",
       "Columns: [Nom, Base, Date, Categorie, Groupe, tres_positif, positif, negatif, tres_negatif, nsp, total_positif, total_negatif]\n",
       "Index: []"
      ],
      "text/html": "<div>\n<style scoped>\n    .dataframe tbody tr th:only-of-type {\n        vertical-align: middle;\n    }\n\n    .dataframe tbody tr th {\n        vertical-align: top;\n    }\n\n    .dataframe thead th {\n        text-align: right;\n    }\n</style>\n<table border=\"1\" class=\"dataframe\">\n  <thead>\n    <tr style=\"text-align: right;\">\n      <th></th>\n      <th>Nom</th>\n      <th>Base</th>\n      <th>Date</th>\n      <th>Categorie</th>\n      <th>Groupe</th>\n      <th>tres_positif</th>\n      <th>positif</th>\n      <th>negatif</th>\n      <th>tres_negatif</th>\n      <th>nsp</th>\n      <th>total_positif</th>\n      <th>total_negatif</th>\n    </tr>\n  </thead>\n  <tbody>\n  </tbody>\n</table>\n</div>"
     },
     "metadata": {},
     "execution_count": 15
    }
   ],
   "source": [
    "\n",
    "# with open(\"rapport/2020-10-14.pdf\",\"rb\") as pdf_file:\n",
    "#     pdf_report= PyPDF2.PdfFileReader(pdf_file)\n",
    "#     isEncrypted = pdf_report.getIsEncrypted()\n",
    "#     nbPages= pdf_report.numPages\n",
    "\n",
    "#     page1=pdf_report.getPage(15)\n",
    "#     text=page1.extractText().replace(',','.')\n",
    "#     text = extract_text(pdf_file,page_numbers=[14])\n",
    "\n",
    "# print(text)\n",
    "\n",
    "print(df.isnull().values.any())\n",
    "df.head(10)\n",
    "df.describe()\n",
    "df[df.Base==0]"
   ]
  },
  {
   "source": [
    "## Find mistakes and try to correct them"
   ],
   "cell_type": "markdown",
   "metadata": {}
  },
  {
   "cell_type": "code",
   "execution_count": 16,
   "metadata": {},
   "outputs": [],
   "source": [
    "def find_fav_mistake(df):\n",
    "    tfav=df['Très favorable']\n",
    "    pfav=df['Plutôt favorable']\n",
    "    stfav=df['ST Favorable']\n",
    "    fav_df= df[np.abs(tfav+pfav-stfav)>0.11]\n",
    "    return fav_df\n",
    "\n",
    "def find_def_mistake(df):\n",
    "    tdef=df['Très défavorable']\n",
    "    pdef=df['Plutôt défavorable']\n",
    "    stdef=df['ST Défavorable']\n",
    "    def_df= df[np.abs(tdef+pdef-stdef)>0.11]\n",
    "    return def_df\n",
    "\n",
    "def find_nsp_mistake(df):\n",
    "    stfav=df['ST Favorable']\n",
    "    stdef=df['ST Défavorable']\n",
    "    nsp=df['Nsp']\n",
    "    tot_df= df[np.abs(stfav+stdef+nsp-100)>0.11]\n",
    "    return tot_df\n",
    "\n",
    "def find_mistake(df):\n",
    "    fav_df= find_fav_mistake(df)\n",
    "    def_df= find_def_mistake(df)\n",
    "    tot_df=find_nsp_mistake(df)\n",
    "    error_df=pd.concat([fav_df,def_df,tot_df])\n",
    "    return error_df"
   ]
  },
  {
   "cell_type": "code",
   "execution_count": 17,
   "metadata": {},
   "outputs": [],
   "source": [
    "def realign_fav(df,i=0,imax=-1):\n",
    "    df_err=find_fav_mistake(df)\n",
    "    zeros_cols= [x for x in [\"Très favorable\",\"Plutôt favorable\",\"ST Favorable\"] if df[x].all()==0]\n",
    "    if imax==-1:\n",
    "        imax=len(zeros_cols)*len(df)\n",
    "    if not df_err.empty and i<=imax:\n",
    "        col=zeros_cols[0]\n",
    "        values=df_err[col].tolist()\n",
    "        values=values[1:]+[values[0]]\n",
    "        df.loc[df_err.index,col]=values\n",
    "        df=realign_fav(df,i+1)\n",
    "    return df\n",
    "\n",
    "def realign_def(df,i=0,imax=-1):\n",
    "    df_err=find_fav_mistake(df)\n",
    "    zeros_cols= [x for x in [\"Très défavorable\",\"Plutôt défavorable\",\"ST Défavorable\"] if df[x].all()==0]\n",
    "    if imax==-1:\n",
    "        imax=len(zeros_cols)*len(df)\n",
    "    if not df_err.empty and i<=imax:\n",
    "        col=zeros_cols[0]\n",
    "        values=df_err[col].tolist()\n",
    "        values=values[1:]+[values[0]]\n",
    "        df.loc[df_err.index,col]=values\n",
    "        df=realign_def(df,i+1)\n",
    "    return df\n",
    "\n",
    "def realign_nsp(df,i=0,imax=-1):\n",
    "    df_err=find_fav_mistake(df)\n",
    "    zeros_cols= [x for x in [\"ST Favorable\",\"ST Défavorable\",\"Nsp\"] if df[x].all()==0]\n",
    "    if imax==-1:\n",
    "        imax=len(zeros_cols)*len(df)\n",
    "    if not df_err.empty and i<=imax:\n",
    "        col=zeros_cols[0]\n",
    "        values=df_err[col].tolist()\n",
    "        values=values[1:]+[values[0]]\n",
    "        df.loc[df_err.index,col]=values\n",
    "        df=realign_nsp(df,i+1)\n",
    "    return df\n",
    "\n",
    "    \n",
    "\n"
   ]
  },
  {
   "cell_type": "code",
   "execution_count": 18,
   "metadata": {},
   "outputs": [],
   "source": [
    "def correct_mistakes(df):\n",
    "    df_err=find_fav_mistake(df)\n",
    "    for nom in df_err.Nom.unique():\n",
    "        for cat in df_err[df_err.Nom==nom].Categorie.unique():\n",
    "            cond=((df_err.Nom==nom) & (df_err.Categorie==cat))\n",
    "            df_err.loc[cond]=realign_fav(df_err[cond])\n",
    "    df.loc[df_err.index]=df_err\n",
    "\n",
    "    df_err=find_def_mistake(df)\n",
    "    for nom in df_err.Nom.unique():\n",
    "        for cat in df_err[df_err.Nom==nom].Categorie.unique():\n",
    "            cond=((df_err.Nom==nom) & (df_err.Categorie==cat))\n",
    "            df_err.loc[cond]=realign_def(df_err[cond])\n",
    "    df.loc[df_err.index]=df_err\n",
    "\n",
    "    df_err=find_nsp_mistake(df)\n",
    "    for nom in df_err.Nom.unique():\n",
    "        for cat in df_err[df_err.Nom==nom].Categorie.unique():\n",
    "            cond=((df_err.Nom==nom) & (df_err.Categorie==cat))\n",
    "            df_err.loc[cond]=realign_nsp(df_err[cond])\n",
    "    df.loc[df_err.index]=df_err\n",
    "    return df"
   ]
  },
  {
   "cell_type": "code",
   "execution_count": 19,
   "metadata": {},
   "outputs": [
    {
     "output_type": "error",
     "ename": "KeyError",
     "evalue": "'Très favorable'",
     "traceback": [
      "\u001b[1;31m---------------------------------------------------------------------------\u001b[0m",
      "\u001b[1;31mKeyError\u001b[0m                                  Traceback (most recent call last)",
      "\u001b[1;32mD:\\Programmes\\Python3\\lib\\site-packages\\pandas\\core\\indexes\\base.py\u001b[0m in \u001b[0;36mget_loc\u001b[1;34m(self, key, method, tolerance)\u001b[0m\n\u001b[0;32m   2645\u001b[0m             \u001b[1;32mtry\u001b[0m\u001b[1;33m:\u001b[0m\u001b[1;33m\u001b[0m\u001b[1;33m\u001b[0m\u001b[0m\n\u001b[1;32m-> 2646\u001b[1;33m                 \u001b[1;32mreturn\u001b[0m \u001b[0mself\u001b[0m\u001b[1;33m.\u001b[0m\u001b[0m_engine\u001b[0m\u001b[1;33m.\u001b[0m\u001b[0mget_loc\u001b[0m\u001b[1;33m(\u001b[0m\u001b[0mkey\u001b[0m\u001b[1;33m)\u001b[0m\u001b[1;33m\u001b[0m\u001b[1;33m\u001b[0m\u001b[0m\n\u001b[0m\u001b[0;32m   2647\u001b[0m             \u001b[1;32mexcept\u001b[0m \u001b[0mKeyError\u001b[0m\u001b[1;33m:\u001b[0m\u001b[1;33m\u001b[0m\u001b[1;33m\u001b[0m\u001b[0m\n",
      "\u001b[1;32mpandas\\_libs\\index.pyx\u001b[0m in \u001b[0;36mpandas._libs.index.IndexEngine.get_loc\u001b[1;34m()\u001b[0m\n",
      "\u001b[1;32mpandas\\_libs\\index.pyx\u001b[0m in \u001b[0;36mpandas._libs.index.IndexEngine.get_loc\u001b[1;34m()\u001b[0m\n",
      "\u001b[1;32mpandas\\_libs\\hashtable_class_helper.pxi\u001b[0m in \u001b[0;36mpandas._libs.hashtable.PyObjectHashTable.get_item\u001b[1;34m()\u001b[0m\n",
      "\u001b[1;32mpandas\\_libs\\hashtable_class_helper.pxi\u001b[0m in \u001b[0;36mpandas._libs.hashtable.PyObjectHashTable.get_item\u001b[1;34m()\u001b[0m\n",
      "\u001b[1;31mKeyError\u001b[0m: 'Très favorable'",
      "\nDuring handling of the above exception, another exception occurred:\n",
      "\u001b[1;31mKeyError\u001b[0m                                  Traceback (most recent call last)",
      "\u001b[1;32m<ipython-input-19-e888becef428>\u001b[0m in \u001b[0;36m<module>\u001b[1;34m\u001b[0m\n\u001b[1;32m----> 1\u001b[1;33m \u001b[0mdf_err\u001b[0m\u001b[1;33m=\u001b[0m\u001b[0mfind_mistake\u001b[0m\u001b[1;33m(\u001b[0m\u001b[0mdf\u001b[0m\u001b[1;33m)\u001b[0m\u001b[1;33m\u001b[0m\u001b[1;33m\u001b[0m\u001b[0m\n\u001b[0m\u001b[0;32m      2\u001b[0m \u001b[1;32mif\u001b[0m \u001b[0mlen\u001b[0m\u001b[1;33m(\u001b[0m\u001b[0mdf_err\u001b[0m\u001b[1;33m)\u001b[0m\u001b[1;33m>\u001b[0m\u001b[1;36m0\u001b[0m\u001b[1;33m:\u001b[0m\u001b[1;33m\u001b[0m\u001b[1;33m\u001b[0m\u001b[0m\n\u001b[0;32m      3\u001b[0m     \u001b[0mindex\u001b[0m\u001b[1;33m=\u001b[0m\u001b[0mdf_err\u001b[0m\u001b[1;33m.\u001b[0m\u001b[0miloc\u001b[0m\u001b[1;33m[\u001b[0m\u001b[1;36m0\u001b[0m\u001b[1;33m:\u001b[0m\u001b[1;36m1\u001b[0m\u001b[1;33m]\u001b[0m\u001b[1;33m.\u001b[0m\u001b[0mindex\u001b[0m\u001b[1;33m[\u001b[0m\u001b[1;36m0\u001b[0m\u001b[1;33m]\u001b[0m\u001b[1;33m\u001b[0m\u001b[1;33m\u001b[0m\u001b[0m\n\u001b[0;32m      4\u001b[0m     \u001b[0mval\u001b[0m\u001b[1;33m=\u001b[0m\u001b[0mdf_err\u001b[0m\u001b[1;33m.\u001b[0m\u001b[0miloc\u001b[0m\u001b[1;33m[\u001b[0m\u001b[1;36m0\u001b[0m\u001b[1;33m]\u001b[0m\u001b[1;33m.\u001b[0m\u001b[0mvalues\u001b[0m\u001b[1;33m[\u001b[0m\u001b[1;36m3\u001b[0m\u001b[1;33m:\u001b[0m\u001b[1;33m]\u001b[0m\u001b[1;33m\u001b[0m\u001b[1;33m\u001b[0m\u001b[0m\n\u001b[0;32m      5\u001b[0m     \u001b[0mprint\u001b[0m\u001b[1;33m(\u001b[0m\u001b[0mval\u001b[0m\u001b[1;33m)\u001b[0m\u001b[1;33m\u001b[0m\u001b[1;33m\u001b[0m\u001b[0m\n",
      "\u001b[1;32m<ipython-input-16-8788d50c1f1a>\u001b[0m in \u001b[0;36mfind_mistake\u001b[1;34m(df)\u001b[0m\n\u001b[0;32m     21\u001b[0m \u001b[1;33m\u001b[0m\u001b[0m\n\u001b[0;32m     22\u001b[0m \u001b[1;32mdef\u001b[0m \u001b[0mfind_mistake\u001b[0m\u001b[1;33m(\u001b[0m\u001b[0mdf\u001b[0m\u001b[1;33m)\u001b[0m\u001b[1;33m:\u001b[0m\u001b[1;33m\u001b[0m\u001b[1;33m\u001b[0m\u001b[0m\n\u001b[1;32m---> 23\u001b[1;33m     \u001b[0mfav_df\u001b[0m\u001b[1;33m=\u001b[0m \u001b[0mfind_fav_mistake\u001b[0m\u001b[1;33m(\u001b[0m\u001b[0mdf\u001b[0m\u001b[1;33m)\u001b[0m\u001b[1;33m\u001b[0m\u001b[1;33m\u001b[0m\u001b[0m\n\u001b[0m\u001b[0;32m     24\u001b[0m     \u001b[0mdef_df\u001b[0m\u001b[1;33m=\u001b[0m \u001b[0mfind_def_mistake\u001b[0m\u001b[1;33m(\u001b[0m\u001b[0mdf\u001b[0m\u001b[1;33m)\u001b[0m\u001b[1;33m\u001b[0m\u001b[1;33m\u001b[0m\u001b[0m\n\u001b[0;32m     25\u001b[0m     \u001b[0mtot_df\u001b[0m\u001b[1;33m=\u001b[0m\u001b[0mfind_nsp_mistake\u001b[0m\u001b[1;33m(\u001b[0m\u001b[0mdf\u001b[0m\u001b[1;33m)\u001b[0m\u001b[1;33m\u001b[0m\u001b[1;33m\u001b[0m\u001b[0m\n",
      "\u001b[1;32m<ipython-input-16-8788d50c1f1a>\u001b[0m in \u001b[0;36mfind_fav_mistake\u001b[1;34m(df)\u001b[0m\n\u001b[0;32m      1\u001b[0m \u001b[1;32mdef\u001b[0m \u001b[0mfind_fav_mistake\u001b[0m\u001b[1;33m(\u001b[0m\u001b[0mdf\u001b[0m\u001b[1;33m)\u001b[0m\u001b[1;33m:\u001b[0m\u001b[1;33m\u001b[0m\u001b[1;33m\u001b[0m\u001b[0m\n\u001b[1;32m----> 2\u001b[1;33m     \u001b[0mtfav\u001b[0m\u001b[1;33m=\u001b[0m\u001b[0mdf\u001b[0m\u001b[1;33m[\u001b[0m\u001b[1;34m'Très favorable'\u001b[0m\u001b[1;33m]\u001b[0m\u001b[1;33m\u001b[0m\u001b[1;33m\u001b[0m\u001b[0m\n\u001b[0m\u001b[0;32m      3\u001b[0m     \u001b[0mpfav\u001b[0m\u001b[1;33m=\u001b[0m\u001b[0mdf\u001b[0m\u001b[1;33m[\u001b[0m\u001b[1;34m'Plutôt favorable'\u001b[0m\u001b[1;33m]\u001b[0m\u001b[1;33m\u001b[0m\u001b[1;33m\u001b[0m\u001b[0m\n\u001b[0;32m      4\u001b[0m     \u001b[0mstfav\u001b[0m\u001b[1;33m=\u001b[0m\u001b[0mdf\u001b[0m\u001b[1;33m[\u001b[0m\u001b[1;34m'ST Favorable'\u001b[0m\u001b[1;33m]\u001b[0m\u001b[1;33m\u001b[0m\u001b[1;33m\u001b[0m\u001b[0m\n\u001b[0;32m      5\u001b[0m     \u001b[0mfav_df\u001b[0m\u001b[1;33m=\u001b[0m \u001b[0mdf\u001b[0m\u001b[1;33m[\u001b[0m\u001b[0mnp\u001b[0m\u001b[1;33m.\u001b[0m\u001b[0mabs\u001b[0m\u001b[1;33m(\u001b[0m\u001b[0mtfav\u001b[0m\u001b[1;33m+\u001b[0m\u001b[0mpfav\u001b[0m\u001b[1;33m-\u001b[0m\u001b[0mstfav\u001b[0m\u001b[1;33m)\u001b[0m\u001b[1;33m>\u001b[0m\u001b[1;36m0.11\u001b[0m\u001b[1;33m]\u001b[0m\u001b[1;33m\u001b[0m\u001b[1;33m\u001b[0m\u001b[0m\n",
      "\u001b[1;32mD:\\Programmes\\Python3\\lib\\site-packages\\pandas\\core\\frame.py\u001b[0m in \u001b[0;36m__getitem__\u001b[1;34m(self, key)\u001b[0m\n\u001b[0;32m   2798\u001b[0m             \u001b[1;32mif\u001b[0m \u001b[0mself\u001b[0m\u001b[1;33m.\u001b[0m\u001b[0mcolumns\u001b[0m\u001b[1;33m.\u001b[0m\u001b[0mnlevels\u001b[0m \u001b[1;33m>\u001b[0m \u001b[1;36m1\u001b[0m\u001b[1;33m:\u001b[0m\u001b[1;33m\u001b[0m\u001b[1;33m\u001b[0m\u001b[0m\n\u001b[0;32m   2799\u001b[0m                 \u001b[1;32mreturn\u001b[0m \u001b[0mself\u001b[0m\u001b[1;33m.\u001b[0m\u001b[0m_getitem_multilevel\u001b[0m\u001b[1;33m(\u001b[0m\u001b[0mkey\u001b[0m\u001b[1;33m)\u001b[0m\u001b[1;33m\u001b[0m\u001b[1;33m\u001b[0m\u001b[0m\n\u001b[1;32m-> 2800\u001b[1;33m             \u001b[0mindexer\u001b[0m \u001b[1;33m=\u001b[0m \u001b[0mself\u001b[0m\u001b[1;33m.\u001b[0m\u001b[0mcolumns\u001b[0m\u001b[1;33m.\u001b[0m\u001b[0mget_loc\u001b[0m\u001b[1;33m(\u001b[0m\u001b[0mkey\u001b[0m\u001b[1;33m)\u001b[0m\u001b[1;33m\u001b[0m\u001b[1;33m\u001b[0m\u001b[0m\n\u001b[0m\u001b[0;32m   2801\u001b[0m             \u001b[1;32mif\u001b[0m \u001b[0mis_integer\u001b[0m\u001b[1;33m(\u001b[0m\u001b[0mindexer\u001b[0m\u001b[1;33m)\u001b[0m\u001b[1;33m:\u001b[0m\u001b[1;33m\u001b[0m\u001b[1;33m\u001b[0m\u001b[0m\n\u001b[0;32m   2802\u001b[0m                 \u001b[0mindexer\u001b[0m \u001b[1;33m=\u001b[0m \u001b[1;33m[\u001b[0m\u001b[0mindexer\u001b[0m\u001b[1;33m]\u001b[0m\u001b[1;33m\u001b[0m\u001b[1;33m\u001b[0m\u001b[0m\n",
      "\u001b[1;32mD:\\Programmes\\Python3\\lib\\site-packages\\pandas\\core\\indexes\\base.py\u001b[0m in \u001b[0;36mget_loc\u001b[1;34m(self, key, method, tolerance)\u001b[0m\n\u001b[0;32m   2646\u001b[0m                 \u001b[1;32mreturn\u001b[0m \u001b[0mself\u001b[0m\u001b[1;33m.\u001b[0m\u001b[0m_engine\u001b[0m\u001b[1;33m.\u001b[0m\u001b[0mget_loc\u001b[0m\u001b[1;33m(\u001b[0m\u001b[0mkey\u001b[0m\u001b[1;33m)\u001b[0m\u001b[1;33m\u001b[0m\u001b[1;33m\u001b[0m\u001b[0m\n\u001b[0;32m   2647\u001b[0m             \u001b[1;32mexcept\u001b[0m \u001b[0mKeyError\u001b[0m\u001b[1;33m:\u001b[0m\u001b[1;33m\u001b[0m\u001b[1;33m\u001b[0m\u001b[0m\n\u001b[1;32m-> 2648\u001b[1;33m                 \u001b[1;32mreturn\u001b[0m \u001b[0mself\u001b[0m\u001b[1;33m.\u001b[0m\u001b[0m_engine\u001b[0m\u001b[1;33m.\u001b[0m\u001b[0mget_loc\u001b[0m\u001b[1;33m(\u001b[0m\u001b[0mself\u001b[0m\u001b[1;33m.\u001b[0m\u001b[0m_maybe_cast_indexer\u001b[0m\u001b[1;33m(\u001b[0m\u001b[0mkey\u001b[0m\u001b[1;33m)\u001b[0m\u001b[1;33m)\u001b[0m\u001b[1;33m\u001b[0m\u001b[1;33m\u001b[0m\u001b[0m\n\u001b[0m\u001b[0;32m   2649\u001b[0m         \u001b[0mindexer\u001b[0m \u001b[1;33m=\u001b[0m \u001b[0mself\u001b[0m\u001b[1;33m.\u001b[0m\u001b[0mget_indexer\u001b[0m\u001b[1;33m(\u001b[0m\u001b[1;33m[\u001b[0m\u001b[0mkey\u001b[0m\u001b[1;33m]\u001b[0m\u001b[1;33m,\u001b[0m \u001b[0mmethod\u001b[0m\u001b[1;33m=\u001b[0m\u001b[0mmethod\u001b[0m\u001b[1;33m,\u001b[0m \u001b[0mtolerance\u001b[0m\u001b[1;33m=\u001b[0m\u001b[0mtolerance\u001b[0m\u001b[1;33m)\u001b[0m\u001b[1;33m\u001b[0m\u001b[1;33m\u001b[0m\u001b[0m\n\u001b[0;32m   2650\u001b[0m         \u001b[1;32mif\u001b[0m \u001b[0mindexer\u001b[0m\u001b[1;33m.\u001b[0m\u001b[0mndim\u001b[0m \u001b[1;33m>\u001b[0m \u001b[1;36m1\u001b[0m \u001b[1;32mor\u001b[0m \u001b[0mindexer\u001b[0m\u001b[1;33m.\u001b[0m\u001b[0msize\u001b[0m \u001b[1;33m>\u001b[0m \u001b[1;36m1\u001b[0m\u001b[1;33m:\u001b[0m\u001b[1;33m\u001b[0m\u001b[1;33m\u001b[0m\u001b[0m\n",
      "\u001b[1;32mpandas\\_libs\\index.pyx\u001b[0m in \u001b[0;36mpandas._libs.index.IndexEngine.get_loc\u001b[1;34m()\u001b[0m\n",
      "\u001b[1;32mpandas\\_libs\\index.pyx\u001b[0m in \u001b[0;36mpandas._libs.index.IndexEngine.get_loc\u001b[1;34m()\u001b[0m\n",
      "\u001b[1;32mpandas\\_libs\\hashtable_class_helper.pxi\u001b[0m in \u001b[0;36mpandas._libs.hashtable.PyObjectHashTable.get_item\u001b[1;34m()\u001b[0m\n",
      "\u001b[1;32mpandas\\_libs\\hashtable_class_helper.pxi\u001b[0m in \u001b[0;36mpandas._libs.hashtable.PyObjectHashTable.get_item\u001b[1;34m()\u001b[0m\n",
      "\u001b[1;31mKeyError\u001b[0m: 'Très favorable'"
     ]
    }
   ],
   "source": [
    "df_err=find_mistake(df)\n",
    "if len(df_err)>0:\n",
    "    index=df_err.iloc[0:1].index[0]\n",
    "    val=df_err.iloc[0].values[3:]\n",
    "    print(val)\n",
    "    correct=[]\n",
    "    cols=[\"Base\",\"Très favorable\",\"Plutôt favorable\",\"ST Favorable\",\"Plutôt défavorable\",\"Très défavorable\",\"ST Défavorable\",\"Nsp\",\"Evolution ST Favorable\",\"Evolution ST Défavorable\"]\n",
    "    while len(correct)!=10:\n",
    "        correct=input()\n",
    "        correct=[float(x) for x in correct.split(' ')]\n",
    "    print(correct)\n",
    "    df.loc[index,cols]=correct"
   ]
  },
  {
   "cell_type": "code",
   "execution_count": null,
   "metadata": {},
   "outputs": [],
   "source": [
    "df_err=find_mistake(df)\r\n",
    "df_err"
   ]
  },
  {
   "cell_type": "code",
   "execution_count": null,
   "metadata": {},
   "outputs": [],
   "source": [
    "\n",
    "# df.to_pickle('data/'+filename+'.p')"
   ]
  }
 ],
 "metadata": {
  "language_info": {
   "codemirror_mode": {
    "name": "ipython",
    "version": 3
   },
   "file_extension": ".py",
   "mimetype": "text/x-python",
   "name": "python",
   "nbconvert_exporter": "python",
   "pygments_lexer": "ipython3",
   "version": "3.7.7-final"
  },
  "orig_nbformat": 2,
  "kernelspec": {
   "name": "python37764bitb6ef9b95e5314da5935130084e765a7f",
   "display_name": "Python 3.7.7 64-bit",
   "language": "python"
  }
 },
 "nbformat": 4,
 "nbformat_minor": 2
}