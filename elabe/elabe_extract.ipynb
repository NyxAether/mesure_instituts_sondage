{
 "cells": [
  {
   "cell_type": "markdown",
   "metadata": {},
   "source": [
    "# Modifications de résultats des sondages\n",
    "\n",
    "## Import préliminaires des librairies"
   ]
  },
  {
   "cell_type": "code",
   "execution_count": 1,
   "metadata": {},
   "outputs": [],
   "source": [
    "import re\n",
    "import numpy as np\n",
    "import pandas as pd\n",
    "import locale \n",
    "from locale import atof\n",
    "# Régression linéaire\n",
    "from sklearn.linear_model import LinearRegression\n",
    "\n",
    "# Read files\n",
    "import PyPDF2\n",
    "from pdfminer.high_level import extract_text\n",
    "\n",
    "# Perso\n",
    "from importlib.machinery import SourceFileLoader\n",
    "tools = SourceFileLoader('methods', '../methods.py').load_module()\n",
    "from methods import *"
   ]
  },
  {
   "cell_type": "code",
   "execution_count": 83,
   "metadata": {},
   "outputs": [
    {
     "output_type": "stream",
     "name": "stdout",
     "text": [
      "Le classement des personnalités\nAuprès des sympathisants de la gauche\n\nQuestion : Pour chacune des personnalités suivantes, indiquez si vous en avez une image positive ou une image négative ?\nEn %\n\n45\n\n20\n\n14\n\nNicolas Hulot\nOlivier Besancenot\nChristiane Taubira\nJean-Luc Mélenchon\nAnne Hidalgo\nBenoît Hamon\nFrançois Ruffin\nSégolène Royal\nYannick Jadot\nFrançois Hollande\nJean-Yves Le Drian\nArnaud Montebourg\nBernard Cazeneuve\nFrançois Bayrou\nOlivier Véran\nOlivier Faure\nBruno Le Maire\nXavier Bertrand\nFrançois Baroin\nMarlène Schiappa\nJean-Michel Blanquer\nRachida Dati\nMarion Maréchal\nNicolas Sarkozy\nValérie Pécresse\nManuel Valls\nMarine Le Pen\nChristophe Castaner\nGérald Darmanin\nGérard Larcher\nNicolas Dupont-Aignan\nSibeth Ndiaye\nMuriel Pénicaud\nChristian Jacob\nLaurent Wauquiez\n\n17\n\n22\n\n18\n\n7\n\n14\n\n18\n\n7\n11\n\n6\n8\n\n5\n\n10\n\n4\n5\n3\n\n6\n\n3\n3\n3\n2\n4\n4\n4\n2\n4\n4\n2\n3\n2\n1\n\n4\n\n14\n14\n14\n16\n13\n13\n15\n13\n\n12\n13\n7\n\n36\n30\n\n34\n\n26\n\n29\n\n23\n\n27\n24\n26\n21\n\n24\n22\n20\n21\n\n44\n\n31\n\n33\n\n43\n\n34\n28\n\n12\n\n18\n\n25\n\n33\n\n22\n\n31\n\n19\n22\n\n26\n\n19\n\n22\n\n16\n\n27\n\n16\n\n21\n\n25\n29\n\n16\n\n22\n22\n\n21\n23\n\n15\n\n10\n\n13\n\n17\n\n21\n\n27\n\n32\n9\n32\n\n18\n\n12\n\n23\n\n38\n\n30\n\n14\n\n18\n\n29\n22\n\n42\n\n55\n\n41\n\n63\n50\n\n53\n\n34\n\n47\n\n32\n\n25\n\n50\n37\n\n17\n\n45\n\n28\n\n15\n\n23\n\n9\n7\n6\n\n1\n2\n24\n2\nUne image plutôt positive\n\n18\n\nL'Observatoire politique – Juin 2020\n04/06/2020\n\n15\n\n8\n10\n\n20\n\n18\n\n16\n\n20\n\n19\n\n16\n\n21\n\n13\n14\n16\n\n17\n15\n\n8\n\n7\n\n10\n\n29\n\n18\n\n10\n\n38\n18\n\n30\n\n27\n27\n\n40\n\n33\n\n22\n\n25\n\n23\n25\n\n23\n\n13\n13\n\n13\n\n11\n\n6\n\n4\n\n30\n\n40\n\n16\n\n24\n\n30\n\n45\n\n23\nSans opinion\n\nS/T\n« Positive »\n65\n61\n53\n51\n50\n48\n46\n43\n41\n40\n34\n34\n33\n31\n29\n29\n27\n27\n25\n23\n23\n18\n18\n18\n18\n17\n17\n17\n16\n14\n14\n11\n10\n9\n8\n\nEvolution\nsur 1 mois\n-2\n+9\n+5\n+2\n+4\n+3\n+11\n+7\n+6\n+2\n+5\n=\n+1\n+5\n-2\n+3\n+3\n+3\n+6\n+8\n+5\n+3\n+4\n=\n=\n=\n+5\n+2\n+5\n+3\n+1\n-1\n=\n-3\n=\n\nUne image très positive\n\nUne image plutôt négative\n\nUne image très négative\n\n\f\n"
     ]
    }
   ],
   "source": [
    "fp=\"rapport/2020-06-03.pdf\"\n",
    "text = extract_text(fp,page_numbers=[16])\n",
    "question1=\"Êtes-vous  satisfait  ou  mécontent  d\"\n",
    "question2=\"Êtes-vous satisfait ou mécontent d\"\n",
    "# print(text.find(question1))\n",
    "# print(text.find(question2))\n",
    "# print(len(question2))\n",
    "print(re.sub('\\.\\.\\. (?![\\n])','...\\n',text))"
   ]
  },
  {
   "cell_type": "code",
   "execution_count": 85,
   "metadata": {},
   "outputs": [
    {
     "output_type": "stream",
     "name": "stdout",
     "text": [
      "10\n9\n6\n5\n5\n5\n5\n8\n7\n6\n4\n8\n4\n4\n3\n3\n3\n6\n3\n4\n3\n2\n6\n3\n2\n3\n4\n3\n3\n2\n2\n2\n2\n1\n2\n35\n26\n26\n27\n27\n25\n24\n20\n21\n22\n24\n18\n22\n22\n22\n21\n21\n17\n19\n17\n18\n19\n14\n17\n18\n16\n14\n15\n14\n15\n11\n11\n11\n11\n6\n21\n21\n21\n19\n19\n16\n18\n17\n18\n16\n22\n19\n20\n22\n28\n23\n21\n21\n28\n22\n18\n23\n17\n29\n26\n21\n16\n22\n23\n21\n18\n20\n27\n19\n16\n16\n30\n20\n17\n21\n18\n16\n43\n35\n29\n28\n34\n24\n29\n22\n22\n24\n42\n35\n30\n25\n38\n22\n33\n20\n36\n18\n29\n18\n33\n21\n32\n42\n19\n48\n18\n14\n27\n32\n28\n36\n37\n12\n19\n27\n22\n21\n30\n23\n25\n31\n31\n14\n15\n27\n36\n18\n41\n18\n34\n24\n48\n31\n42\n29\n48\n35\n18\n50\n28\nNicolas Hulot\nNicolas Sarkozy\nOlivier Véran\nXavier Bertrand\nBruno Le Maire\nJean-Yves Le Drian\nFrançois Baroin\nMarine Le Pen\nMarion Maréchal\nOlivier Besancenot\nAnne Hidalgo\nChristiane Taubira\nValérie Pécresse\nRachida Dati\nFrançois Bayrou\nBernard Cazeneuve\nJean-Michel Blanquer\nJean-Luc Mélenchon\nFrançois Hollande\nBenoît Hamon\nGérald Darmanin\nChristophe Castaner\nFrançois Ruffin\nSégolène Royal\nArnaud Montebourg\nNicolas Dupont-Aignan\nYannick Jadot\nLaurent Wauquiez\nGérard Larcher\nMarlène Schiappa\nChristian Jacob\nMuriel Pénicaud\nManuel Valls\nOlivier Faure\nSibeth Ndiaye\nUne image très positive\nUne image plutôt positive\nUne image plutôt négative\nUne image très négative\nSans opinion\nQuestion : Pour chacune des personnalités suivantes, indiquez si vous en avez une image positive ou une image négative ?\nEn %\n16\nL'Observatoire politique \n\nJuin 2020\n04/06/2020\nLe classement des personnalités\nEnsemble des Français\nS/T\n«\nPositive\n»\n45\n35\n32\n32\n32\n30\n29\n28\n28\n28\n28\n26\n26\n26\n25\n24\n24\n23\n22\n21\n21\n21\n20\n20\n20\n19\n18\n18\n17\n17\n13\n13\n13\n12\n8\nEvolution\nsur 1 mois\n-\n3\n+1\n-\n2\n+2\n+3\n+1\n+1\n+2\n+5\n+1\n+3\n+3\n+3\n+3\n+3\n+1\n+2\n-\n1\n+2\n+1\n+2\n=\n+2\n+1\n=\n-\n1\n-\n1\n+1\n+1\n+1\n-\n2\n+1\n=\n=\n=\n\n"
     ]
    }
   ],
   "source": [
    "with open(fp,\"rb\") as pdf_file:\n",
    "    pdf_reader= PyPDF2.PdfFileReader(pdf_file)\n",
    "    isEncrypted = pdf_reader.getIsEncrypted()\n",
    "    nbPages= pdf_reader.numPages\n",
    "\n",
    "    # Define columns\n",
    "    page_content=pdf_reader.getPage(15).extractText()\n",
    "print(page_content)"
   ]
  },
  {
   "source": [
    "# Extraction des données avec PyPDF2\n",
    "PyPDF2 semble être constant dans la forme d'extraction des données de Elab.\n",
    "La structure des données ainsi que les détails d'extraction sont précisés ci-dessous:\n",
    "* Elabe fourni les données détaillées pour deux personnalités que sont le président de la République et le premier ministre. Les noms n'étant pas indiqués sur la page de données, il faut les extraire ailleurs ou les préciser à la main.\n",
    "* Il y a deux pages successives de données par individus\n",
    "* Les catégories principales sont indiquées en capitales\n",
    "* Il existe des catégories secondaires et tertiaires sans différenciation possible. Elles seront traités comme sous catégories.\n",
    "* La base de chaque catégories n'est pas précisée, il faudra donc utiliser de la régression linéaire pour tenter de les retrouver\n",
    "* Les trous dans les données ne sont pas visible. Il faut un système de vérification.\n",
    "* Les variations ne sont pas données\n",
    "\n",
    "__Format des données__\n",
    "* Les données sont fournis en lisant les lignes dans l'ordre\n",
    "* Chaque cellule est extraite par PyPDF2 une à la fois en introduisant un saut de ligne\n",
    "* Les blancs dans les données ne créént pas de fusion d'information mais disparaissent sans faire de double saut de lignes\n",
    "* Le caractère '__-__' compromet les cellules et induit un ou plusieurs sauts malencontreux :\n",
    "    * Si le '-' apparait au milieu d'un texte, il induit un _double saut de ligne_ (ex: 18-24 ans)\n",
    "    * Si le '-' apparait à la fin d'un texte il induit un _seul_ saut de ligne supplémentaire avant sont apparition (CSP-)  \n",
    "* Il faudra donc préformater le texte au préalable\n"
   ],
   "cell_type": "markdown",
   "metadata": {}
  },
  {
   "source": [
    "## Extract content (to delete later)"
   ],
   "cell_type": "markdown",
   "metadata": {}
  },
  {
   "cell_type": "code",
   "execution_count": 4,
   "metadata": {},
   "outputs": [
    {
     "output_type": "execute_result",
     "data": {
      "text/plain": [
       "\"Interrogation\\nFiche technique\\n2\\n\\nMode de recueil et dates de terrain\\nLa\\nreprésentativité\\nde\\n\\na\\nété\\nassurée\\nselon\\nla\\nméthode\\ndes\\nquotas\\nappliquée\\naux\\nvariables\\nsuivantes\\n:\\nsexe,\\nâge\\net\\nprofession\\nde\\n\\naprès\\nstratification\\npar\\nrégion\\net\\ncatégorie\\n\\n.\\nEchantillon de \\n1 003  \\npersonnes représentatif de la population française âgée de 18 ans et plus.\\nInterrogation par Internet les \\n2 et 3 mars 2021\\n.\\n04/03/2021\\nL'Observatoire politique \\n\\nMars 2021\\n\""
      ]
     },
     "metadata": {},
     "execution_count": 4
    }
   ],
   "source": [
    "def get_page_content(num_page,fp)->str:\n",
    "    with open(fp,\"rb\") as pdf_file:\n",
    "        pdf_reader= PyPDF2.PdfFileReader(pdf_file)\n",
    "        isEncrypted = pdf_reader.getIsEncrypted()\n",
    "        nbPages= pdf_reader.numPages\n",
    "        return pdf_reader.getPage(num_page-1).extractText()\n",
    "\n",
    "    # Define columns\n",
    "page_content=get_page_content(2,fp)\n",
    "page_content"
   ]
  },
  {
   "source": [
    "## Préformatage"
   ],
   "cell_type": "markdown",
   "metadata": {}
  },
  {
   "cell_type": "code",
   "execution_count": 5,
   "metadata": {},
   "outputs": [
    {
     "output_type": "execute_result",
     "data": {
      "text/plain": [
       "\"Interrogation\\nFiche technique\\n2\\n\\nMode de recueil et dates de terrain\\nLa\\nreprésentativité\\nde\\n\\na\\nété\\nassurée\\nselon\\nla\\nméthode\\ndes\\nquotas\\nappliquée\\naux\\nvariables\\nsuivantes\\n:\\nsexe,\\nâge\\net\\nprofession\\nde\\n\\naprès\\nstratification\\npar\\nrégion\\net\\ncatégorie\\n\\n.\\nEchantillon de \\n1 003  \\npersonnes représentatif de la population française âgée de 18 ans et plus.\\nInterrogation par Internet les \\n2 et 3 mars 2021\\n.\\n04/03/2021\\nL'Observatoire politique \\n\\nMars 2021\""
      ]
     },
     "metadata": {},
     "execution_count": 5
    }
   ],
   "source": [
    "##Préformatage\n",
    "def preformatage(page_content)->str:\n",
    "    #Remplacement des données d'age\n",
    "    page_content=page_content.replace('18\\n-\\n24 ans','18-24 ans')\n",
    "    page_content=page_content.replace('25\\n-\\n34 ans','25-34 ans')\n",
    "    page_content=page_content.replace('35\\n-\\n49 ans','35-49 ans')\n",
    "    page_content=page_content.replace('50\\n-\\n64 ans','50-64 ans')\n",
    "    # Remplacement CSP-\n",
    "    page_content=page_content.replace('CSP\\n-','CSP-')\n",
    "    # Remplacement EELV\n",
    "    page_content=page_content.replace('Europe Ecologie \\n-\\nLes Verts','Europe Ecologie Les Verts')\n",
    "    # Noms de candidats\n",
    "    page_content=page_content.replace('Jean\\n-\\n','Jean-')\n",
    "    # Remplacement /\n",
    "    page_content=page_content.replace('/ \\n','/ ')\n",
    "    page_content=page_content.replace('\\n/','/')\n",
    "    # Remplacement Total .. en minuscule\n",
    "    page_content=page_content.replace('TOTAL GAUCHE','Total Gauche')\n",
    "    page_content=page_content.replace('TOTAL EN MARCHE / MODEM','Total en Marche / MODEM')\n",
    "    page_content=page_content.replace('TOTAL DROITE','Total Droite')\n",
    "    # Suppression fin de texte\n",
    "    page_content=page_content.replace('\\nLa cote de confiance du Président de la République','')\n",
    "    page_content=page_content.replace('\\nLa cote de confiance du Premier ministre','')\n",
    "    # Suppression des notes de bas de pages\n",
    "    page_content=page_content.replace(' (*)','')\n",
    "    page_content=page_content.replace('(*)','')\n",
    "    # Suppression du dernier saut de ligne\n",
    "    page_content=page_content.rstrip('\\n')\n",
    "    return page_content\n",
    "\n",
    "preformatage(page_content)\n"
   ]
  },
  {
   "source": [
    "## Extraction de la base"
   ],
   "cell_type": "markdown",
   "metadata": {}
  },
  {
   "cell_type": "code",
   "execution_count": 6,
   "metadata": {},
   "outputs": [
    {
     "output_type": "execute_result",
     "data": {
      "text/plain": [
       "1003"
      ]
     },
     "metadata": {},
     "execution_count": 6
    }
   ],
   "source": [
    "def extract_base(fp,num_page=2)->int:\n",
    "    page_content=get_page_content(num_page,fp)\n",
    "    text_deb='Echantillon de \\n'\n",
    "    text_fin='\\npersonnes'\n",
    "    i_deb=page_content.find(text_deb)+len(text_deb)\n",
    "    i_fin=page_content.find(text_fin)\n",
    "    base=int(page_content[i_deb:i_fin].rstrip().replace(' ',''))\n",
    "    return base\n",
    "extract_base(fp)"
   ]
  },
  {
   "source": [
    "## Création du modèle de Dataframe"
   ],
   "cell_type": "markdown",
   "metadata": {}
  },
  {
   "cell_type": "code",
   "execution_count": 7,
   "metadata": {},
   "outputs": [],
   "source": [
    "df=pd.DataFrame(columns=['Nom','Base','Date','Categorie','Groupe','tres_positif','positif','negatif','tres_negatif','nsp','total_positif','total_negatif'])"
   ]
  },
  {
   "source": [
    "## Extraction de page formattée"
   ],
   "cell_type": "markdown",
   "metadata": {}
  },
  {
   "cell_type": "code",
   "execution_count": 8,
   "metadata": {
    "tags": []
   },
   "outputs": [],
   "source": [
    "def extract_series(data,i,columns,nom,base,date,prv_categorie)->pd.Series:\n",
    "    \"\"\"Extrait une serie de data à partir de l'indice i jusqu'à la prochaine valeur non digit\n",
    "\n",
    "    Args:\n",
    "        data (list): Toutes les données dans une liste \n",
    "        i (int): Indice courant dans les données\n",
    "        columns (list): Liste des noms de colonnes \n",
    "        nom (str): Nom de la personnalité\n",
    "        base (int): Nombre de sondés\n",
    "        date (datetime.date): Date du sondage\n",
    "\n",
    "    Returns:\n",
    "        pd.Series: La serie contenant les valeurs à stocker\n",
    "        int: new index\n",
    "    \"\"\"\n",
    "    values=[nom,base,date]\n",
    "    #Catégorie\n",
    "    if data[i].isupper() and '+' not in data[i] and '-' not in data[i]:\n",
    "        values.append(data[i])\n",
    "        i+=1\n",
    "    else:\n",
    "        values.append(prv_categorie)\n",
    "    #Groupe\n",
    "    values.append(data[i])\n",
    "    # On saut la cellule qui contient le 100% et qui ne sert a rien\n",
    "    i+=2\n",
    "    while i<len(data) and re.match('^\\d+$',data[i]):\n",
    "        values.append(float(data[i]))\n",
    "        i+=1\n",
    "    # Vérification\n",
    "    while len(values)!=len(columns):\n",
    "        print(values)\n",
    "        j=int(input('Où faut-il ajouter un zéro ? (1-7)'))+4\n",
    "        values=values[:j]+[0.0]+values[j:]\n",
    "    return pd.Series(values,index=columns),i\n",
    "\n",
    "\n",
    "\n",
    "def extract_detailled_page(page_content,df,nom,base,date)->pd.DataFrame:\n",
    "    \"\"\"\n",
    "    Extrait une page du pdf et l'ajoute au dataframe.\n",
    "    \n",
    "    Parameters\n",
    "    ----------\n",
    "    page_content: texte formatté de la page dot l'on souhaite extraire les données\n",
    "    df: Dataframe pour stocker les données\n",
    "    nom: Nom de la personnalité \n",
    "    base: Base d'étude (à compléter par regression plus tard)\n",
    "    date: Date du sondage\n",
    "\n",
    "    Returns\n",
    "    -------\n",
    "    Dataframe\n",
    "        Dataframe df avec les nouvelles données\n",
    "    \"\"\"\n",
    "    indice_debut=page_content.find('Ensemble')\n",
    "    data=page_content[indice_debut:].split('\\n')\n",
    "    i=0\n",
    "    cat='Ensemble'\n",
    "    while i < len(data):\n",
    "        if not re.match('^\\d+$',data[i]):\n",
    "            s,i=extract_series(data,i,df.columns,nom,base,date,cat)\n",
    "            cat=s.Categorie\n",
    "            df=df.append(s,ignore_index=True)\n",
    "    return df\n"
   ]
  },
  {
   "source": [
    "## Extraction pour une personnalité"
   ],
   "cell_type": "markdown",
   "metadata": {}
  },
  {
   "cell_type": "code",
   "execution_count": 9,
   "metadata": {},
   "outputs": [],
   "source": [
    "def extract_detailled_perso(df,fp,page_indexes,nom,base,date)->pd.DataFrame:\n",
    "    \"\"\"Extrait les données sur toutes les pages pour une personnalité\n",
    "\n",
    "    Args:\n",
    "        df (pandas.Dataframe): Dataframe stockant les données\n",
    "        fp (str): filepath du fichier à lire\n",
    "        page_indexes (list): Liste des pages à extraire\n",
    "        nom (str): Nom de la personnalité\n",
    "        base (int): Nb de sondés\n",
    "        date (datetime.date): Date du sondate\n",
    "        inline (bool): Si True modification en ligne\n",
    "\n",
    "    Returns:\n",
    "        pd.DataFrame: Dataframe étendu des nouvelles données\n",
    "    \"\"\"\n",
    "    for i in page_indexes:\n",
    "        page_content=preformatage(get_page_content(i,fp))\n",
    "        df=extract_detailled_page(page_content,df,nom,base,date)\n",
    "    df=df.drop_duplicates(ignore_index=True)\n",
    "    return df\n",
    "\n",
    "        "
   ]
  },
  {
   "cell_type": "code",
   "execution_count": 34,
   "metadata": {},
   "outputs": [
    {
     "output_type": "stream",
     "name": "stdout",
     "text": [
      "['Emmanuel MACRON', 1002, '2020-06-03', 'PREFERENCE PARTISANE', 'La République en Marche !', 31.0, 65.0, 4.0, 1.0, 96.0, 4.0]\n",
      "['Emmanuel MACRON', 1002, '2020-06-03', 'PREFERENCE PARTISANE', 'Les Républicains', 6.0, 36.0, 35.0, 23.0, 42.0, 58.0]\n",
      "['Emmanuel MACRON', 1002, '2020-06-03', 'VOTE PRESIDENTIELLE 2017 (1ER TOUR)', 'Benoît HAMON', 4.0, 30.0, 32.0, 34.0, 34.0, 66.0]\n",
      "['Emmanuel MACRON', 1002, '2020-06-03', 'VOTE PRESIDENTIELLE 2017 (1ER TOUR)', 'François FILLON', 10.0, 36.0, 25.0, 29.0, 46.0, 54.0]\n",
      "['Edouard PHILIPPE', 1002, '2020-06-03', 'PROFESSION DU REPONDANT', 'Cadre, profession intellectuelle supérieure', 13.0, 39.0, 26.0, 22.0, 52.0, 48.0]\n",
      "['Edouard PHILIPPE', 1002, '2020-06-03', 'PREFERENCE PARTISANE', 'Le Rassemblement National', 14.0, 20.0, 62.0, 3.0, 14.0, 83.0]\n"
     ]
    },
    {
     "output_type": "execute_result",
     "data": {
      "text/plain": [
       "                 Nom  Base        Date                            Categorie  \\\n",
       "0    Emmanuel MACRON  1002  2020-06-03                             Ensemble   \n",
       "1    Emmanuel MACRON  1002  2020-06-03                    SEXE DU REPONDANT   \n",
       "2    Emmanuel MACRON  1002  2020-06-03                    SEXE DU REPONDANT   \n",
       "3    Emmanuel MACRON  1002  2020-06-03                     AGE DU REPONDANT   \n",
       "4    Emmanuel MACRON  1002  2020-06-03                     AGE DU REPONDANT   \n",
       "..               ...   ...         ...                                  ...   \n",
       "83  Edouard PHILIPPE  1002  2020-06-03  VOTE PRESIDENTIELLE 2017 (1ER TOUR)   \n",
       "84  Edouard PHILIPPE  1002  2020-06-03  VOTE PRESIDENTIELLE 2017 (1ER TOUR)   \n",
       "85  Edouard PHILIPPE  1002  2020-06-03  VOTE PRESIDENTIELLE 2017 (2ND TOUR)   \n",
       "86  Edouard PHILIPPE  1002  2020-06-03  VOTE PRESIDENTIELLE 2017 (2ND TOUR)   \n",
       "87  Edouard PHILIPPE  1002  2020-06-03  VOTE PRESIDENTIELLE 2017 (2ND TOUR)   \n",
       "\n",
       "                           Groupe  tres_positif  positif  negatif  \\\n",
       "0                        Ensemble           7.0     26.0     28.0   \n",
       "1                           Homme           8.0     28.0     25.0   \n",
       "2                           Femme           6.0     23.0     31.0   \n",
       "3                       18-24 ans          11.0     24.0     31.0   \n",
       "4                       25-34 ans          11.0     30.0     22.0   \n",
       "..                            ...           ...      ...      ...   \n",
       "83                  Marine LE PEN           1.0     17.0     25.0   \n",
       "84  Abstention, vote blanc ou nul           5.0     23.0     35.0   \n",
       "85                Emmanuel MACRON          18.0     45.0     24.0   \n",
       "86                  Marine LE PEN           2.0     16.0     24.0   \n",
       "87  Abstention, vote blanc ou nul           4.0     22.0     32.0   \n",
       "\n",
       "    tres_negatif   nsp  total_positif  total_negatif  \n",
       "0           34.0   5.0           33.0           62.0  \n",
       "1           34.0   5.0           36.0           59.0  \n",
       "2           34.0   6.0           29.0           65.0  \n",
       "3           22.0  12.0           35.0           53.0  \n",
       "4           32.0   5.0           41.0           54.0  \n",
       "..           ...   ...            ...            ...  \n",
       "83          54.0   3.0           18.0           79.0  \n",
       "84          27.0  10.0           28.0           62.0  \n",
       "85           9.0   4.0           63.0           33.0  \n",
       "86          55.0   3.0           18.0           79.0  \n",
       "87          35.0   7.0           26.0           67.0  \n",
       "\n",
       "[88 rows x 12 columns]"
      ],
      "text/html": "<div>\n<style scoped>\n    .dataframe tbody tr th:only-of-type {\n        vertical-align: middle;\n    }\n\n    .dataframe tbody tr th {\n        vertical-align: top;\n    }\n\n    .dataframe thead th {\n        text-align: right;\n    }\n</style>\n<table border=\"1\" class=\"dataframe\">\n  <thead>\n    <tr style=\"text-align: right;\">\n      <th></th>\n      <th>Nom</th>\n      <th>Base</th>\n      <th>Date</th>\n      <th>Categorie</th>\n      <th>Groupe</th>\n      <th>tres_positif</th>\n      <th>positif</th>\n      <th>negatif</th>\n      <th>tres_negatif</th>\n      <th>nsp</th>\n      <th>total_positif</th>\n      <th>total_negatif</th>\n    </tr>\n  </thead>\n  <tbody>\n    <tr>\n      <th>0</th>\n      <td>Emmanuel MACRON</td>\n      <td>1002</td>\n      <td>2020-06-03</td>\n      <td>Ensemble</td>\n      <td>Ensemble</td>\n      <td>7.0</td>\n      <td>26.0</td>\n      <td>28.0</td>\n      <td>34.0</td>\n      <td>5.0</td>\n      <td>33.0</td>\n      <td>62.0</td>\n    </tr>\n    <tr>\n      <th>1</th>\n      <td>Emmanuel MACRON</td>\n      <td>1002</td>\n      <td>2020-06-03</td>\n      <td>SEXE DU REPONDANT</td>\n      <td>Homme</td>\n      <td>8.0</td>\n      <td>28.0</td>\n      <td>25.0</td>\n      <td>34.0</td>\n      <td>5.0</td>\n      <td>36.0</td>\n      <td>59.0</td>\n    </tr>\n    <tr>\n      <th>2</th>\n      <td>Emmanuel MACRON</td>\n      <td>1002</td>\n      <td>2020-06-03</td>\n      <td>SEXE DU REPONDANT</td>\n      <td>Femme</td>\n      <td>6.0</td>\n      <td>23.0</td>\n      <td>31.0</td>\n      <td>34.0</td>\n      <td>6.0</td>\n      <td>29.0</td>\n      <td>65.0</td>\n    </tr>\n    <tr>\n      <th>3</th>\n      <td>Emmanuel MACRON</td>\n      <td>1002</td>\n      <td>2020-06-03</td>\n      <td>AGE DU REPONDANT</td>\n      <td>18-24 ans</td>\n      <td>11.0</td>\n      <td>24.0</td>\n      <td>31.0</td>\n      <td>22.0</td>\n      <td>12.0</td>\n      <td>35.0</td>\n      <td>53.0</td>\n    </tr>\n    <tr>\n      <th>4</th>\n      <td>Emmanuel MACRON</td>\n      <td>1002</td>\n      <td>2020-06-03</td>\n      <td>AGE DU REPONDANT</td>\n      <td>25-34 ans</td>\n      <td>11.0</td>\n      <td>30.0</td>\n      <td>22.0</td>\n      <td>32.0</td>\n      <td>5.0</td>\n      <td>41.0</td>\n      <td>54.0</td>\n    </tr>\n    <tr>\n      <th>...</th>\n      <td>...</td>\n      <td>...</td>\n      <td>...</td>\n      <td>...</td>\n      <td>...</td>\n      <td>...</td>\n      <td>...</td>\n      <td>...</td>\n      <td>...</td>\n      <td>...</td>\n      <td>...</td>\n      <td>...</td>\n    </tr>\n    <tr>\n      <th>83</th>\n      <td>Edouard PHILIPPE</td>\n      <td>1002</td>\n      <td>2020-06-03</td>\n      <td>VOTE PRESIDENTIELLE 2017 (1ER TOUR)</td>\n      <td>Marine LE PEN</td>\n      <td>1.0</td>\n      <td>17.0</td>\n      <td>25.0</td>\n      <td>54.0</td>\n      <td>3.0</td>\n      <td>18.0</td>\n      <td>79.0</td>\n    </tr>\n    <tr>\n      <th>84</th>\n      <td>Edouard PHILIPPE</td>\n      <td>1002</td>\n      <td>2020-06-03</td>\n      <td>VOTE PRESIDENTIELLE 2017 (1ER TOUR)</td>\n      <td>Abstention, vote blanc ou nul</td>\n      <td>5.0</td>\n      <td>23.0</td>\n      <td>35.0</td>\n      <td>27.0</td>\n      <td>10.0</td>\n      <td>28.0</td>\n      <td>62.0</td>\n    </tr>\n    <tr>\n      <th>85</th>\n      <td>Edouard PHILIPPE</td>\n      <td>1002</td>\n      <td>2020-06-03</td>\n      <td>VOTE PRESIDENTIELLE 2017 (2ND TOUR)</td>\n      <td>Emmanuel MACRON</td>\n      <td>18.0</td>\n      <td>45.0</td>\n      <td>24.0</td>\n      <td>9.0</td>\n      <td>4.0</td>\n      <td>63.0</td>\n      <td>33.0</td>\n    </tr>\n    <tr>\n      <th>86</th>\n      <td>Edouard PHILIPPE</td>\n      <td>1002</td>\n      <td>2020-06-03</td>\n      <td>VOTE PRESIDENTIELLE 2017 (2ND TOUR)</td>\n      <td>Marine LE PEN</td>\n      <td>2.0</td>\n      <td>16.0</td>\n      <td>24.0</td>\n      <td>55.0</td>\n      <td>3.0</td>\n      <td>18.0</td>\n      <td>79.0</td>\n    </tr>\n    <tr>\n      <th>87</th>\n      <td>Edouard PHILIPPE</td>\n      <td>1002</td>\n      <td>2020-06-03</td>\n      <td>VOTE PRESIDENTIELLE 2017 (2ND TOUR)</td>\n      <td>Abstention, vote blanc ou nul</td>\n      <td>4.0</td>\n      <td>22.0</td>\n      <td>32.0</td>\n      <td>35.0</td>\n      <td>7.0</td>\n      <td>26.0</td>\n      <td>67.0</td>\n    </tr>\n  </tbody>\n</table>\n<p>88 rows × 12 columns</p>\n</div>"
     },
     "metadata": {},
     "execution_count": 34
    }
   ],
   "source": [
    "df=pd.DataFrame(columns=['Nom','Base','Date','Categorie','Groupe','tres_positif','positif','negatif','tres_negatif','nsp','total_positif','total_negatif'])\n",
    "date='2020-06-03'\n",
    "filepath='rapport/{}.pdf'.format(date)\n",
    "president='Emmanuel MACRON'\n",
    "page_president=[10,11]\n",
    "ministe='Edouard PHILIPPE'\n",
    "page_ministre=[13,14]\n",
    "base=extract_base(filepath)\n",
    "df=extract_detailled_perso(df,filepath,page_president,president,base,date)\n",
    "df=extract_detailled_perso(df,filepath,page_ministre,ministe,base,date)\n",
    "df"
   ]
  },
  {
   "source": [
    "## Correction des bases"
   ],
   "cell_type": "markdown",
   "metadata": {}
  },
  {
   "cell_type": "code",
   "execution_count": 35,
   "metadata": {},
   "outputs": [
    {
     "output_type": "stream",
     "name": "stdout",
     "text": [
      "Ensemble :['Ensemble']\nSEXE DU REPONDANT :['Homme','Femme']\nAGE DU REPONDANT :['18-24 ans','25-34 ans','35-49 ans','50-64 ans','65 ans et plus']\nPROFESSION DU REPONDANT :['Actifs','Artisan, commerçant','CSP+','Cadre, profession intellectuelle supérieure','Profession intermédiaire','CSP-','Employé','Ouvrier','Inactifs','Retraité','Autre Inactif']\nCATEGORIE D'AGGLOMERATION :['Communes rurales','Communes urbaines de province','De 2.000 à moins de 20.000 hab.','De 20.000 à moins de 100.000 hab.','100.000 hab. et plus','Agglomération parisienne']\nPREFERENCE PARTISANE :['Total Gauche','La France Insoumise','Europe Ecologie Les Verts','Parti Socialiste / Génération.s/ PRG','Total en Marche / MODEM','La République en Marche !','Total Droite','Les Républicains','Le Rassemblement National','Sans préférence partisane']\nVOTE PRESIDENTIELLE 2017 (1ER TOUR) :['Jean-Luc MELENCHON','Benoît HAMON','Emmanuel MACRON','François FILLON','Marine LE PEN','Abstention, vote blanc ou nul']\nVOTE PRESIDENTIELLE 2017 (2ND TOUR) :['Emmanuel MACRON','Marine LE PEN','Abstention, vote blanc ou nul']\n"
     ]
    }
   ],
   "source": [
    "for c  in df.Categorie.unique():\n",
    "    print('{} :[{}]'.format(c,','.join([\"'\"+x+\"'\" for x in df[df.Categorie==c].Groupe.unique()])))"
   ]
  },
  {
   "cell_type": "code",
   "execution_count": 36,
   "metadata": {},
   "outputs": [],
   "source": [
    "# CategorieX, GroupeX, CategorieY, GroupeY\n",
    "relations=[\n",
    "    ('SEXE DU REPONDANT' ,['Homme','Femme'],'Ensemble','Ensemble'),\n",
    "    ('AGE DU REPONDANT' ,['18-24 ans','25-34 ans','35-49 ans','50-64 ans','65 ans et plus'],'Ensemble','Ensemble'),\n",
    "    ('PROFESSION DU REPONDANT' ,['Actifs','Inactifs'],'Ensemble','Ensemble'),\n",
    "    ('PROFESSION DU REPONDANT' ,['Artisan, commerçant','CSP+','CSP-'],'PROFESSION DU REPONDANT','Actifs'),\n",
    "    ('PROFESSION DU REPONDANT' ,['Cadre, profession intellectuelle supérieure','Profession intermédiaire'],'PROFESSION DU REPONDANT','CSP+'),\n",
    "    ('PROFESSION DU REPONDANT' ,['Employé','Ouvrier'],'PROFESSION DU REPONDANT','CSP-'),\n",
    "    ('PROFESSION DU REPONDANT' ,['Retraité','Autre Inactif'],'PROFESSION DU REPONDANT','Inactifs'),\n",
    "    (\"CATEGORIE D'AGGLOMERATION\" ,['Communes rurales','Communes urbaines de province','Agglomération parisienne'],'Ensemble','Ensemble'),\n",
    "    (\"CATEGORIE D'AGGLOMERATION\" ,['De 2.000 à moins de 20.000 hab.','De 20.000 à moins de 100.000 hab.','100.000 hab. et plus'],\"CATEGORIE D'AGGLOMERATION\",'Communes urbaines de province'),\n",
    "    ('PREFERENCE PARTISANE' ,['Total Gauche','Total en Marche / MODEM','Total Droite','Le Rassemblement National','Sans préférence partisane'],'Ensemble','Ensemble'),\n",
    "    ('PREFERENCE PARTISANE' ,['La France Insoumise','Europe Ecologie Les Verts','Parti Socialiste / Génération.s/ PRG'],'PREFERENCE PARTISANE','Total Gauche'),\n",
    "    ('PREFERENCE PARTISANE' ,['La République en Marche !'],'PREFERENCE PARTISANE','Total en Marche / MODEM'),\n",
    "    ('PREFERENCE PARTISANE' ,['Les Républicains'],'PREFERENCE PARTISANE','Total Droite'),\n",
    "    ('VOTE PRESIDENTIELLE 2017 (1ER TOUR)' ,['Jean-Luc MELENCHON','Benoît HAMON','Emmanuel MACRON','François FILLON','Marine LE PEN','Abstention, vote blanc ou nul'],'Ensemble','Ensemble'),\n",
    "    ('VOTE PRESIDENTIELLE 2017 (2ND TOUR)' ,['Emmanuel MACRON','Marine LE PEN','Abstention, vote blanc ou nul'],'Ensemble','Ensemble'),   \n",
    "]"
   ]
  },
  {
   "cell_type": "code",
   "execution_count": 37,
   "metadata": {},
   "outputs": [],
   "source": [
    "df=recompute_base(df,relations,df.columns[5:])"
   ]
  },
  {
   "cell_type": "code",
   "execution_count": 38,
   "metadata": {},
   "outputs": [],
   "source": [
    "df.head()\n",
    "# pd.to_pickle(df,'data/{}.p'.format(date))"
   ]
  },
  {
   "source": [
    "# Resultats de toutes les personnalités\n",
    "## Extraction des valeurs"
   ],
   "cell_type": "markdown",
   "metadata": {}
  },
  {
   "cell_type": "code",
   "execution_count": 92,
   "metadata": {},
   "outputs": [],
   "source": [
    "\n",
    "def preformatage_personnalite(page_content)->str:\n",
    "    page_content=page_content.replace('\\n-\\n','\\n-')\n",
    "    return page_content\n",
    "\n",
    "def first_index_not_numerical(list_content)->int:\n",
    "    \"\"\"Retourne l'index de la première valeur qui ne soit pas une chaine de caractère représentant un nombre\n",
    "\n",
    "    Args:\n",
    "        list_content (List[str]): Liste du contenant une ligne du texte par cellule\n",
    "\n",
    "    Returns:\n",
    "        int: index de la position recherchée. Retourne -1 si non trouvée\n",
    "    \"\"\"\n",
    "    for i in range(len(list_content)):\n",
    "        if not re.match('^\\d+$',list_content[i]):\n",
    "            return i\n",
    "    return -1\n",
    "    \n",
    "\n",
    "def extract_detailled_page_all_personnalite(page_content,columns,base,date)->pd.DataFrame:\n",
    "    # Données fournies dès le début de la page\n",
    "    data=page_content.split('\\n')\n",
    "    index_names=first_index_not_numerical(data)\n",
    "    # Création des données pour faire le dataframe\n",
    "    values=np.array([int(x) for x in data[:index_names]]).reshape(5,-1).T\n",
    "    nb_perso=values.shape[0]\n",
    "\n",
    "    total_pos=values[:,0:2].sum(axis=1).reshape(-1,1)\n",
    "    total_neg=values[:,2:4].sum(axis=1).reshape(-1,1)\n",
    "\n",
    "    noms=data[index_names:index_names+nb_perso]\n",
    "    noms=['{} {}'.format(x.split(' ')[0],x.split(' ')[1].upper()) for x in noms]\n",
    "    noms=np.array(noms).reshape(-1,1)\n",
    "    \n",
    "\n",
    "    variations=np.array(data[-1-nb_perso:-1])\n",
    "    variations[variations=='=']=0\n",
    "    variations=variations.reshape(-1,1)\n",
    "\n",
    "    base_np=np.array([[base]]*nb_perso)\n",
    "\n",
    "    date_np=np.array([[date]]*nb_perso)\n",
    "\n",
    "    cat=np.array([['Ensemble']]*nb_perso)\n",
    "\n",
    "    groupe=np.array([['Ensemble']]*nb_perso)\n",
    "\n",
    "    # Création du tableau numpy\n",
    "    tab=np.append(noms,base_np,axis=1)\n",
    "    tab=np.append(tab,date_np,axis=1)\n",
    "    tab=np.append(tab,cat,axis=1)\n",
    "    tab=np.append(tab,groupe,axis=1)\n",
    "    tab=np.append(tab,values,axis=1)\n",
    "    tab=np.append(tab,total_pos,axis=1)\n",
    "    tab=np.append(tab,total_neg,axis=1)\n",
    "    tab=np.append(tab,variations,axis=1)\n",
    "    df=pd.DataFrame(tab,columns=columns)\n",
    "    return df\n",
    "\n",
    "def extract_personnalite(fp,num_page,columns):\n",
    "    page_content=preformatage_personnalite(get_page_content(num_page,fp))\n",
    "    df=extract_detailled_page_all_personnalite(page_content,columns,base,date)\n",
    "    return df\n",
    "\n"
   ]
  },
  {
   "cell_type": "code",
   "execution_count": 106,
   "metadata": {},
   "outputs": [],
   "source": [
    "COLUMNS_PERSO=['Nom','Base','Date','Categorie','Groupe','tres_positif','positif','negatif','tres_negatif','nsp','total_positif','total_negatif','evolution_positif']\n",
    "DTYPES_PERSO={'Nom':str,'Base':float,'Date':'datetime64[ns]','Categorie':str,'Groupe':str,'tres_positif':float,'positif':float,'negatif':float,'tres_negatif':float,'nsp':float,'total_positif':float,'total_negatif':float,'evolution_positif':float}\n",
    "\n",
    "date='2020-06-03'\n",
    "filepath='rapport/{}.pdf'.format(date)\n",
    "base=extract_base(filepath)\n",
    "df_perso=extract_personnalite(filepath,16,COLUMNS_PERSO)\n",
    "df_perso=df_perso.astype(DTYPES_PERSO)\n",
    "df_perso.dtypes\n",
    "\n",
    "# pd.to_pickle(df_perso,'data_perso/{}.p'.format(date))"
   ]
  },
  {
   "cell_type": "code",
   "execution_count": 27,
   "metadata": {},
   "outputs": [
    {
     "output_type": "stream",
     "name": "stdout",
     "text": [
      "False\n"
     ]
    },
    {
     "output_type": "execute_result",
     "data": {
      "text/plain": [
       "Empty DataFrame\n",
       "Columns: [Nom, Base, Date, Categorie, Groupe, tres_positif, positif, negatif, tres_negatif, nsp, total_positif, total_negatif]\n",
       "Index: []"
      ],
      "text/html": "<div>\n<style scoped>\n    .dataframe tbody tr th:only-of-type {\n        vertical-align: middle;\n    }\n\n    .dataframe tbody tr th {\n        vertical-align: top;\n    }\n\n    .dataframe thead th {\n        text-align: right;\n    }\n</style>\n<table border=\"1\" class=\"dataframe\">\n  <thead>\n    <tr style=\"text-align: right;\">\n      <th></th>\n      <th>Nom</th>\n      <th>Base</th>\n      <th>Date</th>\n      <th>Categorie</th>\n      <th>Groupe</th>\n      <th>tres_positif</th>\n      <th>positif</th>\n      <th>negatif</th>\n      <th>tres_negatif</th>\n      <th>nsp</th>\n      <th>total_positif</th>\n      <th>total_negatif</th>\n    </tr>\n  </thead>\n  <tbody>\n  </tbody>\n</table>\n</div>"
     },
     "metadata": {},
     "execution_count": 27
    }
   ],
   "source": [
    "\n",
    "# with open(\"rapport/2020-10-14.pdf\",\"rb\") as pdf_file:\n",
    "#     pdf_report= PyPDF2.PdfFileReader(pdf_file)\n",
    "#     isEncrypted = pdf_report.getIsEncrypted()\n",
    "#     nbPages= pdf_report.numPages\n",
    "\n",
    "#     page1=pdf_report.getPage(15)\n",
    "#     text=page1.extractText().replace(',','.')\n",
    "#     text = extract_text(pdf_file,page_numbers=[14])\n",
    "\n",
    "# print(text)\n",
    "\n",
    "print(df.isnull().values.any())\n",
    "df.head(10)\n",
    "df.describe()\n",
    "df[df.Base==0]"
   ]
  },
  {
   "source": [
    "## Find mistakes and try to correct them"
   ],
   "cell_type": "markdown",
   "metadata": {}
  },
  {
   "cell_type": "code",
   "execution_count": 28,
   "metadata": {},
   "outputs": [],
   "source": [
    "def find_fav_mistake(df):\n",
    "    tfav=df['Très favorable']\n",
    "    pfav=df['Plutôt favorable']\n",
    "    stfav=df['ST Favorable']\n",
    "    fav_df= df[np.abs(tfav+pfav-stfav)>0.11]\n",
    "    return fav_df\n",
    "\n",
    "def find_def_mistake(df):\n",
    "    tdef=df['Très défavorable']\n",
    "    pdef=df['Plutôt défavorable']\n",
    "    stdef=df['ST Défavorable']\n",
    "    def_df= df[np.abs(tdef+pdef-stdef)>0.11]\n",
    "    return def_df\n",
    "\n",
    "def find_nsp_mistake(df):\n",
    "    stfav=df['ST Favorable']\n",
    "    stdef=df['ST Défavorable']\n",
    "    nsp=df['Nsp']\n",
    "    tot_df= df[np.abs(stfav+stdef+nsp-100)>0.11]\n",
    "    return tot_df\n",
    "\n",
    "def find_mistake(df):\n",
    "    fav_df= find_fav_mistake(df)\n",
    "    def_df= find_def_mistake(df)\n",
    "    tot_df=find_nsp_mistake(df)\n",
    "    error_df=pd.concat([fav_df,def_df,tot_df])\n",
    "    return error_df"
   ]
  },
  {
   "cell_type": "code",
   "execution_count": 29,
   "metadata": {},
   "outputs": [],
   "source": [
    "def realign_fav(df,i=0,imax=-1):\n",
    "    df_err=find_fav_mistake(df)\n",
    "    zeros_cols= [x for x in [\"Très favorable\",\"Plutôt favorable\",\"ST Favorable\"] if df[x].all()==0]\n",
    "    if imax==-1:\n",
    "        imax=len(zeros_cols)*len(df)\n",
    "    if not df_err.empty and i<=imax:\n",
    "        col=zeros_cols[0]\n",
    "        values=df_err[col].tolist()\n",
    "        values=values[1:]+[values[0]]\n",
    "        df.loc[df_err.index,col]=values\n",
    "        df=realign_fav(df,i+1)\n",
    "    return df\n",
    "\n",
    "def realign_def(df,i=0,imax=-1):\n",
    "    df_err=find_fav_mistake(df)\n",
    "    zeros_cols= [x for x in [\"Très défavorable\",\"Plutôt défavorable\",\"ST Défavorable\"] if df[x].all()==0]\n",
    "    if imax==-1:\n",
    "        imax=len(zeros_cols)*len(df)\n",
    "    if not df_err.empty and i<=imax:\n",
    "        col=zeros_cols[0]\n",
    "        values=df_err[col].tolist()\n",
    "        values=values[1:]+[values[0]]\n",
    "        df.loc[df_err.index,col]=values\n",
    "        df=realign_def(df,i+1)\n",
    "    return df\n",
    "\n",
    "def realign_nsp(df,i=0,imax=-1):\n",
    "    df_err=find_fav_mistake(df)\n",
    "    zeros_cols= [x for x in [\"ST Favorable\",\"ST Défavorable\",\"Nsp\"] if df[x].all()==0]\n",
    "    if imax==-1:\n",
    "        imax=len(zeros_cols)*len(df)\n",
    "    if not df_err.empty and i<=imax:\n",
    "        col=zeros_cols[0]\n",
    "        values=df_err[col].tolist()\n",
    "        values=values[1:]+[values[0]]\n",
    "        df.loc[df_err.index,col]=values\n",
    "        df=realign_nsp(df,i+1)\n",
    "    return df\n",
    "\n",
    "    \n",
    "\n"
   ]
  },
  {
   "cell_type": "code",
   "execution_count": 30,
   "metadata": {},
   "outputs": [],
   "source": [
    "def correct_mistakes(df):\n",
    "    df_err=find_fav_mistake(df)\n",
    "    for nom in df_err.Nom.unique():\n",
    "        for cat in df_err[df_err.Nom==nom].Categorie.unique():\n",
    "            cond=((df_err.Nom==nom) & (df_err.Categorie==cat))\n",
    "            df_err.loc[cond]=realign_fav(df_err[cond])\n",
    "    df.loc[df_err.index]=df_err\n",
    "\n",
    "    df_err=find_def_mistake(df)\n",
    "    for nom in df_err.Nom.unique():\n",
    "        for cat in df_err[df_err.Nom==nom].Categorie.unique():\n",
    "            cond=((df_err.Nom==nom) & (df_err.Categorie==cat))\n",
    "            df_err.loc[cond]=realign_def(df_err[cond])\n",
    "    df.loc[df_err.index]=df_err\n",
    "\n",
    "    df_err=find_nsp_mistake(df)\n",
    "    for nom in df_err.Nom.unique():\n",
    "        for cat in df_err[df_err.Nom==nom].Categorie.unique():\n",
    "            cond=((df_err.Nom==nom) & (df_err.Categorie==cat))\n",
    "            df_err.loc[cond]=realign_nsp(df_err[cond])\n",
    "    df.loc[df_err.index]=df_err\n",
    "    return df"
   ]
  },
  {
   "cell_type": "code",
   "execution_count": 31,
   "metadata": {},
   "outputs": [
    {
     "output_type": "error",
     "ename": "KeyError",
     "evalue": "'Très favorable'",
     "traceback": [
      "\u001b[1;31m---------------------------------------------------------------------------\u001b[0m",
      "\u001b[1;31mKeyError\u001b[0m                                  Traceback (most recent call last)",
      "\u001b[1;32mD:\\Programmes\\Python3\\lib\\site-packages\\pandas\\core\\indexes\\base.py\u001b[0m in \u001b[0;36mget_loc\u001b[1;34m(self, key, method, tolerance)\u001b[0m\n\u001b[0;32m   2645\u001b[0m             \u001b[1;32mtry\u001b[0m\u001b[1;33m:\u001b[0m\u001b[1;33m\u001b[0m\u001b[1;33m\u001b[0m\u001b[0m\n\u001b[1;32m-> 2646\u001b[1;33m                 \u001b[1;32mreturn\u001b[0m \u001b[0mself\u001b[0m\u001b[1;33m.\u001b[0m\u001b[0m_engine\u001b[0m\u001b[1;33m.\u001b[0m\u001b[0mget_loc\u001b[0m\u001b[1;33m(\u001b[0m\u001b[0mkey\u001b[0m\u001b[1;33m)\u001b[0m\u001b[1;33m\u001b[0m\u001b[1;33m\u001b[0m\u001b[0m\n\u001b[0m\u001b[0;32m   2647\u001b[0m             \u001b[1;32mexcept\u001b[0m \u001b[0mKeyError\u001b[0m\u001b[1;33m:\u001b[0m\u001b[1;33m\u001b[0m\u001b[1;33m\u001b[0m\u001b[0m\n",
      "\u001b[1;32mpandas\\_libs\\index.pyx\u001b[0m in \u001b[0;36mpandas._libs.index.IndexEngine.get_loc\u001b[1;34m()\u001b[0m\n",
      "\u001b[1;32mpandas\\_libs\\index.pyx\u001b[0m in \u001b[0;36mpandas._libs.index.IndexEngine.get_loc\u001b[1;34m()\u001b[0m\n",
      "\u001b[1;32mpandas\\_libs\\hashtable_class_helper.pxi\u001b[0m in \u001b[0;36mpandas._libs.hashtable.PyObjectHashTable.get_item\u001b[1;34m()\u001b[0m\n",
      "\u001b[1;32mpandas\\_libs\\hashtable_class_helper.pxi\u001b[0m in \u001b[0;36mpandas._libs.hashtable.PyObjectHashTable.get_item\u001b[1;34m()\u001b[0m\n",
      "\u001b[1;31mKeyError\u001b[0m: 'Très favorable'",
      "\nDuring handling of the above exception, another exception occurred:\n",
      "\u001b[1;31mKeyError\u001b[0m                                  Traceback (most recent call last)",
      "\u001b[1;32m<ipython-input-31-e888becef428>\u001b[0m in \u001b[0;36m<module>\u001b[1;34m\u001b[0m\n\u001b[1;32m----> 1\u001b[1;33m \u001b[0mdf_err\u001b[0m\u001b[1;33m=\u001b[0m\u001b[0mfind_mistake\u001b[0m\u001b[1;33m(\u001b[0m\u001b[0mdf\u001b[0m\u001b[1;33m)\u001b[0m\u001b[1;33m\u001b[0m\u001b[1;33m\u001b[0m\u001b[0m\n\u001b[0m\u001b[0;32m      2\u001b[0m \u001b[1;32mif\u001b[0m \u001b[0mlen\u001b[0m\u001b[1;33m(\u001b[0m\u001b[0mdf_err\u001b[0m\u001b[1;33m)\u001b[0m\u001b[1;33m>\u001b[0m\u001b[1;36m0\u001b[0m\u001b[1;33m:\u001b[0m\u001b[1;33m\u001b[0m\u001b[1;33m\u001b[0m\u001b[0m\n\u001b[0;32m      3\u001b[0m     \u001b[0mindex\u001b[0m\u001b[1;33m=\u001b[0m\u001b[0mdf_err\u001b[0m\u001b[1;33m.\u001b[0m\u001b[0miloc\u001b[0m\u001b[1;33m[\u001b[0m\u001b[1;36m0\u001b[0m\u001b[1;33m:\u001b[0m\u001b[1;36m1\u001b[0m\u001b[1;33m]\u001b[0m\u001b[1;33m.\u001b[0m\u001b[0mindex\u001b[0m\u001b[1;33m[\u001b[0m\u001b[1;36m0\u001b[0m\u001b[1;33m]\u001b[0m\u001b[1;33m\u001b[0m\u001b[1;33m\u001b[0m\u001b[0m\n\u001b[0;32m      4\u001b[0m     \u001b[0mval\u001b[0m\u001b[1;33m=\u001b[0m\u001b[0mdf_err\u001b[0m\u001b[1;33m.\u001b[0m\u001b[0miloc\u001b[0m\u001b[1;33m[\u001b[0m\u001b[1;36m0\u001b[0m\u001b[1;33m]\u001b[0m\u001b[1;33m.\u001b[0m\u001b[0mvalues\u001b[0m\u001b[1;33m[\u001b[0m\u001b[1;36m3\u001b[0m\u001b[1;33m:\u001b[0m\u001b[1;33m]\u001b[0m\u001b[1;33m\u001b[0m\u001b[1;33m\u001b[0m\u001b[0m\n\u001b[0;32m      5\u001b[0m     \u001b[0mprint\u001b[0m\u001b[1;33m(\u001b[0m\u001b[0mval\u001b[0m\u001b[1;33m)\u001b[0m\u001b[1;33m\u001b[0m\u001b[1;33m\u001b[0m\u001b[0m\n",
      "\u001b[1;32m<ipython-input-28-8788d50c1f1a>\u001b[0m in \u001b[0;36mfind_mistake\u001b[1;34m(df)\u001b[0m\n\u001b[0;32m     21\u001b[0m \u001b[1;33m\u001b[0m\u001b[0m\n\u001b[0;32m     22\u001b[0m \u001b[1;32mdef\u001b[0m \u001b[0mfind_mistake\u001b[0m\u001b[1;33m(\u001b[0m\u001b[0mdf\u001b[0m\u001b[1;33m)\u001b[0m\u001b[1;33m:\u001b[0m\u001b[1;33m\u001b[0m\u001b[1;33m\u001b[0m\u001b[0m\n\u001b[1;32m---> 23\u001b[1;33m     \u001b[0mfav_df\u001b[0m\u001b[1;33m=\u001b[0m \u001b[0mfind_fav_mistake\u001b[0m\u001b[1;33m(\u001b[0m\u001b[0mdf\u001b[0m\u001b[1;33m)\u001b[0m\u001b[1;33m\u001b[0m\u001b[1;33m\u001b[0m\u001b[0m\n\u001b[0m\u001b[0;32m     24\u001b[0m     \u001b[0mdef_df\u001b[0m\u001b[1;33m=\u001b[0m \u001b[0mfind_def_mistake\u001b[0m\u001b[1;33m(\u001b[0m\u001b[0mdf\u001b[0m\u001b[1;33m)\u001b[0m\u001b[1;33m\u001b[0m\u001b[1;33m\u001b[0m\u001b[0m\n\u001b[0;32m     25\u001b[0m     \u001b[0mtot_df\u001b[0m\u001b[1;33m=\u001b[0m\u001b[0mfind_nsp_mistake\u001b[0m\u001b[1;33m(\u001b[0m\u001b[0mdf\u001b[0m\u001b[1;33m)\u001b[0m\u001b[1;33m\u001b[0m\u001b[1;33m\u001b[0m\u001b[0m\n",
      "\u001b[1;32m<ipython-input-28-8788d50c1f1a>\u001b[0m in \u001b[0;36mfind_fav_mistake\u001b[1;34m(df)\u001b[0m\n\u001b[0;32m      1\u001b[0m \u001b[1;32mdef\u001b[0m \u001b[0mfind_fav_mistake\u001b[0m\u001b[1;33m(\u001b[0m\u001b[0mdf\u001b[0m\u001b[1;33m)\u001b[0m\u001b[1;33m:\u001b[0m\u001b[1;33m\u001b[0m\u001b[1;33m\u001b[0m\u001b[0m\n\u001b[1;32m----> 2\u001b[1;33m     \u001b[0mtfav\u001b[0m\u001b[1;33m=\u001b[0m\u001b[0mdf\u001b[0m\u001b[1;33m[\u001b[0m\u001b[1;34m'Très favorable'\u001b[0m\u001b[1;33m]\u001b[0m\u001b[1;33m\u001b[0m\u001b[1;33m\u001b[0m\u001b[0m\n\u001b[0m\u001b[0;32m      3\u001b[0m     \u001b[0mpfav\u001b[0m\u001b[1;33m=\u001b[0m\u001b[0mdf\u001b[0m\u001b[1;33m[\u001b[0m\u001b[1;34m'Plutôt favorable'\u001b[0m\u001b[1;33m]\u001b[0m\u001b[1;33m\u001b[0m\u001b[1;33m\u001b[0m\u001b[0m\n\u001b[0;32m      4\u001b[0m     \u001b[0mstfav\u001b[0m\u001b[1;33m=\u001b[0m\u001b[0mdf\u001b[0m\u001b[1;33m[\u001b[0m\u001b[1;34m'ST Favorable'\u001b[0m\u001b[1;33m]\u001b[0m\u001b[1;33m\u001b[0m\u001b[1;33m\u001b[0m\u001b[0m\n\u001b[0;32m      5\u001b[0m     \u001b[0mfav_df\u001b[0m\u001b[1;33m=\u001b[0m \u001b[0mdf\u001b[0m\u001b[1;33m[\u001b[0m\u001b[0mnp\u001b[0m\u001b[1;33m.\u001b[0m\u001b[0mabs\u001b[0m\u001b[1;33m(\u001b[0m\u001b[0mtfav\u001b[0m\u001b[1;33m+\u001b[0m\u001b[0mpfav\u001b[0m\u001b[1;33m-\u001b[0m\u001b[0mstfav\u001b[0m\u001b[1;33m)\u001b[0m\u001b[1;33m>\u001b[0m\u001b[1;36m0.11\u001b[0m\u001b[1;33m]\u001b[0m\u001b[1;33m\u001b[0m\u001b[1;33m\u001b[0m\u001b[0m\n",
      "\u001b[1;32mD:\\Programmes\\Python3\\lib\\site-packages\\pandas\\core\\frame.py\u001b[0m in \u001b[0;36m__getitem__\u001b[1;34m(self, key)\u001b[0m\n\u001b[0;32m   2798\u001b[0m             \u001b[1;32mif\u001b[0m \u001b[0mself\u001b[0m\u001b[1;33m.\u001b[0m\u001b[0mcolumns\u001b[0m\u001b[1;33m.\u001b[0m\u001b[0mnlevels\u001b[0m \u001b[1;33m>\u001b[0m \u001b[1;36m1\u001b[0m\u001b[1;33m:\u001b[0m\u001b[1;33m\u001b[0m\u001b[1;33m\u001b[0m\u001b[0m\n\u001b[0;32m   2799\u001b[0m                 \u001b[1;32mreturn\u001b[0m \u001b[0mself\u001b[0m\u001b[1;33m.\u001b[0m\u001b[0m_getitem_multilevel\u001b[0m\u001b[1;33m(\u001b[0m\u001b[0mkey\u001b[0m\u001b[1;33m)\u001b[0m\u001b[1;33m\u001b[0m\u001b[1;33m\u001b[0m\u001b[0m\n\u001b[1;32m-> 2800\u001b[1;33m             \u001b[0mindexer\u001b[0m \u001b[1;33m=\u001b[0m \u001b[0mself\u001b[0m\u001b[1;33m.\u001b[0m\u001b[0mcolumns\u001b[0m\u001b[1;33m.\u001b[0m\u001b[0mget_loc\u001b[0m\u001b[1;33m(\u001b[0m\u001b[0mkey\u001b[0m\u001b[1;33m)\u001b[0m\u001b[1;33m\u001b[0m\u001b[1;33m\u001b[0m\u001b[0m\n\u001b[0m\u001b[0;32m   2801\u001b[0m             \u001b[1;32mif\u001b[0m \u001b[0mis_integer\u001b[0m\u001b[1;33m(\u001b[0m\u001b[0mindexer\u001b[0m\u001b[1;33m)\u001b[0m\u001b[1;33m:\u001b[0m\u001b[1;33m\u001b[0m\u001b[1;33m\u001b[0m\u001b[0m\n\u001b[0;32m   2802\u001b[0m                 \u001b[0mindexer\u001b[0m \u001b[1;33m=\u001b[0m \u001b[1;33m[\u001b[0m\u001b[0mindexer\u001b[0m\u001b[1;33m]\u001b[0m\u001b[1;33m\u001b[0m\u001b[1;33m\u001b[0m\u001b[0m\n",
      "\u001b[1;32mD:\\Programmes\\Python3\\lib\\site-packages\\pandas\\core\\indexes\\base.py\u001b[0m in \u001b[0;36mget_loc\u001b[1;34m(self, key, method, tolerance)\u001b[0m\n\u001b[0;32m   2646\u001b[0m                 \u001b[1;32mreturn\u001b[0m \u001b[0mself\u001b[0m\u001b[1;33m.\u001b[0m\u001b[0m_engine\u001b[0m\u001b[1;33m.\u001b[0m\u001b[0mget_loc\u001b[0m\u001b[1;33m(\u001b[0m\u001b[0mkey\u001b[0m\u001b[1;33m)\u001b[0m\u001b[1;33m\u001b[0m\u001b[1;33m\u001b[0m\u001b[0m\n\u001b[0;32m   2647\u001b[0m             \u001b[1;32mexcept\u001b[0m \u001b[0mKeyError\u001b[0m\u001b[1;33m:\u001b[0m\u001b[1;33m\u001b[0m\u001b[1;33m\u001b[0m\u001b[0m\n\u001b[1;32m-> 2648\u001b[1;33m                 \u001b[1;32mreturn\u001b[0m \u001b[0mself\u001b[0m\u001b[1;33m.\u001b[0m\u001b[0m_engine\u001b[0m\u001b[1;33m.\u001b[0m\u001b[0mget_loc\u001b[0m\u001b[1;33m(\u001b[0m\u001b[0mself\u001b[0m\u001b[1;33m.\u001b[0m\u001b[0m_maybe_cast_indexer\u001b[0m\u001b[1;33m(\u001b[0m\u001b[0mkey\u001b[0m\u001b[1;33m)\u001b[0m\u001b[1;33m)\u001b[0m\u001b[1;33m\u001b[0m\u001b[1;33m\u001b[0m\u001b[0m\n\u001b[0m\u001b[0;32m   2649\u001b[0m         \u001b[0mindexer\u001b[0m \u001b[1;33m=\u001b[0m \u001b[0mself\u001b[0m\u001b[1;33m.\u001b[0m\u001b[0mget_indexer\u001b[0m\u001b[1;33m(\u001b[0m\u001b[1;33m[\u001b[0m\u001b[0mkey\u001b[0m\u001b[1;33m]\u001b[0m\u001b[1;33m,\u001b[0m \u001b[0mmethod\u001b[0m\u001b[1;33m=\u001b[0m\u001b[0mmethod\u001b[0m\u001b[1;33m,\u001b[0m \u001b[0mtolerance\u001b[0m\u001b[1;33m=\u001b[0m\u001b[0mtolerance\u001b[0m\u001b[1;33m)\u001b[0m\u001b[1;33m\u001b[0m\u001b[1;33m\u001b[0m\u001b[0m\n\u001b[0;32m   2650\u001b[0m         \u001b[1;32mif\u001b[0m \u001b[0mindexer\u001b[0m\u001b[1;33m.\u001b[0m\u001b[0mndim\u001b[0m \u001b[1;33m>\u001b[0m \u001b[1;36m1\u001b[0m \u001b[1;32mor\u001b[0m \u001b[0mindexer\u001b[0m\u001b[1;33m.\u001b[0m\u001b[0msize\u001b[0m \u001b[1;33m>\u001b[0m \u001b[1;36m1\u001b[0m\u001b[1;33m:\u001b[0m\u001b[1;33m\u001b[0m\u001b[1;33m\u001b[0m\u001b[0m\n",
      "\u001b[1;32mpandas\\_libs\\index.pyx\u001b[0m in \u001b[0;36mpandas._libs.index.IndexEngine.get_loc\u001b[1;34m()\u001b[0m\n",
      "\u001b[1;32mpandas\\_libs\\index.pyx\u001b[0m in \u001b[0;36mpandas._libs.index.IndexEngine.get_loc\u001b[1;34m()\u001b[0m\n",
      "\u001b[1;32mpandas\\_libs\\hashtable_class_helper.pxi\u001b[0m in \u001b[0;36mpandas._libs.hashtable.PyObjectHashTable.get_item\u001b[1;34m()\u001b[0m\n",
      "\u001b[1;32mpandas\\_libs\\hashtable_class_helper.pxi\u001b[0m in \u001b[0;36mpandas._libs.hashtable.PyObjectHashTable.get_item\u001b[1;34m()\u001b[0m\n",
      "\u001b[1;31mKeyError\u001b[0m: 'Très favorable'"
     ]
    }
   ],
   "source": [
    "df_err=find_mistake(df)\n",
    "if len(df_err)>0:\n",
    "    index=df_err.iloc[0:1].index[0]\n",
    "    val=df_err.iloc[0].values[3:]\n",
    "    print(val)\n",
    "    correct=[]\n",
    "    cols=[\"Base\",\"Très favorable\",\"Plutôt favorable\",\"ST Favorable\",\"Plutôt défavorable\",\"Très défavorable\",\"ST Défavorable\",\"Nsp\",\"Evolution ST Favorable\",\"Evolution ST Défavorable\"]\n",
    "    while len(correct)!=10:\n",
    "        correct=input()\n",
    "        correct=[float(x) for x in correct.split(' ')]\n",
    "    print(correct)\n",
    "    df.loc[index,cols]=correct"
   ]
  },
  {
   "cell_type": "code",
   "execution_count": 32,
   "metadata": {},
   "outputs": [
    {
     "output_type": "error",
     "ename": "KeyError",
     "evalue": "'Très favorable'",
     "traceback": [
      "\u001b[1;31m---------------------------------------------------------------------------\u001b[0m",
      "\u001b[1;31mKeyError\u001b[0m                                  Traceback (most recent call last)",
      "\u001b[1;32mD:\\Programmes\\Python3\\lib\\site-packages\\pandas\\core\\indexes\\base.py\u001b[0m in \u001b[0;36mget_loc\u001b[1;34m(self, key, method, tolerance)\u001b[0m\n\u001b[0;32m   2645\u001b[0m             \u001b[1;32mtry\u001b[0m\u001b[1;33m:\u001b[0m\u001b[1;33m\u001b[0m\u001b[1;33m\u001b[0m\u001b[0m\n\u001b[1;32m-> 2646\u001b[1;33m                 \u001b[1;32mreturn\u001b[0m \u001b[0mself\u001b[0m\u001b[1;33m.\u001b[0m\u001b[0m_engine\u001b[0m\u001b[1;33m.\u001b[0m\u001b[0mget_loc\u001b[0m\u001b[1;33m(\u001b[0m\u001b[0mkey\u001b[0m\u001b[1;33m)\u001b[0m\u001b[1;33m\u001b[0m\u001b[1;33m\u001b[0m\u001b[0m\n\u001b[0m\u001b[0;32m   2647\u001b[0m             \u001b[1;32mexcept\u001b[0m \u001b[0mKeyError\u001b[0m\u001b[1;33m:\u001b[0m\u001b[1;33m\u001b[0m\u001b[1;33m\u001b[0m\u001b[0m\n",
      "\u001b[1;32mpandas\\_libs\\index.pyx\u001b[0m in \u001b[0;36mpandas._libs.index.IndexEngine.get_loc\u001b[1;34m()\u001b[0m\n",
      "\u001b[1;32mpandas\\_libs\\index.pyx\u001b[0m in \u001b[0;36mpandas._libs.index.IndexEngine.get_loc\u001b[1;34m()\u001b[0m\n",
      "\u001b[1;32mpandas\\_libs\\hashtable_class_helper.pxi\u001b[0m in \u001b[0;36mpandas._libs.hashtable.PyObjectHashTable.get_item\u001b[1;34m()\u001b[0m\n",
      "\u001b[1;32mpandas\\_libs\\hashtable_class_helper.pxi\u001b[0m in \u001b[0;36mpandas._libs.hashtable.PyObjectHashTable.get_item\u001b[1;34m()\u001b[0m\n",
      "\u001b[1;31mKeyError\u001b[0m: 'Très favorable'",
      "\nDuring handling of the above exception, another exception occurred:\n",
      "\u001b[1;31mKeyError\u001b[0m                                  Traceback (most recent call last)",
      "\u001b[1;32m<ipython-input-32-8ce9ad419305>\u001b[0m in \u001b[0;36m<module>\u001b[1;34m\u001b[0m\n\u001b[1;32m----> 1\u001b[1;33m \u001b[0mdf_err\u001b[0m\u001b[1;33m=\u001b[0m\u001b[0mfind_mistake\u001b[0m\u001b[1;33m(\u001b[0m\u001b[0mdf\u001b[0m\u001b[1;33m)\u001b[0m\u001b[1;33m\u001b[0m\u001b[1;33m\u001b[0m\u001b[0m\n\u001b[0m\u001b[0;32m      2\u001b[0m \u001b[0mdf_err\u001b[0m\u001b[1;33m\u001b[0m\u001b[1;33m\u001b[0m\u001b[0m\n",
      "\u001b[1;32m<ipython-input-28-8788d50c1f1a>\u001b[0m in \u001b[0;36mfind_mistake\u001b[1;34m(df)\u001b[0m\n\u001b[0;32m     21\u001b[0m \u001b[1;33m\u001b[0m\u001b[0m\n\u001b[0;32m     22\u001b[0m \u001b[1;32mdef\u001b[0m \u001b[0mfind_mistake\u001b[0m\u001b[1;33m(\u001b[0m\u001b[0mdf\u001b[0m\u001b[1;33m)\u001b[0m\u001b[1;33m:\u001b[0m\u001b[1;33m\u001b[0m\u001b[1;33m\u001b[0m\u001b[0m\n\u001b[1;32m---> 23\u001b[1;33m     \u001b[0mfav_df\u001b[0m\u001b[1;33m=\u001b[0m \u001b[0mfind_fav_mistake\u001b[0m\u001b[1;33m(\u001b[0m\u001b[0mdf\u001b[0m\u001b[1;33m)\u001b[0m\u001b[1;33m\u001b[0m\u001b[1;33m\u001b[0m\u001b[0m\n\u001b[0m\u001b[0;32m     24\u001b[0m     \u001b[0mdef_df\u001b[0m\u001b[1;33m=\u001b[0m \u001b[0mfind_def_mistake\u001b[0m\u001b[1;33m(\u001b[0m\u001b[0mdf\u001b[0m\u001b[1;33m)\u001b[0m\u001b[1;33m\u001b[0m\u001b[1;33m\u001b[0m\u001b[0m\n\u001b[0;32m     25\u001b[0m     \u001b[0mtot_df\u001b[0m\u001b[1;33m=\u001b[0m\u001b[0mfind_nsp_mistake\u001b[0m\u001b[1;33m(\u001b[0m\u001b[0mdf\u001b[0m\u001b[1;33m)\u001b[0m\u001b[1;33m\u001b[0m\u001b[1;33m\u001b[0m\u001b[0m\n",
      "\u001b[1;32m<ipython-input-28-8788d50c1f1a>\u001b[0m in \u001b[0;36mfind_fav_mistake\u001b[1;34m(df)\u001b[0m\n\u001b[0;32m      1\u001b[0m \u001b[1;32mdef\u001b[0m \u001b[0mfind_fav_mistake\u001b[0m\u001b[1;33m(\u001b[0m\u001b[0mdf\u001b[0m\u001b[1;33m)\u001b[0m\u001b[1;33m:\u001b[0m\u001b[1;33m\u001b[0m\u001b[1;33m\u001b[0m\u001b[0m\n\u001b[1;32m----> 2\u001b[1;33m     \u001b[0mtfav\u001b[0m\u001b[1;33m=\u001b[0m\u001b[0mdf\u001b[0m\u001b[1;33m[\u001b[0m\u001b[1;34m'Très favorable'\u001b[0m\u001b[1;33m]\u001b[0m\u001b[1;33m\u001b[0m\u001b[1;33m\u001b[0m\u001b[0m\n\u001b[0m\u001b[0;32m      3\u001b[0m     \u001b[0mpfav\u001b[0m\u001b[1;33m=\u001b[0m\u001b[0mdf\u001b[0m\u001b[1;33m[\u001b[0m\u001b[1;34m'Plutôt favorable'\u001b[0m\u001b[1;33m]\u001b[0m\u001b[1;33m\u001b[0m\u001b[1;33m\u001b[0m\u001b[0m\n\u001b[0;32m      4\u001b[0m     \u001b[0mstfav\u001b[0m\u001b[1;33m=\u001b[0m\u001b[0mdf\u001b[0m\u001b[1;33m[\u001b[0m\u001b[1;34m'ST Favorable'\u001b[0m\u001b[1;33m]\u001b[0m\u001b[1;33m\u001b[0m\u001b[1;33m\u001b[0m\u001b[0m\n\u001b[0;32m      5\u001b[0m     \u001b[0mfav_df\u001b[0m\u001b[1;33m=\u001b[0m \u001b[0mdf\u001b[0m\u001b[1;33m[\u001b[0m\u001b[0mnp\u001b[0m\u001b[1;33m.\u001b[0m\u001b[0mabs\u001b[0m\u001b[1;33m(\u001b[0m\u001b[0mtfav\u001b[0m\u001b[1;33m+\u001b[0m\u001b[0mpfav\u001b[0m\u001b[1;33m-\u001b[0m\u001b[0mstfav\u001b[0m\u001b[1;33m)\u001b[0m\u001b[1;33m>\u001b[0m\u001b[1;36m0.11\u001b[0m\u001b[1;33m]\u001b[0m\u001b[1;33m\u001b[0m\u001b[1;33m\u001b[0m\u001b[0m\n",
      "\u001b[1;32mD:\\Programmes\\Python3\\lib\\site-packages\\pandas\\core\\frame.py\u001b[0m in \u001b[0;36m__getitem__\u001b[1;34m(self, key)\u001b[0m\n\u001b[0;32m   2798\u001b[0m             \u001b[1;32mif\u001b[0m \u001b[0mself\u001b[0m\u001b[1;33m.\u001b[0m\u001b[0mcolumns\u001b[0m\u001b[1;33m.\u001b[0m\u001b[0mnlevels\u001b[0m \u001b[1;33m>\u001b[0m \u001b[1;36m1\u001b[0m\u001b[1;33m:\u001b[0m\u001b[1;33m\u001b[0m\u001b[1;33m\u001b[0m\u001b[0m\n\u001b[0;32m   2799\u001b[0m                 \u001b[1;32mreturn\u001b[0m \u001b[0mself\u001b[0m\u001b[1;33m.\u001b[0m\u001b[0m_getitem_multilevel\u001b[0m\u001b[1;33m(\u001b[0m\u001b[0mkey\u001b[0m\u001b[1;33m)\u001b[0m\u001b[1;33m\u001b[0m\u001b[1;33m\u001b[0m\u001b[0m\n\u001b[1;32m-> 2800\u001b[1;33m             \u001b[0mindexer\u001b[0m \u001b[1;33m=\u001b[0m \u001b[0mself\u001b[0m\u001b[1;33m.\u001b[0m\u001b[0mcolumns\u001b[0m\u001b[1;33m.\u001b[0m\u001b[0mget_loc\u001b[0m\u001b[1;33m(\u001b[0m\u001b[0mkey\u001b[0m\u001b[1;33m)\u001b[0m\u001b[1;33m\u001b[0m\u001b[1;33m\u001b[0m\u001b[0m\n\u001b[0m\u001b[0;32m   2801\u001b[0m             \u001b[1;32mif\u001b[0m \u001b[0mis_integer\u001b[0m\u001b[1;33m(\u001b[0m\u001b[0mindexer\u001b[0m\u001b[1;33m)\u001b[0m\u001b[1;33m:\u001b[0m\u001b[1;33m\u001b[0m\u001b[1;33m\u001b[0m\u001b[0m\n\u001b[0;32m   2802\u001b[0m                 \u001b[0mindexer\u001b[0m \u001b[1;33m=\u001b[0m \u001b[1;33m[\u001b[0m\u001b[0mindexer\u001b[0m\u001b[1;33m]\u001b[0m\u001b[1;33m\u001b[0m\u001b[1;33m\u001b[0m\u001b[0m\n",
      "\u001b[1;32mD:\\Programmes\\Python3\\lib\\site-packages\\pandas\\core\\indexes\\base.py\u001b[0m in \u001b[0;36mget_loc\u001b[1;34m(self, key, method, tolerance)\u001b[0m\n\u001b[0;32m   2646\u001b[0m                 \u001b[1;32mreturn\u001b[0m \u001b[0mself\u001b[0m\u001b[1;33m.\u001b[0m\u001b[0m_engine\u001b[0m\u001b[1;33m.\u001b[0m\u001b[0mget_loc\u001b[0m\u001b[1;33m(\u001b[0m\u001b[0mkey\u001b[0m\u001b[1;33m)\u001b[0m\u001b[1;33m\u001b[0m\u001b[1;33m\u001b[0m\u001b[0m\n\u001b[0;32m   2647\u001b[0m             \u001b[1;32mexcept\u001b[0m \u001b[0mKeyError\u001b[0m\u001b[1;33m:\u001b[0m\u001b[1;33m\u001b[0m\u001b[1;33m\u001b[0m\u001b[0m\n\u001b[1;32m-> 2648\u001b[1;33m                 \u001b[1;32mreturn\u001b[0m \u001b[0mself\u001b[0m\u001b[1;33m.\u001b[0m\u001b[0m_engine\u001b[0m\u001b[1;33m.\u001b[0m\u001b[0mget_loc\u001b[0m\u001b[1;33m(\u001b[0m\u001b[0mself\u001b[0m\u001b[1;33m.\u001b[0m\u001b[0m_maybe_cast_indexer\u001b[0m\u001b[1;33m(\u001b[0m\u001b[0mkey\u001b[0m\u001b[1;33m)\u001b[0m\u001b[1;33m)\u001b[0m\u001b[1;33m\u001b[0m\u001b[1;33m\u001b[0m\u001b[0m\n\u001b[0m\u001b[0;32m   2649\u001b[0m         \u001b[0mindexer\u001b[0m \u001b[1;33m=\u001b[0m \u001b[0mself\u001b[0m\u001b[1;33m.\u001b[0m\u001b[0mget_indexer\u001b[0m\u001b[1;33m(\u001b[0m\u001b[1;33m[\u001b[0m\u001b[0mkey\u001b[0m\u001b[1;33m]\u001b[0m\u001b[1;33m,\u001b[0m \u001b[0mmethod\u001b[0m\u001b[1;33m=\u001b[0m\u001b[0mmethod\u001b[0m\u001b[1;33m,\u001b[0m \u001b[0mtolerance\u001b[0m\u001b[1;33m=\u001b[0m\u001b[0mtolerance\u001b[0m\u001b[1;33m)\u001b[0m\u001b[1;33m\u001b[0m\u001b[1;33m\u001b[0m\u001b[0m\n\u001b[0;32m   2650\u001b[0m         \u001b[1;32mif\u001b[0m \u001b[0mindexer\u001b[0m\u001b[1;33m.\u001b[0m\u001b[0mndim\u001b[0m \u001b[1;33m>\u001b[0m \u001b[1;36m1\u001b[0m \u001b[1;32mor\u001b[0m \u001b[0mindexer\u001b[0m\u001b[1;33m.\u001b[0m\u001b[0msize\u001b[0m \u001b[1;33m>\u001b[0m \u001b[1;36m1\u001b[0m\u001b[1;33m:\u001b[0m\u001b[1;33m\u001b[0m\u001b[1;33m\u001b[0m\u001b[0m\n",
      "\u001b[1;32mpandas\\_libs\\index.pyx\u001b[0m in \u001b[0;36mpandas._libs.index.IndexEngine.get_loc\u001b[1;34m()\u001b[0m\n",
      "\u001b[1;32mpandas\\_libs\\index.pyx\u001b[0m in \u001b[0;36mpandas._libs.index.IndexEngine.get_loc\u001b[1;34m()\u001b[0m\n",
      "\u001b[1;32mpandas\\_libs\\hashtable_class_helper.pxi\u001b[0m in \u001b[0;36mpandas._libs.hashtable.PyObjectHashTable.get_item\u001b[1;34m()\u001b[0m\n",
      "\u001b[1;32mpandas\\_libs\\hashtable_class_helper.pxi\u001b[0m in \u001b[0;36mpandas._libs.hashtable.PyObjectHashTable.get_item\u001b[1;34m()\u001b[0m\n",
      "\u001b[1;31mKeyError\u001b[0m: 'Très favorable'"
     ]
    }
   ],
   "source": [
    "df_err=find_mistake(df)\n",
    "df_err"
   ]
  },
  {
   "cell_type": "code",
   "execution_count": null,
   "metadata": {},
   "outputs": [],
   "source": [
    "\n",
    "# df.to_pickle('data/'+filename+'.p')"
   ]
  }
 ],
 "metadata": {
  "language_info": {
   "codemirror_mode": {
    "name": "ipython",
    "version": 3
   },
   "file_extension": ".py",
   "mimetype": "text/x-python",
   "name": "python",
   "nbconvert_exporter": "python",
   "pygments_lexer": "ipython3",
   "version": "3.7.7-final"
  },
  "orig_nbformat": 2,
  "kernelspec": {
   "name": "python37764bitb6ef9b95e5314da5935130084e765a7f",
   "display_name": "Python 3.7.7 64-bit",
   "language": "python"
  }
 },
 "nbformat": 4,
 "nbformat_minor": 2
}