{
 "cells": [
  {
   "cell_type": "markdown",
   "metadata": {},
   "source": [
    "# Modifications de résultats des sondages\n",
    "\n",
    "## Import préliminaires des librairies"
   ]
  },
  {
   "cell_type": "code",
   "execution_count": 1,
   "metadata": {},
   "outputs": [
    {
     "output_type": "stream",
     "name": "stdout",
     "text": [
      "Martine\n"
     ]
    }
   ],
   "source": [
    "import re\n",
    "import numpy as np\n",
    "import pandas as pd\n",
    "import locale \n",
    "from locale import atof\n",
    "\n",
    "# Read files\n",
    "import PyPDF2\n",
    "from pdfminer.high_level import extract_text\n",
    "import camelot as km\n",
    "\n",
    "### Perso ###\n",
    "from toolbox import *"
   ]
  },
  {
   "cell_type": "code",
   "execution_count": 2,
   "metadata": {},
   "outputs": [],
   "source": [
    "fp=\"rapport/2018-12-08.pdf\"\n",
    "text = extract_text(fp,page_numbers=[23])\n",
    "question1=\"Êtes-vous  satisfait  ou  mécontent  d\"\n",
    "question2=\"Êtes-vous satisfait ou mécontent d\"\n",
    "# print(text.find(question1))\n",
    "# print(text.find(question2))\n",
    "# print(len(question2))\n",
    "# print(re.sub('\\.\\.\\. (?![\\n])','...\\n',text))"
   ]
  },
  {
   "cell_type": "code",
   "execution_count": 3,
   "metadata": {},
   "outputs": [],
   "source": [
    "with open(fp,\"rb\") as pdf_file:\n",
    "    pdf_reader= PyPDF2.PdfFileReader(pdf_file)\n",
    "    isEncrypted = pdf_reader.getIsEncrypted()\n",
    "    nbPages= pdf_reader.numPages\n",
    "\n",
    "    # Define columns\n",
    "    page_content=pdf_reader.getPage(15).extractText()\n",
    "# print(page_content)"
   ]
  },
  {
   "source": [
    "## Extraction utilisant une lecture de PDF"
   ],
   "cell_type": "markdown",
   "metadata": {}
  },
  {
   "cell_type": "code",
   "execution_count": 4,
   "metadata": {},
   "outputs": [],
   "source": [
    "def extract_name(page_text):\n",
    "    # Extract name\n",
    "    question1=\"Jugementportésurl'actiond\"\n",
    "    question2=\"Queljugementportez-voussurl'actiond\"\n",
    "    fullname=\"\"\n",
    "    for l in page_text.split('\\n'):\n",
    "        if question1 in l:\n",
    "            fullname=l[l.index(question1)+len(question1)+1:l.index(\"entantque\")]\n",
    "        if question2 in l:\n",
    "            fullname=l[l.index(question2)+len(question2)+1:l.index(\"?\")]\n",
    "    for i in range(len(fullname)):\n",
    "        if fullname[i:].isupper():\n",
    "            prenom=fullname[:i]\n",
    "            nom=fullname[i:]\n",
    "            break\n",
    "    return prenom,nom"
   ]
  },
  {
   "cell_type": "code",
   "execution_count": 5,
   "metadata": {},
   "outputs": [],
   "source": [
    "\n",
    "def extract_ipsos_data_from_pdf(file_path,page_range,date,df=None):\n",
    "    with open(file_path,\"rb\") as pdf_file:\n",
    "        pdf_reader= PyPDF2.PdfFileReader(pdf_file)\n",
    "        isEncrypted = pdf_reader.getIsEncrypted()\n",
    "        nbPages= pdf_reader.numPages\n",
    "\n",
    "        # Define columns\n",
    "        columns=[\"Nom\",\"Categorie\",\"Groupe\",\"Base\",\"Date\",\"Très favorable\",\"Plutôt favorable\",\"ST Favorable\",\"Plutôt défavorable\",\"Très défavorable\",\"ST Défavorable\",\"Nsp\",\"Evolution ST Favorable\",\"Evolution ST Défavorable\"]\n",
    "        tables = km.read_pdf(file_path, flavor='stream',pages='{}-{}'.format(page_range[0],page_range[1]))\n",
    "        template=build_one_page_template_df(tables[0].df,date)\n",
    "        if df is None:\n",
    "            df=pd.DataFrame(columns=columns)\n",
    "        for i in range(page_range[0],page_range[1]+1):\n",
    "            page_content=pdf_reader.getPage(i-1).extractText()\n",
    "            nom=extract_name(page_content)\n",
    "            nom=nom[0]+' '+nom[1]\n",
    "            data=tables[i-page_range[0]].df\n",
    "            df_one_page=build_one_page_df(nom,template,data)\n",
    "            df=pd.concat([df,df_one_page],ignore_index=True)\n",
    "    return df\n"
   ]
  },
  {
   "cell_type": "code",
   "execution_count": 6,
   "metadata": {
    "tags": []
   },
   "outputs": [
    {
     "output_type": "stream",
     "name": "stdout",
     "text": [
      "Emmanuel MACRON\n",
      "Edouard PHILIPPE\n",
      "Martine AUBRY\n",
      "François BAROIN\n",
      "François BAYROU\n",
      "Xavier BERTRAND\n",
      "Jean-Michel BLANQUER\n",
      "Agnès BUZYN\n",
      "Christophe CASTANER\n",
      "Eric CIOTTI\n",
      "Gérard COLLOMB\n",
      "Gérald DARMANIN\n",
      "François DERUGY\n",
      "Nicolas DUPONT-AIGNAN\n",
      "Christian ESTROSI\n",
      "Olivier FAURE\n",
      "François FILLON\n",
      "Benjamin GRIVEAUX\n",
      "Benoît HAMON\n",
      "Anne HIDALGO\n",
      "François HOLLANDE\n",
      "Nicolas HULOT\n",
      "Alain JUPPE\n",
      "Jack LANG\n",
      "Jean-Yves LEDRIAN\n",
      "Bruno LEMAIRE\n",
      "Marine LEPEN\n",
      "Marion MARECHAL-LEPEN\n",
      "Jean-Luc MELENCHON\n",
      "Valérie PECRESSE\n",
      "Muriel PENICAUD\n",
      "Ségolène ROYAL\n",
      "Nicolas SARKOZY\n",
      "Marlène SCHIAPPA\n",
      "Manuel VALLS\n",
      "Laurent WAUQUIEZ\n"
     ]
    },
    {
     "output_type": "execute_result",
     "data": {
      "text/plain": [
       "                   Nom                          Categorie           Groupe  \\\n",
       "0      Emmanuel MACRON                           ENSEMBLE         ENSEMBLE   \n",
       "1      Emmanuel MACRON                               Sexe            Homme   \n",
       "2      Emmanuel MACRON                               Sexe            Femme   \n",
       "3      Emmanuel MACRON                                Age      18 à 24 ans   \n",
       "4      Emmanuel MACRON                                Age      25 à 34 ans   \n",
       "...                ...                                ...              ...   \n",
       "2479  Laurent WAUQUIEZ  Vote Présidentielle 2017 1er tour     ST Non expr.   \n",
       "2480  Laurent WAUQUIEZ  Vote Présidentielle 2017 2nd tour  Emmanuel Macron   \n",
       "2481  Laurent WAUQUIEZ  Vote Présidentielle 2017 2nd tour    Marine Le Pen   \n",
       "2482  Laurent WAUQUIEZ  Vote Présidentielle 2017 2nd tour         ST Expr.   \n",
       "2483  Laurent WAUQUIEZ  Vote Présidentielle 2017 2nd tour     ST Non expr.   \n",
       "\n",
       "       Base       Date  Très favorable  Plutôt favorable  ST Favorable  \\\n",
       "0     971.0 2018-12-08             3.2              16.4          19.6   \n",
       "1     462.0 2018-12-08             3.0              16.3          19.2   \n",
       "2     509.0 2018-12-08             3.5              16.5          20.0   \n",
       "3     103.0 2018-12-08            12.0              18.5          30.5   \n",
       "4     154.0 2018-12-08             1.8              11.2          13.1   \n",
       "...     ...        ...             ...               ...           ...   \n",
       "2479  238.0 2018-12-08             1.5               9.6          11.0   \n",
       "2480  379.0 2018-12-08             0.7              12.2          13.0   \n",
       "2481  194.0 2018-12-08             3.9              20.0          23.9   \n",
       "2482  573.0 2018-12-08             1.8              14.9          16.7   \n",
       "2483  398.0 2018-12-08             1.5              12.3          13.8   \n",
       "\n",
       "      Plutôt défavorable  Très défavorable  ST Défavorable   Nsp  \\\n",
       "0                   26.2              49.8            76.0   4.4   \n",
       "1                   31.9              46.3            78.3   2.5   \n",
       "2                   20.9              53.0            74.0   6.0   \n",
       "3                   26.8              32.5            59.3  10.2   \n",
       "4                   23.9              57.1            81.0   6.0   \n",
       "...                  ...               ...             ...   ...   \n",
       "2479                24.2              31.8            55.9  33.0   \n",
       "2480                27.9              47.5            75.4  11.7   \n",
       "2481                33.4              23.8            57.2  18.8   \n",
       "2482                29.8              39.5            69.2  14.1   \n",
       "2483                32.4              30.9            63.3  22.9   \n",
       "\n",
       "      Evolution ST Favorable  Evolution ST Défavorable  \n",
       "0                       -6.4                       5.7  \n",
       "1                      -12.1                      11.4  \n",
       "2                       -1.2                       0.5  \n",
       "3                       -0.3                      -5.4  \n",
       "4                      -10.1                       9.5  \n",
       "...                      ...                       ...  \n",
       "2479                     5.2                       1.6  \n",
       "2480                    -1.6                       2.4  \n",
       "2481                    -3.3                       5.8  \n",
       "2482                    -2.2                       3.6  \n",
       "2483                    -1.5                       9.0  \n",
       "\n",
       "[2484 rows x 14 columns]"
      ],
      "text/html": "<div>\n<style scoped>\n    .dataframe tbody tr th:only-of-type {\n        vertical-align: middle;\n    }\n\n    .dataframe tbody tr th {\n        vertical-align: top;\n    }\n\n    .dataframe thead th {\n        text-align: right;\n    }\n</style>\n<table border=\"1\" class=\"dataframe\">\n  <thead>\n    <tr style=\"text-align: right;\">\n      <th></th>\n      <th>Nom</th>\n      <th>Categorie</th>\n      <th>Groupe</th>\n      <th>Base</th>\n      <th>Date</th>\n      <th>Très favorable</th>\n      <th>Plutôt favorable</th>\n      <th>ST Favorable</th>\n      <th>Plutôt défavorable</th>\n      <th>Très défavorable</th>\n      <th>ST Défavorable</th>\n      <th>Nsp</th>\n      <th>Evolution ST Favorable</th>\n      <th>Evolution ST Défavorable</th>\n    </tr>\n  </thead>\n  <tbody>\n    <tr>\n      <th>0</th>\n      <td>Emmanuel MACRON</td>\n      <td>ENSEMBLE</td>\n      <td>ENSEMBLE</td>\n      <td>971.0</td>\n      <td>2018-12-08</td>\n      <td>3.2</td>\n      <td>16.4</td>\n      <td>19.6</td>\n      <td>26.2</td>\n      <td>49.8</td>\n      <td>76.0</td>\n      <td>4.4</td>\n      <td>-6.4</td>\n      <td>5.7</td>\n    </tr>\n    <tr>\n      <th>1</th>\n      <td>Emmanuel MACRON</td>\n      <td>Sexe</td>\n      <td>Homme</td>\n      <td>462.0</td>\n      <td>2018-12-08</td>\n      <td>3.0</td>\n      <td>16.3</td>\n      <td>19.2</td>\n      <td>31.9</td>\n      <td>46.3</td>\n      <td>78.3</td>\n      <td>2.5</td>\n      <td>-12.1</td>\n      <td>11.4</td>\n    </tr>\n    <tr>\n      <th>2</th>\n      <td>Emmanuel MACRON</td>\n      <td>Sexe</td>\n      <td>Femme</td>\n      <td>509.0</td>\n      <td>2018-12-08</td>\n      <td>3.5</td>\n      <td>16.5</td>\n      <td>20.0</td>\n      <td>20.9</td>\n      <td>53.0</td>\n      <td>74.0</td>\n      <td>6.0</td>\n      <td>-1.2</td>\n      <td>0.5</td>\n    </tr>\n    <tr>\n      <th>3</th>\n      <td>Emmanuel MACRON</td>\n      <td>Age</td>\n      <td>18 à 24 ans</td>\n      <td>103.0</td>\n      <td>2018-12-08</td>\n      <td>12.0</td>\n      <td>18.5</td>\n      <td>30.5</td>\n      <td>26.8</td>\n      <td>32.5</td>\n      <td>59.3</td>\n      <td>10.2</td>\n      <td>-0.3</td>\n      <td>-5.4</td>\n    </tr>\n    <tr>\n      <th>4</th>\n      <td>Emmanuel MACRON</td>\n      <td>Age</td>\n      <td>25 à 34 ans</td>\n      <td>154.0</td>\n      <td>2018-12-08</td>\n      <td>1.8</td>\n      <td>11.2</td>\n      <td>13.1</td>\n      <td>23.9</td>\n      <td>57.1</td>\n      <td>81.0</td>\n      <td>6.0</td>\n      <td>-10.1</td>\n      <td>9.5</td>\n    </tr>\n    <tr>\n      <th>...</th>\n      <td>...</td>\n      <td>...</td>\n      <td>...</td>\n      <td>...</td>\n      <td>...</td>\n      <td>...</td>\n      <td>...</td>\n      <td>...</td>\n      <td>...</td>\n      <td>...</td>\n      <td>...</td>\n      <td>...</td>\n      <td>...</td>\n      <td>...</td>\n    </tr>\n    <tr>\n      <th>2479</th>\n      <td>Laurent WAUQUIEZ</td>\n      <td>Vote Présidentielle 2017 1er tour</td>\n      <td>ST Non expr.</td>\n      <td>238.0</td>\n      <td>2018-12-08</td>\n      <td>1.5</td>\n      <td>9.6</td>\n      <td>11.0</td>\n      <td>24.2</td>\n      <td>31.8</td>\n      <td>55.9</td>\n      <td>33.0</td>\n      <td>5.2</td>\n      <td>1.6</td>\n    </tr>\n    <tr>\n      <th>2480</th>\n      <td>Laurent WAUQUIEZ</td>\n      <td>Vote Présidentielle 2017 2nd tour</td>\n      <td>Emmanuel Macron</td>\n      <td>379.0</td>\n      <td>2018-12-08</td>\n      <td>0.7</td>\n      <td>12.2</td>\n      <td>13.0</td>\n      <td>27.9</td>\n      <td>47.5</td>\n      <td>75.4</td>\n      <td>11.7</td>\n      <td>-1.6</td>\n      <td>2.4</td>\n    </tr>\n    <tr>\n      <th>2481</th>\n      <td>Laurent WAUQUIEZ</td>\n      <td>Vote Présidentielle 2017 2nd tour</td>\n      <td>Marine Le Pen</td>\n      <td>194.0</td>\n      <td>2018-12-08</td>\n      <td>3.9</td>\n      <td>20.0</td>\n      <td>23.9</td>\n      <td>33.4</td>\n      <td>23.8</td>\n      <td>57.2</td>\n      <td>18.8</td>\n      <td>-3.3</td>\n      <td>5.8</td>\n    </tr>\n    <tr>\n      <th>2482</th>\n      <td>Laurent WAUQUIEZ</td>\n      <td>Vote Présidentielle 2017 2nd tour</td>\n      <td>ST Expr.</td>\n      <td>573.0</td>\n      <td>2018-12-08</td>\n      <td>1.8</td>\n      <td>14.9</td>\n      <td>16.7</td>\n      <td>29.8</td>\n      <td>39.5</td>\n      <td>69.2</td>\n      <td>14.1</td>\n      <td>-2.2</td>\n      <td>3.6</td>\n    </tr>\n    <tr>\n      <th>2483</th>\n      <td>Laurent WAUQUIEZ</td>\n      <td>Vote Présidentielle 2017 2nd tour</td>\n      <td>ST Non expr.</td>\n      <td>398.0</td>\n      <td>2018-12-08</td>\n      <td>1.5</td>\n      <td>12.3</td>\n      <td>13.8</td>\n      <td>32.4</td>\n      <td>30.9</td>\n      <td>63.3</td>\n      <td>22.9</td>\n      <td>-1.5</td>\n      <td>9.0</td>\n    </tr>\n  </tbody>\n</table>\n<p>2484 rows × 14 columns</p>\n</div>"
     },
     "metadata": {},
     "execution_count": 6
    }
   ],
   "source": [
    "filename=\"2018-12-08\"\n",
    "first_p=16\n",
    "last_p=51\n",
    "# df=extract_ipsos_alt(\"rapport/\"+filename+\".pdf\",first_p,last_p)\n",
    "df=extract_ipsos_data_from_pdf(\"rapport/\"+filename+\".pdf\",(first_p,last_p),filename,None)\n",
    "df\n"
   ]
  },
  {
   "cell_type": "code",
   "execution_count": 7,
   "metadata": {},
   "outputs": [
    {
     "output_type": "execute_result",
     "data": {
      "text/plain": [
       "array(['Emmanuel MACRON', 'Edouard PHILIPPE', 'Martine AUBRY',\n",
       "       'François BAROIN', 'François BAYROU', 'Xavier BERTRAND',\n",
       "       'Jean-Michel BLANQUER', 'Agnès BUZYN', 'Christophe CASTANER',\n",
       "       'Eric CIOTTI', 'Gérard COLLOMB', 'Gérald DARMANIN',\n",
       "       'François DERUGY', 'Nicolas DUPONT-AIGNAN', 'Christian ESTROSI',\n",
       "       'Olivier FAURE', 'François FILLON', 'Benjamin GRIVEAUX',\n",
       "       'Benoît HAMON', 'Anne HIDALGO', 'François HOLLANDE',\n",
       "       'Nicolas HULOT', 'Alain JUPPE', 'Jack LANG', 'Jean-Yves LEDRIAN',\n",
       "       'Bruno LEMAIRE', 'Marine LEPEN', 'Marion MARECHAL-LEPEN',\n",
       "       'Jean-Luc MELENCHON', 'Valérie PECRESSE', 'Muriel PENICAUD',\n",
       "       'Ségolène ROYAL', 'Nicolas SARKOZY', 'Marlène SCHIAPPA',\n",
       "       'Manuel VALLS', 'Laurent WAUQUIEZ'], dtype=object)"
      ]
     },
     "metadata": {},
     "execution_count": 7
    }
   ],
   "source": [
    "df.Nom.unique()"
   ]
  },
  {
   "cell_type": "code",
   "execution_count": 8,
   "metadata": {},
   "outputs": [],
   "source": [
    "# for n in df_alt.Nom.unique():\n",
    "#     t1=df[df.Nom==n].iloc[0]\n",
    "#     t2=df_alt[df_alt.Nom==n].iloc[0]\n",
    "#     if t1!=t2:\n",
    "#         print('PB:\\n{}\\n{}'.format(t1,t2))"
   ]
  },
  {
   "cell_type": "code",
   "execution_count": 9,
   "metadata": {},
   "outputs": [],
   "source": [
    "# df3=pd.concat([df,df2],ignore_index=True)\n",
    "# df3.to_pickle('data/'+filename+'.p')"
   ]
  },
  {
   "cell_type": "code",
   "execution_count": 10,
   "metadata": {},
   "outputs": [
    {
     "output_type": "stream",
     "name": "stdout",
     "text": [
      "False\n"
     ]
    },
    {
     "output_type": "execute_result",
     "data": {
      "text/plain": [
       "Empty DataFrame\n",
       "Columns: [Nom, Categorie, Groupe, Base, Date, Très favorable, Plutôt favorable, ST Favorable, Plutôt défavorable, Très défavorable, ST Défavorable, Nsp, Evolution ST Favorable, Evolution ST Défavorable]\n",
       "Index: []"
      ],
      "text/html": "<div>\n<style scoped>\n    .dataframe tbody tr th:only-of-type {\n        vertical-align: middle;\n    }\n\n    .dataframe tbody tr th {\n        vertical-align: top;\n    }\n\n    .dataframe thead th {\n        text-align: right;\n    }\n</style>\n<table border=\"1\" class=\"dataframe\">\n  <thead>\n    <tr style=\"text-align: right;\">\n      <th></th>\n      <th>Nom</th>\n      <th>Categorie</th>\n      <th>Groupe</th>\n      <th>Base</th>\n      <th>Date</th>\n      <th>Très favorable</th>\n      <th>Plutôt favorable</th>\n      <th>ST Favorable</th>\n      <th>Plutôt défavorable</th>\n      <th>Très défavorable</th>\n      <th>ST Défavorable</th>\n      <th>Nsp</th>\n      <th>Evolution ST Favorable</th>\n      <th>Evolution ST Défavorable</th>\n    </tr>\n  </thead>\n  <tbody>\n  </tbody>\n</table>\n</div>"
     },
     "metadata": {},
     "execution_count": 10
    }
   ],
   "source": [
    "# Reading IPSOS report\n",
    "\n",
    "# with open(\"rapport/2020-10-14.pdf\",\"rb\") as pdf_file:\n",
    "#     pdf_report= PyPDF2.PdfFileReader(pdf_file)\n",
    "#     isEncrypted = pdf_report.getIsEncrypted()\n",
    "#     nbPages= pdf_report.numPages\n",
    "\n",
    "#     page1=pdf_report.getPage(15)\n",
    "#     text=page1.extractText().replace(',','.')\n",
    "#     text = extract_text(pdf_file,page_numbers=[14])\n",
    "\n",
    "# print(text)\n",
    "\n",
    "print(df.isnull().values.any())\n",
    "df.head(10)\n",
    "df.describe()\n",
    "df[df.Base==0]"
   ]
  },
  {
   "cell_type": "code",
   "execution_count": 11,
   "metadata": {},
   "outputs": [
    {
     "output_type": "execute_result",
     "data": {
      "text/plain": [
       "Empty DataFrame\n",
       "Columns: [Nom, Categorie, Groupe, Base, Date, Très favorable, Plutôt favorable, ST Favorable, Plutôt défavorable, Très défavorable, ST Défavorable, Nsp, Evolution ST Favorable, Evolution ST Défavorable]\n",
       "Index: []"
      ],
      "text/html": "<div>\n<style scoped>\n    .dataframe tbody tr th:only-of-type {\n        vertical-align: middle;\n    }\n\n    .dataframe tbody tr th {\n        vertical-align: top;\n    }\n\n    .dataframe thead th {\n        text-align: right;\n    }\n</style>\n<table border=\"1\" class=\"dataframe\">\n  <thead>\n    <tr style=\"text-align: right;\">\n      <th></th>\n      <th>Nom</th>\n      <th>Categorie</th>\n      <th>Groupe</th>\n      <th>Base</th>\n      <th>Date</th>\n      <th>Très favorable</th>\n      <th>Plutôt favorable</th>\n      <th>ST Favorable</th>\n      <th>Plutôt défavorable</th>\n      <th>Très défavorable</th>\n      <th>ST Défavorable</th>\n      <th>Nsp</th>\n      <th>Evolution ST Favorable</th>\n      <th>Evolution ST Défavorable</th>\n    </tr>\n  </thead>\n  <tbody>\n  </tbody>\n</table>\n</div>"
     },
     "metadata": {},
     "execution_count": 11
    }
   ],
   "source": [
    "null_columns=df.columns[df.isnull().any()]\n",
    "df[null_columns].isnull().sum()\n",
    "df[df.isnull().any(axis=1)]"
   ]
  },
  {
   "source": [
    "## Find mistakes and try to correct them"
   ],
   "cell_type": "markdown",
   "metadata": {}
  },
  {
   "cell_type": "code",
   "execution_count": 12,
   "metadata": {},
   "outputs": [],
   "source": [
    "def find_fav_mistake(df):\n",
    "    tfav=df['Très favorable']\n",
    "    pfav=df['Plutôt favorable']\n",
    "    stfav=df['ST Favorable']\n",
    "    fav_df= df[np.abs(tfav+pfav-stfav)>0.11]\n",
    "    return fav_df\n",
    "\n",
    "def find_def_mistake(df):\n",
    "    tdef=df['Très défavorable']\n",
    "    pdef=df['Plutôt défavorable']\n",
    "    stdef=df['ST Défavorable']\n",
    "    def_df= df[np.abs(tdef+pdef-stdef)>0.11]\n",
    "    return def_df\n",
    "\n",
    "def find_nsp_mistake(df):\n",
    "    stfav=df['ST Favorable']\n",
    "    stdef=df['ST Défavorable']\n",
    "    nsp=df['Nsp']\n",
    "    tot_df= df[np.abs(stfav+stdef+nsp-100)>0.11]\n",
    "    return tot_df\n",
    "\n",
    "def find_mistake(df):\n",
    "    fav_df= find_fav_mistake(df)\n",
    "    def_df= find_def_mistake(df)\n",
    "    tot_df=find_nsp_mistake(df)\n",
    "    error_df=pd.concat([fav_df,def_df,tot_df])\n",
    "    return error_df"
   ]
  },
  {
   "cell_type": "code",
   "execution_count": 13,
   "metadata": {},
   "outputs": [],
   "source": [
    "def realign_fav(df,i=0,imax=-1):\n",
    "    df_err=find_fav_mistake(df)\n",
    "    zeros_cols= [x for x in [\"Très favorable\",\"Plutôt favorable\",\"ST Favorable\"] if df[x].all()==0]\n",
    "    if imax==-1:\n",
    "        imax=len(zeros_cols)*len(df)\n",
    "    if not df_err.empty and i<=imax and len(zeros_cols)>0:\n",
    "        col=zeros_cols[0]\n",
    "        values=df_err[col].tolist()\n",
    "        values=values[1:]+[values[0]]\n",
    "        df.loc[df_err.index,col]=values\n",
    "        df=realign_fav(df,i+1)\n",
    "    return df\n",
    "\n",
    "def realign_def(df,i=0,imax=-1):\n",
    "    df_err=find_fav_mistake(df)\n",
    "    zeros_cols= [x for x in [\"Très défavorable\",\"Plutôt défavorable\",\"ST Défavorable\"] if df[x].all()==0]\n",
    "    if imax==-1:\n",
    "        imax=len(zeros_cols)*len(df)\n",
    "    if not df_err.empty and i<=imax:\n",
    "        col=zeros_cols[0]\n",
    "        values=df_err[col].tolist()\n",
    "        values=values[1:]+[values[0]]\n",
    "        df.loc[df_err.index,col]=values\n",
    "        df=realign_def(df,i+1)\n",
    "    return df\n",
    "\n",
    "def realign_nsp(df,i=0,imax=-1):\n",
    "    df_err=find_fav_mistake(df)\n",
    "    zeros_cols= [x for x in [\"ST Favorable\",\"ST Défavorable\",\"Nsp\"] if df[x].all()==0]\n",
    "    if imax==-1:\n",
    "        imax=len(zeros_cols)*len(df)\n",
    "    if not df_err.empty and i<=imax:\n",
    "        col=zeros_cols[0]\n",
    "        values=df_err[col].tolist()\n",
    "        values=values[1:]+[values[0]]\n",
    "        df.loc[df_err.index,col]=values\n",
    "        df=realign_nsp(df,i+1)\n",
    "    return df\n",
    "\n",
    "    \n",
    "\n"
   ]
  },
  {
   "cell_type": "code",
   "execution_count": 14,
   "metadata": {},
   "outputs": [],
   "source": [
    "def correct_mistakes(df):\n",
    "    df_err=find_fav_mistake(df)\n",
    "    for nom in df_err.Nom.unique():\n",
    "        for cat in df_err[df_err.Nom==nom].Categorie.unique():\n",
    "            cond=((df_err.Nom==nom) & (df_err.Categorie==cat))\n",
    "            df_err.loc[cond]=realign_fav(df_err[cond])\n",
    "    df.loc[df_err.index]=df_err\n",
    "\n",
    "    df_err=find_def_mistake(df)\n",
    "    for nom in df_err.Nom.unique():\n",
    "        for cat in df_err[df_err.Nom==nom].Categorie.unique():\n",
    "            cond=((df_err.Nom==nom) & (df_err.Categorie==cat))\n",
    "            df_err.loc[cond]=realign_def(df_err[cond])\n",
    "    df.loc[df_err.index]=df_err\n",
    "\n",
    "    df_err=find_nsp_mistake(df)\n",
    "    for nom in df_err.Nom.unique():\n",
    "        for cat in df_err[df_err.Nom==nom].Categorie.unique():\n",
    "            cond=((df_err.Nom==nom) & (df_err.Categorie==cat))\n",
    "            df_err.loc[cond]=realign_nsp(df_err[cond])\n",
    "    df.loc[df_err.index]=df_err\n",
    "    return df"
   ]
  },
  {
   "cell_type": "code",
   "execution_count": 15,
   "metadata": {},
   "outputs": [
    {
     "output_type": "execute_result",
     "data": {
      "text/plain": [
       "Empty DataFrame\n",
       "Columns: [Nom, Categorie, Groupe, Base, Date, Très favorable, Plutôt favorable, ST Favorable, Plutôt défavorable, Très défavorable, ST Défavorable, Nsp, Evolution ST Favorable, Evolution ST Défavorable]\n",
       "Index: []"
      ],
      "text/html": "<div>\n<style scoped>\n    .dataframe tbody tr th:only-of-type {\n        vertical-align: middle;\n    }\n\n    .dataframe tbody tr th {\n        vertical-align: top;\n    }\n\n    .dataframe thead th {\n        text-align: right;\n    }\n</style>\n<table border=\"1\" class=\"dataframe\">\n  <thead>\n    <tr style=\"text-align: right;\">\n      <th></th>\n      <th>Nom</th>\n      <th>Categorie</th>\n      <th>Groupe</th>\n      <th>Base</th>\n      <th>Date</th>\n      <th>Très favorable</th>\n      <th>Plutôt favorable</th>\n      <th>ST Favorable</th>\n      <th>Plutôt défavorable</th>\n      <th>Très défavorable</th>\n      <th>ST Défavorable</th>\n      <th>Nsp</th>\n      <th>Evolution ST Favorable</th>\n      <th>Evolution ST Défavorable</th>\n    </tr>\n  </thead>\n  <tbody>\n  </tbody>\n</table>\n</div>"
     },
     "metadata": {},
     "execution_count": 15
    }
   ],
   "source": [
    "df_err=find_mistake(df)\n",
    "df_err\n",
    "# df=correct_mistakes(df)\n"
   ]
  },
  {
   "cell_type": "code",
   "execution_count": 16,
   "metadata": {},
   "outputs": [],
   "source": [
    "df_err=find_mistake(df)\n",
    "while len(df_err)>0:\n",
    "    index=df_err.iloc[0:1].index[0]\n",
    "    val=df_err.iloc[0].values[3:]\n",
    "    print(df_err.iloc[0])\n",
    "    print(val)\n",
    "    correct=[]\n",
    "    cols=[\"Base\",\"Très favorable\",\"Plutôt favorable\",\"ST Favorable\",\"Plutôt défavorable\",\"Très défavorable\",\"ST Défavorable\",\"Nsp\",\"Evolution ST Favorable\",\"Evolution ST Défavorable\"]\n",
    "    while len(correct)!=10:\n",
    "        correct=input()\n",
    "        correct=[float(x) for x in correct.split(' ')]\n",
    "    print(correct)\n",
    "    df.loc[index,cols]=correct\n",
    "    df_err=find_mistake(df)"
   ]
  },
  {
   "cell_type": "code",
   "execution_count": 18,
   "metadata": {},
   "outputs": [],
   "source": [
    "\n",
    "# df.to_pickle('data/'+filename+'.p')"
   ]
  },
  {
   "cell_type": "code",
   "execution_count": null,
   "metadata": {},
   "outputs": [],
   "source": []
  }
 ],
 "metadata": {
  "language_info": {
   "codemirror_mode": {
    "name": "ipython",
    "version": 3
   },
   "file_extension": ".py",
   "mimetype": "text/x-python",
   "name": "python",
   "nbconvert_exporter": "python",
   "pygments_lexer": "ipython3",
   "version": "3.7.7"
  },
  "orig_nbformat": 2,
  "kernelspec": {
   "name": "python377jvsc74a57bd0ae93e79123fa75e42eb38063086463a6b1444618a3c7ad2d5ad011612ef83147",
   "display_name": "Python 3.7.7 64-bit"
  }
 },
 "nbformat": 4,
 "nbformat_minor": 2
}