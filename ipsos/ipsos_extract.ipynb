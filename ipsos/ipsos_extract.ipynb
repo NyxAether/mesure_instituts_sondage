{
 "cells": [
  {
   "cell_type": "markdown",
   "metadata": {},
   "source": [
    "# Modifications de résultats des sondages\n",
    "\n",
    "## Import préliminaires des librairies"
   ]
  },
  {
   "cell_type": "code",
   "execution_count": 64,
   "metadata": {},
   "outputs": [],
   "source": [
    "import re\n",
    "import numpy as np\n",
    "import pandas as pd\n",
    "import locale \n",
    "from locale import atof\n",
    "\n",
    "# Read files\n",
    "import PyPDF2\n",
    "from pdfminer.high_level import extract_text"
   ]
  },
  {
   "cell_type": "code",
   "execution_count": 65,
   "metadata": {},
   "outputs": [
    {
     "output_type": "stream",
     "name": "stdout",
     "text": [
      "Baromètre de l'action politique / 22 et 23 Janvier 2021\n\ns29. Quel jugement portez-vous sur l'action de Bernard CAZENEUVE?\n\nBASE\n\nTrès\nfavorable\n\nPlutôt\nfavorable\n\nST Favorable\n\nPlutôt\ndéfavorable\n\nTrès\ndéfavorable\n\nST\nDéfavorable\n\nNsp\n\nEvolution ST\nFavorable\n\nEvolution ST\nDéfavorable\n\nENSEMBLE ..................................................................\n1 000\n\n3,6\n\n21,2\n\n24,8\n\n28,0\n\n21,4\n\n49,4\n\n25,8\n\n-0,7\n\nHomme ..........................................................................\nFemme ...........................................................................\n\n476\n524\n\nSexe\n\nAge\n\n18 à 24 ans ....................................................................\n25 à 34 ans ....................................................................\n35 à 44 ans ....................................................................\n45 à 59 ans ....................................................................\n60 à 69 ans ....................................................................\n70 ans et plus .................................................................\nST Moins de 35 ans .........................................................\nST 35 à 59 ans ...............................................................\nST 60 ans et plus ............................................................\n\nPCS de la personne de référence du foyer\n\nAgriculteur exploitant ......................................................\nProfession indépendante .................................................\nCadre supérieur ..............................................................\nProfession intermédiaire ..................................................\nEmployé .........................................................................\nOuvrier ...........................................................................\nRetraité ..........................................................................\nInactif ............................................................................\n\nPCS de l'individu\n\nAgriculteur exploitant ......................................................\nProfession indépendante .................................................\nCadre supérieur ..............................................................\nProfession intermédiaire ..................................................\nEmployé .........................................................................\nOuvrier ...........................................................................\nRetraité ..........................................................................\nInactif ............................................................................\n\nRégion\n\nIle-de-France ..................................................................\nNord-Ouest .....................................................................\nNord-Est .........................................................................\nSud-Ouest ......................................................................\nSud-Est ...........................................................................\nST Province ....................................................................\n\nCatégorie d'agglomération\n\nRural ..............................................................................\nMoins de 20.000 hab .......................................................\n20.000 à 100.000 hab. ....................................................\nPlus de 100.000 hab. ......................................................\nAgglomération Parisienne ................................................\n\nRevenu mensuel net du foyer\n\nMoins de 1.200 € ............................................................\nDe 1.200 - 2.000 € ..........................................................\nDe 2.000 - 3.000 € ..........................................................\n3.000 € et plus ...............................................................\n\nDiplôme le plus élevé\n\nInférieur au BAC .............................................................\nBaccalauréat ...................................................................\nBAC +2 et plus ...............................................................\n\nProximité politique\n\nST FI PdG PC ..................................................................\nPS ..................................................................................\nEELV ..............................................................................\nLREM ..............................................................................\nMoDem ...........................................................................\nUDI ................................................................................\nLR ..................................................................................\nDLF ................................................................................\nRN ..................................................................................\nAucun parti .....................................................................\nST Gauche (FI PdG PC PS EELV) ......................................\nST Centre (Modem LREM) ...............................................\nST Droite (LR UDI) ..........................................................\n\nVote Présidentielle 2017 1er tour\n\nJL Mélenchon ..................................................................\nB. Hamon .......................................................................\nE. Macron .......................................................................\nF. Fillon ..........................................................................\nM. Le Pen .......................................................................\nST Expr. .........................................................................\nST Non expr. ..................................................................\n\nVote Présidentielle 2017 2nd tour\n\nEmmanuel Macron ..........................................................\nMarine Le Pen .................................................................\nST Expr. .........................................................................\nST Non expr. ..................................................................\n\n106\n159\n143\n293\n142\n157\n265\n436\n299\n\n12\n48\n114\n155\n170\n146\n275\n79\n\n10\n36\n97\n151\n175\n137\n275\n119\n\n185\n229\n225\n112\n249\n815\n\n229\n173\n134\n299\n165\n\n123\n247\n246\n276\n\n400\n240\n360\n\n94\n91\n86\n136\n24\n16\n123\n24\n152\n233\n270\n160\n139\n\n149\n48\n183\n152\n162\n762\n238\n\n410\n210\n620\n380\n\n4,2\n3,0\n\n3,1\n1,4\n3,9\n4,8\n2,1\n5,0\n2,1\n4,5\n3,6\n\n9,7\n2,9\n3,5\n2,2\n2,1\n4,5\n4,6\n4,1\n\n11,9\n3,9\n2,9\n2,7\n2,0\n4,0\n4,6\n3,9\n\n5,3\n4,0\n1,4\n1,6\n4,8\n3,2\n\n1,8\n4,4\n4,4\n2,9\n5,9\n\n1,6\n2,7\n2,9\n4,7\n\n3,7\n2,1\n4,4\n\n3,0\n3,3\n4,7\n4,3\n9,3\n\n5,5\n\n2,0\n3,3\n3,6\n5,1\n4,8\n\n1,0\n5,6\n8,5\n1,7\n2,1\n3,4\n4,1\n\n5,0\n2,0\n4,0\n3,0\n\n25,0\n17,7\n\n14,8\n13,6\n20,8\n18,2\n28,8\n32,3\n14,1\n19,1\n30,6\n\n7,9\n21,0\n23,9\n18,2\n16,6\n13,4\n33,6\n7,1\n\n9,7\n11,3\n21,8\n18,6\n17,6\n16,6\n33,7\n9,8\n\n23,3\n22,3\n19,4\n21,0\n20,4\n20,7\n\n16,8\n19,4\n18,9\n24,6\n25,0\n\n12,3\n15,2\n22,8\n29,2\n\n20,3\n16,9\n25,1\n\n14,6\n31,2\n10,8\n39,4\n39,7\n33,6\n27,2\n31,8\n17,6\n9,2\n19,0\n39,5\n27,9\n\n16,8\n39,6\n36,5\n25,5\n12,9\n24,6\n10,4\n\n30,2\n13,6\n24,6\n15,7\n\n29,3\n20,8\n\n17,9\n15,1\n24,8\n23,0\n30,9\n37,3\n16,2\n23,6\n34,3\n\n17,5\n23,9\n27,3\n20,4\n18,7\n17,9\n38,2\n11,2\n\n21,6\n15,2\n24,8\n21,3\n19,7\n20,6\n38,3\n13,7\n\n28,6\n26,3\n20,8\n22,6\n25,2\n24,0\n\n18,6\n23,9\n23,3\n27,5\n31,0\n\n13,9\n17,9\n25,7\n33,9\n\n24,1\n19,0\n29,5\n\n17,6\n34,4\n15,5\n43,8\n49,0\n33,6\n32,7\n31,8\n19,5\n12,5\n22,6\n44,6\n32,8\n\n17,8\n45,1\n45,1\n27,3\n15,0\n28,0\n14,5\n\n35,2\n15,6\n28,6\n18,7\n\n30,0\n26,2\n\n16,8\n24,7\n32,7\n27,0\n35,9\n29,4\n21,5\n28,9\n32,5\n\n17,4\n29,4\n29,9\n30,0\n24,6\n21,7\n29,1\n37,2\n\n21,4\n36,0\n29,6\n29,6\n23,0\n21,2\n29,8\n33,8\n\n25,7\n24,8\n33,7\n25,5\n28,6\n28,5\n\n30,6\n23,4\n40,8\n25,6\n23,1\n\n24,7\n25,1\n35,1\n26,4\n\n28,4\n27,8\n27,7\n\n23,9\n23,0\n41,0\n25,4\n11,8\n36,9\n35,3\n28,2\n28,5\n26,4\n29,0\n23,3\n35,5\n\n21,0\n23,1\n25,7\n37,6\n27,6\n28,1\n27,7\n\n29,1\n25,4\n27,9\n28,2\n\nA3\n\n24,2\n18,9\n\n26,5\n25,7\n12,2\n25,3\n18,7\n17,3\n26,0\n21,0\n17,9\n\n29,6\n25,7\n15,2\n17,0\n27,2\n28,2\n17,8\n22,3\n\n36,4\n32,5\n15,9\n17,5\n25,5\n30,5\n18,2\n17,3\n\n14,7\n23,7\n21,0\n22,8\n24,0\n22,9\n\n28,8\n27,2\n10,8\n20,6\n15,2\n\n30,8\n26,6\n15,4\n21,5\n\n25,4\n22,8\n16,0\n\n44,0\n20,9\n9,2\n10,4\n5,6\n22,8\n18,2\n20,6\n32,6\n17,0\n25,2\n9,7\n18,7\n\n40,4\n10,4\n10,5\n20,4\n34,5\n23,9\n13,6\n\n13,5\n34,8\n20,8\n22,5\n\n54,2\n45,0\n\n43,4\n50,3\n45,0\n52,2\n54,5\n46,6\n47,5\n49,9\n50,4\n\n47,0\n55,1\n45,1\n47,1\n51,8\n49,9\n47,0\n59,5\n\n57,8\n68,4\n45,4\n47,1\n48,5\n51,7\n48,0\n51,0\n\n40,4\n48,5\n54,7\n48,3\n52,6\n51,5\n\n59,4\n50,6\n51,6\n46,2\n38,3\n\n55,5\n51,7\n50,5\n47,9\n\n53,8\n50,6\n43,7\n\n67,8\n43,8\n50,2\n35,8\n17,4\n59,7\n53,5\n48,8\n61,1\n43,4\n54,2\n33,0\n54,2\n\n61,3\n33,5\n36,2\n58,0\n62,1\n52,0\n41,2\n\n42,7\n60,2\n48,6\n50,7\n\n16,5\n34,2\n\n38,8\n34,6\n30,3\n24,7\n14,6\n16,1\n36,3\n26,5\n15,4\n\n35,5\n21,0\n27,6\n32,5\n29,5\n32,2\n14,8\n29,3\n\n20,6\n16,4\n29,8\n31,6\n31,8\n27,7\n13,7\n35,2\n\n31,0\n25,1\n24,4\n29,1\n22,2\n24,6\n\n22,0\n25,5\n25,1\n26,3\n30,8\n\n30,6\n30,4\n23,8\n18,2\n\n22,1\n30,4\n26,8\n\n14,6\n21,7\n34,3\n20,4\n33,6\n6,7\n13,8\n19,4\n19,3\n44,1\n23,2\n22,4\n13,0\n\n20,9\n21,3\n18,7\n14,8\n22,9\n20,0\n44,2\n\n22,1\n24,2\n22,8\n30,6\n\n0,5\n-1,7\n\n-1,8\n-1,8\n7,2\n-1,6\n2,1\n-5,6\n-1,8\n0,9\n-1,9\n\n17,5\n10,9\n-5,3\n4,4\n-4,4\n-0,9\n2,8\n-11,8\n\n21,6\n-2,0\n-7,8\n4,2\n-4,8\n3,9\n2,2\n-8,1\n\n4,1\n-1,9\n-0,3\n-3,6\n-2,1\n-1,7\n\n-2,6\n-4,1\n-6,8\n1,6\n6,5\n\n-16,7\n0,6\n-4,6\n4,2\n\n-1,0\n-3,0\n1,3\n\n-5,2\n9,4\n-12,0\n-4,4\n-9,6\n-3,1\n5,8\n-0,6\n1,1\n-3,7\n-2,5\n-4,4\n4,4\n\n-0,2\n14,4\n-5,6\n-4,1\n-0,1\n-0,6\n1,2\n\n-0,3\n-2,5\n-1,0\n0,1\n\n0,6\n\n0,5\n0,6\n\n1,7\n0,3\n-10,1\n-0,0\n3,5\n8,0\n0,9\n-3,2\n5,9\n\n-39,9\n-2,5\n-3,3\n-8,0\n0,5\n5,9\n2,5\n11,0\n\n-24,6\n12,9\n-5,0\n-8,4\n-1,4\n5,5\n5,0\n2,0\n\n-13,4\n1,7\n0,2\n7,3\n7,2\n3,8\n\n6,4\n6,9\n13,1\n-3,6\n-16,6\n\n23,6\n-5,8\n-2,6\n-0,4\n\n3,6\n1,1\n-3,1\n\n9,1\n-1,9\n3,9\n-5,6\n-16,5\n13,6\n3,4\n-2,9\n-1,6\n2,3\n3,7\n-7,8\n4,7\n\n2,0\n-12,5\n3,9\n1,3\n1,8\n1,0\n0,4\n\n-0,1\n-3,0\n-1,1\n3,4\n\nsd&p\n\n\f\n"
     ]
    }
   ],
   "source": [
    "fp=\"rapport/2021-01-22.pdf\"\n",
    "text = extract_text(fp,page_numbers=[23])\n",
    "question1=\"Êtes-vous  satisfait  ou  mécontent  d\"\n",
    "question2=\"Êtes-vous satisfait ou mécontent d\"\n",
    "# print(text.find(question1))\n",
    "# print(text.find(question2))\n",
    "# print(len(question2))\n",
    "print(re.sub('\\.\\.\\. (?![\\n])','...\\n',text))"
   ]
  },
  {
   "cell_type": "code",
   "execution_count": 66,
   "metadata": {},
   "outputs": [
    {
     "output_type": "stream",
     "name": "stdout",
     "text": [
      "A3\ns4.Queljugementportez-voussurl'actiondeMartineAUBRY?\nBASE\nTrès\nfavorable\nPlutôt\nfavorable\nSTFavorable\nPlutôt\ndéfavorable\nTrès\ndéfavorable\nST\nDéfavorable\nNsp\nEvolutionST\nFavorable\nEvolutionST\nDéfavorable\nENSEMBLE..................................................................\n1000\n4,6\n25,8\n30,4\n25,5\n27,1\n52,6\n17,0\n0,2\n-0,2\nSexe\nHomme..........................................................................\n476\n4,6\n20,7\n25,3\n29,3\n34,0\n63,2\n11,5\n-5,7\n4,2\nFemme...........................................................................\n524\n4,6\n30,5\n35,0\n22,0\n20,9\n42,9\n22,0\n5,5\n-4,1\nAge\n18à24ans....................................................................\n106\n5,2\n23,6\n28,8\n22,3\n15,4\n37,7\n33,4\n-4,7\n9,3\n25à34ans....................................................................\n159\n8,0\n22,0\n30,1\n25,3\n17,0\n42,3\n27,6\n4,8\n-2,7\n35à44ans....................................................................\n143\n7,7\n28,8\n36,5\n20,6\n20,1\n40,7\n22,9\n-4,2\n-1,2\n45à59ans....................................................................\n293\n2,8\n28,5\n31,3\n26,7\n28,9\n55,5\n13,2\n1,8\n-0,8\n60à69ans....................................................................\n142\n4,3\n28,0\n32,3\n28,4\n35,4\n63,7\n4,0\n3,4\n-0,1\n70ansetplus.................................................................\n157\n1,5\n21,3\n22,8\n27,3\n41,0\n68,3\n8,9\n-4,4\n0,1\nSTMoinsde35ans.........................................................\n265\n6,9\n22,7\n29,6\n24,1\n16,4\n40,5\n29,9\n1,0\n2,1\nST35à59ans...............................................................\n436\n4,4\n28,6\n33,0\n24,7\n26,0\n50,7\n16,4\n0,3\n-1,6\nST60ansetplus............................................................\n299\n2,8\n24,5\n27,3\n27,8\n38,3\n66,1\n6,6\n-0,7\n-0,0\nPCSdelapersonnederéférencedufoyer\nAgriculteurexploitant......................................................\n12\n7,7\n8,3\n16,0\n8,8\n45,5\n54,3\n29,7\n3,0\n-24,4\nProfessionindépendante.................................................\n48\n7,8\n29,1\n36,9\n21,4\n19,5\n40,9\n22,2\n12,1\n-14,7\nCadresupérieur..............................................................\n114\n9,9\n24,8\n34,8\n26,9\n22,7\n49,6\n15,6\n-7,1\n3,5\nProfessionintermédiaire..................................................\n155\n4,0\n35,4\n39,4\n22,1\n17,5\n39,6\n21,1\n7,4\n-10,6\nEmployé.........................................................................\n170\n4,5\n16,4\n20,9\n22,8\n36,1\n58,9\n20,2\n-10,8\n13,4\nOuvrier...........................................................................\n146\n8,1\n25,6\n33,7\n24,5\n19,1\n43,6\n22,7\n13,5\n-6,6\nRetraité..........................................................................\n275\n1,4\n28,8\n30,3\n28,9\n34,8\n63,7\n6,1\n-1,3\n1,3\nInactif............................................................................\n79\n19,2\n19,2\n30,9\n23,2\n54,0\n26,7\n-4,7\n5,2\nPCSdel'individu\nAgriculteurexploitant......................................................\n10\n9,5\n10,2\n19,7\n10,8\n56,1\n66,9\n13,4\n7,4\n-12,9\nProfessionindépendante.................................................\n36\n8,1\n14,7\n22,9\n30,1\n26,3\n56,4\n20,8\n0,7\n2,1\nCadresupérieur..............................................................\n97\n9,9\n26,2\n36,0\n26,5\n24,4\n50,9\n13,1\n-8,1\n6,2\nProfessionintermédiaire..................................................\n151\n3,3\n37,5\n40,8\n20,2\n17,5\n37,7\n21,5\n6,0\n-9,5\nEmployé.........................................................................\n175\n6,1\n18,1\n24,2\n20,9\n33,2\n54,1\n21,7\n-7,2\n7,3\nOuvrier...........................................................................\n137\n9,8\n24,9\n34,7\n25,1\n21,4\n46,5\n18,8\n15,8\n-7,0\nRetraité..........................................................................\n275\n1,2\n27,9\n29,0\n30,4\n34,7\n65,2\n5,8\n-2,9\n2,1\nInactif............................................................................\n119\n23,0\n23,0\n26,8\n19,6\n46,4\n30,6\n-1,1\n-1,4\nRégion\nIle-de-France..................................................................\n185\n4,5\n27,4\n31,9\n20,9\n28,7\n49,6\n18,4\n1,2\n-5,2\nNord-Ouest.....................................................................\n229\n4,3\n26,9\n31,1\n25,3\n26,6\n51,9\n17,0\n2,1\n-2,9\nNord-Est.........................................................................\n225\n4,6\n23,8\n28,4\n31,3\n26,3\n57,6\n14,0\n-7,0\n9,9\nSud-Ouest......................................................................\n112\n6,7\n25,3\n32,0\n26,3\n23,6\n49,9\n18,1\n0,5\n8,0\nSud-Est...........................................................................\n249\n3,9\n25,7\n29,6\n23,4\n28,8\n52,2\n18,2\n4,1\n-6,6\nSTProvince....................................................................\n815\n4,6\n25,4\n30,0\n26,5\n26,8\n53,3\n16,7\n-0,0\n1,0\nCatégoried'agglomération\nRural..............................................................................\n229\n3,6\n26,6\n30,2\n24,4\n30,7\n55,1\n14,7\n1,1\n3,3\nMoinsde20.000hab.......................................................\n173\n3,6\n24,7\n28,4\n27,3\n29,3\n56,6\n15,1\n-0,7\n2,6\n20.000à100.000hab.....................................................\n134\n4,2\n25,8\n29,9\n29,1\n20,0\n49,1\n21,0\n-2,0\n1,4\nPlusde100.000hab.......................................................\n299\n6,0\n24,8\n30,8\n27,3\n24,6\n51,9\n17,3\n0,3\n-2,8\nAgglomérationParisienne................................................\n165\n4,6\n27,7\n32,3\n18,8\n30,3\n49,1\n18,6\n1,4\n-4,3\nRevenumensuelnetdufoyer\nMoinsde1.200\n............................................................\n123\n3,2\n19,7\n22,9\n20,9\n26,8\n47,7\n29,3\n-7,2\n11,1\nDe1.200-2.000\n..........................................................\n247\n5,1\n25,6\n30,8\n29,9\n24,3\n54,2\n15,1\n4,2\n-4,5\nDe2.000-3.000\n..........................................................\n246\n5,2\n26,5\n31,7\n26,4\n24,2\n50,5\n17,8\n-0,7\n-8,1\n3.000\netplus...............................................................\n276\n5,6\n29,0\n34,6\n23,0\n34,5\n57,4\n8,0\n0,8\n4,4\nDiplômeleplusélevé\nInférieurauBAC.............................................................\n400\n4,1\n21,0\n25,1\n30,5\n27,1\n57,6\n17,3\n-3,0\n-0,1\nBaccalauréat...................................................................\n240\n3,4\n26,6\n30,0\n21,2\n28,0\n49,2\n20,7\n1,7\n0,8\nBAC+2etplus...............................................................\n360\n5,9\n30,6\n36,5\n22,7\n26,6\n49,3\n14,2\n2,8\n-0,9\nProximitépolitique\nSTFIPdGPC..................................................................\n94\n7,4\n42,4\n49,7\n24,7\n13,3\n38,1\n12,2\n-9,0\n13,1\nPS..................................................................................\n91\n11,1\n57,0\n68,1\n18,8\n6,4\n25,2\n6,7\n6,1\n0,4\nEELV..............................................................................\n86\n10,2\n37,0\n47,2\n22,4\n6,2\n28,6\n24,2\n8,7\n-14,7\nLREM..............................................................................\n136\n4,1\n28,7\n32,8\n29,6\n23,8\n53,4\n13,8\n0,7\n-8,6\nMoDem...........................................................................\n24\n31,6\n31,6\n35,2\n29,7\n64,8\n3,5\n0,5\n2,4\nUDI................................................................................\n16\n27,8\n27,8\n9,8\n59,8\n69,6\n2,6\n8,3\n-10,9\nLR..................................................................................\n123\n1,3\n8,8\n10,1\n27,5\n58,9\n86,5\n3,5\n1,5\n6,8\nDLF................................................................................\n24\n4,6\n13,6\n18,2\n10,5\n40,9\n51,4\n30,4\n3,8\n-21,4\nRN..................................................................................\n152\n3,5\n15,9\n19,4\n23,2\n44,2\n67,4\n13,2\n-1,4\n-2,0\nAucunparti.....................................................................\n233\n1,6\n16,2\n17,8\n30,3\n19,7\n50,0\n32,2\n-3,1\n3,8\nSTGauche(FIPdGPCPSEELV)......................................\n270\n9,5\n45,6\n55,1\n22,0\n8,8\n30,8\n14,2\n2,3\n-0,4\nSTCentre(ModemLREM)...............................................\n160\n3,5\n29,1\n32,6\n30,4\n24,7\n55,1\n12,3\n0,6\n-6,9\nSTDroite(LRUDI)..........................................................\n139\n1,1\n11,0\n12,1\n25,5\n59,0\n84,5\n3,4\n1,8\n4,7\nVotePrésidentielle20171ertour\nJLMélenchon..................................................................\n149\n9,0\n40,5\n49,5\n24,1\n11,7\n35,8\n14,7\n-5,5\n5,2\nB.Hamon.......................................................................\n48\n13,2\n58,3\n71,4\n14,5\n6,2\n20,6\n7,9\n20,4\n-13,3\nE.Macron.......................................................................\n183\n2,4\n33,5\n35,9\n30,6\n22,9\n53,5\n10,6\n-4,8\n5,5\nF.Fillon..........................................................................\n152\n7,3\n7,3\n23,8\n62,0\n85,8\n7,0\n-7,6\n5,0\nM.LePen.......................................................................\n162\n6,1\n17,2\n23,3\n21,0\n42,6\n63,6\n13,1\n3,6\n-4,3\nSTExpr..........................................................................\n762\n4,7\n27,2\n31,9\n25,1\n31,5\n56,5\n11,6\n-1,1\n1,1\nSTNonexpr...................................................................\n238\n4,3\n21,3\n25,6\n26,7\n13,2\n40,0\n34,4\n6,0\n-2,5\nVotePrésidentielle20172ndtour\nEmmanuelMacron..........................................................\n410\n6,1\n32,1\n38,3\n26,2\n24,3\n50,6\n11,1\n-1,7\n2,7\nMarineLePen.................................................................\n210\n4,0\n16,6\n20,6\n23,3\n41,5\n64,8\n14,7\n1,4\n-7,1\nSTExpr..........................................................................\n620\n5,4\n26,9\n32,3\n25,3\n30,1\n55,4\n12,3\n-0,6\n-0,6\nSTNonexpr...................................................................\n380\n3,2\n24,1\n27,3\n25,8\n22,2\n48,0\n24,7\n1,7\n0,7\nBaromètredel'actionpolitique/22et23Janvier2021\nsd&p\n\n"
     ]
    }
   ],
   "source": [
    "with open(fp,\"rb\") as pdf_file:\n",
    "    pdf_reader= PyPDF2.PdfFileReader(pdf_file)\n",
    "    isEncrypted = pdf_reader.getIsEncrypted()\n",
    "    nbPages= pdf_reader.numPages\n",
    "\n",
    "    # Define columns\n",
    "    page_content=pdf_reader.getPage(15).extractText()\n",
    "print(page_content)"
   ]
  },
  {
   "source": [
    "## Extraction utilisant une lecture de PDF alternative"
   ],
   "cell_type": "markdown",
   "metadata": {}
  },
  {
   "cell_type": "code",
   "execution_count": 67,
   "metadata": {},
   "outputs": [],
   "source": [
    "def fill_with_zeros(bases,groups,c_cat):\n",
    "    while len(bases[c_cat])<len(groups[c_cat]):\n",
    "        bases[c_cat].insert(0,0)\n",
    "\n",
    "def clean_page(page_text):\n",
    "    text=re.sub('\\.\\.\\. (?![\\n])','...\\n',page_text)\n",
    "    return text\n",
    "\n",
    "def find_fill_subset(values,size):\n",
    "    fitting_set=[]\n",
    "    count=len(values[0])\n",
    "    index_set=1\n",
    "    for i in range(1,len(values)):\n",
    "        if count == size:\n",
    "            break\n",
    "        else:\n",
    "            count+=len(values[i])+1\n",
    "            index_set+=1\n",
    "        if count>size:\n",
    "            count-=len(values[i])+1\n",
    "            index_set-=1\n",
    "            break\n",
    "    if count>size:\n",
    "        print('count size wrong. Count {} size {}'.format(count,size))\n",
    "        print(values[:4])\n",
    "        raise AssertionError()\n",
    "    while count!=size:\n",
    "        fitting_set.append(0)\n",
    "        count+=1\n",
    "    fitting_set.extend(values[0])\n",
    "    for i in range(1,index_set):\n",
    "        fitting_set.append(0)\n",
    "        fitting_set.extend(values[i])\n",
    "    return fitting_set, index_set\n",
    "    \n",
    "def groups_size(cat,groups):\n",
    "    count=0\n",
    "    for c in cat:\n",
    "        count+=len(groups[c])\n",
    "    return count"
   ]
  },
  {
   "cell_type": "code",
   "execution_count": 68,
   "metadata": {},
   "outputs": [],
   "source": [
    "def extract_groups(page_text):\n",
    "    text=page_text[page_text.find('18 à 24 ans'):]\n",
    "    cat=['ENSEMBLE','Sexe','Age']\n",
    "    groups={'ENSEMBLE':['ENSEMBLE'],'Sexe':['Homme','Femme'],'Age':[]}\n",
    "    for line in text.split('\\n'):\n",
    "        if re.search('[a-zA-Z]', line) and line!='sd&p':\n",
    "            is_group=re.search(' [\\.]+', line)\n",
    "            if is_group:\n",
    "                group=line[:is_group.start()].rstrip()\n",
    "                groups[cat[-1]].append(group)\n",
    "            elif line==\"ST Non expr.\":\n",
    "                line=line.replace(' ','')\n",
    "                group=line\n",
    "                groups[cat[-1]].append(group)\n",
    "            else:\n",
    "                line=line.replace(' ','')\n",
    "                cat.append(line)\n",
    "                groups[line]=[]\n",
    "    return cat,groups"
   ]
  },
  {
   "cell_type": "code",
   "execution_count": 69,
   "metadata": {},
   "outputs": [],
   "source": [
    "def extract_base(page_text,cat,groups):\n",
    "    \"\"\"Extract the base for all values\n",
    "    page_text : raw text extracted\n",
    "    cat : list of categories found\n",
    "    groups : list of sub categories\n",
    "    \"\"\"\n",
    "    ## Clean text and ignore part of the begining\n",
    "    # Some lines with ... do not jump lines at the end\n",
    "    # making it difficult to parse\n",
    "    text=clean_page(page_text)\n",
    "    text=text[text.find('ENSEMBLE'):]\n",
    "    # iterable on categories\n",
    "    i_cat=iter(cat)\n",
    "    c_cat=next(i_cat)\n",
    "    # bases will store the bases for the categories\n",
    "    bases={'ENSEMBLE':[]}\n",
    "    # base_found is true if for the current cat at least one base is found\n",
    "    # if true no double line jump should be found before next cat\n",
    "    base_found=False\n",
    "    for line in text.split('\\n'):\n",
    "        line=line.replace(' ','')\n",
    "        if not base_found:\n",
    "            # search until first base is found, ignore everything else\n",
    "            if re.search('^\\d+$',line):\n",
    "                bases[c_cat].append(int(line))\n",
    "                base_found=True\n",
    "        else:\n",
    "            # no more double line jump, ignore text or float number\n",
    "            if line!='':\n",
    "                if re.search('^\\d+$',line):\n",
    "                    bases[c_cat].append(int(line))\n",
    "            else:\n",
    "                # Check if numbers of groups and bases match or add zero\n",
    "                # Throw an alert in this case\n",
    "                if len(bases[c_cat])<len(groups[c_cat]):\n",
    "                    print(\"Size for {} do not match. Base size={}, groups size={}\".format(c_cat,len(bases[c_cat]),len(groups[c_cat])))\n",
    "                    print(\"Bases found {}\".format(bases[c_cat]))\n",
    "                    fill_with_zeros(bases,groups,c_cat)\n",
    "                # reset everything and go to the next cat\n",
    "                try:\n",
    "                    c_cat=next(i_cat)\n",
    "                    bases[c_cat]=[]\n",
    "                    base_found=False\n",
    "                except StopIteration:\n",
    "                    return bases"
   ]
  },
  {
   "cell_type": "code",
   "execution_count": 70,
   "metadata": {},
   "outputs": [],
   "source": [
    "def extract_ensemble(page_text):\n",
    "    text=clean_page(page_text)\n",
    "    text=text[text.find('ENSEMBLE'):]\n",
    "    values=[]\n",
    "    for line in text.split('\\n')[1:]:\n",
    "        if re.search('-?\\d+,\\d+',line):\n",
    "            values.append(float(line.replace(',','.')))\n",
    "        if re.search('[a-zA-Z]',line):\n",
    "            return values"
   ]
  },
  {
   "cell_type": "code",
   "execution_count": 71,
   "metadata": {},
   "outputs": [],
   "source": [
    "def get_all_values(page_text):\n",
    "    text=clean_page(page_text)\n",
    "    text=text[text.find('Sexe'):]\n",
    "\n",
    "    values=[]\n",
    "    sub_v=[]\n",
    "    for line in text.split('\\n'):\n",
    "        if re.search('-?\\d+,\\d+',line):\n",
    "            sub_v.append(float(line.replace(',','.')))\n",
    "        elif line=='' and len(sub_v)!=0:\n",
    "            values.append(sub_v)\n",
    "            sub_v=[]\n",
    "    return values"
   ]
  },
  {
   "cell_type": "code",
   "execution_count": 72,
   "metadata": {},
   "outputs": [],
   "source": [
    "def fill_col(all_v,cat,groups,ens_val,col_names,df,ignore_val_ens):\n",
    "    # ignore_val_ens ignore val in ens for last column if true\n",
    "    v_index=0\n",
    "    col_size=groups_size(cat,groups)\n",
    "    for col_index in range(len(col_names)):\n",
    "        col=[]\n",
    "        for c_cat in cat:\n",
    "            last_col_cond= col_index+1==len(col_names) and ignore_val_ens\n",
    "            if c_cat=='ENSEMBLE' and not last_col_cond:\n",
    "                col.append(ens_val[col_index])\n",
    "            else:\n",
    "                l_cat=len(groups[c_cat])\n",
    "                f_set, new_index =find_fill_subset(all_v[v_index:],l_cat)\n",
    "                v_index+=new_index\n",
    "                col.extend(f_set)\n",
    "                if c_cat=='ENSEMBLE' and last_col_cond:\n",
    "                    ens_val.extend(f_set)\n",
    "                    print('verif {}'.format(ens_val))\n",
    "        if len(col)!=col_size:\n",
    "            print(\"size {} expected {}\".format(len(col),col_size))\n",
    "            print(col)\n",
    "        df[col_names[col_index]]=col\n",
    "    return df\n",
    "\n"
   ]
  },
  {
   "cell_type": "code",
   "execution_count": 73,
   "metadata": {},
   "outputs": [],
   "source": [
    "def extract_ipsos_page_alt(page_text,name,base,cat,groups):\n",
    "    ens_val=extract_ensemble(page_text)\n",
    "\n",
    "    # Assert ens_val is correct\n",
    "    correct=''\n",
    "    last_col_ignore=False\n",
    "    if len(ens_val)<9:\n",
    "        last_col_ignore=True\n",
    "        # print('Incorrect size\\n values: {}'.format(ens_val))\n",
    "        # while correct=='' or len(ens_val)<9:\n",
    "        #     correct=input('Do you want to correct it ?')\n",
    "        #     ens_val=[float(x) for x in correct.split(',')]\n",
    "        # print('thank you')\n",
    "    # end assertion\n",
    "\n",
    "    v=get_all_values(page_text)\n",
    "    df=pd.DataFrame(columns=['Nom','Categorie','Groupe','Base'])\n",
    "    for c_cat in cat:\n",
    "        c_df=pd.DataFrame(columns=['Categorie','Groupe','Base'])\n",
    "        c_df['Groupe']=groups[c_cat]\n",
    "        c_df['Base']=base[c_cat]\n",
    "        c_df['Categorie']=c_cat\n",
    "        c_df['Nom']=name\n",
    "        df=pd.concat([df,c_df],ignore_index=True)\n",
    "\n",
    "    df=fill_col(v,cat,groups,ens_val,[\"Très favorable\",\"Plutôt favorable\",\"ST Favorable\",\"Plutôt défavorable\",\"Très défavorable\",\"ST Défavorable\",\"Nsp\",\"Evolution ST Favorable\",\"Evolution ST Défavorable\"],df,last_col_ignore)\n",
    "    return df"
   ]
  },
  {
   "source": [
    "## Extraction utilisant une lecture de PDF"
   ],
   "cell_type": "markdown",
   "metadata": {}
  },
  {
   "cell_type": "code",
   "execution_count": 74,
   "metadata": {},
   "outputs": [],
   "source": [
    "def extract_name(page_text):\n",
    "    # Extract name\n",
    "    question1=\"Jugementportésurl'actiond\"\n",
    "    question2=\"Queljugementportez-voussurl'actiond\"\n",
    "    fullname=\"\"\n",
    "    for l in page_text.split('\\n'):\n",
    "        if question1 in l:\n",
    "            fullname=l[l.index(question1)+len(question1)+1:l.index(\"entantque\")]\n",
    "        if question2 in l:\n",
    "            fullname=l[l.index(question2)+len(question2)+1:l.index(\"?\")]\n",
    "    for i in range(len(fullname)):\n",
    "        if fullname[i:].isupper():\n",
    "            prenom=fullname[:i]\n",
    "            nom=fullname[i:]\n",
    "            break\n",
    "    return prenom,nom"
   ]
  },
  {
   "cell_type": "code",
   "execution_count": 75,
   "metadata": {},
   "outputs": [],
   "source": [
    "def add_tuple(df,new_row,new_person):\n",
    "    if new_person:\n",
    "        new_row.append(0)\n",
    "        new_row.append(0)\n",
    "    # Not present value\n",
    "    # Consider missing value is only TFavorable, tDefavorable or NSP\n",
    "    if len(new_row)<10:\n",
    "        print(new_row)\n",
    "        new_row=new_row[0:3]\n",
    "        while len(new_row)<13:\n",
    "            v=input('valeur ?')\n",
    "            new_row.extend([float(x) for x in v.split(',')])\n",
    "    while len(new_row)<13:\n",
    "        all_favorable=np.sum(new_row[4:6])\n",
    "        st_favorable=new_row[6]\n",
    "        if np.abs(st_favorable-all_favorable)>=0.2:\n",
    "            new_row.insert(4,0)\n",
    "        else:\n",
    "            all_defavorable=np.sum(new_row[7:9])\n",
    "            st_defavorable=new_row[9]\n",
    "            if np.abs(st_defavorable-all_defavorable)>=0.2:\n",
    "                new_row.insert(7,0)\n",
    "            else:\n",
    "                new_row.insert(10,0)\n",
    "        \n",
    "\n",
    "    df=df.append(pd.DataFrame([new_row],columns=df.columns),ignore_index=True)\n",
    "    return df\n",
    "    \n",
    "\n",
    "def extract_ipsos_page(df,page_text,columns):\n",
    "    new_person=\"Evolution\" not in page_text\n",
    "    page_text=page_text.replace(\",\",\".\")\n",
    "    page_text=page_text.replace(\"Moinsde1.200\\n\",\"Moinsde1.200€\")\n",
    "    page_text=page_text.replace(\"De1.200-2.000\\n\",\"De1.200-2.000€\")\n",
    "    page_text=page_text.replace(\"De2.000-3.000\\n\",\"De2.000-3.000€\")\n",
    "    page_text=page_text.replace(\"3.000\\netplus\",\"3.000€etplus\")\n",
    "    #Extract name\n",
    "    prenom,nom=extract_name(page_text)\n",
    "    fullname= prenom+' '+nom\n",
    "    if fullname not in df.Nom.unique():\n",
    "        print(fullname)\n",
    "    # Filter text\n",
    "        page_text=page_text[page_text.index(\"ENSEMBLE\"):page_text.index(\"Baromètredel'actionpolitique\")]\n",
    "\n",
    "\n",
    "        number_regex=\"^-?[0-9]+(.[0-9]+)?$\"\n",
    "        categorie=\"ENSEMBLE\"\n",
    "        new_row=[]\n",
    "        for l in page_text.split('\\n'):\n",
    "            # Test if number\n",
    "            if re.match(number_regex,l):\n",
    "                new_row.append(float(l))\n",
    "            # Test if new groupe\n",
    "            # It add the new tuple\n",
    "            elif \"....\" in l:\n",
    "                # Deal with ENSEMBLE categorie\n",
    "                if len(new_row)>1:\n",
    "                    df=add_tuple(df,new_row,new_person)  \n",
    "                new_row=[\"{} {}\".format(prenom,nom),categorie]\n",
    "                new_row.append(l.strip('.'))\n",
    "            else:\n",
    "                categorie=l\n",
    "        df=add_tuple(df,new_row,new_person)  \n",
    "    return df\n"
   ]
  },
  {
   "cell_type": "code",
   "execution_count": 76,
   "metadata": {},
   "outputs": [],
   "source": [
    "        \n",
    "def extract_ipsos_data_from_pdf(file_path,page_range,df=None):\n",
    "    with open(file_path,\"rb\") as pdf_file:\n",
    "        pdf_reader= PyPDF2.PdfFileReader(pdf_file)\n",
    "        isEncrypted = pdf_reader.getIsEncrypted()\n",
    "        nbPages= pdf_reader.numPages\n",
    "\n",
    "        # Define columns\n",
    "        columns=[\"Nom\",\"Categorie\",\"Groupe\",\"Base\",\"Très favorable\",\"Plutôt favorable\",\"ST Favorable\",\"Plutôt défavorable\",\"Très défavorable\",\"ST Défavorable\",\"Nsp\",\"Evolution ST Favorable\",\"Evolution ST Défavorable\"]\n",
    "        if df is None:\n",
    "            df=pd.DataFrame(columns=columns)\n",
    "        for i in range(page_range[0],page_range[1]+1):\n",
    "            page_content=pdf_reader.getPage(i).extractText()\n",
    "            df=extract_ipsos_page(df,page_content,columns)\n",
    "    return df\n"
   ]
  },
  {
   "cell_type": "code",
   "execution_count": 77,
   "metadata": {},
   "outputs": [],
   "source": [
    "def extract_ipsos_alt(filepath,p_start,p_end):\n",
    "    with open(filepath,\"rb\") as pdf_file:\n",
    "        pdf_reader= PyPDF2.PdfFileReader(pdf_file)\n",
    "        isEncrypted = pdf_reader.getIsEncrypted()\n",
    "        nbPages= pdf_reader.numPages\n",
    "\n",
    "        # Define columns\n",
    "        columns=[\"Nom\",\"Categorie\",\"Groupe\",\"Base\",\"Très favorable\",\"Plutôt favorable\",\"ST Favorable\",\"Plutôt défavorable\",\"Très défavorable\",\"ST Défavorable\",\"Nsp\",\"Evolution ST Favorable\",\"Evolution ST Défavorable\"]\n",
    "        df=pd.DataFrame(columns=columns)\n",
    "        page_text_pdfminer = extract_text(filepath,page_numbers=[p_start])\n",
    "        cat,groups=extract_groups(page_text_pdfminer)\n",
    "        base=extract_base(page_text_pdfminer,cat,groups)\n",
    "        for i in range(p_start,p_end+1):\n",
    "            page_text_pyPDF=pdf_reader.getPage(i).extractText()\n",
    "            page_text_pdfminer = extract_text(filepath,page_numbers=[i])\n",
    "            name=extract_name(page_text_pyPDF)\n",
    "            name=name[0]+' '+name[1]\n",
    "            print(name)\n",
    "            try:\n",
    "                c_df=extract_ipsos_page_alt(page_text_pdfminer,name,base,cat,groups)\n",
    "                df=pd.concat([df,c_df],ignore_index=True)\n",
    "            except AssertionError:\n",
    "                print('{} has been skipped'.format(name))\n",
    "    return df"
   ]
  },
  {
   "cell_type": "code",
   "execution_count": 89,
   "metadata": {
    "tags": []
   },
   "outputs": [
    {
     "output_type": "stream",
     "name": "stdout",
     "text": [
      "Emmanuel MACRON\n",
      "Jean CASTEX\n",
      "Martine AUBRY\n",
      "Roselyne BACHELOT\n",
      "François BAROIN\n",
      "François BAYROU\n",
      "François-Xavier BELLAMY\n",
      "Xavier BERTRAND\n",
      "Jean-Michel BLANQUER\n",
      "Christophe CASTANER\n",
      "Bernard CAZENEUVE\n",
      "Eric CIOTTI\n",
      "Gérald DARMANIN\n",
      "Eric DUPOND-MORETTI\n",
      "Nicolas DUPONT-AIGNAN\n",
      "Christian ESTROSI\n",
      "Olivier FAURE\n",
      "Richard FERRAND\n",
      "Anne HIDALGO\n",
      "François HOLLANDE\n",
      "Nicolas HULOT\n",
      "Yannick JADOT\n",
      "Christian JACOB\n",
      "Jack LANG\n",
      "Gérard LARCHER\n",
      "Jean-Yves LEDRIAN\n",
      "Bruno LEMAIRE\n",
      "Marine LEPEN\n",
      "Marion MARECHAL\n",
      "Jean-Luc MELENCHON\n",
      "Arnaud MONTEBOURG\n",
      "Valérie PECRESSE\n",
      "Guillaume PELTIER\n",
      "Edouard PHILIPPE\n",
      "Barbara POMPILI\n",
      "Bruno RETAILLEAU\n",
      "Ségolène ROYAL\n",
      "François RUFFIN\n",
      "Nicolas SARKOZY\n",
      "Marlène SCHIAPPA\n",
      "Olivier VERAN\n",
      "Laurent WAUQUIEZ\n"
     ]
    },
    {
     "output_type": "execute_result",
     "data": {
      "text/plain": [
       "                   Nom                      Categorie          Groupe    Base  \\\n",
       "0      Emmanuel MACRON                       ENSEMBLE        ENSEMBLE  1000.0   \n",
       "1      Emmanuel MACRON                           Sexe           Homme   476.0   \n",
       "2      Emmanuel MACRON                           Sexe           Femme   524.0   \n",
       "3      Emmanuel MACRON                            Age        18à24ans   106.0   \n",
       "4      Emmanuel MACRON                            Age        25à34ans   159.0   \n",
       "...                ...                            ...             ...     ...   \n",
       "2935  Laurent WAUQUIEZ  VotePrésidentielle20171ertour       STNonexpr   238.0   \n",
       "2936  Laurent WAUQUIEZ  VotePrésidentielle20172ndtour  EmmanuelMacron   410.0   \n",
       "2937  Laurent WAUQUIEZ  VotePrésidentielle20172ndtour     MarineLePen   210.0   \n",
       "2938  Laurent WAUQUIEZ  VotePrésidentielle20172ndtour          STExpr   620.0   \n",
       "2939  Laurent WAUQUIEZ  VotePrésidentielle20172ndtour       STNonexpr   380.0   \n",
       "\n",
       "      Très favorable  Plutôt favorable  ST Favorable  Plutôt défavorable  \\\n",
       "0                5.8              29.3          35.1                29.6   \n",
       "1                6.7              30.4          37.1                29.2   \n",
       "2                5.0              28.2          33.3                30.0   \n",
       "3               10.6              34.8          45.4                22.3   \n",
       "4                7.4              29.7          37.1                32.0   \n",
       "...              ...               ...           ...                 ...   \n",
       "2935             1.4              10.4          11.9                24.3   \n",
       "2936             3.3              17.8          21.1                31.5   \n",
       "2937             2.8              24.1          26.9                25.6   \n",
       "2938             3.1              20.0          23.1                29.5   \n",
       "2939             2.4              14.0          16.4                26.0   \n",
       "\n",
       "      Très défavorable  ST Défavorable   Nsp  Evolution ST Favorable  \\\n",
       "0                 30.1            59.7   5.2                    -3.3   \n",
       "1                 28.6            57.8   5.1                    -1.6   \n",
       "2                 31.4            61.4   5.3                    -4.8   \n",
       "3                 23.0            45.3   9.3                     5.8   \n",
       "4                 25.9            57.9   5.0                    -0.5   \n",
       "...                ...             ...   ...                     ...   \n",
       "2935              19.1            43.5  44.7                     1.8   \n",
       "2936              30.0            61.5  17.3                    -1.0   \n",
       "2937              22.4            48.0  25.1                     1.1   \n",
       "2938              27.4            56.9  20.0                    -0.3   \n",
       "2939              25.3            51.3  32.3                    -2.5   \n",
       "\n",
       "      Evolution ST Défavorable  \n",
       "0                          3.0  \n",
       "1                          0.5  \n",
       "2                          5.3  \n",
       "3                         -6.0  \n",
       "4                          2.4  \n",
       "...                        ...  \n",
       "2935                      -1.1  \n",
       "2936                       3.7  \n",
       "2937                      -5.5  \n",
       "2938                       0.6  \n",
       "2939                       3.8  \n",
       "\n",
       "[2940 rows x 13 columns]"
      ],
      "text/html": "<div>\n<style scoped>\n    .dataframe tbody tr th:only-of-type {\n        vertical-align: middle;\n    }\n\n    .dataframe tbody tr th {\n        vertical-align: top;\n    }\n\n    .dataframe thead th {\n        text-align: right;\n    }\n</style>\n<table border=\"1\" class=\"dataframe\">\n  <thead>\n    <tr style=\"text-align: right;\">\n      <th></th>\n      <th>Nom</th>\n      <th>Categorie</th>\n      <th>Groupe</th>\n      <th>Base</th>\n      <th>Très favorable</th>\n      <th>Plutôt favorable</th>\n      <th>ST Favorable</th>\n      <th>Plutôt défavorable</th>\n      <th>Très défavorable</th>\n      <th>ST Défavorable</th>\n      <th>Nsp</th>\n      <th>Evolution ST Favorable</th>\n      <th>Evolution ST Défavorable</th>\n    </tr>\n  </thead>\n  <tbody>\n    <tr>\n      <th>0</th>\n      <td>Emmanuel MACRON</td>\n      <td>ENSEMBLE</td>\n      <td>ENSEMBLE</td>\n      <td>1000.0</td>\n      <td>5.8</td>\n      <td>29.3</td>\n      <td>35.1</td>\n      <td>29.6</td>\n      <td>30.1</td>\n      <td>59.7</td>\n      <td>5.2</td>\n      <td>-3.3</td>\n      <td>3.0</td>\n    </tr>\n    <tr>\n      <th>1</th>\n      <td>Emmanuel MACRON</td>\n      <td>Sexe</td>\n      <td>Homme</td>\n      <td>476.0</td>\n      <td>6.7</td>\n      <td>30.4</td>\n      <td>37.1</td>\n      <td>29.2</td>\n      <td>28.6</td>\n      <td>57.8</td>\n      <td>5.1</td>\n      <td>-1.6</td>\n      <td>0.5</td>\n    </tr>\n    <tr>\n      <th>2</th>\n      <td>Emmanuel MACRON</td>\n      <td>Sexe</td>\n      <td>Femme</td>\n      <td>524.0</td>\n      <td>5.0</td>\n      <td>28.2</td>\n      <td>33.3</td>\n      <td>30.0</td>\n      <td>31.4</td>\n      <td>61.4</td>\n      <td>5.3</td>\n      <td>-4.8</td>\n      <td>5.3</td>\n    </tr>\n    <tr>\n      <th>3</th>\n      <td>Emmanuel MACRON</td>\n      <td>Age</td>\n      <td>18à24ans</td>\n      <td>106.0</td>\n      <td>10.6</td>\n      <td>34.8</td>\n      <td>45.4</td>\n      <td>22.3</td>\n      <td>23.0</td>\n      <td>45.3</td>\n      <td>9.3</td>\n      <td>5.8</td>\n      <td>-6.0</td>\n    </tr>\n    <tr>\n      <th>4</th>\n      <td>Emmanuel MACRON</td>\n      <td>Age</td>\n      <td>25à34ans</td>\n      <td>159.0</td>\n      <td>7.4</td>\n      <td>29.7</td>\n      <td>37.1</td>\n      <td>32.0</td>\n      <td>25.9</td>\n      <td>57.9</td>\n      <td>5.0</td>\n      <td>-0.5</td>\n      <td>2.4</td>\n    </tr>\n    <tr>\n      <th>...</th>\n      <td>...</td>\n      <td>...</td>\n      <td>...</td>\n      <td>...</td>\n      <td>...</td>\n      <td>...</td>\n      <td>...</td>\n      <td>...</td>\n      <td>...</td>\n      <td>...</td>\n      <td>...</td>\n      <td>...</td>\n      <td>...</td>\n    </tr>\n    <tr>\n      <th>2935</th>\n      <td>Laurent WAUQUIEZ</td>\n      <td>VotePrésidentielle20171ertour</td>\n      <td>STNonexpr</td>\n      <td>238.0</td>\n      <td>1.4</td>\n      <td>10.4</td>\n      <td>11.9</td>\n      <td>24.3</td>\n      <td>19.1</td>\n      <td>43.5</td>\n      <td>44.7</td>\n      <td>1.8</td>\n      <td>-1.1</td>\n    </tr>\n    <tr>\n      <th>2936</th>\n      <td>Laurent WAUQUIEZ</td>\n      <td>VotePrésidentielle20172ndtour</td>\n      <td>EmmanuelMacron</td>\n      <td>410.0</td>\n      <td>3.3</td>\n      <td>17.8</td>\n      <td>21.1</td>\n      <td>31.5</td>\n      <td>30.0</td>\n      <td>61.5</td>\n      <td>17.3</td>\n      <td>-1.0</td>\n      <td>3.7</td>\n    </tr>\n    <tr>\n      <th>2937</th>\n      <td>Laurent WAUQUIEZ</td>\n      <td>VotePrésidentielle20172ndtour</td>\n      <td>MarineLePen</td>\n      <td>210.0</td>\n      <td>2.8</td>\n      <td>24.1</td>\n      <td>26.9</td>\n      <td>25.6</td>\n      <td>22.4</td>\n      <td>48.0</td>\n      <td>25.1</td>\n      <td>1.1</td>\n      <td>-5.5</td>\n    </tr>\n    <tr>\n      <th>2938</th>\n      <td>Laurent WAUQUIEZ</td>\n      <td>VotePrésidentielle20172ndtour</td>\n      <td>STExpr</td>\n      <td>620.0</td>\n      <td>3.1</td>\n      <td>20.0</td>\n      <td>23.1</td>\n      <td>29.5</td>\n      <td>27.4</td>\n      <td>56.9</td>\n      <td>20.0</td>\n      <td>-0.3</td>\n      <td>0.6</td>\n    </tr>\n    <tr>\n      <th>2939</th>\n      <td>Laurent WAUQUIEZ</td>\n      <td>VotePrésidentielle20172ndtour</td>\n      <td>STNonexpr</td>\n      <td>380.0</td>\n      <td>2.4</td>\n      <td>14.0</td>\n      <td>16.4</td>\n      <td>26.0</td>\n      <td>25.3</td>\n      <td>51.3</td>\n      <td>32.3</td>\n      <td>-2.5</td>\n      <td>3.8</td>\n    </tr>\n  </tbody>\n</table>\n<p>2940 rows × 13 columns</p>\n</div>"
     },
     "metadata": {},
     "execution_count": 89
    }
   ],
   "source": [
    "filename=\"2021-01-22\"\n",
    "first_p=13\n",
    "last_p=54\n",
    "# df_alt=extract_ipsos_alt(\"rapport/\"+filename+\".pdf\",first_p,last_p)\n",
    "df=extract_ipsos_data_from_pdf(\"rapport/\"+filename+\".pdf\",(first_p,last_p),None)\n",
    "df\n"
   ]
  },
  {
   "cell_type": "code",
   "execution_count": null,
   "metadata": {},
   "outputs": [],
   "source": [
    "# for n in df_alt.Nom.unique():\n",
    "#     t1=df[df.Nom==n].iloc[0]\n",
    "#     t2=df_alt[df_alt.Nom==n].iloc[0]\n",
    "#     if t1!=t2:\n",
    "#         print('PB:\\n{}\\n{}'.format(t1,t2))"
   ]
  },
  {
   "cell_type": "code",
   "execution_count": 79,
   "metadata": {},
   "outputs": [],
   "source": [
    "# df3=pd.concat([df,df2],ignore_index=True)\n",
    "# df3.to_pickle('data/'+filename+'.p')"
   ]
  },
  {
   "cell_type": "code",
   "execution_count": 80,
   "metadata": {},
   "outputs": [
    {
     "output_type": "stream",
     "name": "stdout",
     "text": [
      "False\n"
     ]
    },
    {
     "output_type": "execute_result",
     "data": {
      "text/plain": [
       "Empty DataFrame\n",
       "Columns: [Nom, Categorie, Groupe, Base, Très favorable, Plutôt favorable, ST Favorable, Plutôt défavorable, Très défavorable, ST Défavorable, Nsp, Evolution ST Favorable, Evolution ST Défavorable]\n",
       "Index: []"
      ],
      "text/html": "<div>\n<style scoped>\n    .dataframe tbody tr th:only-of-type {\n        vertical-align: middle;\n    }\n\n    .dataframe tbody tr th {\n        vertical-align: top;\n    }\n\n    .dataframe thead th {\n        text-align: right;\n    }\n</style>\n<table border=\"1\" class=\"dataframe\">\n  <thead>\n    <tr style=\"text-align: right;\">\n      <th></th>\n      <th>Nom</th>\n      <th>Categorie</th>\n      <th>Groupe</th>\n      <th>Base</th>\n      <th>Très favorable</th>\n      <th>Plutôt favorable</th>\n      <th>ST Favorable</th>\n      <th>Plutôt défavorable</th>\n      <th>Très défavorable</th>\n      <th>ST Défavorable</th>\n      <th>Nsp</th>\n      <th>Evolution ST Favorable</th>\n      <th>Evolution ST Défavorable</th>\n    </tr>\n  </thead>\n  <tbody>\n  </tbody>\n</table>\n</div>"
     },
     "metadata": {},
     "execution_count": 80
    }
   ],
   "source": [
    "# Reading IPSOS report\n",
    "\n",
    "# with open(\"rapport/2020-10-14.pdf\",\"rb\") as pdf_file:\n",
    "#     pdf_report= PyPDF2.PdfFileReader(pdf_file)\n",
    "#     isEncrypted = pdf_report.getIsEncrypted()\n",
    "#     nbPages= pdf_report.numPages\n",
    "\n",
    "#     page1=pdf_report.getPage(15)\n",
    "#     text=page1.extractText().replace(',','.')\n",
    "#     text = extract_text(pdf_file,page_numbers=[14])\n",
    "\n",
    "# print(text)\n",
    "\n",
    "print(df.isnull().values.any())\n",
    "df.head(10)\n",
    "df.describe()\n",
    "df[df.Base==0]"
   ]
  },
  {
   "source": [
    "## Find mistakes and try to correct them"
   ],
   "cell_type": "markdown",
   "metadata": {}
  },
  {
   "cell_type": "code",
   "execution_count": 90,
   "metadata": {},
   "outputs": [],
   "source": [
    "def find_fav_mistake(df):\n",
    "    tfav=df['Très favorable']\n",
    "    pfav=df['Plutôt favorable']\n",
    "    stfav=df['ST Favorable']\n",
    "    fav_df= df[np.abs(tfav+pfav-stfav)>0.11]\n",
    "    return fav_df\n",
    "\n",
    "def find_def_mistake(df):\n",
    "    tdef=df['Très défavorable']\n",
    "    pdef=df['Plutôt défavorable']\n",
    "    stdef=df['ST Défavorable']\n",
    "    def_df= df[np.abs(tdef+pdef-stdef)>0.11]\n",
    "    return def_df\n",
    "\n",
    "def find_nsp_mistake(df):\n",
    "    stfav=df['ST Favorable']\n",
    "    stdef=df['ST Défavorable']\n",
    "    nsp=df['Nsp']\n",
    "    tot_df= df[np.abs(stfav+stdef+nsp-100)>0.11]\n",
    "    return tot_df\n",
    "\n",
    "def find_mistake(df):\n",
    "    fav_df= find_fav_mistake(df)\n",
    "    def_df= find_def_mistake(df)\n",
    "    tot_df=find_nsp_mistake(df)\n",
    "    error_df=pd.concat([fav_df,def_df,tot_df])\n",
    "    return error_df"
   ]
  },
  {
   "cell_type": "code",
   "execution_count": 82,
   "metadata": {},
   "outputs": [],
   "source": [
    "def realign_fav(df,i=0,imax=-1):\n",
    "    df_err=find_fav_mistake(df)\n",
    "    zeros_cols= [x for x in [\"Très favorable\",\"Plutôt favorable\",\"ST Favorable\"] if df[x].all()==0]\n",
    "    if imax==-1:\n",
    "        imax=len(zeros_cols)*len(df)\n",
    "    if not df_err.empty and i<=imax:\n",
    "        col=zeros_cols[0]\n",
    "        values=df_err[col].tolist()\n",
    "        values=values[1:]+[values[0]]\n",
    "        df.loc[df_err.index,col]=values\n",
    "        df=realign_fav(df,i+1)\n",
    "    return df\n",
    "\n",
    "def realign_def(df,i=0,imax=-1):\n",
    "    df_err=find_fav_mistake(df)\n",
    "    zeros_cols= [x for x in [\"Très défavorable\",\"Plutôt défavorable\",\"ST Défavorable\"] if df[x].all()==0]\n",
    "    if imax==-1:\n",
    "        imax=len(zeros_cols)*len(df)\n",
    "    if not df_err.empty and i<=imax:\n",
    "        col=zeros_cols[0]\n",
    "        values=df_err[col].tolist()\n",
    "        values=values[1:]+[values[0]]\n",
    "        df.loc[df_err.index,col]=values\n",
    "        df=realign_def(df,i+1)\n",
    "    return df\n",
    "\n",
    "def realign_nsp(df,i=0,imax=-1):\n",
    "    df_err=find_fav_mistake(df)\n",
    "    zeros_cols= [x for x in [\"ST Favorable\",\"ST Défavorable\",\"Nsp\"] if df[x].all()==0]\n",
    "    if imax==-1:\n",
    "        imax=len(zeros_cols)*len(df)\n",
    "    if not df_err.empty and i<=imax:\n",
    "        col=zeros_cols[0]\n",
    "        values=df_err[col].tolist()\n",
    "        values=values[1:]+[values[0]]\n",
    "        df.loc[df_err.index,col]=values\n",
    "        df=realign_nsp(df,i+1)\n",
    "    return df\n",
    "\n",
    "    \n",
    "\n"
   ]
  },
  {
   "cell_type": "code",
   "execution_count": 83,
   "metadata": {},
   "outputs": [],
   "source": [
    "def correct_mistakes(df):\n",
    "    df_err=find_fav_mistake(df)\n",
    "    for nom in df_err.Nom.unique():\n",
    "        for cat in df_err[df_err.Nom==nom].Categorie.unique():\n",
    "            cond=((df_err.Nom==nom) & (df_err.Categorie==cat))\n",
    "            df_err.loc[cond]=realign_fav(df_err[cond])\n",
    "    df.loc[df_err.index]=df_err\n",
    "\n",
    "    df_err=find_def_mistake(df)\n",
    "    for nom in df_err.Nom.unique():\n",
    "        for cat in df_err[df_err.Nom==nom].Categorie.unique():\n",
    "            cond=((df_err.Nom==nom) & (df_err.Categorie==cat))\n",
    "            df_err.loc[cond]=realign_def(df_err[cond])\n",
    "    df.loc[df_err.index]=df_err\n",
    "\n",
    "    df_err=find_nsp_mistake(df)\n",
    "    for nom in df_err.Nom.unique():\n",
    "        for cat in df_err[df_err.Nom==nom].Categorie.unique():\n",
    "            cond=((df_err.Nom==nom) & (df_err.Categorie==cat))\n",
    "            df_err.loc[cond]=realign_nsp(df_err[cond])\n",
    "    df.loc[df_err.index]=df_err\n",
    "    return df"
   ]
  },
  {
   "cell_type": "code",
   "execution_count": 84,
   "metadata": {},
   "outputs": [],
   "source": [
    "df_err=find_mistake(df)\n",
    "if len(df_err)>0:\n",
    "    index=df_err.iloc[0:1].index[0]\n",
    "    val=df_err.iloc[0].values[3:]\n",
    "    print(val)\n",
    "    correct=[]\n",
    "    cols=[\"Base\",\"Très favorable\",\"Plutôt favorable\",\"ST Favorable\",\"Plutôt défavorable\",\"Très défavorable\",\"ST Défavorable\",\"Nsp\",\"Evolution ST Favorable\",\"Evolution ST Défavorable\"]\n",
    "    while len(correct)!=10:\n",
    "        correct=input()\n",
    "        correct=[float(x) for x in correct.split(' ')]\n",
    "    print(correct)\n",
    "    df.loc[index,cols]=correct"
   ]
  },
  {
   "cell_type": "code",
   "execution_count": 85,
   "metadata": {},
   "outputs": [
    {
     "output_type": "execute_result",
     "data": {
      "text/plain": [
       "Empty DataFrame\n",
       "Columns: [Nom, Categorie, Groupe, Base, Très favorable, Plutôt favorable, ST Favorable, Plutôt défavorable, Très défavorable, ST Défavorable, Nsp, Evolution ST Favorable, Evolution ST Défavorable]\n",
       "Index: []"
      ],
      "text/html": "<div>\n<style scoped>\n    .dataframe tbody tr th:only-of-type {\n        vertical-align: middle;\n    }\n\n    .dataframe tbody tr th {\n        vertical-align: top;\n    }\n\n    .dataframe thead th {\n        text-align: right;\n    }\n</style>\n<table border=\"1\" class=\"dataframe\">\n  <thead>\n    <tr style=\"text-align: right;\">\n      <th></th>\n      <th>Nom</th>\n      <th>Categorie</th>\n      <th>Groupe</th>\n      <th>Base</th>\n      <th>Très favorable</th>\n      <th>Plutôt favorable</th>\n      <th>ST Favorable</th>\n      <th>Plutôt défavorable</th>\n      <th>Très défavorable</th>\n      <th>ST Défavorable</th>\n      <th>Nsp</th>\n      <th>Evolution ST Favorable</th>\n      <th>Evolution ST Défavorable</th>\n    </tr>\n  </thead>\n  <tbody>\n  </tbody>\n</table>\n</div>"
     },
     "metadata": {},
     "execution_count": 85
    }
   ],
   "source": [
    "df_err=find_mistake(df)\r\n",
    "df_err"
   ]
  },
  {
   "cell_type": "code",
   "execution_count": 91,
   "metadata": {},
   "outputs": [],
   "source": [
    "\n",
    "# df.to_pickle('data/'+filename+'.p')"
   ]
  },
  {
   "source": [
    "### Uncomment to try correct some flaws"
   ],
   "cell_type": "markdown",
   "metadata": {}
  },
  {
   "cell_type": "code",
   "execution_count": 87,
   "metadata": {
    "tags": []
   },
   "outputs": [
    {
     "output_type": "error",
     "ename": "IndentationError",
     "evalue": "expected an indented block (<ipython-input-87-6c4cc12a0387>, line 6)",
     "traceback": [
      "\u001b[1;36m  File \u001b[1;32m\"<ipython-input-87-6c4cc12a0387>\"\u001b[1;36m, line \u001b[1;32m6\u001b[0m\n\u001b[1;33m    val=df.loc[i]\u001b[0m\n\u001b[1;37m      ^\u001b[0m\n\u001b[1;31mIndentationError\u001b[0m\u001b[1;31m:\u001b[0m expected an indented block\n"
     ]
    }
   ],
   "source": [
    "# df_alt=extract_ipsos_alt(\"rapport/\"+filename+\".pdf\",13,54)\n",
    "# correct_mistakes(df_alt)\n",
    "# find_mistake(df_alt)\n",
    "def_err_alt=find_mistake(df_alt)\n",
    "for i in df_err.index:\n",
    "val=df.loc[i]\n",
    "alt_val=df_alt[(df_alt.Nom==val.Nom) & (df_alt.Categorie==val.Categorie) & (df_alt.Groupe==val.Groupe)]\n",
    "if not alt_val.empty and alt_val.index[0] not in def_err_alt.index:\n",
    "    df.loc[i]=alt_val.iloc[0]\n",
    "find_mistake(df)"
   ]
  }
 ],
 "metadata": {
  "language_info": {
   "codemirror_mode": {
    "name": "ipython",
    "version": 3
   },
   "file_extension": ".py",
   "mimetype": "text/x-python",
   "name": "python",
   "nbconvert_exporter": "python",
   "pygments_lexer": "ipython3",
   "version": "3.7.7-final"
  },
  "orig_nbformat": 2,
  "kernelspec": {
   "name": "python37764bitb6ef9b95e5314da5935130084e765a7f",
   "display_name": "Python 3.7.7 64-bit",
   "language": "python"
  }
 },
 "nbformat": 4,
 "nbformat_minor": 2
}