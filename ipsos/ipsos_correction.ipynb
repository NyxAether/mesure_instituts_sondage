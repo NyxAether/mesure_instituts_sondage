{
 "cells": [
  {
   "cell_type": "markdown",
   "metadata": {},
   "source": [
    "# Modifications de résultats des sondages\n",
    "\n",
    "## Import préliminaires des librairies"
   ]
  },
  {
   "cell_type": "code",
   "execution_count": 68,
   "metadata": {},
   "outputs": [],
   "source": [
    "# Command OS\n",
    "import os\n",
    "\n",
    "# Regex\n",
    "import re\n",
    "\n",
    "# Calcul and data manipulation\n",
    "import numpy as np\n",
    "import pandas as pd\n",
    "import matplotlib.pyplot as plt\n",
    "import matplotlib.ticker as ticker\n",
    "import seaborn as sns\n",
    "\n",
    "# Dealing with specific representation of number\n",
    "# Aka commat in french in numbers\n",
    "import locale\n",
    "from locale import atof\n",
    "\n",
    "\n",
    "\n"
   ]
  },
  {
   "cell_type": "markdown",
   "metadata": {},
   "source": [
    "## Calcul de l'erreur à 95% de confiance"
   ]
  },
  {
   "cell_type": "code",
   "execution_count": 69,
   "metadata": {},
   "outputs": [
    {
     "output_type": "execute_result",
     "data": {
      "text/plain": [
       "0.05653504399927535"
      ]
     },
     "metadata": {},
     "execution_count": 69
    }
   ],
   "source": [
    "def error_p(p,n=1000,Za=1.96):\n",
    "    return np.sqrt(p*(1-p)/n)*Za\n",
    "error_p(0.48,300)"
   ]
  },
  {
   "cell_type": "markdown",
   "metadata": {},
   "source": [
    "## Calcul de l'intervalle de confiance"
   ]
  },
  {
   "cell_type": "code",
   "execution_count": 70,
   "metadata": {},
   "outputs": [],
   "source": [
    "def margin_p(p,n=1000,Za=1.96):\n",
    "    er=error_p(p,n,Za)\n",
    "    return [p-er,p+er]\n"
   ]
  },
  {
   "cell_type": "code",
   "execution_count": 71,
   "metadata": {},
   "outputs": [],
   "source": [
    "def error_in_margin(p,n,variation,Za=1.96):\n",
    "    # Compute old values\n",
    "    old_p=p-variation\n",
    "    # Compute err\n",
    "    err=error_p(p/100,n,Za)*100\n",
    "    # Compute err old values\n",
    "    old_err=error_p(old_p/100,n,Za)*100\n",
    "    return (np.abs(variation)<=err+old_err) & variation!=0"
   ]
  },
  {
   "cell_type": "code",
   "execution_count": 107,
   "metadata": {},
   "outputs": [],
   "source": [
    "filename='2020-10-10'\n",
    "df=pd.read_pickle(\"data/{}.p\".format(filename))\n",
    "\n"
   ]
  },
  {
   "source": [
    "## Verification pas de données bizarre"
   ],
   "cell_type": "markdown",
   "metadata": {}
  },
  {
   "cell_type": "code",
   "execution_count": 108,
   "metadata": {},
   "outputs": [
    {
     "output_type": "execute_result",
     "data": {
      "text/plain": [
       "Empty DataFrame\n",
       "Columns: [Nom, Categorie, Groupe, Base, Très favorable, Plutôt favorable, ST Favorable, Plutôt défavorable, Très défavorable, ST Défavorable, Nsp, Evolution ST Favorable, Evolution ST Défavorable]\n",
       "Index: []"
      ],
      "text/html": "<div>\n<style scoped>\n    .dataframe tbody tr th:only-of-type {\n        vertical-align: middle;\n    }\n\n    .dataframe tbody tr th {\n        vertical-align: top;\n    }\n\n    .dataframe thead th {\n        text-align: right;\n    }\n</style>\n<table border=\"1\" class=\"dataframe\">\n  <thead>\n    <tr style=\"text-align: right;\">\n      <th></th>\n      <th>Nom</th>\n      <th>Categorie</th>\n      <th>Groupe</th>\n      <th>Base</th>\n      <th>Très favorable</th>\n      <th>Plutôt favorable</th>\n      <th>ST Favorable</th>\n      <th>Plutôt défavorable</th>\n      <th>Très défavorable</th>\n      <th>ST Défavorable</th>\n      <th>Nsp</th>\n      <th>Evolution ST Favorable</th>\n      <th>Evolution ST Défavorable</th>\n    </tr>\n  </thead>\n  <tbody>\n  </tbody>\n</table>\n</div>"
     },
     "metadata": {},
     "execution_count": 108
    }
   ],
   "source": [
    "df[np.abs(df['Très favorable']+df['Plutôt favorable']-df['ST Favorable'])>0.11]"
   ]
  },
  {
   "cell_type": "code",
   "execution_count": 109,
   "metadata": {},
   "outputs": [
    {
     "output_type": "execute_result",
     "data": {
      "text/plain": [
       "Empty DataFrame\n",
       "Columns: [Nom, Categorie, Groupe, Base, Très favorable, Plutôt favorable, ST Favorable, Plutôt défavorable, Très défavorable, ST Défavorable, Nsp, Evolution ST Favorable, Evolution ST Défavorable]\n",
       "Index: []"
      ],
      "text/html": "<div>\n<style scoped>\n    .dataframe tbody tr th:only-of-type {\n        vertical-align: middle;\n    }\n\n    .dataframe tbody tr th {\n        vertical-align: top;\n    }\n\n    .dataframe thead th {\n        text-align: right;\n    }\n</style>\n<table border=\"1\" class=\"dataframe\">\n  <thead>\n    <tr style=\"text-align: right;\">\n      <th></th>\n      <th>Nom</th>\n      <th>Categorie</th>\n      <th>Groupe</th>\n      <th>Base</th>\n      <th>Très favorable</th>\n      <th>Plutôt favorable</th>\n      <th>ST Favorable</th>\n      <th>Plutôt défavorable</th>\n      <th>Très défavorable</th>\n      <th>ST Défavorable</th>\n      <th>Nsp</th>\n      <th>Evolution ST Favorable</th>\n      <th>Evolution ST Défavorable</th>\n    </tr>\n  </thead>\n  <tbody>\n  </tbody>\n</table>\n</div>"
     },
     "metadata": {},
     "execution_count": 109
    }
   ],
   "source": [
    "df[np.abs(df['Très défavorable']+df['Plutôt défavorable']-df['ST Défavorable'])>0.11]"
   ]
  },
  {
   "cell_type": "code",
   "execution_count": 110,
   "metadata": {},
   "outputs": [
    {
     "output_type": "execute_result",
     "data": {
      "text/plain": [
       "Empty DataFrame\n",
       "Columns: [Nom, Categorie, Groupe, Base, Très favorable, Plutôt favorable, ST Favorable, Plutôt défavorable, Très défavorable, ST Défavorable, Nsp, Evolution ST Favorable, Evolution ST Défavorable]\n",
       "Index: []"
      ],
      "text/html": "<div>\n<style scoped>\n    .dataframe tbody tr th:only-of-type {\n        vertical-align: middle;\n    }\n\n    .dataframe tbody tr th {\n        vertical-align: top;\n    }\n\n    .dataframe thead th {\n        text-align: right;\n    }\n</style>\n<table border=\"1\" class=\"dataframe\">\n  <thead>\n    <tr style=\"text-align: right;\">\n      <th></th>\n      <th>Nom</th>\n      <th>Categorie</th>\n      <th>Groupe</th>\n      <th>Base</th>\n      <th>Très favorable</th>\n      <th>Plutôt favorable</th>\n      <th>ST Favorable</th>\n      <th>Plutôt défavorable</th>\n      <th>Très défavorable</th>\n      <th>ST Défavorable</th>\n      <th>Nsp</th>\n      <th>Evolution ST Favorable</th>\n      <th>Evolution ST Défavorable</th>\n    </tr>\n  </thead>\n  <tbody>\n  </tbody>\n</table>\n</div>"
     },
     "metadata": {},
     "execution_count": 110
    }
   ],
   "source": [
    "df[np.abs(df['ST Favorable']+df['ST Défavorable']+df['Nsp'])<99.89]"
   ]
  },
  {
   "cell_type": "code",
   "execution_count": 111,
   "metadata": {},
   "outputs": [
    {
     "output_type": "execute_result",
     "data": {
      "text/plain": [
       "Nom                         Jean-Luc MELENCHON\n",
       "Categorie                   Proximitépolitique\n",
       "Groupe                                     UDI\n",
       "Base                                        19\n",
       "Très favorable                            22.2\n",
       "Plutôt favorable                          66.2\n",
       "ST Favorable                              88.3\n",
       "Plutôt défavorable                           0\n",
       "Très défavorable                             0\n",
       "ST Défavorable                               0\n",
       "Nsp                                       11.7\n",
       "Evolution ST Favorable                       0\n",
       "Evolution ST Défavorable                 -11.7\n",
       "Name: 2081, dtype: object"
      ]
     },
     "metadata": {},
     "execution_count": 111
    }
   ],
   "source": [
    "x=2081\n",
    "df.iloc[x]"
   ]
  },
  {
   "cell_type": "code",
   "execution_count": 112,
   "metadata": {},
   "outputs": [
    {
     "output_type": "stream",
     "name": "stdout",
     "text": [
      "2081\n"
     ]
    },
    {
     "output_type": "execute_result",
     "data": {
      "text/plain": [
       "Nom                         Jean-Luc MELENCHON\n",
       "Categorie                   Proximitépolitique\n",
       "Groupe                                     UDI\n",
       "Base                                        19\n",
       "Très favorable                               0\n",
       "Plutôt favorable                             0\n",
       "ST Favorable                                 0\n",
       "Plutôt défavorable                        22.2\n",
       "Très défavorable                          66.2\n",
       "ST Défavorable                            88.3\n",
       "Nsp                                       11.7\n",
       "Evolution ST Favorable                       0\n",
       "Evolution ST Défavorable                 -11.7\n",
       "Name: 2081, dtype: object"
      ]
     },
     "metadata": {},
     "execution_count": 112
    }
   ],
   "source": [
    "df[df.Base==0]\n",
    "\n",
    "unmatch=df.iloc[x]\n",
    "# unmatch=df[np.abs(df['Très favorable']+df['Plutôt favorable']-df['ST Favorable'])>0.11].iloc[0]\n",
    "# unmatch=df[np.abs(df['Très défavorable']+df['Plutôt défavorable']-df['ST Défavorable'])>0.11]\n",
    "# unmatch=df[np.abs(df['ST Favorable']+df['ST Défavorable']+df['Nsp'])<99.89].iloc[0]\n",
    "\n",
    "# id_unmatch=unmatch.index[0]\n",
    "id_unmatch=x\n",
    "line=unmatch\n",
    "# line['Base']=4\n",
    "# line['Très favorable']=0\n",
    "# line['Plutôt favorable']=0\n",
    "# line['ST Favorable']=0\n",
    "# line['Plutôt défavorable']=35.5\n",
    "# line['Très défavorable']=28.7\n",
    "# line['ST Défavorable']=64.2\n",
    "# line['Nsp']=0\n",
    "# line['Evolution ST Favorable']=-39.6\n",
    "line[['Plutôt défavorable','Très défavorable','ST Défavorable']]=line[['Très favorable','Plutôt favorable','ST Favorable']]\n",
    "line[['Très favorable','Plutôt favorable','ST Favorable']]=0\n",
    "print(id_unmatch)\n",
    "\n",
    "line"
   ]
  },
  {
   "cell_type": "code",
   "execution_count": 113,
   "metadata": {},
   "outputs": [],
   "source": [
    "# df.loc[id_unmatch]=line"
   ]
  },
  {
   "cell_type": "code",
   "execution_count": 114,
   "metadata": {},
   "outputs": [],
   "source": [
    "# df.to_pickle('data/'+filename+'.p')"
   ]
  }
 ],
 "metadata": {
  "language_info": {
   "codemirror_mode": {
    "name": "ipython",
    "version": 3
   },
   "file_extension": ".py",
   "mimetype": "text/x-python",
   "name": "python",
   "nbconvert_exporter": "python",
   "pygments_lexer": "ipython3",
   "version": "3.7.7-final"
  },
  "orig_nbformat": 2,
  "kernelspec": {
   "name": "python37764bitb6ef9b95e5314da5935130084e765a7f",
   "display_name": "Python 3.7.7 64-bit",
   "language": "python"
  }
 },
 "nbformat": 4,
 "nbformat_minor": 2
}