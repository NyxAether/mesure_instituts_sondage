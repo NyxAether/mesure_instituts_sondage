{
 "cells": [
  {
   "cell_type": "markdown",
   "source": [
    "# Modifications de résultats des sondages\n",
    "\n",
    "## Import préliminaires des librairies"
   ],
   "metadata": {}
  },
  {
   "cell_type": "code",
   "execution_count": 7,
   "source": [
    "# Command OS\r\n",
    "import os\r\n",
    "\r\n",
    "# File glob\r\n",
    "import glob\r\n",
    "\r\n",
    "# Regex\r\n",
    "import re\r\n",
    "\r\n",
    "\r\n",
    "# Calcul and data manipulation\r\n",
    "import numpy as np\r\n",
    "import pandas as pd\r\n",
    "import matplotlib.pyplot as plt\r\n",
    "import matplotlib.ticker as ticker\r\n",
    "import seaborn as sns\r\n",
    "\r\n",
    "# Dealing with specific representation of number\r\n",
    "# Aka commat in french in numbers\r\n",
    "import locale\r\n",
    "from locale import atof\r\n",
    "\r\n",
    "\r\n",
    "\r\n"
   ],
   "outputs": [],
   "metadata": {}
  },
  {
   "cell_type": "markdown",
   "source": [
    "## Calcul de l'erreur à 95% de confiance"
   ],
   "metadata": {}
  },
  {
   "cell_type": "code",
   "execution_count": 2,
   "source": [
    "def error_p(p,n=1000,Za=1.96):\r\n",
    "    return np.sqrt(p*(1-p)/n)*Za\r\n",
    "error_p(0.48,300)"
   ],
   "outputs": [
    {
     "output_type": "execute_result",
     "data": {
      "text/plain": [
       "0.05653504399927535"
      ]
     },
     "metadata": {},
     "execution_count": 2
    }
   ],
   "metadata": {}
  },
  {
   "cell_type": "markdown",
   "source": [
    "## Calcul de l'intervalle de confiance"
   ],
   "metadata": {}
  },
  {
   "cell_type": "code",
   "execution_count": 3,
   "source": [
    "def margin_p(p,n=1000,Za=1.96):\r\n",
    "    er=error_p(p,n,Za)\r\n",
    "    return [p-er,p+er]\r\n"
   ],
   "outputs": [],
   "metadata": {}
  },
  {
   "cell_type": "code",
   "execution_count": 4,
   "source": [
    "def error_in_margin(p,n,variation,Za=1.96):\r\n",
    "    # Compute old values\r\n",
    "    old_p=p-variation\r\n",
    "    # Compute err\r\n",
    "    err=error_p(p/100,n,Za)*100\r\n",
    "    # Compute err old values\r\n",
    "    old_err=error_p(old_p/100,n,Za)*100\r\n",
    "    return (np.abs(variation)<=err+old_err) & variation!=0"
   ],
   "outputs": [],
   "metadata": {}
  },
  {
   "cell_type": "code",
   "execution_count": 12,
   "source": [
    "df=None\r\n",
    "for filep in glob.glob('data/*'):\r\n",
    "    if df is None:\r\n",
    "        df=pd.read_pickle(filep)\r\n",
    "    else:\r\n",
    "        df=pd.concat([df,pd.read_pickle(filep)],ignore_index=True)\r\n",
    "\r\n"
   ],
   "outputs": [],
   "metadata": {}
  },
  {
   "cell_type": "code",
   "execution_count": 18,
   "source": [
    "df.describe()"
   ],
   "outputs": [
    {
     "output_type": "execute_result",
     "data": {
      "text/html": [
       "<div>\n",
       "<style scoped>\n",
       "    .dataframe tbody tr th:only-of-type {\n",
       "        vertical-align: middle;\n",
       "    }\n",
       "\n",
       "    .dataframe tbody tr th {\n",
       "        vertical-align: top;\n",
       "    }\n",
       "\n",
       "    .dataframe thead th {\n",
       "        text-align: right;\n",
       "    }\n",
       "</style>\n",
       "<table border=\"1\" class=\"dataframe\">\n",
       "  <thead>\n",
       "    <tr style=\"text-align: right;\">\n",
       "      <th></th>\n",
       "      <th>Base</th>\n",
       "      <th>Très favorable</th>\n",
       "      <th>Plutôt favorable</th>\n",
       "      <th>ST Favorable</th>\n",
       "      <th>Plutôt défavorable</th>\n",
       "      <th>Très défavorable</th>\n",
       "      <th>ST Défavorable</th>\n",
       "      <th>Nsp</th>\n",
       "      <th>Evolution ST Favorable</th>\n",
       "      <th>Evolution ST Défavorable</th>\n",
       "    </tr>\n",
       "  </thead>\n",
       "  <tbody>\n",
       "    <tr>\n",
       "      <th>count</th>\n",
       "      <td>50784.000000</td>\n",
       "      <td>50784.000000</td>\n",
       "      <td>50784.000000</td>\n",
       "      <td>50784.000000</td>\n",
       "      <td>50784.000000</td>\n",
       "      <td>50784.00000</td>\n",
       "      <td>50784.000000</td>\n",
       "      <td>50784.000000</td>\n",
       "      <td>50784.000000</td>\n",
       "      <td>50784.000000</td>\n",
       "    </tr>\n",
       "    <tr>\n",
       "      <th>mean</th>\n",
       "      <td>228.643273</td>\n",
       "      <td>4.453186</td>\n",
       "      <td>22.145353</td>\n",
       "      <td>26.598876</td>\n",
       "      <td>25.368732</td>\n",
       "      <td>25.17846</td>\n",
       "      <td>50.547426</td>\n",
       "      <td>22.853972</td>\n",
       "      <td>0.064794</td>\n",
       "      <td>0.238382</td>\n",
       "    </tr>\n",
       "    <tr>\n",
       "      <th>std</th>\n",
       "      <td>233.991962</td>\n",
       "      <td>5.168782</td>\n",
       "      <td>11.626130</td>\n",
       "      <td>14.544700</td>\n",
       "      <td>7.807523</td>\n",
       "      <td>12.48890</td>\n",
       "      <td>14.648863</td>\n",
       "      <td>14.960845</td>\n",
       "      <td>8.250689</td>\n",
       "      <td>9.066258</td>\n",
       "    </tr>\n",
       "    <tr>\n",
       "      <th>min</th>\n",
       "      <td>4.000000</td>\n",
       "      <td>0.000000</td>\n",
       "      <td>0.000000</td>\n",
       "      <td>0.000000</td>\n",
       "      <td>0.000000</td>\n",
       "      <td>0.00000</td>\n",
       "      <td>0.000000</td>\n",
       "      <td>0.000000</td>\n",
       "      <td>-96.500000</td>\n",
       "      <td>-100.000000</td>\n",
       "    </tr>\n",
       "    <tr>\n",
       "      <th>25%</th>\n",
       "      <td>119.000000</td>\n",
       "      <td>1.500000</td>\n",
       "      <td>13.900000</td>\n",
       "      <td>16.400000</td>\n",
       "      <td>20.800000</td>\n",
       "      <td>16.80000</td>\n",
       "      <td>40.800000</td>\n",
       "      <td>10.600000</td>\n",
       "      <td>-3.600000</td>\n",
       "      <td>-4.100000</td>\n",
       "    </tr>\n",
       "    <tr>\n",
       "      <th>50%</th>\n",
       "      <td>165.000000</td>\n",
       "      <td>3.100000</td>\n",
       "      <td>20.200000</td>\n",
       "      <td>23.900000</td>\n",
       "      <td>25.400000</td>\n",
       "      <td>23.10000</td>\n",
       "      <td>49.900000</td>\n",
       "      <td>20.200000</td>\n",
       "      <td>0.000000</td>\n",
       "      <td>0.100000</td>\n",
       "    </tr>\n",
       "    <tr>\n",
       "      <th>75%</th>\n",
       "      <td>275.000000</td>\n",
       "      <td>5.700000</td>\n",
       "      <td>28.400000</td>\n",
       "      <td>33.600000</td>\n",
       "      <td>29.700000</td>\n",
       "      <td>31.30000</td>\n",
       "      <td>59.900000</td>\n",
       "      <td>33.100000</td>\n",
       "      <td>3.600000</td>\n",
       "      <td>4.600000</td>\n",
       "    </tr>\n",
       "    <tr>\n",
       "      <th>max</th>\n",
       "      <td>4100.000000</td>\n",
       "      <td>100.000000</td>\n",
       "      <td>100.000000</td>\n",
       "      <td>100.000000</td>\n",
       "      <td>100.000000</td>\n",
       "      <td>100.00000</td>\n",
       "      <td>100.000000</td>\n",
       "      <td>100.000000</td>\n",
       "      <td>100.000000</td>\n",
       "      <td>84.400000</td>\n",
       "    </tr>\n",
       "  </tbody>\n",
       "</table>\n",
       "</div>"
      ],
      "text/plain": [
       "               Base  Très favorable  Plutôt favorable  ST Favorable  \\\n",
       "count  50784.000000    50784.000000      50784.000000  50784.000000   \n",
       "mean     228.643273        4.453186         22.145353     26.598876   \n",
       "std      233.991962        5.168782         11.626130     14.544700   \n",
       "min        4.000000        0.000000          0.000000      0.000000   \n",
       "25%      119.000000        1.500000         13.900000     16.400000   \n",
       "50%      165.000000        3.100000         20.200000     23.900000   \n",
       "75%      275.000000        5.700000         28.400000     33.600000   \n",
       "max     4100.000000      100.000000        100.000000    100.000000   \n",
       "\n",
       "       Plutôt défavorable  Très défavorable  ST Défavorable           Nsp  \\\n",
       "count        50784.000000       50784.00000    50784.000000  50784.000000   \n",
       "mean            25.368732          25.17846       50.547426     22.853972   \n",
       "std              7.807523          12.48890       14.648863     14.960845   \n",
       "min              0.000000           0.00000        0.000000      0.000000   \n",
       "25%             20.800000          16.80000       40.800000     10.600000   \n",
       "50%             25.400000          23.10000       49.900000     20.200000   \n",
       "75%             29.700000          31.30000       59.900000     33.100000   \n",
       "max            100.000000         100.00000      100.000000    100.000000   \n",
       "\n",
       "       Evolution ST Favorable  Evolution ST Défavorable  \n",
       "count            50784.000000              50784.000000  \n",
       "mean                 0.064794                  0.238382  \n",
       "std                  8.250689                  9.066258  \n",
       "min                -96.500000               -100.000000  \n",
       "25%                 -3.600000                 -4.100000  \n",
       "50%                  0.000000                  0.100000  \n",
       "75%                  3.600000                  4.600000  \n",
       "max                100.000000                 84.400000  "
      ]
     },
     "metadata": {},
     "execution_count": 18
    }
   ],
   "metadata": {}
  },
  {
   "cell_type": "markdown",
   "source": [
    "## Verification pas de données bizarre"
   ],
   "metadata": {}
  },
  {
   "cell_type": "code",
   "execution_count": 108,
   "source": [
    "df[np.abs(df['Très favorable']+df['Plutôt favorable']-df['ST Favorable'])>0.11]"
   ],
   "outputs": [
    {
     "output_type": "execute_result",
     "data": {
      "text/html": [
       "<div>\n",
       "<style scoped>\n",
       "    .dataframe tbody tr th:only-of-type {\n",
       "        vertical-align: middle;\n",
       "    }\n",
       "\n",
       "    .dataframe tbody tr th {\n",
       "        vertical-align: top;\n",
       "    }\n",
       "\n",
       "    .dataframe thead th {\n",
       "        text-align: right;\n",
       "    }\n",
       "</style>\n",
       "<table border=\"1\" class=\"dataframe\">\n",
       "  <thead>\n",
       "    <tr style=\"text-align: right;\">\n",
       "      <th></th>\n",
       "      <th>Nom</th>\n",
       "      <th>Categorie</th>\n",
       "      <th>Groupe</th>\n",
       "      <th>Base</th>\n",
       "      <th>Très favorable</th>\n",
       "      <th>Plutôt favorable</th>\n",
       "      <th>ST Favorable</th>\n",
       "      <th>Plutôt défavorable</th>\n",
       "      <th>Très défavorable</th>\n",
       "      <th>ST Défavorable</th>\n",
       "      <th>Nsp</th>\n",
       "      <th>Evolution ST Favorable</th>\n",
       "      <th>Evolution ST Défavorable</th>\n",
       "    </tr>\n",
       "  </thead>\n",
       "  <tbody>\n",
       "  </tbody>\n",
       "</table>\n",
       "</div>"
      ],
      "text/plain": [
       "Empty DataFrame\n",
       "Columns: [Nom, Categorie, Groupe, Base, Très favorable, Plutôt favorable, ST Favorable, Plutôt défavorable, Très défavorable, ST Défavorable, Nsp, Evolution ST Favorable, Evolution ST Défavorable]\n",
       "Index: []"
      ]
     },
     "metadata": {},
     "execution_count": 108
    }
   ],
   "metadata": {}
  },
  {
   "cell_type": "code",
   "execution_count": 109,
   "source": [
    "df[np.abs(df['Très défavorable']+df['Plutôt défavorable']-df['ST Défavorable'])>0.11]"
   ],
   "outputs": [
    {
     "output_type": "execute_result",
     "data": {
      "text/html": [
       "<div>\n",
       "<style scoped>\n",
       "    .dataframe tbody tr th:only-of-type {\n",
       "        vertical-align: middle;\n",
       "    }\n",
       "\n",
       "    .dataframe tbody tr th {\n",
       "        vertical-align: top;\n",
       "    }\n",
       "\n",
       "    .dataframe thead th {\n",
       "        text-align: right;\n",
       "    }\n",
       "</style>\n",
       "<table border=\"1\" class=\"dataframe\">\n",
       "  <thead>\n",
       "    <tr style=\"text-align: right;\">\n",
       "      <th></th>\n",
       "      <th>Nom</th>\n",
       "      <th>Categorie</th>\n",
       "      <th>Groupe</th>\n",
       "      <th>Base</th>\n",
       "      <th>Très favorable</th>\n",
       "      <th>Plutôt favorable</th>\n",
       "      <th>ST Favorable</th>\n",
       "      <th>Plutôt défavorable</th>\n",
       "      <th>Très défavorable</th>\n",
       "      <th>ST Défavorable</th>\n",
       "      <th>Nsp</th>\n",
       "      <th>Evolution ST Favorable</th>\n",
       "      <th>Evolution ST Défavorable</th>\n",
       "    </tr>\n",
       "  </thead>\n",
       "  <tbody>\n",
       "  </tbody>\n",
       "</table>\n",
       "</div>"
      ],
      "text/plain": [
       "Empty DataFrame\n",
       "Columns: [Nom, Categorie, Groupe, Base, Très favorable, Plutôt favorable, ST Favorable, Plutôt défavorable, Très défavorable, ST Défavorable, Nsp, Evolution ST Favorable, Evolution ST Défavorable]\n",
       "Index: []"
      ]
     },
     "metadata": {},
     "execution_count": 109
    }
   ],
   "metadata": {}
  },
  {
   "cell_type": "code",
   "execution_count": 110,
   "source": [
    "df[np.abs(df['ST Favorable']+df['ST Défavorable']+df['Nsp'])<99.89]"
   ],
   "outputs": [
    {
     "output_type": "execute_result",
     "data": {
      "text/html": [
       "<div>\n",
       "<style scoped>\n",
       "    .dataframe tbody tr th:only-of-type {\n",
       "        vertical-align: middle;\n",
       "    }\n",
       "\n",
       "    .dataframe tbody tr th {\n",
       "        vertical-align: top;\n",
       "    }\n",
       "\n",
       "    .dataframe thead th {\n",
       "        text-align: right;\n",
       "    }\n",
       "</style>\n",
       "<table border=\"1\" class=\"dataframe\">\n",
       "  <thead>\n",
       "    <tr style=\"text-align: right;\">\n",
       "      <th></th>\n",
       "      <th>Nom</th>\n",
       "      <th>Categorie</th>\n",
       "      <th>Groupe</th>\n",
       "      <th>Base</th>\n",
       "      <th>Très favorable</th>\n",
       "      <th>Plutôt favorable</th>\n",
       "      <th>ST Favorable</th>\n",
       "      <th>Plutôt défavorable</th>\n",
       "      <th>Très défavorable</th>\n",
       "      <th>ST Défavorable</th>\n",
       "      <th>Nsp</th>\n",
       "      <th>Evolution ST Favorable</th>\n",
       "      <th>Evolution ST Défavorable</th>\n",
       "    </tr>\n",
       "  </thead>\n",
       "  <tbody>\n",
       "  </tbody>\n",
       "</table>\n",
       "</div>"
      ],
      "text/plain": [
       "Empty DataFrame\n",
       "Columns: [Nom, Categorie, Groupe, Base, Très favorable, Plutôt favorable, ST Favorable, Plutôt défavorable, Très défavorable, ST Défavorable, Nsp, Evolution ST Favorable, Evolution ST Défavorable]\n",
       "Index: []"
      ]
     },
     "metadata": {},
     "execution_count": 110
    }
   ],
   "metadata": {}
  },
  {
   "cell_type": "code",
   "execution_count": 111,
   "source": [
    "x=2081\r\n",
    "df.iloc[x]"
   ],
   "outputs": [
    {
     "output_type": "execute_result",
     "data": {
      "text/plain": [
       "Nom                         Jean-Luc MELENCHON\n",
       "Categorie                   Proximitépolitique\n",
       "Groupe                                     UDI\n",
       "Base                                        19\n",
       "Très favorable                            22.2\n",
       "Plutôt favorable                          66.2\n",
       "ST Favorable                              88.3\n",
       "Plutôt défavorable                           0\n",
       "Très défavorable                             0\n",
       "ST Défavorable                               0\n",
       "Nsp                                       11.7\n",
       "Evolution ST Favorable                       0\n",
       "Evolution ST Défavorable                 -11.7\n",
       "Name: 2081, dtype: object"
      ]
     },
     "metadata": {},
     "execution_count": 111
    }
   ],
   "metadata": {}
  },
  {
   "cell_type": "code",
   "execution_count": 112,
   "source": [
    "df[df.Base==0]\r\n",
    "\r\n",
    "unmatch=df.iloc[x]\r\n",
    "# unmatch=df[np.abs(df['Très favorable']+df['Plutôt favorable']-df['ST Favorable'])>0.11].iloc[0]\r\n",
    "# unmatch=df[np.abs(df['Très défavorable']+df['Plutôt défavorable']-df['ST Défavorable'])>0.11]\r\n",
    "# unmatch=df[np.abs(df['ST Favorable']+df['ST Défavorable']+df['Nsp'])<99.89].iloc[0]\r\n",
    "\r\n",
    "# id_unmatch=unmatch.index[0]\r\n",
    "id_unmatch=x\r\n",
    "line=unmatch\r\n",
    "# line['Base']=4\r\n",
    "# line['Très favorable']=0\r\n",
    "# line['Plutôt favorable']=0\r\n",
    "# line['ST Favorable']=0\r\n",
    "# line['Plutôt défavorable']=35.5\r\n",
    "# line['Très défavorable']=28.7\r\n",
    "# line['ST Défavorable']=64.2\r\n",
    "# line['Nsp']=0\r\n",
    "# line['Evolution ST Favorable']=-39.6\r\n",
    "line[['Plutôt défavorable','Très défavorable','ST Défavorable']]=line[['Très favorable','Plutôt favorable','ST Favorable']]\r\n",
    "line[['Très favorable','Plutôt favorable','ST Favorable']]=0\r\n",
    "print(id_unmatch)\r\n",
    "\r\n",
    "line"
   ],
   "outputs": [
    {
     "output_type": "stream",
     "name": "stdout",
     "text": [
      "2081\n"
     ]
    },
    {
     "output_type": "execute_result",
     "data": {
      "text/plain": [
       "Nom                         Jean-Luc MELENCHON\n",
       "Categorie                   Proximitépolitique\n",
       "Groupe                                     UDI\n",
       "Base                                        19\n",
       "Très favorable                               0\n",
       "Plutôt favorable                             0\n",
       "ST Favorable                                 0\n",
       "Plutôt défavorable                        22.2\n",
       "Très défavorable                          66.2\n",
       "ST Défavorable                            88.3\n",
       "Nsp                                       11.7\n",
       "Evolution ST Favorable                       0\n",
       "Evolution ST Défavorable                 -11.7\n",
       "Name: 2081, dtype: object"
      ]
     },
     "metadata": {},
     "execution_count": 112
    }
   ],
   "metadata": {}
  },
  {
   "cell_type": "code",
   "execution_count": 113,
   "source": [
    "# df.loc[id_unmatch]=line"
   ],
   "outputs": [],
   "metadata": {}
  },
  {
   "cell_type": "code",
   "execution_count": 114,
   "source": [
    "# df.to_pickle('data/'+filename+'.p')"
   ],
   "outputs": [],
   "metadata": {}
  }
 ],
 "metadata": {
  "language_info": {
   "codemirror_mode": {
    "name": "ipython",
    "version": 3
   },
   "file_extension": ".py",
   "mimetype": "text/x-python",
   "name": "python",
   "nbconvert_exporter": "python",
   "pygments_lexer": "ipython3",
   "version": "3.9.6"
  },
  "orig_nbformat": 2,
  "kernelspec": {
   "name": "python3",
   "display_name": "Python 3.9.6 64-bit"
  },
  "interpreter": {
   "hash": "af4be3c86c0c67198d3b3d387a370d7ead5e9c07aff1f2213e77801b9197cc3f"
  }
 },
 "nbformat": 4,
 "nbformat_minor": 2
}